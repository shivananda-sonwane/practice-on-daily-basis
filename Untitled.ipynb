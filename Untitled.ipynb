{
 "cells": [
  {
   "cell_type": "code",
   "execution_count": 1,
   "id": "ee7e36a4",
   "metadata": {},
   "outputs": [],
   "source": [
    "# We want to check whether the given array is monotonic or not?"
   ]
  },
  {
   "cell_type": "code",
   "execution_count": null,
   "id": "1c5b8307",
   "metadata": {},
   "outputs": [],
   "source": [
    "# my approach:\n",
    "def if_mono(arr):\n",
    "    \n",
    "    i = 0\n",
    "    flag = \"inc\"\n",
    "\n",
    "    while i <= len(arr):\n",
    "        for j in range(len(arr[i]) - 1):\n",
    "\n",
    "            # to check whether the array is in increasing order\n",
    "            if flag == \"inc\":\n",
    "                if arr[i][j] <= arr[i][j+1]:\n",
    "                    continue\n",
    "                else:\n",
    "                    flag = \"dec\"\n",
    "                    j = 0\n",
    "\n",
    "            # to check whether the array is in decreasing order\n",
    "            elif flag == \"dec\":\n",
    "                if arr[i][j] >= arr[i][j+1]:\n",
    "                    continue\n",
    "                else:\n",
    "                    flag = 0\n",
    "                    \n",
    "        i += 1\n",
    "\n",
    "    if flag == \"inc\":\n",
    "        return \"The array is monotonic (in increasing order).\"\n",
    "\n",
    "    elif flag == \"dec\":\n",
    "        return \"The array is monotonic (in decreasing order).\"\n",
    "    else:\n",
    "        return \"The array ain't monotonic.\"\n",
    "    \n",
    "if_mono(arr)"
   ]
  }
 ],
 "metadata": {
  "kernelspec": {
   "display_name": "Python 3 (ipykernel)",
   "language": "python",
   "name": "python3"
  },
  "language_info": {
   "codemirror_mode": {
    "name": "ipython",
    "version": 3
   },
   "file_extension": ".py",
   "mimetype": "text/x-python",
   "name": "python",
   "nbconvert_exporter": "python",
   "pygments_lexer": "ipython3",
   "version": "3.9.7"
  }
 },
 "nbformat": 4,
 "nbformat_minor": 5
}
