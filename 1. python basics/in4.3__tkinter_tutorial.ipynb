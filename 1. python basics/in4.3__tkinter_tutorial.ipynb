{
 "cells": [
  {
   "cell_type": "markdown",
   "id": "fcd572d8",
   "metadata": {},
   "source": [
    "# Python GUI - Tkinter\n",
    "\n",
    "### Python offers multiple options for developing GUI (Graphical User Interface). Out of all the GUI methods, tkinter is the most commonly used method. It is a standard Python interface to the Tk GUI toolkit shipped with Python. Python with tkinter is the fastest and easiest way to create the GUI applications."
   ]
  },
  {
   "cell_type": "markdown",
   "id": "fbfbaec6",
   "metadata": {},
   "source": [
    "## To create a Tkinter app:\n",
    "\n",
    "### 1. Importing the module – tkinter\n",
    "### 2. Create the main window (container).\n",
    "### 3. Add any number of widgets to the main window.\n",
    "### 4. Apply the event Trigger on the widgets. "
   ]
  },
  {
   "cell_type": "code",
   "execution_count": 5,
   "id": "4df75caa",
   "metadata": {},
   "outputs": [],
   "source": [
    "from tkinter import *"
   ]
  },
  {
   "cell_type": "code",
   "execution_count": 1,
   "id": "39f8a572",
   "metadata": {},
   "outputs": [
    {
     "data": {
      "text/plain": [
       "'\\nIn tkinter everything is a widget.\\n'"
      ]
     },
     "execution_count": 1,
     "metadata": {},
     "output_type": "execute_result"
    }
   ],
   "source": [
    "'''\n",
    "In tkinter everything is a widget.\n",
    "'''"
   ]
  },
  {
   "cell_type": "code",
   "execution_count": 2,
   "id": "629e97fd",
   "metadata": {},
   "outputs": [],
   "source": [
    "import logging as lg\n",
    "lg.basicConfig(filename = \"Tkinter.log\", level = lg.INFO)"
   ]
  },
  {
   "cell_type": "code",
   "execution_count": 6,
   "id": "99ca6160",
   "metadata": {},
   "outputs": [],
   "source": [
    "'''\n",
    "Creating a layout window, right off the bat.\n",
    "'''\n",
    "root = Tk()"
   ]
  },
  {
   "cell_type": "markdown",
   "id": "8bea50d2",
   "metadata": {},
   "source": [
    "## To create anything in the Tkinter is a two-step process, viz:\n",
    "\n",
    "### 1. Define the thing and create it. \n",
    "### 2. And then to put it up on the screen."
   ]
  },
  {
   "cell_type": "code",
   "execution_count": 7,
   "id": "b9c6afc0",
   "metadata": {},
   "outputs": [],
   "source": [
    "#Creating the Label widget. Label widget which can display text and bitmaps.\n",
    "myLabel1 = Label(root, text = \"Hello World!\")\n",
    "myLabel2 = Label(root, text = \"Woah! I am in another label.\")\n",
    "\n",
    "#Shoving it onto the screen\n",
    "#myLabel1.pack()\n",
    "#myLabel2.pack()\n",
    "\n",
    "#using the Grid system\n",
    "myLabel1.grid(row = 3, column = 5)\n",
    "myLabel2.grid(row = 1, column = 3)"
   ]
  },
  {
   "cell_type": "code",
   "execution_count": 33,
   "id": "62601ed6",
   "metadata": {},
   "outputs": [
    {
     "data": {
      "text/plain": [
       "'\\nTo close the tkinter window, we ought to close the window as we do with regular windows and that thereby interrupts this\\nevent loop.\\n'"
      ]
     },
     "execution_count": 33,
     "metadata": {},
     "output_type": "execute_result"
    }
   ],
   "source": [
    "'''\n",
    "Now, creating an event loop. The Loop which runs as long as the window is not closed and traces our each movement on the\n",
    "window screen or maybe not.\n",
    "There is a method known by the name mainloop() that is used when our application is ready to run. \n",
    "mainloop() is an infinite loop used to run the application, wait for an event to occur and process the event as long as \n",
    "the window is not closed.\n",
    "'''\n",
    "root.mainloop()\n",
    "\n",
    "'''\n",
    "To close the tkinter window, we ought to close the window as we do with regular windows and that thereby interrupts this\n",
    "event loop.\n",
    "'''"
   ]
  },
  {
   "cell_type": "code",
   "execution_count": null,
   "id": "ae3cee1e",
   "metadata": {},
   "outputs": [],
   "source": []
  },
  {
   "cell_type": "code",
   "execution_count": 14,
   "id": "6f3c6c3b",
   "metadata": {},
   "outputs": [],
   "source": [
    "def create_label():\n",
    "    label1 = Label(root2, text = e1.get())\n",
    "    label1.pack()\n",
    "    print(type(e1.get()))\n",
    "    \n",
    "def instream():\n",
    "    print(\"I came in stream when button 2 is clicked!\")"
   ]
  },
  {
   "cell_type": "code",
   "execution_count": 9,
   "id": "c128d0ad",
   "metadata": {},
   "outputs": [],
   "source": [
    "root1 = Tk()\n",
    "\n",
    "button1 = Button(root1, text = \"Click me!\", padx = 50, command = create_label)\n",
    "button2 = Button(root1, text = \"Nah!\", command = instream)\n",
    "\n",
    "button1.pack()\n",
    "button2.pack()\n",
    "\n",
    "e1 = Entry(root1, borderwidth = 5)\n",
    "e1.pack()\n",
    "\n",
    "root1.mainloop()"
   ]
  },
  {
   "cell_type": "code",
   "execution_count": 15,
   "id": "12a9500c",
   "metadata": {},
   "outputs": [
    {
     "name": "stdout",
     "output_type": "stream",
     "text": [
      "<class 'str'>\n",
      "<class 'str'>\n"
     ]
    }
   ],
   "source": [
    "root2 = Tk()\n",
    "\n",
    "button1 = Button(root2, text = \"Click me!\", padx = 50, command = create_label).pack()\n",
    "button2 = Button(root2, text = \"Nah!\", command = instream).pack()\n",
    "\n",
    "e1 = Entry(root2, borderwidth = 5)\n",
    "e1.insert(0, \"Enter something: \")\n",
    "e1.pack()\n",
    "\n",
    "mainloop()"
   ]
  },
  {
   "cell_type": "code",
   "execution_count": 12,
   "id": "4f9bb01c",
   "metadata": {},
   "outputs": [],
   "source": [
    "class t():\n",
    "    def __init__(self, s):\n",
    "        self.s = s\n",
    "        \n",
    "    def b(self, x):\n",
    "        print(self.s)\n",
    "        return x\n",
    "    \n",
    "class t1(t):\n",
    "    def __init__(self, s1, s):\n",
    "        super(t1, self).__init__(s)\n",
    "        self.s1 = s1\n",
    "        \n",
    "    def b(self, x1):\n",
    "        print(self.s1)\n",
    "        return x1"
   ]
  },
  {
   "cell_type": "code",
   "execution_count": 61,
   "id": "25110f2f",
   "metadata": {},
   "outputs": [
    {
     "ename": "TypeError",
     "evalue": "Cannot create a consistent method resolution\norder (MRO) for bases test, test1",
     "output_type": "error",
     "traceback": [
      "\u001b[1;31m---------------------------------------------------------------------------\u001b[0m",
      "\u001b[1;31mTypeError\u001b[0m                                 Traceback (most recent call last)",
      "\u001b[1;32mC:\\Users\\SURYAN~1\\AppData\\Local\\Temp/ipykernel_16440/3496055115.py\u001b[0m in \u001b[0;36m<module>\u001b[1;34m\u001b[0m\n\u001b[1;32m----> 1\u001b[1;33m \u001b[1;32mclass\u001b[0m \u001b[0mt3\u001b[0m\u001b[1;33m(\u001b[0m\u001b[0mtest\u001b[0m\u001b[1;33m,\u001b[0m \u001b[0mtest1\u001b[0m\u001b[1;33m)\u001b[0m\u001b[1;33m:\u001b[0m\u001b[1;33m\u001b[0m\u001b[1;33m\u001b[0m\u001b[0m\n\u001b[0m\u001b[0;32m      2\u001b[0m \u001b[1;33m\u001b[0m\u001b[0m\n\u001b[0;32m      3\u001b[0m     \u001b[1;32mdef\u001b[0m \u001b[0m__init__\u001b[0m\u001b[1;33m(\u001b[0m\u001b[0mself\u001b[0m\u001b[1;33m,\u001b[0m \u001b[0ms2\u001b[0m\u001b[1;33m,\u001b[0m \u001b[0ms\u001b[0m\u001b[1;33m,\u001b[0m \u001b[0ms1\u001b[0m\u001b[1;33m)\u001b[0m\u001b[1;33m:\u001b[0m\u001b[1;33m\u001b[0m\u001b[1;33m\u001b[0m\u001b[0m\n\u001b[0;32m      4\u001b[0m         \u001b[0mself\u001b[0m\u001b[1;33m.\u001b[0m\u001b[0ms2\u001b[0m \u001b[1;33m=\u001b[0m \u001b[0ms2\u001b[0m\u001b[1;33m\u001b[0m\u001b[1;33m\u001b[0m\u001b[0m\n\u001b[0;32m      5\u001b[0m         \u001b[0mt\u001b[0m\u001b[1;33m.\u001b[0m\u001b[0m__init__\u001b[0m\u001b[1;33m(\u001b[0m\u001b[0mself\u001b[0m\u001b[1;33m,\u001b[0m \u001b[0ms\u001b[0m\u001b[1;33m)\u001b[0m\u001b[1;33m\u001b[0m\u001b[1;33m\u001b[0m\u001b[0m\n",
      "\u001b[1;31mTypeError\u001b[0m: Cannot create a consistent method resolution\norder (MRO) for bases test, test1"
     ]
    }
   ],
   "source": [
    "class t3(test, test1):\n",
    "    \n",
    "    def __init__(self, s2, s, s1):\n",
    "        self.s2 = s2\n",
    "        t.__init__(self, s)\n",
    "        t1.__init__(self, s1)"
   ]
  },
  {
   "cell_type": "code",
   "execution_count": 18,
   "id": "d0da97eb",
   "metadata": {},
   "outputs": [],
   "source": [
    "class t():\n",
    "    def a():\n",
    "        return \"FUNCTION of Class t.\"\n",
    "\n",
    "class t1():\n",
    "    def a():\n",
    "        return \"FUNCTION of Class t1.\""
   ]
  },
  {
   "cell_type": "code",
   "execution_count": 25,
   "id": "fe1a2c64",
   "metadata": {},
   "outputs": [],
   "source": [
    "class t2(t, t1):\n",
    "    def __init__(self):\n",
    "        pass"
   ]
  },
  {
   "cell_type": "code",
   "execution_count": 13,
   "id": "1f05dcb0",
   "metadata": {},
   "outputs": [
    {
     "data": {
      "text/plain": [
       "('FUNCTION of Class t1.', 'FUNCTION of Class t.')"
      ]
     },
     "execution_count": 13,
     "metadata": {},
     "output_type": "execute_result"
    }
   ],
   "source": [
    "t1.a(), t.a()"
   ]
  },
  {
   "cell_type": "code",
   "execution_count": 26,
   "id": "705b2bb5",
   "metadata": {},
   "outputs": [
    {
     "data": {
      "text/plain": [
       "'FUNCTION of Class t.'"
      ]
     },
     "execution_count": 26,
     "metadata": {},
     "output_type": "execute_result"
    }
   ],
   "source": [
    "t2.a() #demonstartion"
   ]
  }
 ],
 "metadata": {
  "kernelspec": {
   "display_name": "Python 3 (ipykernel)",
   "language": "python",
   "name": "python3"
  },
  "language_info": {
   "codemirror_mode": {
    "name": "ipython",
    "version": 3
   },
   "file_extension": ".py",
   "mimetype": "text/x-python",
   "name": "python",
   "nbconvert_exporter": "python",
   "pygments_lexer": "ipython3",
   "version": "3.9.7"
  }
 },
 "nbformat": 4,
 "nbformat_minor": 5
}
