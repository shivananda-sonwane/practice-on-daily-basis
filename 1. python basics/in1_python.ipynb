{
 "cells": [
  {
   "cell_type": "code",
   "execution_count": 1,
   "id": "80d6b32b",
   "metadata": {},
   "outputs": [
    {
     "name": "stdout",
     "output_type": "stream",
     "text": [
      "The Zen of Python, by Tim Peters\n",
      "\n",
      "Beautiful is better than ugly.\n",
      "Explicit is better than implicit.\n",
      "Simple is better than complex.\n",
      "Complex is better than complicated.\n",
      "Flat is better than nested.\n",
      "Sparse is better than dense.\n",
      "Readability counts.\n",
      "Special cases aren't special enough to break the rules.\n",
      "Although practicality beats purity.\n",
      "Errors should never pass silently.\n",
      "Unless explicitly silenced.\n",
      "In the face of ambiguity, refuse the temptation to guess.\n",
      "There should be one-- and preferably only one --obvious way to do it.\n",
      "Although that way may not be obvious at first unless you're Dutch.\n",
      "Now is better than never.\n",
      "Although never is often better than *right* now.\n",
      "If the implementation is hard to explain, it's a bad idea.\n",
      "If the implementation is easy to explain, it may be a good idea.\n",
      "Namespaces are one honking great idea -- let's do more of those!\n"
     ]
    }
   ],
   "source": [
    "import this\n"
   ]
  },
  {
   "cell_type": "code",
   "execution_count": 4,
   "id": "332de9c1",
   "metadata": {},
   "outputs": [
    {
     "name": "stderr",
     "output_type": "stream",
     "text": [
      "'nvidia-smi' is not recognized as an internal or external command,\n",
      "operable program or batch file.\n"
     ]
    }
   ],
   "source": [
    "!nvidia-smi"
   ]
  },
  {
   "cell_type": "code",
   "execution_count": 2,
   "id": "9f2a68dd",
   "metadata": {},
   "outputs": [
    {
     "name": "stdout",
     "output_type": "stream",
     "text": [
      "for fuck sake.\n"
     ]
    }
   ],
   "source": [
    "print(\"for fuck sake.\")"
   ]
  },
  {
   "cell_type": "code",
   "execution_count": 6,
   "id": "02586516",
   "metadata": {},
   "outputs": [],
   "source": [
    "a = \"for fuck sake.\""
   ]
  },
  {
   "cell_type": "code",
   "execution_count": 7,
   "id": "d2c2a40d",
   "metadata": {},
   "outputs": [
    {
     "data": {
      "text/plain": [
       "'for fuck sake.'"
      ]
     },
     "execution_count": 7,
     "metadata": {},
     "output_type": "execute_result"
    }
   ],
   "source": [
    "a"
   ]
  },
  {
   "cell_type": "code",
   "execution_count": 8,
   "id": "cd55e39f",
   "metadata": {},
   "outputs": [],
   "source": [
    "a = \"for fuck's sake.\""
   ]
  },
  {
   "cell_type": "code",
   "execution_count": 9,
   "id": "32ea46d7",
   "metadata": {},
   "outputs": [
    {
     "data": {
      "text/plain": [
       "\"for fuck's sake.\""
      ]
     },
     "execution_count": 9,
     "metadata": {},
     "output_type": "execute_result"
    }
   ],
   "source": [
    "a"
   ]
  },
  {
   "cell_type": "code",
   "execution_count": 10,
   "id": "f74be0f7",
   "metadata": {},
   "outputs": [
    {
     "data": {
      "text/plain": [
       "4"
      ]
     },
     "execution_count": 10,
     "metadata": {},
     "output_type": "execute_result"
    }
   ],
   "source": [
    "True + True + True + False + True"
   ]
  },
  {
   "cell_type": "code",
   "execution_count": 11,
   "id": "2201b6d4",
   "metadata": {},
   "outputs": [
    {
     "ename": "ZeroDivisionError",
     "evalue": "division by zero",
     "output_type": "error",
     "traceback": [
      "\u001b[1;31m---------------------------------------------------------------------------\u001b[0m",
      "\u001b[1;31mZeroDivisionError\u001b[0m                         Traceback (most recent call last)",
      "\u001b[1;32mC:\\Users\\SURYAN~1\\AppData\\Local\\Temp/ipykernel_21916/3953538310.py\u001b[0m in \u001b[0;36m<module>\u001b[1;34m\u001b[0m\n\u001b[1;32m----> 1\u001b[1;33m \u001b[1;32mTrue\u001b[0m\u001b[1;33m/\u001b[0m \u001b[1;32mFalse\u001b[0m\u001b[1;33m\u001b[0m\u001b[1;33m\u001b[0m\u001b[0m\n\u001b[0m",
      "\u001b[1;31mZeroDivisionError\u001b[0m: division by zero"
     ]
    }
   ],
   "source": [
    "True/ False"
   ]
  },
  {
   "cell_type": "code",
   "execution_count": 16,
   "id": "9c9c63ee",
   "metadata": {},
   "outputs": [],
   "source": [
    "import numpy as np"
   ]
  },
  {
   "cell_type": "code",
   "execution_count": 17,
   "id": "f9b51f9a",
   "metadata": {},
   "outputs": [
    {
     "ename": "ZeroDivisionError",
     "evalue": "division by zero",
     "output_type": "error",
     "traceback": [
      "\u001b[1;31m---------------------------------------------------------------------------\u001b[0m",
      "\u001b[1;31mZeroDivisionError\u001b[0m                         Traceback (most recent call last)",
      "\u001b[1;32mC:\\Users\\SURYAN~1\\AppData\\Local\\Temp/ipykernel_21916/2354412189.py\u001b[0m in \u001b[0;36m<module>\u001b[1;34m\u001b[0m\n\u001b[1;32m----> 1\u001b[1;33m \u001b[1;36m1\u001b[0m\u001b[1;33m/\u001b[0m\u001b[1;36m0\u001b[0m\u001b[1;33m\u001b[0m\u001b[1;33m\u001b[0m\u001b[0m\n\u001b[0m",
      "\u001b[1;31mZeroDivisionError\u001b[0m: division by zero"
     ]
    }
   ],
   "source": [
    "1/0"
   ]
  },
  {
   "cell_type": "code",
   "execution_count": 18,
   "id": "f97788c2",
   "metadata": {},
   "outputs": [
    {
     "ename": "ZeroDivisionError",
     "evalue": "division by zero",
     "output_type": "error",
     "traceback": [
      "\u001b[1;31m---------------------------------------------------------------------------\u001b[0m",
      "\u001b[1;31mZeroDivisionError\u001b[0m                         Traceback (most recent call last)",
      "\u001b[1;32mC:\\Users\\SURYAN~1\\AppData\\Local\\Temp/ipykernel_21916/3953538310.py\u001b[0m in \u001b[0;36m<module>\u001b[1;34m\u001b[0m\n\u001b[1;32m----> 1\u001b[1;33m \u001b[1;32mTrue\u001b[0m\u001b[1;33m/\u001b[0m \u001b[1;32mFalse\u001b[0m\u001b[1;33m\u001b[0m\u001b[1;33m\u001b[0m\u001b[0m\n\u001b[0m",
      "\u001b[1;31mZeroDivisionError\u001b[0m: division by zero"
     ]
    }
   ],
   "source": [
    "True/ False"
   ]
  },
  {
   "cell_type": "code",
   "execution_count": 2,
   "id": "6bd3d944",
   "metadata": {},
   "outputs": [],
   "source": [
    "n = 78 + 90j"
   ]
  },
  {
   "cell_type": "code",
   "execution_count": 3,
   "id": "f31018ae",
   "metadata": {},
   "outputs": [
    {
     "data": {
      "text/plain": [
       "(78+90j)"
      ]
     },
     "execution_count": 3,
     "metadata": {},
     "output_type": "execute_result"
    }
   ],
   "source": [
    "n"
   ]
  },
  {
   "cell_type": "code",
   "execution_count": 4,
   "id": "bcc119ab",
   "metadata": {},
   "outputs": [
    {
     "data": {
      "text/plain": [
       "complex"
      ]
     },
     "execution_count": 4,
     "metadata": {},
     "output_type": "execute_result"
    }
   ],
   "source": [
    "type(n)"
   ]
  },
  {
   "cell_type": "code",
   "execution_count": 5,
   "id": "3daa98c9",
   "metadata": {},
   "outputs": [],
   "source": [
    "j = 9"
   ]
  },
  {
   "cell_type": "code",
   "execution_count": 6,
   "id": "0b87908b",
   "metadata": {},
   "outputs": [
    {
     "data": {
      "text/plain": [
       "(78+90j)"
      ]
     },
     "execution_count": 6,
     "metadata": {},
     "output_type": "execute_result"
    }
   ],
   "source": [
    "n"
   ]
  },
  {
   "cell_type": "code",
   "execution_count": 1,
   "id": "7d4d26c3",
   "metadata": {},
   "outputs": [],
   "source": [
    "n = 78j +9j"
   ]
  },
  {
   "cell_type": "code",
   "execution_count": 8,
   "id": "f58b1383",
   "metadata": {},
   "outputs": [
    {
     "data": {
      "text/plain": [
       "87j"
      ]
     },
     "execution_count": 8,
     "metadata": {},
     "output_type": "execute_result"
    }
   ],
   "source": [
    "n"
   ]
  },
  {
   "cell_type": "code",
   "execution_count": 10,
   "id": "d7986e9d",
   "metadata": {},
   "outputs": [
    {
     "data": {
      "text/plain": [
       "0.0"
      ]
     },
     "execution_count": 10,
     "metadata": {},
     "output_type": "execute_result"
    }
   ],
   "source": [
    "n.real"
   ]
  },
  {
   "cell_type": "code",
   "execution_count": 11,
   "id": "e6efec2a",
   "metadata": {},
   "outputs": [
    {
     "data": {
      "text/plain": [
       "9"
      ]
     },
     "execution_count": 11,
     "metadata": {},
     "output_type": "execute_result"
    }
   ],
   "source": [
    "j"
   ]
  },
  {
   "cell_type": "code",
   "execution_count": 12,
   "id": "c3bef6ba",
   "metadata": {},
   "outputs": [
    {
     "data": {
      "text/plain": [
       "87j"
      ]
     },
     "execution_count": 12,
     "metadata": {},
     "output_type": "execute_result"
    }
   ],
   "source": [
    "87j"
   ]
  },
  {
   "cell_type": "code",
   "execution_count": 13,
   "id": "e85781a3",
   "metadata": {},
   "outputs": [
    {
     "name": "stdout",
     "output_type": "stream",
     "text": [
      "2\n"
     ]
    },
    {
     "ename": "TypeError",
     "evalue": "cannot unpack non-iterable int object",
     "output_type": "error",
     "traceback": [
      "\u001b[1;31m---------------------------------------------------------------------------\u001b[0m",
      "\u001b[1;31mTypeError\u001b[0m                                 Traceback (most recent call last)",
      "\u001b[1;32mC:\\Users\\SURYAN~1\\AppData\\Local\\Temp/ipykernel_23280/1729321903.py\u001b[0m in \u001b[0;36m<module>\u001b[1;34m\u001b[0m\n\u001b[1;32m----> 1\u001b[1;33m \u001b[0ma\u001b[0m\u001b[1;33m,\u001b[0m \u001b[0mb\u001b[0m\u001b[1;33m,\u001b[0m \u001b[0mc\u001b[0m \u001b[1;33m=\u001b[0m \u001b[0mint\u001b[0m\u001b[1;33m(\u001b[0m\u001b[0minput\u001b[0m\u001b[1;33m(\u001b[0m\u001b[1;33m)\u001b[0m\u001b[1;33m)\u001b[0m\u001b[1;33m\u001b[0m\u001b[1;33m\u001b[0m\u001b[0m\n\u001b[0m",
      "\u001b[1;31mTypeError\u001b[0m: cannot unpack non-iterable int object"
     ]
    }
   ],
   "source": [
    "a, b, c = int(input())"
   ]
  },
  {
   "cell_type": "code",
   "execution_count": 14,
   "id": "3216e108",
   "metadata": {},
   "outputs": [
    {
     "name": "stdout",
     "output_type": "stream",
     "text": [
      "23\n",
      "21\n",
      "45\n"
     ]
    }
   ],
   "source": [
    "a = int(input())\n",
    "b = int(input())\n",
    "c = int(input()) "
   ]
  },
  {
   "cell_type": "code",
   "execution_count": 22,
   "id": "368f94e6",
   "metadata": {},
   "outputs": [],
   "source": [
    "o = a+b/c + 45 + 7j"
   ]
  },
  {
   "cell_type": "code",
   "execution_count": 23,
   "id": "f89fddb4",
   "metadata": {},
   "outputs": [
    {
     "data": {
      "text/plain": [
       "0"
      ]
     },
     "execution_count": 23,
     "metadata": {},
     "output_type": "execute_result"
    }
   ],
   "source": [
    "0"
   ]
  },
  {
   "cell_type": "code",
   "execution_count": 24,
   "id": "d310fcc7",
   "metadata": {},
   "outputs": [
    {
     "data": {
      "text/plain": [
       "(68.46666666666667+7j)"
      ]
     },
     "execution_count": 24,
     "metadata": {},
     "output_type": "execute_result"
    }
   ],
   "source": [
    "o"
   ]
  },
  {
   "cell_type": "code",
   "execution_count": 25,
   "id": "8d5010b4",
   "metadata": {},
   "outputs": [
    {
     "data": {
      "text/plain": [
       "'(68.46666666666667+7j)Suryansh'"
      ]
     },
     "execution_count": 25,
     "metadata": {},
     "output_type": "execute_result"
    }
   ],
   "source": [
    "str(o) + \"Suryansh\""
   ]
  },
  {
   "cell_type": "code",
   "execution_count": 20,
   "id": "ef91a3cd",
   "metadata": {},
   "outputs": [
    {
     "data": {
      "text/plain": [
       "23"
      ]
     },
     "execution_count": 20,
     "metadata": {},
     "output_type": "execute_result"
    }
   ],
   "source": [
    "a"
   ]
  },
  {
   "cell_type": "code",
   "execution_count": 21,
   "id": "f6ce1e43",
   "metadata": {},
   "outputs": [
    {
     "name": "stdout",
     "output_type": "stream",
     "text": [
      "g\n"
     ]
    },
    {
     "ename": "ValueError",
     "evalue": "invalid literal for int() with base 10: 'g'",
     "output_type": "error",
     "traceback": [
      "\u001b[1;31m---------------------------------------------------------------------------\u001b[0m",
      "\u001b[1;31mValueError\u001b[0m                                Traceback (most recent call last)",
      "\u001b[1;32mC:\\Users\\SURYAN~1\\AppData\\Local\\Temp/ipykernel_23280/3737751808.py\u001b[0m in \u001b[0;36m<module>\u001b[1;34m\u001b[0m\n\u001b[1;32m----> 1\u001b[1;33m \u001b[0md\u001b[0m \u001b[1;33m=\u001b[0m \u001b[0mint\u001b[0m\u001b[1;33m(\u001b[0m\u001b[0minput\u001b[0m\u001b[1;33m(\u001b[0m\u001b[1;33m)\u001b[0m\u001b[1;33m)\u001b[0m\u001b[1;33m\u001b[0m\u001b[1;33m\u001b[0m\u001b[0m\n\u001b[0m",
      "\u001b[1;31mValueError\u001b[0m: invalid literal for int() with base 10: 'g'"
     ]
    }
   ],
   "source": [
    "d = int(input()) "
   ]
  },
  {
   "cell_type": "code",
   "execution_count": 27,
   "id": "f64ce00b",
   "metadata": {},
   "outputs": [],
   "source": [
    "if a < 10:\n",
    "    print(\"I'm yours..\")\n",
    "    \n",
    "if a < 10:\n",
    "    print('You are mine..')\n",
    "    "
   ]
  },
  {
   "cell_type": "code",
   "execution_count": 33,
   "id": "2703de9f",
   "metadata": {},
   "outputs": [
    {
     "name": "stdout",
     "output_type": "stream",
     "text": [
      "4\n"
     ]
    }
   ],
   "source": [
    "a = int(input()) "
   ]
  },
  {
   "cell_type": "code",
   "execution_count": 34,
   "id": "151ba378",
   "metadata": {},
   "outputs": [
    {
     "name": "stdout",
     "output_type": "stream",
     "text": [
      "I'm yours..\n"
     ]
    }
   ],
   "source": [
    "if a < 10:\n",
    "    print(\"I'm yours..\")\n",
    "    \n",
    "elif a < 10:\n",
    "    print('You are mine..')"
   ]
  },
  {
   "cell_type": "code",
   "execution_count": 42,
   "id": "706ef1ce",
   "metadata": {},
   "outputs": [
    {
     "name": "stdout",
     "output_type": "stream",
     "text": [
      "235657568\n"
     ]
    },
    {
     "ename": "TypeError",
     "evalue": "'int' object is not iterable",
     "output_type": "error",
     "traceback": [
      "\u001b[1;31m---------------------------------------------------------------------------\u001b[0m",
      "\u001b[1;31mTypeError\u001b[0m                                 Traceback (most recent call last)",
      "\u001b[1;32mC:\\Users\\SURYAN~1\\AppData\\Local\\Temp/ipykernel_23280/3545532618.py\u001b[0m in \u001b[0;36m<module>\u001b[1;34m\u001b[0m\n\u001b[1;32m----> 1\u001b[1;33m \u001b[0ma\u001b[0m \u001b[1;33m=\u001b[0m \u001b[0mlist\u001b[0m\u001b[1;33m(\u001b[0m\u001b[0mint\u001b[0m\u001b[1;33m(\u001b[0m\u001b[0minput\u001b[0m\u001b[1;33m(\u001b[0m\u001b[1;33m)\u001b[0m\u001b[1;33m)\u001b[0m\u001b[1;33m)\u001b[0m\u001b[1;33m\u001b[0m\u001b[1;33m\u001b[0m\u001b[0m\n\u001b[0m",
      "\u001b[1;31mTypeError\u001b[0m: 'int' object is not iterable"
     ]
    }
   ],
   "source": [
    "a = list(int(input()))"
   ]
  },
  {
   "cell_type": "code",
   "execution_count": 41,
   "id": "0e6b756b",
   "metadata": {},
   "outputs": [
    {
     "data": {
      "text/plain": [
       "['3', '4', '5', '6']"
      ]
     },
     "execution_count": 41,
     "metadata": {},
     "output_type": "execute_result"
    }
   ],
   "source": [
    "a\n"
   ]
  },
  {
   "cell_type": "code",
   "execution_count": 26,
   "id": "a0d2c13d",
   "metadata": {},
   "outputs": [
    {
     "name": "stdout",
     "output_type": "stream",
     "text": [
      "Enter your first name: \n",
      "Enter your last name: \n"
     ]
    }
   ],
   "source": [
    "f_name = input(\"Enter your first name: \")\n",
    "l_name = input(\"Enter your last name: \")"
   ]
  },
  {
   "cell_type": "code",
   "execution_count": 27,
   "id": "4b981cf9",
   "metadata": {},
   "outputs": [
    {
     "name": "stdout",
     "output_type": "stream",
     "text": [
      "pretty cool huh!\n"
     ]
    }
   ],
   "source": [
    "if len(f_name) >= 8 and len(l_name) >= 6:\n",
    "    print(\"Dude, you've got a pretty heavy name!\")\n",
    "    \n",
    "elif len(f_name) < 8:\n",
    "    print(\"pretty cool huh!\")\n",
    "    \n",
    "else:\n",
    "    print(\"I'm sorry, what was your name again!\")\n",
    "    "
   ]
  },
  {
   "cell_type": "code",
   "execution_count": 45,
   "id": "3460307d",
   "metadata": {},
   "outputs": [
    {
     "name": "stdout",
     "output_type": "stream",
     "text": [
      "+ \n",
      "+ + \n",
      "+ + + \n",
      "+ + + + \n",
      "+ + + + + \n",
      "+ + + + + + \n",
      "+ + + + + + + \n"
     ]
    }
   ],
   "source": [
    "for i in range(7):\n",
    "    for j in range(i+1):\n",
    "        print(\"+\", end = \" \")\n",
    "    print()\n",
    "    \n",
    "   "
   ]
  },
  {
   "cell_type": "code",
   "execution_count": 34,
   "id": "bf85a881",
   "metadata": {},
   "outputs": [
    {
     "name": "stdout",
     "output_type": "stream",
     "text": [
      "Welcome to GeeksforGeeks"
     ]
    }
   ],
   "source": [
    "print(\"Welcome to \", end = \"GeeksforGeeks\")"
   ]
  },
  {
   "cell_type": "code",
   "execution_count": 40,
   "id": "ba2f6d7d",
   "metadata": {},
   "outputs": [
    {
     "name": "stdout",
     "output_type": "stream",
     "text": [
      "Welcome to GeeksforGeeks\n"
     ]
    }
   ],
   "source": [
    "print(\"Welcome to\", end = \" \")\n",
    "print(\"GeeksforGeeks\")"
   ]
  },
  {
   "cell_type": "code",
   "execution_count": 78,
   "id": "6985636a",
   "metadata": {},
   "outputs": [
    {
     "name": "stdout",
     "output_type": "stream",
     "text": [
      "* * * * * * * \n",
      "* * * * * * \n",
      "* * * * * \n",
      "* * * * \n",
      "* * * \n",
      "* * \n",
      "* \n"
     ]
    }
   ],
   "source": [
    "x = 7\n",
    "for i in range(x):\n",
    "    for j in range(x-i):\n",
    "        print(\"*\", end = \" \")\n",
    "    print(\"\")\n",
    "        \n",
    "        \n",
    "    \n",
    "    "
   ]
  },
  {
   "cell_type": "code",
   "execution_count": 85,
   "id": "dbcbcd67",
   "metadata": {},
   "outputs": [
    {
     "name": "stdout",
     "output_type": "stream",
     "text": [
      "* * * * * * \t\n",
      "* * * * * \t\n",
      "* * * * \t\n",
      "* * * \t\n",
      "* * \t\n",
      "* \t\n",
      "\t\n",
      "\t\n"
     ]
    }
   ],
   "source": [
    "x = 7\n",
    "for i in range(x+1):\n",
    "    for j in range(i+1, x):\n",
    "        print(\"*\", end = \" \")\n",
    "    print(\"\\t\")\n",
    "        "
   ]
  },
  {
   "cell_type": "code",
   "execution_count": 97,
   "id": "8e763fed",
   "metadata": {},
   "outputs": [
    {
     "name": "stdout",
     "output_type": "stream",
     "text": [
      "  * * * * * * * \n",
      "    * * * * * * \n",
      "      * * * * * \n",
      "        * * * * \n",
      "          * * * \n",
      "            * * \n",
      "              * \n",
      "                \n"
     ]
    }
   ],
   "source": [
    "x = 7\n",
    "for i in range(x+1):\n",
    "    #print(i)\n",
    "    for j in range(i+1):\n",
    "        print(\" \", end = \" \")\n",
    "    for k in range(i+1, x+1):\n",
    "            print(\"*\", end = \" \")\n",
    "    print()"
   ]
  },
  {
   "cell_type": "code",
   "execution_count": 98,
   "id": "adbe55d4",
   "metadata": {},
   "outputs": [
    {
     "name": "stdout",
     "output_type": "stream",
     "text": [
      "0\n",
      "1\n",
      "2\n",
      "3\n",
      "4\n",
      "5\n",
      "6\n"
     ]
    }
   ],
   "source": [
    "for i in range(7):\n",
    "    print(i)"
   ]
  },
  {
   "cell_type": "code",
   "execution_count": 99,
   "id": "02c0ec15",
   "metadata": {},
   "outputs": [
    {
     "name": "stdout",
     "output_type": "stream",
     "text": [
      "\n",
      "\n",
      "\n",
      "\n",
      "\n",
      "\n",
      "\n",
      "\n"
     ]
    }
   ],
   "source": [
    "for i in range(x+1):\n",
    "    for j in range(-1, i, -1):\n",
    "        print(\"*\", end = \"\")\n",
    "    print()"
   ]
  },
  {
   "cell_type": "code",
   "execution_count": 122,
   "id": "1b5e7de6",
   "metadata": {},
   "outputs": [
    {
     "name": "stdout",
     "output_type": "stream",
     "text": [
      "* * * * * * * \n",
      "* * * * * * \n",
      "* * * * * \n",
      "* * * * \n",
      "* * * \n",
      "* * \n",
      "* \n"
     ]
    }
   ],
   "source": [
    "for i in range(x):\n",
    "    for j in range(i, x):\n",
    "        print(\"*\", end = \" \")\n",
    "    print()"
   ]
  },
  {
   "cell_type": "code",
   "execution_count": 7,
   "id": "71c53615",
   "metadata": {},
   "outputs": [
    {
     "name": "stdout",
     "output_type": "stream",
     "text": [
      "          * \n",
      "        * * * \n",
      "      * * * * * \n",
      "    * * * * * * * \n",
      "  * * * * * * * * * \n"
     ]
    }
   ],
   "source": [
    "x = 5\n",
    "for i in range(x):\n",
    "    for k in range(x-i):\n",
    "        print(\" \", end = \" \")\n",
    "     \n",
    "    for j in range(2*i + 1):\n",
    "        print(\"*\", end = \" \")\n",
    "    print()\n",
    "        "
   ]
  },
  {
   "cell_type": "code",
   "execution_count": 5,
   "id": "83240b09",
   "metadata": {},
   "outputs": [
    {
     "name": "stdout",
     "output_type": "stream",
     "text": [
      "Enter the number of rows: 7\n"
     ]
    }
   ],
   "source": [
    "x = int(input(\"Enter the number of rows: \"))\n",
    "\n"
   ]
  },
  {
   "cell_type": "code",
   "execution_count": 18,
   "id": "e09ba052",
   "metadata": {},
   "outputs": [
    {
     "name": "stdout",
     "output_type": "stream",
     "text": [
      "              * \n",
      "            * * * \n",
      "          * * * * * \n",
      "        * * * * * * * \n",
      "      * * * * * * * * * \n",
      "    * * * * * * * * * * * \n",
      "  * * * * * * * * * * * * * \n"
     ]
    }
   ],
   "source": [
    "i = 0\n",
    "while i < x:\n",
    "    \n",
    "    j = 0\n",
    "    while j < x-i:\n",
    "        print(\" \", end = \" \")\n",
    "        j += 1\n",
    "        \n",
    "    k = 0\n",
    "    while k < 2*i + 1:\n",
    "        print(\"*\", end = \" \")\n",
    "        k += 1\n",
    "         \n",
    "    print()\n",
    "    i += 1"
   ]
  },
  {
   "cell_type": "code",
   "execution_count": 16,
   "id": "96d1faad",
   "metadata": {},
   "outputs": [
    {
     "name": "stdout",
     "output_type": "stream",
     "text": [
      "       *\n",
      "      ***\n",
      "     *****\n",
      "    *******\n",
      "   *********\n",
      "  ***********\n",
      " *************\n"
     ]
    }
   ],
   "source": [
    "x= 7 \n",
    "i = 0\n",
    "while i < x:\n",
    "    \n",
    "    print(\" \" * (x-i) +  \"*\" * (2*i + 1))\n",
    "    i += 1"
   ]
  },
  {
   "cell_type": "code",
   "execution_count": 2,
   "id": "2985544a",
   "metadata": {},
   "outputs": [
    {
     "data": {
      "text/plain": [
       "'nhy '"
      ]
     },
     "execution_count": 2,
     "metadata": {},
     "output_type": "execute_result"
    }
   ],
   "source": [
    "s1 = \"Master Python\"\n",
    "s1[-1:4:-2]"
   ]
  },
  {
   "cell_type": "code",
   "execution_count": 1,
   "id": "85db3a67",
   "metadata": {},
   "outputs": [
    {
     "data": {
      "text/plain": [
       "25"
      ]
     },
     "execution_count": 1,
     "metadata": {},
     "output_type": "execute_result"
    }
   ],
   "source": [
    "s = \"This is Full Stack Class!\"\n",
    "len(s)"
   ]
  },
  {
   "cell_type": "code",
   "execution_count": 2,
   "id": "06c3c142",
   "metadata": {},
   "outputs": [
    {
     "data": {
      "text/plain": [
       "'This is Full Stack Class!'"
      ]
     },
     "execution_count": 2,
     "metadata": {},
     "output_type": "execute_result"
    }
   ],
   "source": [
    "s"
   ]
  },
  {
   "cell_type": "code",
   "execution_count": 7,
   "id": "974884db",
   "metadata": {},
   "outputs": [
    {
     "name": "stdout",
     "output_type": "stream",
     "text": [
      "!\n",
      "s\n",
      "s\n",
      "a\n",
      "l\n",
      "C\n",
      " \n",
      "k\n",
      "c\n",
      "a\n",
      "t\n",
      "S\n",
      " \n",
      "l\n",
      "l\n",
      "u\n",
      "F\n",
      " \n",
      "s\n",
      "i\n",
      " \n",
      "s\n",
      "i\n",
      "h\n",
      "T\n"
     ]
    }
   ],
   "source": [
    "for i in range(24, -1, -1):\n",
    "    print(s[i])"
   ]
  },
  {
   "cell_type": "code",
   "execution_count": 2,
   "id": "940af9ee",
   "metadata": {},
   "outputs": [],
   "source": [
    "s = \"my name is \""
   ]
  },
  {
   "cell_type": "code",
   "execution_count": 3,
   "id": "aeaeb9fd",
   "metadata": {},
   "outputs": [
    {
     "data": {
      "text/plain": [
       "3"
      ]
     },
     "execution_count": 3,
     "metadata": {},
     "output_type": "execute_result"
    }
   ],
   "source": [
    "s.find(\"name\")"
   ]
  },
  {
   "cell_type": "code",
   "execution_count": 4,
   "id": "9c953f4b",
   "metadata": {},
   "outputs": [
    {
     "name": "stdout",
     "output_type": "stream",
     "text": [
      "3\n",
      "4\n",
      "5\n",
      "6\n"
     ]
    }
   ],
   "source": [
    "if \"name\" in s:\n",
    "    x = len(\"name\")\n",
    "    pointer = s.find(\"n\")\n",
    "    for i in range(x):\n",
    "        print(pointer)\n",
    "        pointer += 1"
   ]
  },
  {
   "cell_type": "code",
   "execution_count": 8,
   "id": "85129c8f",
   "metadata": {},
   "outputs": [],
   "source": [
    "r = reversed(s)"
   ]
  },
  {
   "cell_type": "code",
   "execution_count": 9,
   "id": "b418dc5b",
   "metadata": {},
   "outputs": [
    {
     "data": {
      "text/plain": [
       "<reversed at 0x20b87280070>"
      ]
     },
     "execution_count": 9,
     "metadata": {},
     "output_type": "execute_result"
    }
   ],
   "source": [
    "r"
   ]
  },
  {
   "cell_type": "code",
   "execution_count": 10,
   "id": "8f88c0bf",
   "metadata": {},
   "outputs": [
    {
     "name": "stdout",
     "output_type": "stream",
     "text": [
      " si eman ym"
     ]
    }
   ],
   "source": [
    "for i in r:\n",
    "    print(i, end = \"\")"
   ]
  },
  {
   "cell_type": "code",
   "execution_count": 11,
   "id": "f9dbfe82",
   "metadata": {},
   "outputs": [],
   "source": [
    "a = \"We all are a part of Full Stack\" "
   ]
  },
  {
   "cell_type": "code",
   "execution_count": 12,
   "id": "54e4575d",
   "metadata": {},
   "outputs": [
    {
     "data": {
      "text/plain": [
       "'we all are a part of full stack'"
      ]
     },
     "execution_count": 12,
     "metadata": {},
     "output_type": "execute_result"
    }
   ],
   "source": [
    "#1 Normalize the whole string in lower case\n",
    "a.lower()"
   ]
  },
  {
   "cell_type": "code",
   "execution_count": 13,
   "id": "b58f36e2",
   "metadata": {},
   "outputs": [
    {
     "data": {
      "text/plain": [
       "5"
      ]
     },
     "execution_count": 13,
     "metadata": {},
     "output_type": "execute_result"
    }
   ],
   "source": [
    "#2 Find the no. of occurences of 'a' in the whole string.\n",
    "a.count('a')"
   ]
  },
  {
   "cell_type": "code",
   "execution_count": 27,
   "id": "81597cd1",
   "metadata": {},
   "outputs": [],
   "source": [
    "#3 Find the locations of all 'a's in the string.\n",
    "lsta = []\n",
    "for i in range(len(a)):\n",
    "    if a[i] == 'a':\n",
    "        lsta.append(i)\n",
    "    \n",
    "    "
   ]
  },
  {
   "cell_type": "code",
   "execution_count": 28,
   "id": "68bb3ea9",
   "metadata": {},
   "outputs": [
    {
     "data": {
      "text/plain": [
       "[3, 7, 11, 14, 28]"
      ]
     },
     "execution_count": 28,
     "metadata": {},
     "output_type": "execute_result"
    }
   ],
   "source": [
    "lsta"
   ]
  },
  {
   "cell_type": "code",
   "execution_count": 30,
   "id": "a378e071",
   "metadata": {},
   "outputs": [
    {
     "data": {
      "text/plain": [
       "'We iNeuronll iNeuronre iNeuron piNeuronrt of Full StiNeuronck'"
      ]
     },
     "execution_count": 30,
     "metadata": {},
     "output_type": "execute_result"
    }
   ],
   "source": [
    "#4\n",
    "a.replace('a', \"iNeuron\")"
   ]
  },
  {
   "cell_type": "code",
   "execution_count": 32,
   "id": "57467f45",
   "metadata": {},
   "outputs": [
    {
     "data": {
      "text/plain": [
       "['We', 'all', 'are', 'a', 'part', 'of', 'Full', 'Stack']"
      ]
     },
     "execution_count": 32,
     "metadata": {},
     "output_type": "execute_result"
    }
   ],
   "source": [
    "list(a.split())"
   ]
  },
  {
   "cell_type": "code",
   "execution_count": 36,
   "id": "1c8f5a04",
   "metadata": {},
   "outputs": [
    {
     "data": {
      "text/plain": [
       "['We', 'all', 'are', 'a', 'part', 'of', 'Full', 'Stack']"
      ]
     },
     "execution_count": 36,
     "metadata": {},
     "output_type": "execute_result"
    }
   ],
   "source": [
    "[i for i in a.split()]"
   ]
  },
  {
   "cell_type": "code",
   "execution_count": 37,
   "id": "0b40bd1f",
   "metadata": {},
   "outputs": [
    {
     "data": {
      "text/plain": [
       "False"
      ]
     },
     "execution_count": 37,
     "metadata": {},
     "output_type": "execute_result"
    }
   ],
   "source": [
    "a.isidentifier()"
   ]
  },
  {
   "cell_type": "code",
   "execution_count": 41,
   "id": "47df5bd8",
   "metadata": {},
   "outputs": [
    {
     "name": "stdout",
     "output_type": "stream",
     "text": [
      "Suryansh\n"
     ]
    }
   ],
   "source": [
    "name = input()\n",
    "s = \"{} is my name whatsoever!\".format(name)"
   ]
  },
  {
   "cell_type": "code",
   "execution_count": 42,
   "id": "9a35bf10",
   "metadata": {},
   "outputs": [
    {
     "data": {
      "text/plain": [
       "'Suryansh is my name whatsoever!'"
      ]
     },
     "execution_count": 42,
     "metadata": {},
     "output_type": "execute_result"
    }
   ],
   "source": [
    "s"
   ]
  },
  {
   "cell_type": "code",
   "execution_count": 44,
   "id": "741075ee",
   "metadata": {},
   "outputs": [
    {
     "name": "stdout",
     "output_type": "stream",
     "text": [
      "34\n"
     ]
    }
   ],
   "source": [
    "name = int(input())"
   ]
  },
  {
   "cell_type": "code",
   "execution_count": 45,
   "id": "823ebd77",
   "metadata": {},
   "outputs": [],
   "source": [
    "s = \"{} is my name whatsoever!\".format(name)"
   ]
  },
  {
   "cell_type": "code",
   "execution_count": 46,
   "id": "a01bd883",
   "metadata": {},
   "outputs": [
    {
     "data": {
      "text/plain": [
       "'34 is my name whatsoever!'"
      ]
     },
     "execution_count": 46,
     "metadata": {},
     "output_type": "execute_result"
    }
   ],
   "source": [
    "s"
   ]
  },
  {
   "cell_type": "code",
   "execution_count": 47,
   "id": "15056df3",
   "metadata": {},
   "outputs": [
    {
     "data": {
      "text/plain": [
       "'789 is my name whatsoever!'"
      ]
     },
     "execution_count": 47,
     "metadata": {},
     "output_type": "execute_result"
    }
   ],
   "source": [
    "s = \"{} is my name whatsoever!\".format(789)\n",
    "s"
   ]
  },
  {
   "cell_type": "code",
   "execution_count": 51,
   "id": "5b50b140",
   "metadata": {},
   "outputs": [
    {
     "name": "stdout",
     "output_type": "stream",
     "text": [
      "Enter the string to confirm whether it's palindrome: mom\n"
     ]
    }
   ],
   "source": [
    "p = input(\"Enter the string to confirm whether it's palindrome: \")"
   ]
  },
  {
   "cell_type": "code",
   "execution_count": 52,
   "id": "2786e7a4",
   "metadata": {},
   "outputs": [
    {
     "name": "stdout",
     "output_type": "stream",
     "text": [
      "The given string is palindrome!\n"
     ]
    }
   ],
   "source": [
    "if p == p[::-1]:\n",
    "    print(\"The given string is palindrome!\")\n",
    "else:\n",
    "    print(\"Nope!\")"
   ]
  },
  {
   "cell_type": "code",
   "execution_count": 55,
   "id": "0d7a1a8f",
   "metadata": {},
   "outputs": [],
   "source": [
    "s = \"My name is Suryansh and I don't care what yours name is!\""
   ]
  },
  {
   "cell_type": "code",
   "execution_count": 56,
   "id": "88b83c13",
   "metadata": {},
   "outputs": [
    {
     "data": {
      "text/plain": [
       "\"My name is Suryansh and I don't care what yours name is!\""
      ]
     },
     "execution_count": 56,
     "metadata": {},
     "output_type": "execute_result"
    }
   ],
   "source": [
    "s"
   ]
  },
  {
   "cell_type": "code",
   "execution_count": 65,
   "id": "ec30ef49",
   "metadata": {},
   "outputs": [
    {
     "name": "stdout",
     "output_type": "stream",
     "text": [
      "3\n",
      " is Suryansh and I don't care what yours name is!\n",
      "41\n"
     ]
    }
   ],
   "source": [
    "if \"name\" in s:\n",
    "    x = s.find(\"name\")\n",
    "    y = x + len(\"name\")\n",
    "    print(x)\n",
    "    s1 = s[y::]\n",
    "    print(s1)\n",
    "    if \"name\" in s1:\n",
    "        print(s1.find(\"name\"))"
   ]
  },
  {
   "cell_type": "code",
   "execution_count": 1,
   "id": "010266ce",
   "metadata": {},
   "outputs": [],
   "source": [
    "name = [\"s\", \"ury\", \"ansh\"]"
   ]
  },
  {
   "cell_type": "code",
   "execution_count": 5,
   "id": "e0e02d7f",
   "metadata": {},
   "outputs": [],
   "source": [
    "name.append(\"Grover\")"
   ]
  },
  {
   "cell_type": "code",
   "execution_count": 6,
   "id": "f95dc5b9",
   "metadata": {},
   "outputs": [
    {
     "data": {
      "text/plain": [
       "['s', 'ury', 'ansh', 'Grover', 'Grover']"
      ]
     },
     "execution_count": 6,
     "metadata": {},
     "output_type": "execute_result"
    }
   ],
   "source": [
    "name"
   ]
  },
  {
   "cell_type": "code",
   "execution_count": 7,
   "id": "b8f541e0",
   "metadata": {},
   "outputs": [],
   "source": [
    "name.insert(0, \"nah!\")"
   ]
  },
  {
   "cell_type": "code",
   "execution_count": 8,
   "id": "da40c357",
   "metadata": {},
   "outputs": [
    {
     "data": {
      "text/plain": [
       "['nah!', 's', 'ury', 'ansh', 'Grover', 'Grover']"
      ]
     },
     "execution_count": 8,
     "metadata": {},
     "output_type": "execute_result"
    }
   ],
   "source": [
    "name"
   ]
  },
  {
   "cell_type": "code",
   "execution_count": 11,
   "id": "8a5095dd",
   "metadata": {},
   "outputs": [
    {
     "ename": "AttributeError",
     "evalue": "'list' object has no attribute 'find'",
     "output_type": "error",
     "traceback": [
      "\u001b[1;31m---------------------------------------------------------------------------\u001b[0m",
      "\u001b[1;31mAttributeError\u001b[0m                            Traceback (most recent call last)",
      "\u001b[1;32mC:\\Users\\SURYAN~1\\AppData\\Local\\Temp/ipykernel_27260/4024445040.py\u001b[0m in \u001b[0;36m<module>\u001b[1;34m\u001b[0m\n\u001b[1;32m----> 1\u001b[1;33m \u001b[0mname\u001b[0m\u001b[1;33m.\u001b[0m\u001b[0mfind\u001b[0m\u001b[1;33m(\u001b[0m\u001b[1;34m\"s\"\u001b[0m\u001b[1;33m)\u001b[0m\u001b[1;33m\u001b[0m\u001b[1;33m\u001b[0m\u001b[0m\n\u001b[0m",
      "\u001b[1;31mAttributeError\u001b[0m: 'list' object has no attribute 'find'"
     ]
    }
   ],
   "source": [
    "name.find(\"s\")"
   ]
  },
  {
   "cell_type": "code",
   "execution_count": 66,
   "id": "79884cc9",
   "metadata": {},
   "outputs": [
    {
     "data": {
      "text/plain": [
       "1"
      ]
     },
     "execution_count": 66,
     "metadata": {},
     "output_type": "execute_result"
    }
   ],
   "source": [
    "name.index(\"s\")"
   ]
  },
  {
   "cell_type": "code",
   "execution_count": 158,
   "id": "5df8dc7e",
   "metadata": {},
   "outputs": [
    {
     "data": {
      "text/plain": [
       "(['damn', 45, 'nanana', (67+4j), 7.56],\n",
       " ['ya girl', 34, 8.95, \"now, I'm pissed\", (98+4j)])"
      ]
     },
     "execution_count": 158,
     "metadata": {},
     "output_type": "execute_result"
    }
   ],
   "source": [
    "l3 = [\"damn\", 45, \"nanana\", 67 + 4j, 7.56]\n",
    "l4 = [\"ya girl\", 34, 8.95, \"now, I'm pissed\",  98 +4j]\n",
    "\n",
    "l3, l4"
   ]
  },
  {
   "cell_type": "code",
   "execution_count": 159,
   "id": "3768288e",
   "metadata": {},
   "outputs": [
    {
     "data": {
      "text/plain": [
       "[[1, 2, 3, 4],\n",
       " [2, 7, 8, 9, 'Suryansh'],\n",
       " ['Grover', 5, 8.9, (24+1j)],\n",
       " 'hey!',\n",
       " 89,\n",
       " 'how ya doin?!',\n",
       " 'NOT GOOD??!']"
      ]
     },
     "execution_count": 159,
     "metadata": {},
     "output_type": "execute_result"
    }
   ],
   "source": [
    "l2 = [[1, 2, 3, 4], [2, 7, 8, 9, \"Suryansh\"], [\"Grover\", 5, 8.9, 24 + 1j ], \"hey!\", 89, \"how ya doin?!\", \"NOT GOOD??!\"]\n",
    "l2"
   ]
  },
  {
   "cell_type": "code",
   "execution_count": 160,
   "id": "c73da6a2",
   "metadata": {},
   "outputs": [
    {
     "data": {
      "text/plain": [
       "[[1, 2, 3, 4],\n",
       " [2, 7, 8, 9, 'Suryansh'],\n",
       " ['Grover', 5, 8.9, (24+1j)],\n",
       " ['damn', 45, 'nanana', (67+4j), 7.56],\n",
       " 'hey!',\n",
       " ['ya girl', 34, 8.95, \"now, I'm pissed\", (98+4j)],\n",
       " 89,\n",
       " 'how ya doin?!',\n",
       " 'NOT GOOD??!']"
      ]
     },
     "execution_count": 160,
     "metadata": {},
     "output_type": "execute_result"
    }
   ],
   "source": [
    "l2.insert(3, l3)\n",
    "l2.insert(5, l4)\n",
    "l2"
   ]
  },
  {
   "cell_type": "code",
   "execution_count": 161,
   "id": "64223832",
   "metadata": {},
   "outputs": [
    {
     "name": "stdout",
     "output_type": "stream",
     "text": [
      "So, the string is present at this location:  4\n",
      "So, the string is present at this location:  0\n",
      "So, the string is present at this location:  0\n",
      "So, the string is present at this location:  2\n",
      "So, the string is present at this location:  0\n",
      "So, the string is present at this location:  3\n"
     ]
    }
   ],
   "source": [
    "# Check for string in each nested list and print there indices and remove them as well.\n",
    "for i in l2:\n",
    "    id_holder = []\n",
    "    if type(i) != list:\n",
    "        continue\n",
    "    else:\n",
    "        for j in range(len(i)):\n",
    "            if type(i[j]) == str:\n",
    "                print(\"So, the string is present at this location: \", j)\n",
    "                id_holder.append(j)\n",
    "        \n",
    "        for k in id_holder[::-1]:\n",
    "            i.pop(k)"
   ]
  },
  {
   "cell_type": "code",
   "execution_count": 162,
   "id": "1ebc9f55",
   "metadata": {},
   "outputs": [
    {
     "data": {
      "text/plain": [
       "[[1, 2, 3, 4],\n",
       " [2, 7, 8, 9],\n",
       " [5, 8.9, (24+1j)],\n",
       " [45, (67+4j), 7.56],\n",
       " 'hey!',\n",
       " [34, 8.95, (98+4j)],\n",
       " 89,\n",
       " 'how ya doin?!',\n",
       " 'NOT GOOD??!']"
      ]
     },
     "execution_count": 162,
     "metadata": {},
     "output_type": "execute_result"
    }
   ],
   "source": [
    "l2"
   ]
  },
  {
   "cell_type": "code",
   "execution_count": 163,
   "id": "506ab175",
   "metadata": {},
   "outputs": [
    {
     "name": "stdout",
     "output_type": "stream",
     "text": [
      "2\n",
      "7\n",
      "8.9\n",
      "(67+4j)\n",
      "8.95\n"
     ]
    }
   ],
   "source": [
    "#Now, extract the second element of each remaining nested list.\n",
    "for i in l2:\n",
    "    if type(i) == list:\n",
    "        print(i[1])"
   ]
  },
  {
   "cell_type": "code",
   "execution_count": 153,
   "id": "91e6d88c",
   "metadata": {},
   "outputs": [
    {
     "data": {
      "text/plain": [
       "[[1, 2, 3],\n",
       " [11, 12, 'b', 'b', 'b'],\n",
       " [21, 't', 223],\n",
       " [4, 5, 6],\n",
       " [7, 8, 9],\n",
       " 'demo',\n",
       " 12.5]"
      ]
     },
     "execution_count": 153,
     "metadata": {},
     "output_type": "execute_result"
    }
   ],
   "source": [
    "l_test = [[1,2,3], [11, 12, 'b', 'b', 'b'], [21, 't', 223], [4, 5, 6], [7, 8, 9], 'demo', 12.5]\n",
    "l_test"
   ]
  },
  {
   "cell_type": "code",
   "execution_count": 154,
   "id": "dc6c07a1",
   "metadata": {},
   "outputs": [
    {
     "name": "stdout",
     "output_type": "stream",
     "text": [
      "So, the string is present at this location:  2\n",
      "So, the string is present at this location:  3\n",
      "So, the string is present at this location:  4\n",
      "So, the string is present at this location:  1\n"
     ]
    }
   ],
   "source": [
    "# Check for string in each nested list and print there indices and remove them as well.\n",
    "\n",
    "for i in l_test:\n",
    "    lst = []\n",
    "    if type(i) != list:\n",
    "        continue\n",
    "    else:\n",
    "        #print(i)\n",
    "        for j in range(len(i)):\n",
    "            if type(i[j]) == str:\n",
    "                print(\"So, the string is present at this location: \", j)\n",
    "                lst.append(j)\n",
    "                \n",
    "        #print(lst[::-1])\n",
    "        for k in lst[::-1]:\n",
    "            i.pop(k)\n",
    "                "
   ]
  },
  {
   "cell_type": "code",
   "execution_count": 155,
   "id": "2e42d928",
   "metadata": {},
   "outputs": [
    {
     "data": {
      "text/plain": [
       "[[1, 2, 3], [11, 12], [21, 223], [4, 5, 6], [7, 8, 9], 'demo', 12.5]"
      ]
     },
     "execution_count": 155,
     "metadata": {},
     "output_type": "execute_result"
    }
   ],
   "source": [
    "l_test"
   ]
  },
  {
   "cell_type": "code",
   "execution_count": 164,
   "id": "b28245c4",
   "metadata": {},
   "outputs": [
    {
     "data": {
      "text/plain": [
       "[0, 2, 4, 6, 8]"
      ]
     },
     "execution_count": 164,
     "metadata": {},
     "output_type": "execute_result"
    }
   ],
   "source": [
    "[i for i in range(10) if i%2 == 0]"
   ]
  },
  {
   "cell_type": "code",
   "execution_count": 165,
   "id": "a21e3a78",
   "metadata": {},
   "outputs": [
    {
     "ename": "SyntaxError",
     "evalue": "invalid syntax (Temp/ipykernel_27260/1406839833.py, line 1)",
     "output_type": "error",
     "traceback": [
      "\u001b[1;36m  File \u001b[1;32m\"C:\\Users\\SURYAN~1\\AppData\\Local\\Temp/ipykernel_27260/1406839833.py\"\u001b[1;36m, line \u001b[1;32m1\u001b[0m\n\u001b[1;33m    [i if i%2 == 0 for i in range(10)]\u001b[0m\n\u001b[1;37m                   ^\u001b[0m\n\u001b[1;31mSyntaxError\u001b[0m\u001b[1;31m:\u001b[0m invalid syntax\n"
     ]
    }
   ],
   "source": [
    "[i if i%2 == 0 for i in range(10)]"
   ]
  },
  {
   "cell_type": "code",
   "execution_count": 166,
   "id": "c6513e42",
   "metadata": {},
   "outputs": [],
   "source": [
    "def genfi(n):\n",
    "    \n",
    "    a = 1\n",
    "    b = 1\n",
    "    for i in range(n):\n",
    "        print(a)\n",
    "        a = b\n",
    "        b = a+b\n",
    "    "
   ]
  },
  {
   "cell_type": "code",
   "execution_count": 167,
   "id": "59774d8f",
   "metadata": {},
   "outputs": [
    {
     "name": "stdout",
     "output_type": "stream",
     "text": [
      "1\n",
      "1\n",
      "2\n",
      "4\n",
      "8\n",
      "16\n",
      "32\n",
      "64\n",
      "128\n",
      "256\n"
     ]
    }
   ],
   "source": [
    "genfi(10)"
   ]
  },
  {
   "cell_type": "code",
   "execution_count": 168,
   "id": "36bf39ec",
   "metadata": {},
   "outputs": [],
   "source": [
    "def genfi1(n):\n",
    "    \n",
    "    a = 1\n",
    "    b = 1\n",
    "    for i in range(n):\n",
    "        print(a)\n",
    "        a, b = b, a+b\n",
    "        \n",
    "    "
   ]
  },
  {
   "cell_type": "code",
   "execution_count": 170,
   "id": "43f14cb0",
   "metadata": {},
   "outputs": [
    {
     "name": "stdout",
     "output_type": "stream",
     "text": [
      "1\n",
      "1\n",
      "2\n",
      "3\n",
      "5\n",
      "8\n",
      "13\n",
      "21\n",
      "34\n",
      "55\n"
     ]
    }
   ],
   "source": [
    "genfi1(10) #if still any confusion left, try it manually loop by loop."
   ]
  },
  {
   "cell_type": "code",
   "execution_count": 10,
   "id": "fc64df6f",
   "metadata": {},
   "outputs": [],
   "source": [
    "t = (\"Sury\", 22, 26, 99, \"Grover\", 22, 222, 22, 99, 56,23.3, 23.4, 23.4, 189.7)"
   ]
  },
  {
   "cell_type": "code",
   "execution_count": 11,
   "id": "e6e74c48",
   "metadata": {},
   "outputs": [
    {
     "ename": "TypeError",
     "evalue": "'tuple' object doesn't support item deletion",
     "output_type": "error",
     "traceback": [
      "\u001b[1;31m---------------------------------------------------------------------------\u001b[0m",
      "\u001b[1;31mTypeError\u001b[0m                                 Traceback (most recent call last)",
      "\u001b[1;32mC:\\Users\\SURYAN~1\\AppData\\Local\\Temp/ipykernel_3624/3665567846.py\u001b[0m in \u001b[0;36m<module>\u001b[1;34m\u001b[0m\n\u001b[1;32m----> 1\u001b[1;33m \u001b[1;32mdel\u001b[0m\u001b[1;33m(\u001b[0m\u001b[0mt\u001b[0m\u001b[1;33m[\u001b[0m\u001b[1;36m1\u001b[0m\u001b[1;33m]\u001b[0m\u001b[1;33m)\u001b[0m\u001b[1;33m\u001b[0m\u001b[1;33m\u001b[0m\u001b[0m\n\u001b[0m",
      "\u001b[1;31mTypeError\u001b[0m: 'tuple' object doesn't support item deletion"
     ]
    }
   ],
   "source": [
    "del(t[1])"
   ]
  },
  {
   "cell_type": "code",
   "execution_count": 12,
   "id": "015f24e4",
   "metadata": {},
   "outputs": [
    {
     "data": {
      "text/plain": [
       "('Sury', 22, 26, 99, 'Grover', 22, 222, 22, 99, 56, 23.3, 23.4, 23.4, 189.7)"
      ]
     },
     "execution_count": 12,
     "metadata": {},
     "output_type": "execute_result"
    }
   ],
   "source": [
    "t"
   ]
  },
  {
   "cell_type": "code",
   "execution_count": 13,
   "id": "68569322",
   "metadata": {},
   "outputs": [],
   "source": [
    "s = set(t)"
   ]
  },
  {
   "cell_type": "code",
   "execution_count": 14,
   "id": "89ddab8c",
   "metadata": {},
   "outputs": [
    {
     "data": {
      "text/plain": [
       "{189.7, 22, 222, 23.3, 23.4, 26, 56, 99, 'Grover', 'Sury'}"
      ]
     },
     "execution_count": 14,
     "metadata": {},
     "output_type": "execute_result"
    }
   ],
   "source": [
    "s"
   ]
  },
  {
   "cell_type": "code",
   "execution_count": 15,
   "id": "98a1b24f",
   "metadata": {},
   "outputs": [
    {
     "data": {
      "text/plain": [
       "{189.7, 22, 222, 23.3, 23.4, 26, 56, 99, 'Grover', 'Sury'}"
      ]
     },
     "execution_count": 15,
     "metadata": {},
     "output_type": "execute_result"
    }
   ],
   "source": [
    "s.difference_update()"
   ]
  },
  {
   "cell_type": "code",
   "execution_count": 16,
   "id": "b3172899",
   "metadata": {},
   "outputs": [],
   "source": [
    "d = {}"
   ]
  },
  {
   "cell_type": "code",
   "execution_count": 17,
   "id": "0fa8d052",
   "metadata": {},
   "outputs": [
    {
     "data": {
      "text/plain": [
       "dict"
      ]
     },
     "execution_count": 17,
     "metadata": {},
     "output_type": "execute_result"
    }
   ],
   "source": [
    "type(d)"
   ]
  },
  {
   "cell_type": "code",
   "execution_count": 18,
   "id": "52731add",
   "metadata": {},
   "outputs": [],
   "source": [
    "d = {\"name\": \"Suryansh\", \"age\": 22, \"doing?\": \"nothing\", \"wtf!\": 69}"
   ]
  },
  {
   "cell_type": "code",
   "execution_count": 22,
   "id": "b8b45eaf",
   "metadata": {},
   "outputs": [
    {
     "name": "stdout",
     "output_type": "stream",
     "text": [
      "Suryansh\n",
      "22\n",
      "nothing\n",
      "69\n"
     ]
    }
   ],
   "source": [
    "for i in d:\n",
    "    print(d[i])"
   ]
  },
  {
   "cell_type": "code",
   "execution_count": 24,
   "id": "5323dfa6",
   "metadata": {},
   "outputs": [
    {
     "name": "stdout",
     "output_type": "stream",
     "text": [
      "Suryansh\n",
      "22\n",
      "nothing\n",
      "69\n"
     ]
    }
   ],
   "source": [
    "for i in d.keys():\n",
    "    print(d[i])"
   ]
  },
  {
   "cell_type": "code",
   "execution_count": 25,
   "id": "77eb4730",
   "metadata": {},
   "outputs": [
    {
     "name": "stdout",
     "output_type": "stream",
     "text": [
      "Suryansh\n",
      "22\n",
      "nothing\n",
      "69\n"
     ]
    }
   ],
   "source": [
    "for i in d.values():\n",
    "    print(i)"
   ]
  },
  {
   "cell_type": "code",
   "execution_count": 26,
   "id": "d5703a8f",
   "metadata": {},
   "outputs": [
    {
     "name": "stdout",
     "output_type": "stream",
     "text": [
      "<class 'str'>\n",
      "<class 'int'>\n",
      "<class 'str'>\n",
      "<class 'int'>\n"
     ]
    }
   ],
   "source": [
    "for i in d.values():\n",
    "    print(type(i))"
   ]
  },
  {
   "cell_type": "code",
   "execution_count": 27,
   "id": "5fb4f16e",
   "metadata": {},
   "outputs": [
    {
     "data": {
      "text/plain": [
       "dict_items([('name', 'Suryansh'), ('age', 22), ('doing?', 'nothing'), ('wtf!', 69)])"
      ]
     },
     "execution_count": 27,
     "metadata": {},
     "output_type": "execute_result"
    }
   ],
   "source": [
    "d.items()"
   ]
  },
  {
   "cell_type": "code",
   "execution_count": 28,
   "id": "7491770e",
   "metadata": {},
   "outputs": [],
   "source": [
    "e = {56: {45, 78, 89}}"
   ]
  },
  {
   "cell_type": "code",
   "execution_count": 29,
   "id": "31992fe3",
   "metadata": {},
   "outputs": [
    {
     "data": {
      "text/plain": [
       "{56: {45, 78, 89}}"
      ]
     },
     "execution_count": 29,
     "metadata": {},
     "output_type": "execute_result"
    }
   ],
   "source": [
    "e"
   ]
  },
  {
   "cell_type": "code",
   "execution_count": 36,
   "id": "b1191772",
   "metadata": {},
   "outputs": [
    {
     "data": {
      "text/plain": [
       "89"
      ]
     },
     "execution_count": 36,
     "metadata": {},
     "output_type": "execute_result"
    }
   ],
   "source": [
    "list(e[56])[0]"
   ]
  },
  {
   "cell_type": "code",
   "execution_count": 37,
   "id": "4ff232e1",
   "metadata": {},
   "outputs": [
    {
     "name": "stdout",
     "output_type": "stream",
     "text": [
      "Arriving at the Red Line, the crew searches for a way to get to the famed Fish-Man Island. The Straw Hats are soon diverted from their search when a mermaid and a talking starfish appear, and they soon find themselves saving an old enemy from a kidnapping ring. Things take a turn for the worst when the Straw Hats find themselves cornered at every turn with a Warlord of the Sea, a Marine admiral, and World Government officials.\n"
     ]
    }
   ],
   "source": [
    "#1. Take input as a paragraph.\n",
    "\n",
    "para = input()"
   ]
  },
  {
   "cell_type": "code",
   "execution_count": 43,
   "id": "a703c7b5",
   "metadata": {},
   "outputs": [
    {
     "data": {
      "text/plain": [
       "['Arriving',\n",
       " 'at',\n",
       " 'the',\n",
       " 'Red',\n",
       " 'Line,',\n",
       " 'the',\n",
       " 'crew',\n",
       " 'searches',\n",
       " 'for',\n",
       " 'a',\n",
       " 'way',\n",
       " 'to',\n",
       " 'get',\n",
       " 'to',\n",
       " 'the',\n",
       " 'famed',\n",
       " 'Fish-Man',\n",
       " 'Island.',\n",
       " 'The',\n",
       " 'Straw',\n",
       " 'Hats',\n",
       " 'are',\n",
       " 'soon',\n",
       " 'diverted',\n",
       " 'from',\n",
       " 'their',\n",
       " 'search',\n",
       " 'when',\n",
       " 'a',\n",
       " 'mermaid',\n",
       " 'and',\n",
       " 'a',\n",
       " 'talking',\n",
       " 'starfish',\n",
       " 'appear,',\n",
       " 'and',\n",
       " 'they',\n",
       " 'soon',\n",
       " 'find',\n",
       " 'themselves',\n",
       " 'saving',\n",
       " 'an',\n",
       " 'old',\n",
       " 'enemy',\n",
       " 'from',\n",
       " 'a',\n",
       " 'kidnapping',\n",
       " 'ring.',\n",
       " 'Things',\n",
       " 'take',\n",
       " 'a',\n",
       " 'turn',\n",
       " 'for',\n",
       " 'the',\n",
       " 'worst',\n",
       " 'when',\n",
       " 'the',\n",
       " 'Straw',\n",
       " 'Hats',\n",
       " 'find',\n",
       " 'themselves',\n",
       " 'cornered',\n",
       " 'at',\n",
       " 'every',\n",
       " 'turn',\n",
       " 'with',\n",
       " 'a',\n",
       " 'Warlord',\n",
       " 'of',\n",
       " 'the',\n",
       " 'Sea,',\n",
       " 'a',\n",
       " 'Marine',\n",
       " 'admiral,',\n",
       " 'and',\n",
       " 'World',\n",
       " 'Government',\n",
       " 'officials.']"
      ]
     },
     "execution_count": 43,
     "metadata": {},
     "output_type": "execute_result"
    }
   ],
   "source": [
    "#2. Convert this para into list of words\n",
    "\n",
    "l_para = para.split()\n",
    "l_para"
   ]
  },
  {
   "cell_type": "code",
   "execution_count": 46,
   "id": "b008eda3",
   "metadata": {},
   "outputs": [
    {
     "data": {
      "text/plain": [
       "{'Arriving',\n",
       " 'Fish-Man',\n",
       " 'Government',\n",
       " 'Hats',\n",
       " 'Island.',\n",
       " 'Line,',\n",
       " 'Marine',\n",
       " 'Red',\n",
       " 'Sea,',\n",
       " 'Straw',\n",
       " 'The',\n",
       " 'Things',\n",
       " 'Warlord',\n",
       " 'World',\n",
       " 'a',\n",
       " 'admiral,',\n",
       " 'an',\n",
       " 'and',\n",
       " 'appear,',\n",
       " 'are',\n",
       " 'at',\n",
       " 'cornered',\n",
       " 'crew',\n",
       " 'diverted',\n",
       " 'enemy',\n",
       " 'every',\n",
       " 'famed',\n",
       " 'find',\n",
       " 'for',\n",
       " 'from',\n",
       " 'get',\n",
       " 'kidnapping',\n",
       " 'mermaid',\n",
       " 'of',\n",
       " 'officials.',\n",
       " 'old',\n",
       " 'ring.',\n",
       " 'saving',\n",
       " 'search',\n",
       " 'searches',\n",
       " 'soon',\n",
       " 'starfish',\n",
       " 'take',\n",
       " 'talking',\n",
       " 'the',\n",
       " 'their',\n",
       " 'themselves',\n",
       " 'they',\n",
       " 'to',\n",
       " 'turn',\n",
       " 'way',\n",
       " 'when',\n",
       " 'with',\n",
       " 'worst'}"
      ]
     },
     "execution_count": 46,
     "metadata": {},
     "output_type": "execute_result"
    }
   ],
   "source": [
    "#3. Remove all the duplicate elements from the list.\n",
    "s_para = set(l_para)\n",
    "s_para"
   ]
  },
  {
   "cell_type": "code",
   "execution_count": 50,
   "id": "f141de9f",
   "metadata": {},
   "outputs": [],
   "source": [
    "l1_para = list(s_para)\n",
    "d_para = {}\n",
    "for "
   ]
  },
  {
   "cell_type": "code",
   "execution_count": 51,
   "id": "2043d302",
   "metadata": {},
   "outputs": [
    {
     "data": {
      "text/plain": [
       "['old',\n",
       " 'get',\n",
       " 'Hats',\n",
       " 'Warlord',\n",
       " 'ring.',\n",
       " 'Sea,',\n",
       " 'for',\n",
       " 'crew',\n",
       " 'The',\n",
       " 'search',\n",
       " 'enemy',\n",
       " 'soon',\n",
       " 'talking',\n",
       " 'cornered',\n",
       " 'Government',\n",
       " 'to',\n",
       " 'the',\n",
       " 'when',\n",
       " 'themselves',\n",
       " 'with',\n",
       " 'Straw',\n",
       " 'Red',\n",
       " 'Fish-Man',\n",
       " 'every',\n",
       " 'an',\n",
       " 'Island.',\n",
       " 'searches',\n",
       " 'way',\n",
       " 'they',\n",
       " 'Things',\n",
       " 'of',\n",
       " 'saving',\n",
       " 'Arriving',\n",
       " 'mermaid',\n",
       " 'find',\n",
       " 'appear,',\n",
       " 'take',\n",
       " 'turn',\n",
       " 'and',\n",
       " 'their',\n",
       " 'starfish',\n",
       " 'at',\n",
       " 'famed',\n",
       " 'Marine',\n",
       " 'worst',\n",
       " 'from',\n",
       " 'Line,',\n",
       " 'diverted',\n",
       " 'admiral,',\n",
       " 'kidnapping',\n",
       " 'officials.',\n",
       " 'are',\n",
       " 'a',\n",
       " 'World']"
      ]
     },
     "execution_count": 51,
     "metadata": {},
     "output_type": "execute_result"
    }
   ],
   "source": [
    "type(d_para)\n",
    "l1_para"
   ]
  },
  {
   "cell_type": "code",
   "execution_count": 66,
   "id": "f0865bb3",
   "metadata": {},
   "outputs": [
    {
     "data": {
      "text/plain": [
       "{'Arriving': 'Suryansh',\n",
       " 'at': 'Suryansh',\n",
       " 'the': 'Suryansh',\n",
       " 'Red': 'Suryansh',\n",
       " 'Line,': 'Suryansh',\n",
       " 'crew': 'Suryansh',\n",
       " 'searches': 'Suryansh',\n",
       " 'for': 'Suryansh',\n",
       " 'a': 'Suryansh',\n",
       " 'way': 'Suryansh',\n",
       " 'to': 'Suryansh',\n",
       " 'get': 'Suryansh',\n",
       " 'famed': 'Suryansh',\n",
       " 'Fish-Man': 'Suryansh',\n",
       " 'Island.': 'Suryansh',\n",
       " 'The': 'Suryansh',\n",
       " 'Straw': 'Suryansh',\n",
       " 'Hats': 'Suryansh',\n",
       " 'are': 'Suryansh',\n",
       " 'soon': 'Suryansh',\n",
       " 'diverted': 'Suryansh',\n",
       " 'from': 'Suryansh',\n",
       " 'their': 'Suryansh',\n",
       " 'search': 'Suryansh',\n",
       " 'when': 'Suryansh',\n",
       " 'mermaid': 'Suryansh',\n",
       " 'and': 'Suryansh',\n",
       " 'talking': 'Suryansh',\n",
       " 'starfish': 'Suryansh',\n",
       " 'appear,': 'Suryansh',\n",
       " 'they': 'Suryansh',\n",
       " 'find': 'Suryansh',\n",
       " 'themselves': 'Suryansh',\n",
       " 'saving': 'Suryansh',\n",
       " 'an': 'Suryansh',\n",
       " 'old': 'Suryansh',\n",
       " 'enemy': 'Suryansh',\n",
       " 'kidnapping': 'Suryansh',\n",
       " 'ring.': 'Suryansh',\n",
       " 'Things': 'Suryansh',\n",
       " 'take': 'Suryansh',\n",
       " 'turn': 'Suryansh',\n",
       " 'worst': 'Suryansh',\n",
       " 'cornered': 'Suryansh',\n",
       " 'every': 'Suryansh',\n",
       " 'with': 'Suryansh',\n",
       " 'Warlord': 'Suryansh',\n",
       " 'of': 'Suryansh',\n",
       " 'Sea,': 'Suryansh',\n",
       " 'Marine': 'Suryansh',\n",
       " 'admiral,': 'Suryansh',\n",
       " 'World': 'Suryansh',\n",
       " 'Government': 'Suryansh',\n",
       " 'officials.': 'Suryansh'}"
      ]
     },
     "execution_count": 66,
     "metadata": {},
     "output_type": "execute_result"
    }
   ],
   "source": [
    "for i in l_para:\n",
    "    d_para[i] = \"Suryansh\"\n",
    "\n",
    "d_para"
   ]
  },
  {
   "cell_type": "code",
   "execution_count": 96,
   "id": "6b700aae",
   "metadata": {},
   "outputs": [
    {
     "data": {
      "text/plain": [
       "{'old': None,\n",
       " 'get': None,\n",
       " 'Hats': None,\n",
       " 'Warlord': None,\n",
       " 'ring.': None,\n",
       " 'Sea,': None,\n",
       " 'for': None,\n",
       " 'crew': None,\n",
       " 'The': None,\n",
       " 'search': None,\n",
       " 'enemy': None,\n",
       " 'soon': None,\n",
       " 'talking': None,\n",
       " 'cornered': None,\n",
       " 'Government': None,\n",
       " 'to': None,\n",
       " 'the': None,\n",
       " 'when': None,\n",
       " 'themselves': None,\n",
       " 'with': None,\n",
       " 'Straw': None,\n",
       " 'Red': None,\n",
       " 'Fish-Man': None,\n",
       " 'every': None,\n",
       " 'an': None,\n",
       " 'Island.': None,\n",
       " 'searches': None,\n",
       " 'way': None,\n",
       " 'they': None,\n",
       " 'Things': None,\n",
       " 'of': None,\n",
       " 'saving': None,\n",
       " 'Arriving': None,\n",
       " 'mermaid': None,\n",
       " 'find': None,\n",
       " 'appear,': None,\n",
       " 'take': None,\n",
       " 'turn': None,\n",
       " 'and': None,\n",
       " 'their': None,\n",
       " 'starfish': None,\n",
       " 'at': None,\n",
       " 'famed': None,\n",
       " 'Marine': None,\n",
       " 'worst': None,\n",
       " 'from': None,\n",
       " 'Line,': None,\n",
       " 'diverted': None,\n",
       " 'admiral,': None,\n",
       " 'kidnapping': None,\n",
       " 'officials.': None,\n",
       " 'are': None,\n",
       " 'a': None,\n",
       " 'World': None}"
      ]
     },
     "execution_count": 96,
     "metadata": {},
     "output_type": "execute_result"
    }
   ],
   "source": [
    "d1_para = dict.fromkeys(s_para)\n",
    "d1_para"
   ]
  },
  {
   "cell_type": "code",
   "execution_count": 91,
   "id": "3fbd2f1f",
   "metadata": {},
   "outputs": [
    {
     "data": {
      "text/plain": [
       "dict_values(['Suryansh', 'Suryansh', 'Suryansh', 'Suryansh', 'Suryansh', 'Suryansh', 'Suryansh', 'Suryansh', 'Suryansh', 'Suryansh', 'Suryansh', 'Suryansh', 'Suryansh', 'Suryansh', 'Suryansh', 'Suryansh', 'Suryansh', 'Suryansh', 'Suryansh', 'Suryansh', 'Suryansh', 'Suryansh', 'Suryansh', 'Suryansh', 'Suryansh', 'Suryansh', 'Suryansh', 'Suryansh', 'Suryansh', 'Suryansh', 'Suryansh', 'Suryansh', 'Suryansh', 'Suryansh', 'Suryansh', 'Suryansh', 'Suryansh', 'Suryansh', 'Suryansh', 'Suryansh', 'Suryansh', 'Suryansh', 'Suryansh', 'Suryansh', 'Suryansh', 'Suryansh', 'Suryansh', 'Suryansh', 'Suryansh', 'Suryansh', 'Suryansh', 'Suryansh', 'Suryansh', 'Suryansh'])"
      ]
     },
     "execution_count": 91,
     "metadata": {},
     "output_type": "execute_result"
    }
   ],
   "source": [
    "#Print tuple of all the values of the dictionary\n",
    "d_para.values()"
   ]
  },
  {
   "cell_type": "code",
   "execution_count": 89,
   "id": "7b7546ea",
   "metadata": {},
   "outputs": [],
   "source": [
    "l3_para = []\n",
    "\n",
    "for i in d_para.keys():\n",
    "\n",
    "    l3_para.append(i)\n",
    "    \n"
   ]
  },
  {
   "cell_type": "code",
   "execution_count": 90,
   "id": "c3c49338",
   "metadata": {},
   "outputs": [
    {
     "data": {
      "text/plain": [
       "['Arriving',\n",
       " 'at',\n",
       " 'the',\n",
       " 'Red',\n",
       " 'Line,',\n",
       " 'crew',\n",
       " 'searches',\n",
       " 'for',\n",
       " 'a',\n",
       " 'way',\n",
       " 'to',\n",
       " 'get',\n",
       " 'famed',\n",
       " 'Fish-Man',\n",
       " 'Island.',\n",
       " 'The',\n",
       " 'Straw',\n",
       " 'Hats',\n",
       " 'are',\n",
       " 'soon',\n",
       " 'diverted',\n",
       " 'from',\n",
       " 'their',\n",
       " 'search',\n",
       " 'when',\n",
       " 'mermaid',\n",
       " 'and',\n",
       " 'talking',\n",
       " 'starfish',\n",
       " 'appear,',\n",
       " 'they',\n",
       " 'find',\n",
       " 'themselves',\n",
       " 'saving',\n",
       " 'an',\n",
       " 'old',\n",
       " 'enemy',\n",
       " 'kidnapping',\n",
       " 'ring.',\n",
       " 'Things',\n",
       " 'take',\n",
       " 'turn',\n",
       " 'worst',\n",
       " 'cornered',\n",
       " 'every',\n",
       " 'with',\n",
       " 'Warlord',\n",
       " 'of',\n",
       " 'Sea,',\n",
       " 'Marine',\n",
       " 'admiral,',\n",
       " 'World',\n",
       " 'Government',\n",
       " 'officials.']"
      ]
     },
     "execution_count": 90,
     "metadata": {},
     "output_type": "execute_result"
    }
   ],
   "source": [
    "l3_para"
   ]
  },
  {
   "cell_type": "code",
   "execution_count": 94,
   "id": "d74ff5dc",
   "metadata": {},
   "outputs": [
    {
     "data": {
      "text/plain": [
       "['Arriving',\n",
       " 'at',\n",
       " 'the',\n",
       " 'Red',\n",
       " 'Line,',\n",
       " 'crew',\n",
       " 'searches',\n",
       " 'for',\n",
       " 'a',\n",
       " 'way',\n",
       " 'to',\n",
       " 'get',\n",
       " 'famed',\n",
       " 'Fish-Man',\n",
       " 'Island.',\n",
       " 'The',\n",
       " 'Straw',\n",
       " 'Hats',\n",
       " 'are',\n",
       " 'soon',\n",
       " 'diverted',\n",
       " 'from',\n",
       " 'their',\n",
       " 'search',\n",
       " 'when',\n",
       " 'mermaid',\n",
       " 'and',\n",
       " 'talking',\n",
       " 'starfish',\n",
       " 'appear,',\n",
       " 'they',\n",
       " 'find',\n",
       " 'themselves',\n",
       " 'saving',\n",
       " 'an',\n",
       " 'old',\n",
       " 'enemy',\n",
       " 'kidnapping',\n",
       " 'ring.',\n",
       " 'Things',\n",
       " 'take',\n",
       " 'turn',\n",
       " 'worst',\n",
       " 'cornered',\n",
       " 'every',\n",
       " 'with',\n",
       " 'Warlord',\n",
       " 'of',\n",
       " 'Sea,',\n",
       " 'Marine',\n",
       " 'admiral,',\n",
       " 'World',\n",
       " 'Government',\n",
       " 'officials.']"
      ]
     },
     "execution_count": 94,
     "metadata": {},
     "output_type": "execute_result"
    }
   ],
   "source": [
    "l4_para = list(d_para.keys())\n",
    "l4_para"
   ]
  },
  {
   "cell_type": "code",
   "execution_count": 98,
   "id": "12710ad2",
   "metadata": {},
   "outputs": [],
   "source": [
    "s_set = { i for i in range(10)}"
   ]
  },
  {
   "cell_type": "code",
   "execution_count": 99,
   "id": "5c4dac01",
   "metadata": {},
   "outputs": [
    {
     "data": {
      "text/plain": [
       "{0, 1, 2, 3, 4, 5, 6, 7, 8, 9}"
      ]
     },
     "execution_count": 99,
     "metadata": {},
     "output_type": "execute_result"
    }
   ],
   "source": [
    "s_set"
   ]
  },
  {
   "cell_type": "code",
   "execution_count": 100,
   "id": "1309ef44",
   "metadata": {},
   "outputs": [
    {
     "data": {
      "text/plain": [
       "set"
      ]
     },
     "execution_count": 100,
     "metadata": {},
     "output_type": "execute_result"
    }
   ],
   "source": [
    "type(s_set)"
   ]
  },
  {
   "cell_type": "code",
   "execution_count": 101,
   "id": "31be8b10",
   "metadata": {},
   "outputs": [
    {
     "name": "stdout",
     "output_type": "stream",
     "text": [
      "58\n"
     ]
    }
   ],
   "source": [
    "i = input()"
   ]
  },
  {
   "cell_type": "code",
   "execution_count": 102,
   "id": "73be4090",
   "metadata": {},
   "outputs": [
    {
     "data": {
      "text/plain": [
       "str"
      ]
     },
     "execution_count": 102,
     "metadata": {},
     "output_type": "execute_result"
    }
   ],
   "source": [
    "type(i)"
   ]
  },
  {
   "cell_type": "code",
   "execution_count": 106,
   "id": "eb00608d",
   "metadata": {},
   "outputs": [
    {
     "ename": "TypeError",
     "evalue": "cannot convert dictionary update sequence element #0 to a sequence",
     "output_type": "error",
     "traceback": [
      "\u001b[1;31m---------------------------------------------------------------------------\u001b[0m",
      "\u001b[1;31mTypeError\u001b[0m                                 Traceback (most recent call last)",
      "\u001b[1;32mC:\\Users\\SURYAN~1\\AppData\\Local\\Temp/ipykernel_3624/4181939987.py\u001b[0m in \u001b[0;36m<module>\u001b[1;34m\u001b[0m\n\u001b[0;32m      1\u001b[0m \u001b[0mxx\u001b[0m \u001b[1;33m=\u001b[0m \u001b[0mlist\u001b[0m\u001b[1;33m(\u001b[0m\u001b[0ms_set\u001b[0m\u001b[1;33m)\u001b[0m\u001b[1;33m\u001b[0m\u001b[1;33m\u001b[0m\u001b[0m\n\u001b[1;32m----> 2\u001b[1;33m \u001b[0mdict\u001b[0m\u001b[1;33m(\u001b[0m\u001b[0mxx\u001b[0m\u001b[1;33m)\u001b[0m\u001b[1;33m\u001b[0m\u001b[1;33m\u001b[0m\u001b[0m\n\u001b[0m",
      "\u001b[1;31mTypeError\u001b[0m: cannot convert dictionary update sequence element #0 to a sequence"
     ]
    }
   ],
   "source": [
    "#trying to convert a list into dictionary.\n",
    "xx = list(s_set)\n",
    "dict(xx)"
   ]
  },
  {
   "cell_type": "code",
   "execution_count": 107,
   "id": "1af13aad",
   "metadata": {},
   "outputs": [
    {
     "ename": "NameError",
     "evalue": "name 'XX' is not defined",
     "output_type": "error",
     "traceback": [
      "\u001b[1;31m---------------------------------------------------------------------------\u001b[0m",
      "\u001b[1;31mNameError\u001b[0m                                 Traceback (most recent call last)",
      "\u001b[1;32mC:\\Users\\SURYAN~1\\AppData\\Local\\Temp/ipykernel_3624/4176762055.py\u001b[0m in \u001b[0;36m<module>\u001b[1;34m\u001b[0m\n\u001b[1;32m----> 1\u001b[1;33m \u001b[0mtuple\u001b[0m\u001b[1;33m(\u001b[0m\u001b[0mXX\u001b[0m\u001b[1;33m)\u001b[0m\u001b[1;33m\u001b[0m\u001b[1;33m\u001b[0m\u001b[0m\n\u001b[0m",
      "\u001b[1;31mNameError\u001b[0m: name 'XX' is not defined"
     ]
    }
   ],
   "source": [
    "tuple(XX)"
   ]
  },
  {
   "cell_type": "code",
   "execution_count": null,
   "id": "edefc3a7",
   "metadata": {},
   "outputs": [],
   "source": []
  }
 ],
 "metadata": {
  "kernelspec": {
   "display_name": "Python 3 (ipykernel)",
   "language": "python",
   "name": "python3"
  },
  "language_info": {
   "codemirror_mode": {
    "name": "ipython",
    "version": 3
   },
   "file_extension": ".py",
   "mimetype": "text/x-python",
   "name": "python",
   "nbconvert_exporter": "python",
   "pygments_lexer": "ipython3",
   "version": "3.9.7"
  }
 },
 "nbformat": 4,
 "nbformat_minor": 5
}
