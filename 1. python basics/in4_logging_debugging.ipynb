{
 "cells": [
  {
   "cell_type": "markdown",
   "id": "50d3f45d",
   "metadata": {},
   "source": [
    "# LOGGING:"
   ]
  },
  {
   "cell_type": "code",
   "execution_count": 1,
   "id": "9e3acbcc",
   "metadata": {},
   "outputs": [
    {
     "data": {
      "text/plain": [
       "'C:\\\\Users\\\\Suryansh Grover\\\\iNeuron\\\\1. python basics'"
      ]
     },
     "execution_count": 1,
     "metadata": {},
     "output_type": "execute_result"
    }
   ],
   "source": [
    "pwd()"
   ]
  },
  {
   "cell_type": "code",
   "execution_count": 2,
   "id": "9ef6083b",
   "metadata": {},
   "outputs": [],
   "source": [
    "import os"
   ]
  },
  {
   "cell_type": "code",
   "execution_count": 4,
   "id": "11701598",
   "metadata": {},
   "outputs": [],
   "source": [
    "os.mkdir(os.getcwd() + '/' + 'logging')"
   ]
  },
  {
   "cell_type": "code",
   "execution_count": 2,
   "id": "897ff240",
   "metadata": {},
   "outputs": [
    {
     "data": {
      "text/plain": [
       "'C:\\\\Users\\\\Suryansh Grover\\\\iNeuron\\\\1. python basics'"
      ]
     },
     "execution_count": 2,
     "metadata": {},
     "output_type": "execute_result"
    }
   ],
   "source": [
    "pwd()"
   ]
  },
  {
   "cell_type": "code",
   "execution_count": 3,
   "id": "3a2e5c2e",
   "metadata": {},
   "outputs": [],
   "source": [
    "os.chdir('logging')"
   ]
  },
  {
   "cell_type": "code",
   "execution_count": 4,
   "id": "01f7a9a7",
   "metadata": {},
   "outputs": [
    {
     "data": {
      "text/plain": [
       "'C:\\\\Users\\\\Suryansh Grover\\\\iNeuron\\\\1. python basics\\\\logging'"
      ]
     },
     "execution_count": 4,
     "metadata": {},
     "output_type": "execute_result"
    }
   ],
   "source": [
    "pwd()"
   ]
  },
  {
   "cell_type": "code",
   "execution_count": 1,
   "id": "3171e683",
   "metadata": {},
   "outputs": [],
   "source": [
    "import logging as lg"
   ]
  },
  {
   "cell_type": "code",
   "execution_count": 2,
   "id": "218f41f1",
   "metadata": {},
   "outputs": [],
   "source": [
    "lg.basicConfig( filename = 'C:\\\\Users\\\\Suryansh Grover\\\\iNeuron\\\\1. python basics\\\\logging\\\\test.log', level = lg.INFO, format = '%(asctime)s %(message)s')"
   ]
  },
  {
   "cell_type": "code",
   "execution_count": 3,
   "id": "9721f691",
   "metadata": {},
   "outputs": [],
   "source": [
    " lg.info(\"Just a BEGINNING!\")"
   ]
  },
  {
   "cell_type": "code",
   "execution_count": 4,
   "id": "926fa73f",
   "metadata": {},
   "outputs": [
    {
     "data": {
      "text/plain": [
       "'C:\\\\Users\\\\Suryansh Grover\\\\iNeuron\\\\1. python basics'"
      ]
     },
     "execution_count": 4,
     "metadata": {},
     "output_type": "execute_result"
    }
   ],
   "source": [
    "pwd()"
   ]
  },
  {
   "cell_type": "code",
   "execution_count": 5,
   "id": "df762c08",
   "metadata": {},
   "outputs": [],
   "source": [
    "lg.warning(\"Warning!!!\")"
   ]
  },
  {
   "cell_type": "code",
   "execution_count": 6,
   "id": "c30e1195",
   "metadata": {},
   "outputs": [],
   "source": [
    "lg.error(\"404! ERROR!!\")"
   ]
  },
  {
   "cell_type": "code",
   "execution_count": null,
   "id": "c4600653",
   "metadata": {},
   "outputs": [],
   "source": []
  },
  {
   "cell_type": "code",
   "execution_count": 36,
   "id": "f24e5d6d",
   "metadata": {},
   "outputs": [
    {
     "data": {
      "text/plain": [
       "'\\ntasks:\\n\\n1. Create a logger.\\n2. Create a function that can take any number of arguments and return the sumition of them.\\n3. Capture user input in a log.\\n4. Give user instruction in a log file.\\n5. Read the logger file from notebook itself and print all the content in the console.\\n'"
      ]
     },
     "execution_count": 36,
     "metadata": {},
     "output_type": "execute_result"
    }
   ],
   "source": [
    "'''\n",
    "tasks:\n",
    "\n",
    "1. Create a logger.\n",
    "2. Create a function that can take any number of arguments and return the sumition of them.\n",
    "3. Capture user input in a log.\n",
    "4. Give user instruction in a log file.\n",
    "5. Read the logger file from notebook itself and print all the content in the console.\n",
    "'''"
   ]
  },
  {
   "cell_type": "code",
   "execution_count": 3,
   "id": "76385402",
   "metadata": {},
   "outputs": [],
   "source": [
    "import logging as lg\n",
    "import os\n",
    "lg.basicConfig( filename = 'C:\\\\Users\\\\Suryansh Grover\\\\iNeuron\\\\1. python basics\\\\logging\\\\sigma.log', level = lg.INFO, format = \"%(asctime)s %(message)s\")"
   ]
  },
  {
   "cell_type": "code",
   "execution_count": 4,
   "id": "c161aeee",
   "metadata": {},
   "outputs": [],
   "source": [
    "def sum_all(*args):\n",
    "    \n",
    "    lg.info(\" This is exactly where your fucking function starts! \")\n",
    "    [lg.info(i) for i in args]\n",
    "    tot = 0\n",
    "    for i in args:\n",
    "        tot += i\n",
    "    lg.info(\"This should be the return value of this function: \" + str(tot))\n",
    "    return tot          "
   ]
  },
  {
   "cell_type": "code",
   "execution_count": 6,
   "id": "60e28da3",
   "metadata": {},
   "outputs": [
    {
     "data": {
      "text/plain": [
       "(424313.357456+9j)"
      ]
     },
     "execution_count": 6,
     "metadata": {},
     "output_type": "execute_result"
    }
   ],
   "source": [
    "x = sum_all(400, 56.89, 768 + 9j, 232.467456, 80400, 342456)\n",
    "x"
   ]
  },
  {
   "cell_type": "code",
   "execution_count": 7,
   "id": "6cf92fd3",
   "metadata": {},
   "outputs": [
    {
     "data": {
      "text/plain": [
       "'C:\\\\Users\\\\Suryansh Grover\\\\iNeuron\\\\1. python basics'"
      ]
     },
     "execution_count": 7,
     "metadata": {},
     "output_type": "execute_result"
    }
   ],
   "source": [
    "pwd"
   ]
  },
  {
   "cell_type": "code",
   "execution_count": 8,
   "id": "355c9ee1",
   "metadata": {},
   "outputs": [],
   "source": [
    "os.chdir(os.getcwd() + \"\\\\logging\")"
   ]
  },
  {
   "cell_type": "code",
   "execution_count": 9,
   "id": "d53d87df",
   "metadata": {},
   "outputs": [],
   "source": [
    "f = open(\"sigma.log\", \"r+\")"
   ]
  },
  {
   "cell_type": "code",
   "execution_count": 10,
   "id": "85f7bee3",
   "metadata": {},
   "outputs": [
    {
     "data": {
      "text/plain": [
       "['2022-05-23 17:38:00,402  This is exactly where your fucking function starts! \\n',\n",
       " '2022-05-23 17:38:00,403 400\\n',\n",
       " '2022-05-23 17:38:00,403 56.89\\n',\n",
       " '2022-05-23 17:38:00,403 (768+9j)\\n',\n",
       " '2022-05-23 17:38:00,404 232.467456\\n',\n",
       " '2022-05-23 17:38:00,404 80400\\n',\n",
       " '2022-05-23 17:38:00,404 342456\\n',\n",
       " '2022-05-23 17:38:00,404 This should be the return value of this function: (424313.357456+9j)\\n',\n",
       " '2022-05-23 17:38:18,167  This is exactly where your fucking function starts! \\n',\n",
       " '2022-05-23 17:38:18,168 400\\n',\n",
       " '2022-05-23 17:38:18,169 56.89\\n',\n",
       " '2022-05-23 17:38:18,169 (768+9j)\\n',\n",
       " '2022-05-23 17:38:18,169 232.467456\\n',\n",
       " '2022-05-23 17:38:18,170 80400\\n',\n",
       " '2022-05-23 17:38:18,170 342456\\n',\n",
       " '2022-05-23 17:38:18,170 This should be the return value of this function: (424313.357456+9j)\\n']"
      ]
     },
     "execution_count": 10,
     "metadata": {},
     "output_type": "execute_result"
    }
   ],
   "source": [
    "f.readlines()"
   ]
  },
  {
   "cell_type": "code",
   "execution_count": 11,
   "id": "01469c92",
   "metadata": {},
   "outputs": [
    {
     "data": {
      "text/plain": [
       "0"
      ]
     },
     "execution_count": 11,
     "metadata": {},
     "output_type": "execute_result"
    }
   ],
   "source": [
    "f.seek(0)"
   ]
  },
  {
   "cell_type": "code",
   "execution_count": 12,
   "id": "4c78e3cd",
   "metadata": {},
   "outputs": [],
   "source": [
    "f.close()"
   ]
  },
  {
   "cell_type": "code",
   "execution_count": null,
   "id": "760ce6e3",
   "metadata": {},
   "outputs": [],
   "source": []
  },
  {
   "cell_type": "code",
   "execution_count": 13,
   "id": "d496dd33",
   "metadata": {},
   "outputs": [
    {
     "data": {
      "text/plain": [
       "'C:\\\\Users\\\\Suryansh Grover\\\\iNeuron\\\\1. python basics\\\\logging'"
      ]
     },
     "execution_count": 13,
     "metadata": {},
     "output_type": "execute_result"
    }
   ],
   "source": [
    "pwd()"
   ]
  },
  {
   "cell_type": "code",
   "execution_count": 14,
   "id": "ed4aae97",
   "metadata": {},
   "outputs": [
    {
     "data": {
      "text/plain": [
       "'C:\\\\Users\\\\Suryansh Grover\\\\iNeuron\\\\1. python basics\\\\logging'"
      ]
     },
     "execution_count": 14,
     "metadata": {},
     "output_type": "execute_result"
    }
   ],
   "source": [
    "import os\n",
    "#os.chdir(os.getcwd() + '\\\\logging')\n",
    "os.getcwd()"
   ]
  },
  {
   "cell_type": "code",
   "execution_count": 15,
   "id": "a4c9fae8",
   "metadata": {},
   "outputs": [],
   "source": [
    "#task 5 by another approach.\n",
    "import logging as lg\n",
    "lg.basicConfig( filename = \"sigma.log\", level = lg.INFO, format = \"%(asctime)s %(message)s %(level)s\")"
   ]
  },
  {
   "cell_type": "code",
   "execution_count": 16,
   "id": "3e8f8276",
   "metadata": {},
   "outputs": [],
   "source": [
    "#setting level\n",
    "console_log = lg.StreamHandler() #This is the Handler.\n",
    "console_log.setLevel(lg.INFO)"
   ]
  },
  {
   "cell_type": "code",
   "execution_count": 17,
   "id": "b49dcf37",
   "metadata": {},
   "outputs": [],
   "source": [
    "#setting format\n",
    "format = \"%(asctime)s %(level)s %(message)s\"\n",
    "console_log.setFormatter(format)"
   ]
  },
  {
   "cell_type": "code",
   "execution_count": 1,
   "id": "c0d930a3",
   "metadata": {},
   "outputs": [
    {
     "ename": "NameError",
     "evalue": "name 'lg' is not defined",
     "output_type": "error",
     "traceback": [
      "\u001b[1;31m---------------------------------------------------------------------------\u001b[0m",
      "\u001b[1;31mNameError\u001b[0m                                 Traceback (most recent call last)",
      "\u001b[1;32mC:\\Users\\SURYAN~1\\AppData\\Local\\Temp/ipykernel_300/3368543562.py\u001b[0m in \u001b[0;36m<module>\u001b[1;34m\u001b[0m\n\u001b[1;32m----> 1\u001b[1;33m \u001b[0mlg\u001b[0m\u001b[1;33m.\u001b[0m\u001b[0mgetLogger\u001b[0m\u001b[1;33m(\u001b[0m\u001b[1;34m''\u001b[0m\u001b[1;33m)\u001b[0m\u001b[1;33m.\u001b[0m\u001b[0maddHandler\u001b[0m\u001b[1;33m(\u001b[0m\u001b[0mconsole_log\u001b[0m\u001b[1;33m)\u001b[0m\u001b[1;33m\u001b[0m\u001b[1;33m\u001b[0m\u001b[0m\n\u001b[0m\u001b[0;32m      2\u001b[0m '''\n\u001b[0;32m      3\u001b[0m \u001b[0mSo\u001b[0m \u001b[0mby\u001b[0m \u001b[0mdefault\u001b[0m \u001b[0mour\u001b[0m \u001b[0mlogger\u001b[0m \u001b[1;32mis\u001b[0m \u001b[1;34m'root'\u001b[0m \u001b[1;32mand\u001b[0m \u001b[0mthere\u001b[0m \u001b[0mare\u001b[0m \u001b[0mseveral\u001b[0m \u001b[0mtypes\u001b[0m \u001b[0mof\u001b[0m \u001b[0mhandlers\u001b[0m \u001b[0mof\u001b[0m \u001b[0mwhich\u001b[0m \u001b[1;34m'stramhandler()'\u001b[0m \u001b[1;32mis\u001b[0m \u001b[0mone\u001b[0m \u001b[0mof\u001b[0m \u001b[0mthe\u001b[0m \u001b[0mkind\u001b[0m\u001b[1;33m.\u001b[0m\u001b[1;33m\u001b[0m\u001b[1;33m\u001b[0m\u001b[0m\n\u001b[0;32m      4\u001b[0m \u001b[0mAnd\u001b[0m \u001b[1;33m.\u001b[0m\u001b[0maddhandler\u001b[0m\u001b[1;33m(\u001b[0m\u001b[1;33m)\u001b[0m \u001b[1;32mis\u001b[0m \u001b[0madding\u001b[0m \u001b[0mthem\u001b[0m \u001b[0minto\u001b[0m \u001b[0mthe\u001b[0m \u001b[0mlogger\u001b[0m \u001b[0mwe\u001b[0m \u001b[0mcreate\u001b[0m \u001b[0mat\u001b[0m \u001b[0mtimes\u001b[0m\u001b[1;33m.\u001b[0m\u001b[1;33m\u001b[0m\u001b[1;33m\u001b[0m\u001b[0m\n\u001b[0;32m      5\u001b[0m '''\n",
      "\u001b[1;31mNameError\u001b[0m: name 'lg' is not defined"
     ]
    }
   ],
   "source": [
    "lg.getLogger('').addHandler(console_log) \n",
    "'''\n",
    "So by default our logger is 'root' and there are several types of handlers of which 'stramhandler()' is one of the kind.\n",
    "And .addhandler() is adding them into the logger we create at times.\n",
    "'''"
   ]
  },
  {
   "cell_type": "code",
   "execution_count": 19,
   "id": "ff97aa78",
   "metadata": {},
   "outputs": [
    {
     "name": "stderr",
     "output_type": "stream",
     "text": [
      "%(asctime)s %(level)s %(message)s\n"
     ]
    }
   ],
   "source": [
    "lg.info(\"first test code for log!!\")"
   ]
  },
  {
   "cell_type": "code",
   "execution_count": 20,
   "id": "f4fae06e",
   "metadata": {},
   "outputs": [],
   "source": [
    "logger1 = lg.getLogger('logger1.area1')\n",
    "logger2 = lg.getLogger('logger1.area2')"
   ]
  },
  {
   "cell_type": "code",
   "execution_count": 21,
   "id": "07114b2b",
   "metadata": {},
   "outputs": [
    {
     "name": "stderr",
     "output_type": "stream",
     "text": [
      "%(asctime)s %(level)s %(message)s\n",
      "%(asctime)s %(level)s %(message)s\n"
     ]
    }
   ],
   "source": [
    "logger1.info(\"Fuck Y'all.\")\n",
    "logger2.debug(\"Debugging here!\")\n",
    "logger1.debug(\"Debugging here!\")\n",
    "logger2.info(\"Info for logger 2!\")"
   ]
  },
  {
   "cell_type": "code",
   "execution_count": null,
   "id": "70d98719",
   "metadata": {},
   "outputs": [],
   "source": []
  },
  {
   "cell_type": "code",
   "execution_count": 27,
   "id": "faced870",
   "metadata": {},
   "outputs": [
    {
     "data": {
      "text/plain": [
       "'C:\\\\Users\\\\Suryansh Grover\\\\iNeuron\\\\1. python basics\\\\logging'"
      ]
     },
     "execution_count": 27,
     "metadata": {},
     "output_type": "execute_result"
    }
   ],
   "source": [
    "import logging as lg\n",
    "import os\n",
    "os.getcwd()"
   ]
  },
  {
   "cell_type": "code",
   "execution_count": 28,
   "id": "0ded4248",
   "metadata": {},
   "outputs": [
    {
     "ename": "FileNotFoundError",
     "evalue": "[WinError 2] The system cannot find the file specified: 'C:\\\\Users\\\\Suryansh Grover\\\\iNeuron\\\\1. python basics\\\\logging\\\\logging'",
     "output_type": "error",
     "traceback": [
      "\u001b[1;31m---------------------------------------------------------------------------\u001b[0m",
      "\u001b[1;31mFileNotFoundError\u001b[0m                         Traceback (most recent call last)",
      "\u001b[1;32mC:\\Users\\SURYAN~1\\AppData\\Local\\Temp/ipykernel_35240/4126274435.py\u001b[0m in \u001b[0;36m<module>\u001b[1;34m\u001b[0m\n\u001b[1;32m----> 1\u001b[1;33m \u001b[0mos\u001b[0m\u001b[1;33m.\u001b[0m\u001b[0mchdir\u001b[0m\u001b[1;33m(\u001b[0m\u001b[0mos\u001b[0m\u001b[1;33m.\u001b[0m\u001b[0mgetcwd\u001b[0m\u001b[1;33m(\u001b[0m\u001b[1;33m)\u001b[0m \u001b[1;33m+\u001b[0m \u001b[1;34m'\\\\logging'\u001b[0m\u001b[1;33m)\u001b[0m\u001b[1;33m\u001b[0m\u001b[1;33m\u001b[0m\u001b[0m\n\u001b[0m",
      "\u001b[1;31mFileNotFoundError\u001b[0m: [WinError 2] The system cannot find the file specified: 'C:\\\\Users\\\\Suryansh Grover\\\\iNeuron\\\\1. python basics\\\\logging\\\\logging'"
     ]
    }
   ],
   "source": [
    "os.chdir(os.getcwd() + '\\\\logging')"
   ]
  },
  {
   "cell_type": "code",
   "execution_count": 3,
   "id": "ade6a3bb",
   "metadata": {},
   "outputs": [
    {
     "data": {
      "text/plain": [
       "'C:\\\\Users\\\\Suryansh Grover\\\\iNeuron\\\\1. python basics\\\\logging'"
      ]
     },
     "execution_count": 3,
     "metadata": {},
     "output_type": "execute_result"
    }
   ],
   "source": [
    "pwd"
   ]
  },
  {
   "cell_type": "code",
   "execution_count": 4,
   "id": "1f222da9",
   "metadata": {},
   "outputs": [],
   "source": [
    "lg.basicConfig(filename  = 'streaming.log', level = lg.DEBUG, format = \"%(levelname)s %(asctime)s %(name)s %(message)s\")"
   ]
  },
  {
   "cell_type": "code",
   "execution_count": 5,
   "id": "72636c23",
   "metadata": {},
   "outputs": [],
   "source": [
    "#setting level\n",
    "console_log = lg.StreamHandler()\n",
    "console_log.setLevel(lg.INFO)\n",
    "os.chmod(os.getcwd(), 777) #some sort of giving permission."
   ]
  },
  {
   "cell_type": "code",
   "execution_count": 6,
   "id": "fe717e9c",
   "metadata": {},
   "outputs": [],
   "source": [
    "#setting format\n",
    "format = lg.Formatter(\"%(asctime)s %(message)s %(levelname)s %(name)s\")\n",
    "console_log.setFormatter(format)"
   ]
  },
  {
   "cell_type": "code",
   "execution_count": 11,
   "id": "2b4f3be8",
   "metadata": {},
   "outputs": [],
   "source": [
    "'''\n",
    "Just setting the handler for console log i.e. by default root.\n",
    "'''\n",
    "lg.getLogger('').addHandler(console_log)"
   ]
  },
  {
   "cell_type": "code",
   "execution_count": 12,
   "id": "559fdea5",
   "metadata": {},
   "outputs": [
    {
     "name": "stderr",
     "output_type": "stream",
     "text": [
      "2022-05-13 12:33:02,520 First code, perhaps! INFO root\n"
     ]
    }
   ],
   "source": [
    "lg.info(\"First code, perhaps!\")"
   ]
  },
  {
   "cell_type": "code",
   "execution_count": 13,
   "id": "a79a25c5",
   "metadata": {},
   "outputs": [
    {
     "data": {
      "text/plain": [
       "\"\\nso whenever we try to insert some data through loggers 1 and 2, it'll try\\nto differentiate by their label names respectively.\\n\""
      ]
     },
     "execution_count": 13,
     "metadata": {},
     "output_type": "execute_result"
    }
   ],
   "source": [
    "logger1 = lg.getLogger('logger1.area1') #just getting the 'root::' like labels for loggers 1 and 2 respectively.\n",
    "logger2 = lg.getLogger('logger2.area2') \n",
    "'''\n",
    "so whenever we try to insert some data through loggers 1 and 2, it'll try\n",
    "to differentiate by their label names respectively.\n",
    "'''"
   ]
  },
  {
   "cell_type": "code",
   "execution_count": 14,
   "id": "5f9cec53",
   "metadata": {},
   "outputs": [
    {
     "name": "stderr",
     "output_type": "stream",
     "text": [
      "2022-05-13 12:33:03,783 Here for logger1! INFO logger1.area1\n",
      "2022-05-13 12:33:03,789 Here for logger2! INFO logger2.area2\n",
      "2022-05-13 12:33:03,794 Warning forL1!!!! WARNING logger1.area1\n"
     ]
    }
   ],
   "source": [
    "logger1.info(\"Here for logger1!\")\n",
    "logger1.debug(\"debug for l1!\")\n",
    "logger2.info(\"Here for logger2!\")\n",
    "logger2.debug(\"debug for l2!\")\n",
    "logger1.warning(\"Warning forL1!!!!\")"
   ]
  },
  {
   "cell_type": "code",
   "execution_count": null,
   "id": "e66daf10",
   "metadata": {},
   "outputs": [],
   "source": []
  },
  {
   "cell_type": "markdown",
   "id": "9be21e29",
   "metadata": {},
   "source": [
    "#                                                     DEBUGING:"
   ]
  },
  {
   "cell_type": "code",
   "execution_count": 1,
   "id": "c917c957",
   "metadata": {},
   "outputs": [
    {
     "name": "stdout",
     "output_type": "stream",
     "text": [
      "Requirement already satisfied: ipdb in c:\\users\\suryansh grover\\anaconda3\\lib\\site-packages (0.13.9)\n",
      "Requirement already satisfied: ipython>=7.17.0 in c:\\users\\suryansh grover\\anaconda3\\lib\\site-packages (from ipdb) (7.29.0)\n",
      "Requirement already satisfied: toml>=0.10.2 in c:\\users\\suryansh grover\\anaconda3\\lib\\site-packages (from ipdb) (0.10.2)\n",
      "Requirement already satisfied: decorator in c:\\users\\suryansh grover\\anaconda3\\lib\\site-packages (from ipdb) (5.1.0)\n",
      "Requirement already satisfied: setuptools in c:\\users\\suryansh grover\\anaconda3\\lib\\site-packages (from ipdb) (58.0.4)\n",
      "Requirement already satisfied: pickleshare in c:\\users\\suryansh grover\\anaconda3\\lib\\site-packages (from ipython>=7.17.0->ipdb) (0.7.5)\n",
      "Requirement already satisfied: prompt-toolkit!=3.0.0,!=3.0.1,<3.1.0,>=2.0.0 in c:\\users\\suryansh grover\\anaconda3\\lib\\site-packages (from ipython>=7.17.0->ipdb) (3.0.20)\n",
      "Requirement already satisfied: traitlets>=4.2 in c:\\users\\suryansh grover\\anaconda3\\lib\\site-packages (from ipython>=7.17.0->ipdb) (5.1.0)\n",
      "Requirement already satisfied: backcall in c:\\users\\suryansh grover\\anaconda3\\lib\\site-packages (from ipython>=7.17.0->ipdb) (0.2.0)\n",
      "Requirement already satisfied: matplotlib-inline in c:\\users\\suryansh grover\\anaconda3\\lib\\site-packages (from ipython>=7.17.0->ipdb) (0.1.2)\n",
      "Requirement already satisfied: colorama in c:\\users\\suryansh grover\\anaconda3\\lib\\site-packages (from ipython>=7.17.0->ipdb) (0.4.4)\n",
      "Requirement already satisfied: jedi>=0.16 in c:\\users\\suryansh grover\\anaconda3\\lib\\site-packages (from ipython>=7.17.0->ipdb) (0.18.0)\n",
      "Requirement already satisfied: pygments in c:\\users\\suryansh grover\\anaconda3\\lib\\site-packages (from ipython>=7.17.0->ipdb) (2.10.0)\n",
      "Requirement already satisfied: parso<0.9.0,>=0.8.0 in c:\\users\\suryansh grover\\anaconda3\\lib\\site-packages (from jedi>=0.16->ipython>=7.17.0->ipdb) (0.8.2)\n",
      "Requirement already satisfied: wcwidth in c:\\users\\suryansh grover\\anaconda3\\lib\\site-packages (from prompt-toolkit!=3.0.0,!=3.0.1,<3.1.0,>=2.0.0->ipython>=7.17.0->ipdb) (0.2.5)\n"
     ]
    }
   ],
   "source": [
    "!pip install ipdb"
   ]
  },
  {
   "cell_type": "code",
   "execution_count": 5,
   "id": "5cfebe6a",
   "metadata": {},
   "outputs": [],
   "source": [
    "import ipdb"
   ]
  },
  {
   "cell_type": "code",
   "execution_count": 6,
   "id": "d22b9de8",
   "metadata": {},
   "outputs": [],
   "source": [
    "def testdebug():\n",
    "    \n",
    "    ipdb.set_trace()\n",
    "    l = []\n",
    "    for i in range(10):\n",
    "        l.append(i)\n",
    "        print(\"Appended!\")\n",
    "        \n",
    "    return l\n",
    "    "
   ]
  },
  {
   "cell_type": "code",
   "execution_count": null,
   "id": "d5c76daa",
   "metadata": {},
   "outputs": [
    {
     "name": "stdout",
     "output_type": "stream",
     "text": [
      "> \u001b[1;32mc:\\users\\suryan~1\\appdata\\local\\temp\\ipykernel_24016\\633169488.py\u001b[0m(4)\u001b[0;36mtestdebug\u001b[1;34m()\u001b[0m\n",
      "\n"
     ]
    }
   ],
   "source": [
    "testdebug()"
   ]
  },
  {
   "cell_type": "code",
   "execution_count": null,
   "id": "8faaff6b",
   "metadata": {},
   "outputs": [],
   "source": [
    " "
   ]
  },
  {
   "cell_type": "code",
   "execution_count": null,
   "id": "e7fe336b",
   "metadata": {},
   "outputs": [],
   "source": []
  }
 ],
 "metadata": {
  "kernelspec": {
   "display_name": "Python 3 (ipykernel)",
   "language": "python",
   "name": "python3"
  },
  "language_info": {
   "codemirror_mode": {
    "name": "ipython",
    "version": 3
   },
   "file_extension": ".py",
   "mimetype": "text/x-python",
   "name": "python",
   "nbconvert_exporter": "python",
   "pygments_lexer": "ipython3",
   "version": "3.9.7"
  }
 },
 "nbformat": 4,
 "nbformat_minor": 5
}
