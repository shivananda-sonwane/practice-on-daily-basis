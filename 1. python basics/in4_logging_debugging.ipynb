{
 "cells": [
  {
   "cell_type": "markdown",
   "id": "50d3f45d",
   "metadata": {},
   "source": [
    "# LOGGING:"
   ]
  },
  {
   "cell_type": "code",
   "execution_count": 1,
   "id": "9e3acbcc",
   "metadata": {},
   "outputs": [
    {
     "data": {
      "text/plain": [
       "'C:\\\\Users\\\\Suryansh Grover\\\\iNeuron\\\\1. python basics'"
      ]
     },
     "execution_count": 1,
     "metadata": {},
     "output_type": "execute_result"
    }
   ],
   "source": [
    "pwd()"
   ]
  },
  {
   "cell_type": "code",
   "execution_count": 2,
   "id": "9ef6083b",
   "metadata": {},
   "outputs": [],
   "source": [
    "import os"
   ]
  },
  {
   "cell_type": "code",
   "execution_count": 4,
   "id": "11701598",
   "metadata": {},
   "outputs": [],
   "source": [
    "os.mkdir(os.getcwd() + '/' + 'logging')"
   ]
  },
  {
   "cell_type": "code",
   "execution_count": 2,
   "id": "897ff240",
   "metadata": {},
   "outputs": [
    {
     "data": {
      "text/plain": [
       "'C:\\\\Users\\\\Suryansh Grover\\\\iNeuron\\\\1. python basics'"
      ]
     },
     "execution_count": 2,
     "metadata": {},
     "output_type": "execute_result"
    }
   ],
   "source": [
    "pwd()"
   ]
  },
  {
   "cell_type": "code",
   "execution_count": 3,
   "id": "3a2e5c2e",
   "metadata": {},
   "outputs": [],
   "source": [
    "os.chdir('logging')"
   ]
  },
  {
   "cell_type": "code",
   "execution_count": 4,
   "id": "01f7a9a7",
   "metadata": {},
   "outputs": [
    {
     "data": {
      "text/plain": [
       "'C:\\\\Users\\\\Suryansh Grover\\\\iNeuron\\\\1. python basics\\\\logging'"
      ]
     },
     "execution_count": 4,
     "metadata": {},
     "output_type": "execute_result"
    }
   ],
   "source": [
    "pwd()"
   ]
  },
  {
   "cell_type": "code",
   "execution_count": 1,
   "id": "3171e683",
   "metadata": {},
   "outputs": [],
   "source": [
    "import logging as lg"
   ]
  },
  {
   "cell_type": "code",
   "execution_count": 2,
   "id": "218f41f1",
   "metadata": {},
   "outputs": [],
   "source": [
    "lg.basicConfig( filename = 'C:\\\\Users\\\\Suryansh Grover\\\\iNeuron\\\\1. python basics\\\\logging\\\\test.log', level = lg.INFO, format = '%(asctime)s %(message)s')"
   ]
  },
  {
   "cell_type": "code",
   "execution_count": 3,
   "id": "9721f691",
   "metadata": {},
   "outputs": [],
   "source": [
    " lg.info(\"Just a BEGINNING!\")"
   ]
  },
  {
   "cell_type": "code",
   "execution_count": 4,
   "id": "926fa73f",
   "metadata": {},
   "outputs": [
    {
     "data": {
      "text/plain": [
       "'C:\\\\Users\\\\Suryansh Grover\\\\iNeuron\\\\1. python basics'"
      ]
     },
     "execution_count": 4,
     "metadata": {},
     "output_type": "execute_result"
    }
   ],
   "source": [
    "pwd()"
   ]
  },
  {
   "cell_type": "code",
   "execution_count": 5,
   "id": "df762c08",
   "metadata": {},
   "outputs": [],
   "source": [
    "lg.warning(\"Warning!!!\")"
   ]
  },
  {
   "cell_type": "code",
   "execution_count": 6,
   "id": "c30e1195",
   "metadata": {},
   "outputs": [],
   "source": [
    "lg.error(\"404! ERROR!!\")"
   ]
  },
  {
   "cell_type": "code",
   "execution_count": null,
   "id": "c4600653",
   "metadata": {},
   "outputs": [],
   "source": []
  },
  {
   "cell_type": "code",
   "execution_count": 1,
   "id": "f24e5d6d",
   "metadata": {},
   "outputs": [
    {
     "data": {
      "text/plain": [
       "'\\ntasks:\\n\\n1. Create a logger.\\n2. Create a function that can take any number of arguments and return the sumition of them.\\n3. Capture user input in a log.\\n4. Give user instruction in a log file.\\n5. Read the logger file from notebook itself and print all the content in the console.\\n'"
      ]
     },
     "execution_count": 1,
     "metadata": {},
     "output_type": "execute_result"
    }
   ],
   "source": [
    "'''\n",
    "tasks:\n",
    "\n",
    "1. Create a logger.\n",
    "2. Create a function that can take any number of arguments and return the sumition of them.\n",
    "3. Capture user input in a log.\n",
    "4. Give user instruction in a log file.\n",
    "5. Read the logger file from notebook itself and print all the content in the console.\n",
    "'''"
   ]
  },
  {
   "cell_type": "code",
   "execution_count": 2,
   "id": "76385402",
   "metadata": {},
   "outputs": [],
   "source": [
    "import logging as lg\n",
    "import os\n",
    "lg.basicConfig( filename = 'C:\\\\Users\\\\Suryansh Grover\\\\iNeuron\\\\1. python basics\\\\logging\\\\sigma.log', level = lg.INFO, format = \"%(asctime)s %(message)s\")"
   ]
  },
  {
   "cell_type": "code",
   "execution_count": 3,
   "id": "c161aeee",
   "metadata": {},
   "outputs": [],
   "source": [
    "def sum_all(*args):\n",
    "    \n",
    "    lg.info(\" This is exactly where your fucking function starts! \")\n",
    "    [lg.info(i) for i in args]\n",
    "    tot = 0\n",
    "    for i in args:\n",
    "        tot += i\n",
    "    lg.info(\"This should be the return value of this function: \" + str(tot))\n",
    "    return tot          "
   ]
  },
  {
   "cell_type": "code",
   "execution_count": 4,
   "id": "60e28da3",
   "metadata": {},
   "outputs": [
    {
     "data": {
      "text/plain": [
       "(424313.357456+9j)"
      ]
     },
     "execution_count": 4,
     "metadata": {},
     "output_type": "execute_result"
    }
   ],
   "source": [
    "x = sum_all(400, 56.89, 768 + 9j, 232.467456, 80400, 342456)\n",
    "x"
   ]
  },
  {
   "cell_type": "code",
   "execution_count": 5,
   "id": "6cf92fd3",
   "metadata": {},
   "outputs": [
    {
     "data": {
      "text/plain": [
       "'C:\\\\Users\\\\Suryansh Grover\\\\iNeuron\\\\1. python basics'"
      ]
     },
     "execution_count": 5,
     "metadata": {},
     "output_type": "execute_result"
    }
   ],
   "source": [
    "pwd"
   ]
  },
  {
   "cell_type": "code",
   "execution_count": 6,
   "id": "355c9ee1",
   "metadata": {},
   "outputs": [],
   "source": [
    "os.chdir(os.getcwd() + \"\\\\logging\")"
   ]
  },
  {
   "cell_type": "code",
   "execution_count": 7,
   "id": "d53d87df",
   "metadata": {},
   "outputs": [],
   "source": [
    "f = open(\"sigma.log\", \"r+\")"
   ]
  },
  {
   "cell_type": "code",
   "execution_count": 8,
   "id": "85f7bee3",
   "metadata": {},
   "outputs": [
    {
     "data": {
      "text/plain": [
       "['2022-05-11 20:23:39,605  This is exactly where your fucking function starts! \\n',\n",
       " '2022-05-11 20:23:50,033  This is exactly where your fucking function starts! \\n',\n",
       " '2022-05-11 20:24:46,595  This is exactly where your fucking function starts! \\n',\n",
       " '2022-05-11 20:24:52,298  This is exactly where your fucking function starts! \\n',\n",
       " '2022-05-11 20:25:07,407  This is exactly where your fucking function starts! \\n',\n",
       " '2022-05-11 20:26:21,771 4\\n',\n",
       " '2022-05-11 20:26:21,772 56\\n',\n",
       " '2022-05-11 20:26:21,773 768\\n',\n",
       " '2022-05-11 20:26:21,773 232\\n',\n",
       " '2022-05-11 20:26:21,774 804\\n',\n",
       " '2022-05-11 20:26:21,774 342\\n',\n",
       " '2022-05-11 20:26:21,774  This is exactly where your fucking function starts! \\n',\n",
       " '2022-05-11 20:26:27,243 4\\n',\n",
       " '2022-05-11 20:26:27,244 56\\n',\n",
       " '2022-05-11 20:26:27,244 768\\n',\n",
       " '2022-05-11 20:26:27,245 232\\n',\n",
       " '2022-05-11 20:26:27,245 804\\n',\n",
       " '2022-05-11 20:26:27,245 342\\n',\n",
       " '2022-05-11 20:26:27,246  This is exactly where your fucking function starts! \\n',\n",
       " '2022-05-11 20:27:04,347  This is exactly where your fucking function starts! \\n',\n",
       " '2022-05-11 20:27:04,348 4\\n',\n",
       " '2022-05-11 20:27:04,348 56\\n',\n",
       " '2022-05-11 20:27:04,348 768\\n',\n",
       " '2022-05-11 20:27:04,348 232\\n',\n",
       " '2022-05-11 20:27:04,349 804\\n',\n",
       " '2022-05-11 20:27:04,349 342\\n',\n",
       " '2022-05-11 20:28:07,812  This is exactly where your fucking function starts! \\n',\n",
       " '2022-05-11 20:28:07,813 4\\n',\n",
       " '2022-05-11 20:28:07,813 56\\n',\n",
       " '2022-05-11 20:28:07,813 768\\n',\n",
       " '2022-05-11 20:28:07,814 232\\n',\n",
       " '2022-05-11 20:28:07,814 804\\n',\n",
       " '2022-05-11 20:28:07,814 342\\n',\n",
       " '2022-05-11 20:28:19,564  This is exactly where your fucking function starts! \\n',\n",
       " '2022-05-11 20:28:19,565 4\\n',\n",
       " '2022-05-11 20:28:19,565 56\\n',\n",
       " '2022-05-11 20:28:19,566 768\\n',\n",
       " '2022-05-11 20:28:19,566 232\\n',\n",
       " '2022-05-11 20:28:19,568 804\\n',\n",
       " '2022-05-11 20:28:19,568 342\\n',\n",
       " '2022-05-11 20:29:47,942  This is exactly where your fucking function starts! \\n',\n",
       " '2022-05-11 20:29:47,943 4\\n',\n",
       " '2022-05-11 20:29:47,944 56\\n',\n",
       " '2022-05-11 20:29:47,944 768\\n',\n",
       " '2022-05-11 20:29:47,944 232\\n',\n",
       " '2022-05-11 20:29:47,944 804\\n',\n",
       " '2022-05-11 20:29:47,944 342\\n',\n",
       " '2022-05-11 20:29:47,945 This should be the return value of this function.2206\\n',\n",
       " '2022-05-11 20:30:16,117  This is exactly where your fucking function starts! \\n',\n",
       " '2022-05-11 20:30:16,118 400\\n',\n",
       " '2022-05-11 20:30:16,119 56.89\\n',\n",
       " '2022-05-11 20:30:16,119 (768+9j)\\n',\n",
       " '2022-05-11 20:30:16,120 232.467456\\n',\n",
       " '2022-05-11 20:30:16,120 80400\\n',\n",
       " '2022-05-11 20:30:16,120 342456\\n',\n",
       " '2022-05-11 20:30:16,120 This should be the return value of this function.(424313.357456+9j)\\n',\n",
       " '2022-05-11 20:30:54,197  This is exactly where your fucking function starts! \\n',\n",
       " '2022-05-11 20:30:54,198 400\\n',\n",
       " '2022-05-11 20:30:54,198 56.89\\n',\n",
       " '2022-05-11 20:30:54,199 (768+9j)\\n',\n",
       " '2022-05-11 20:30:54,199 232.467456\\n',\n",
       " '2022-05-11 20:30:54,199 80400\\n',\n",
       " '2022-05-11 20:30:54,200 342456\\n',\n",
       " '2022-05-11 20:30:54,200 This should be the return value of this function: (424313.357456+9j)\\n',\n",
       " '2022-05-11 20:31:22,332  This is exactly where your fucking function starts! \\n',\n",
       " '2022-05-11 20:31:22,333 400\\n',\n",
       " '2022-05-11 20:31:22,333 56.89\\n',\n",
       " '2022-05-11 20:31:22,334 (768+9j)\\n',\n",
       " '2022-05-11 20:31:22,334 232.467456\\n',\n",
       " '2022-05-11 20:31:22,334 80400\\n',\n",
       " '2022-05-11 20:31:22,335 342456\\n',\n",
       " '2022-05-11 20:31:22,335 This should be the return value of this function: (424313.357456+9j)\\n',\n",
       " '2022-05-11 21:36:38,811 first test code for log!!\\n',\n",
       " \"2022-05-11 21:39:22,573 Fuck Y'all!\\n\",\n",
       " \"2022-05-11 21:40:00,357 Fuck Y'all.\\n\",\n",
       " \"2022-05-11 21:40:25,925 Fuck Y'all.\\n\",\n",
       " \"2022-05-11 21:40:50,013 Fuck Y'all.\\n\",\n",
       " '2022-05-11 21:40:50,016 Info for logger 2!\\n',\n",
       " '2022-05-12 10:24:32,004  This is exactly where your fucking function starts! \\n',\n",
       " '2022-05-12 10:24:32,006 400\\n',\n",
       " '2022-05-12 10:24:32,007 56.89\\n',\n",
       " '2022-05-12 10:24:32,007 (768+9j)\\n',\n",
       " '2022-05-12 10:24:32,007 232.467456\\n',\n",
       " '2022-05-12 10:24:32,007 80400\\n',\n",
       " '2022-05-12 10:24:32,007 342456\\n',\n",
       " '2022-05-12 10:24:32,007 This should be the return value of this function: (424313.357456+9j)\\n']"
      ]
     },
     "execution_count": 8,
     "metadata": {},
     "output_type": "execute_result"
    }
   ],
   "source": [
    "f.readlines()"
   ]
  },
  {
   "cell_type": "code",
   "execution_count": 9,
   "id": "01469c92",
   "metadata": {},
   "outputs": [
    {
     "data": {
      "text/plain": [
       "0"
      ]
     },
     "execution_count": 9,
     "metadata": {},
     "output_type": "execute_result"
    }
   ],
   "source": [
    "f.seek(0)"
   ]
  },
  {
   "cell_type": "code",
   "execution_count": 10,
   "id": "4c78e3cd",
   "metadata": {},
   "outputs": [],
   "source": [
    "f.close()"
   ]
  },
  {
   "cell_type": "code",
   "execution_count": null,
   "id": "760ce6e3",
   "metadata": {},
   "outputs": [],
   "source": []
  },
  {
   "cell_type": "code",
   "execution_count": 1,
   "id": "d496dd33",
   "metadata": {},
   "outputs": [
    {
     "data": {
      "text/plain": [
       "'C:\\\\Users\\\\Suryansh Grover\\\\iNeuron\\\\1. python basics'"
      ]
     },
     "execution_count": 1,
     "metadata": {},
     "output_type": "execute_result"
    }
   ],
   "source": [
    "pwd()"
   ]
  },
  {
   "cell_type": "code",
   "execution_count": 2,
   "id": "ed4aae97",
   "metadata": {},
   "outputs": [
    {
     "data": {
      "text/plain": [
       "'C:\\\\Users\\\\Suryansh Grover\\\\iNeuron\\\\1. python basics'"
      ]
     },
     "execution_count": 2,
     "metadata": {},
     "output_type": "execute_result"
    }
   ],
   "source": [
    "import os\n",
    "#os.chdir(os.getcwd() + '\\\\logging')\n",
    "os.getcwd()"
   ]
  },
  {
   "cell_type": "code",
   "execution_count": 3,
   "id": "a4c9fae8",
   "metadata": {},
   "outputs": [],
   "source": [
    "#task 5 by another approach.\n",
    "import logging as lg\n",
    "lg.basicConfig( filename = \"sigma.log\", level = lg.INFO, format = \"%(asctime)s %(message)s %(level)s\")"
   ]
  },
  {
   "cell_type": "code",
   "execution_count": 4,
   "id": "3e8f8276",
   "metadata": {},
   "outputs": [],
   "source": [
    "#setting level\n",
    "console_log = lg.StreamHandler()\n",
    "console_log.setLevel(lg.INFO)"
   ]
  },
  {
   "cell_type": "code",
   "execution_count": 5,
   "id": "b49dcf37",
   "metadata": {},
   "outputs": [],
   "source": [
    "#setting format\n",
    "format = \"%(asctime)s %(level)s %(message)s\"\n",
    "console_log.setFormatter(format)"
   ]
  },
  {
   "cell_type": "code",
   "execution_count": 6,
   "id": "c0d930a3",
   "metadata": {},
   "outputs": [],
   "source": [
    "lg.getLogger('').addHandler(console_log)"
   ]
  },
  {
   "cell_type": "code",
   "execution_count": 7,
   "id": "ff97aa78",
   "metadata": {},
   "outputs": [
    {
     "name": "stderr",
     "output_type": "stream",
     "text": [
      "--- Logging error ---\n",
      "Traceback (most recent call last):\n",
      "  File \"C:\\Users\\Suryansh Grover\\anaconda3\\lib\\logging\\__init__.py\", line 434, in format\n",
      "    return self._format(record)\n",
      "  File \"C:\\Users\\Suryansh Grover\\anaconda3\\lib\\logging\\__init__.py\", line 430, in _format\n",
      "    return self._fmt % record.__dict__\n",
      "KeyError: 'level'\n",
      "\n",
      "During handling of the above exception, another exception occurred:\n",
      "\n",
      "Traceback (most recent call last):\n",
      "  File \"C:\\Users\\Suryansh Grover\\anaconda3\\lib\\logging\\__init__.py\", line 1083, in emit\n",
      "    msg = self.format(record)\n",
      "  File \"C:\\Users\\Suryansh Grover\\anaconda3\\lib\\logging\\__init__.py\", line 927, in format\n",
      "    return fmt.format(record)\n",
      "  File \"C:\\Users\\Suryansh Grover\\anaconda3\\lib\\logging\\__init__.py\", line 666, in format\n",
      "    s = self.formatMessage(record)\n",
      "  File \"C:\\Users\\Suryansh Grover\\anaconda3\\lib\\logging\\__init__.py\", line 635, in formatMessage\n",
      "    return self._style.format(record)\n",
      "  File \"C:\\Users\\Suryansh Grover\\anaconda3\\lib\\logging\\__init__.py\", line 436, in format\n",
      "    raise ValueError('Formatting field not found in record: %s' % e)\n",
      "ValueError: Formatting field not found in record: 'level'\n",
      "Call stack:\n",
      "  File \"C:\\Users\\Suryansh Grover\\anaconda3\\lib\\runpy.py\", line 197, in _run_module_as_main\n",
      "    return _run_code(code, main_globals, None,\n",
      "  File \"C:\\Users\\Suryansh Grover\\anaconda3\\lib\\runpy.py\", line 87, in _run_code\n",
      "    exec(code, run_globals)\n",
      "  File \"C:\\Users\\Suryansh Grover\\anaconda3\\lib\\site-packages\\ipykernel_launcher.py\", line 16, in <module>\n",
      "    app.launch_new_instance()\n",
      "  File \"C:\\Users\\Suryansh Grover\\anaconda3\\lib\\site-packages\\traitlets\\config\\application.py\", line 846, in launch_instance\n",
      "    app.start()\n",
      "  File \"C:\\Users\\Suryansh Grover\\anaconda3\\lib\\site-packages\\ipykernel\\kernelapp.py\", line 677, in start\n",
      "    self.io_loop.start()\n",
      "  File \"C:\\Users\\Suryansh Grover\\anaconda3\\lib\\site-packages\\tornado\\platform\\asyncio.py\", line 199, in start\n",
      "    self.asyncio_loop.run_forever()\n",
      "  File \"C:\\Users\\Suryansh Grover\\anaconda3\\lib\\asyncio\\base_events.py\", line 596, in run_forever\n",
      "    self._run_once()\n",
      "  File \"C:\\Users\\Suryansh Grover\\anaconda3\\lib\\asyncio\\base_events.py\", line 1890, in _run_once\n",
      "    handle._run()\n",
      "  File \"C:\\Users\\Suryansh Grover\\anaconda3\\lib\\asyncio\\events.py\", line 80, in _run\n",
      "    self._context.run(self._callback, *self._args)\n",
      "  File \"C:\\Users\\Suryansh Grover\\anaconda3\\lib\\site-packages\\ipykernel\\kernelbase.py\", line 457, in dispatch_queue\n",
      "    await self.process_one()\n",
      "  File \"C:\\Users\\Suryansh Grover\\anaconda3\\lib\\site-packages\\ipykernel\\kernelbase.py\", line 446, in process_one\n",
      "    await dispatch(*args)\n",
      "  File \"C:\\Users\\Suryansh Grover\\anaconda3\\lib\\site-packages\\ipykernel\\kernelbase.py\", line 353, in dispatch_shell\n",
      "    await result\n",
      "  File \"C:\\Users\\Suryansh Grover\\anaconda3\\lib\\site-packages\\ipykernel\\kernelbase.py\", line 648, in execute_request\n",
      "    reply_content = await reply_content\n",
      "  File \"C:\\Users\\Suryansh Grover\\anaconda3\\lib\\site-packages\\ipykernel\\ipkernel.py\", line 353, in do_execute\n",
      "    res = shell.run_cell(code, store_history=store_history, silent=silent)\n",
      "  File \"C:\\Users\\Suryansh Grover\\anaconda3\\lib\\site-packages\\ipykernel\\zmqshell.py\", line 533, in run_cell\n",
      "    return super(ZMQInteractiveShell, self).run_cell(*args, **kwargs)\n",
      "  File \"C:\\Users\\Suryansh Grover\\anaconda3\\lib\\site-packages\\IPython\\core\\interactiveshell.py\", line 2901, in run_cell\n",
      "    result = self._run_cell(\n",
      "  File \"C:\\Users\\Suryansh Grover\\anaconda3\\lib\\site-packages\\IPython\\core\\interactiveshell.py\", line 2947, in _run_cell\n",
      "    return runner(coro)\n",
      "  File \"C:\\Users\\Suryansh Grover\\anaconda3\\lib\\site-packages\\IPython\\core\\async_helpers.py\", line 68, in _pseudo_sync_runner\n",
      "    coro.send(None)\n",
      "  File \"C:\\Users\\Suryansh Grover\\anaconda3\\lib\\site-packages\\IPython\\core\\interactiveshell.py\", line 3172, in run_cell_async\n",
      "    has_raised = await self.run_ast_nodes(code_ast.body, cell_name,\n",
      "  File \"C:\\Users\\Suryansh Grover\\anaconda3\\lib\\site-packages\\IPython\\core\\interactiveshell.py\", line 3364, in run_ast_nodes\n",
      "    if (await self.run_code(code, result,  async_=asy)):\n",
      "  File \"C:\\Users\\Suryansh Grover\\anaconda3\\lib\\site-packages\\IPython\\core\\interactiveshell.py\", line 3444, in run_code\n",
      "    exec(code_obj, self.user_global_ns, self.user_ns)\n",
      "  File \"C:\\Users\\SURYAN~1\\AppData\\Local\\Temp/ipykernel_22600/2639167537.py\", line 1, in <module>\n",
      "    lg.info(\"first test code for log!!\")\n",
      "Message: 'first test code for log!!'\n",
      "Arguments: ()\n",
      "%(asctime)s %(level)s %(message)s\n"
     ]
    }
   ],
   "source": [
    "lg.info(\"first test code for log!!\")"
   ]
  },
  {
   "cell_type": "code",
   "execution_count": 8,
   "id": "f4fae06e",
   "metadata": {},
   "outputs": [],
   "source": [
    "logger1 = lg.getLogger('logger1.area1')\n",
    "logger2 = lg.getLogger('logger1.area2')"
   ]
  },
  {
   "cell_type": "code",
   "execution_count": 9,
   "id": "07114b2b",
   "metadata": {},
   "outputs": [
    {
     "name": "stderr",
     "output_type": "stream",
     "text": [
      "--- Logging error ---\n",
      "Traceback (most recent call last):\n",
      "  File \"C:\\Users\\Suryansh Grover\\anaconda3\\lib\\logging\\__init__.py\", line 434, in format\n",
      "    return self._format(record)\n",
      "  File \"C:\\Users\\Suryansh Grover\\anaconda3\\lib\\logging\\__init__.py\", line 430, in _format\n",
      "    return self._fmt % record.__dict__\n",
      "KeyError: 'level'\n",
      "\n",
      "During handling of the above exception, another exception occurred:\n",
      "\n",
      "Traceback (most recent call last):\n",
      "  File \"C:\\Users\\Suryansh Grover\\anaconda3\\lib\\logging\\__init__.py\", line 1083, in emit\n",
      "    msg = self.format(record)\n",
      "  File \"C:\\Users\\Suryansh Grover\\anaconda3\\lib\\logging\\__init__.py\", line 927, in format\n",
      "    return fmt.format(record)\n",
      "  File \"C:\\Users\\Suryansh Grover\\anaconda3\\lib\\logging\\__init__.py\", line 666, in format\n",
      "    s = self.formatMessage(record)\n",
      "  File \"C:\\Users\\Suryansh Grover\\anaconda3\\lib\\logging\\__init__.py\", line 635, in formatMessage\n",
      "    return self._style.format(record)\n",
      "  File \"C:\\Users\\Suryansh Grover\\anaconda3\\lib\\logging\\__init__.py\", line 436, in format\n",
      "    raise ValueError('Formatting field not found in record: %s' % e)\n",
      "ValueError: Formatting field not found in record: 'level'\n",
      "Call stack:\n",
      "  File \"C:\\Users\\Suryansh Grover\\anaconda3\\lib\\runpy.py\", line 197, in _run_module_as_main\n",
      "    return _run_code(code, main_globals, None,\n",
      "  File \"C:\\Users\\Suryansh Grover\\anaconda3\\lib\\runpy.py\", line 87, in _run_code\n",
      "    exec(code, run_globals)\n",
      "  File \"C:\\Users\\Suryansh Grover\\anaconda3\\lib\\site-packages\\ipykernel_launcher.py\", line 16, in <module>\n",
      "    app.launch_new_instance()\n",
      "  File \"C:\\Users\\Suryansh Grover\\anaconda3\\lib\\site-packages\\traitlets\\config\\application.py\", line 846, in launch_instance\n",
      "    app.start()\n",
      "  File \"C:\\Users\\Suryansh Grover\\anaconda3\\lib\\site-packages\\ipykernel\\kernelapp.py\", line 677, in start\n",
      "    self.io_loop.start()\n",
      "  File \"C:\\Users\\Suryansh Grover\\anaconda3\\lib\\site-packages\\tornado\\platform\\asyncio.py\", line 199, in start\n",
      "    self.asyncio_loop.run_forever()\n",
      "  File \"C:\\Users\\Suryansh Grover\\anaconda3\\lib\\asyncio\\base_events.py\", line 596, in run_forever\n",
      "    self._run_once()\n",
      "  File \"C:\\Users\\Suryansh Grover\\anaconda3\\lib\\asyncio\\base_events.py\", line 1890, in _run_once\n",
      "    handle._run()\n",
      "  File \"C:\\Users\\Suryansh Grover\\anaconda3\\lib\\asyncio\\events.py\", line 80, in _run\n",
      "    self._context.run(self._callback, *self._args)\n",
      "  File \"C:\\Users\\Suryansh Grover\\anaconda3\\lib\\site-packages\\ipykernel\\kernelbase.py\", line 457, in dispatch_queue\n",
      "    await self.process_one()\n",
      "  File \"C:\\Users\\Suryansh Grover\\anaconda3\\lib\\site-packages\\ipykernel\\kernelbase.py\", line 446, in process_one\n",
      "    await dispatch(*args)\n",
      "  File \"C:\\Users\\Suryansh Grover\\anaconda3\\lib\\site-packages\\ipykernel\\kernelbase.py\", line 353, in dispatch_shell\n",
      "    await result\n",
      "  File \"C:\\Users\\Suryansh Grover\\anaconda3\\lib\\site-packages\\ipykernel\\kernelbase.py\", line 648, in execute_request\n",
      "    reply_content = await reply_content\n",
      "  File \"C:\\Users\\Suryansh Grover\\anaconda3\\lib\\site-packages\\ipykernel\\ipkernel.py\", line 353, in do_execute\n",
      "    res = shell.run_cell(code, store_history=store_history, silent=silent)\n",
      "  File \"C:\\Users\\Suryansh Grover\\anaconda3\\lib\\site-packages\\ipykernel\\zmqshell.py\", line 533, in run_cell\n",
      "    return super(ZMQInteractiveShell, self).run_cell(*args, **kwargs)\n",
      "  File \"C:\\Users\\Suryansh Grover\\anaconda3\\lib\\site-packages\\IPython\\core\\interactiveshell.py\", line 2901, in run_cell\n",
      "    result = self._run_cell(\n",
      "  File \"C:\\Users\\Suryansh Grover\\anaconda3\\lib\\site-packages\\IPython\\core\\interactiveshell.py\", line 2947, in _run_cell\n",
      "    return runner(coro)\n",
      "  File \"C:\\Users\\Suryansh Grover\\anaconda3\\lib\\site-packages\\IPython\\core\\async_helpers.py\", line 68, in _pseudo_sync_runner\n",
      "    coro.send(None)\n",
      "  File \"C:\\Users\\Suryansh Grover\\anaconda3\\lib\\site-packages\\IPython\\core\\interactiveshell.py\", line 3172, in run_cell_async\n",
      "    has_raised = await self.run_ast_nodes(code_ast.body, cell_name,\n",
      "  File \"C:\\Users\\Suryansh Grover\\anaconda3\\lib\\site-packages\\IPython\\core\\interactiveshell.py\", line 3364, in run_ast_nodes\n",
      "    if (await self.run_code(code, result,  async_=asy)):\n",
      "  File \"C:\\Users\\Suryansh Grover\\anaconda3\\lib\\site-packages\\IPython\\core\\interactiveshell.py\", line 3444, in run_code\n",
      "    exec(code_obj, self.user_global_ns, self.user_ns)\n",
      "  File \"C:\\Users\\SURYAN~1\\AppData\\Local\\Temp/ipykernel_22600/714435402.py\", line 1, in <module>\n",
      "    logger1.info(\"Fuck Y'all.\")\n",
      "Message: \"Fuck Y'all.\"\n",
      "Arguments: ()\n",
      "%(asctime)s %(level)s %(message)s\n",
      "--- Logging error ---\n",
      "Traceback (most recent call last):\n",
      "  File \"C:\\Users\\Suryansh Grover\\anaconda3\\lib\\logging\\__init__.py\", line 434, in format\n",
      "    return self._format(record)\n",
      "  File \"C:\\Users\\Suryansh Grover\\anaconda3\\lib\\logging\\__init__.py\", line 430, in _format\n",
      "    return self._fmt % record.__dict__\n",
      "KeyError: 'level'\n",
      "\n",
      "During handling of the above exception, another exception occurred:\n",
      "\n",
      "Traceback (most recent call last):\n",
      "  File \"C:\\Users\\Suryansh Grover\\anaconda3\\lib\\logging\\__init__.py\", line 1083, in emit\n",
      "    msg = self.format(record)\n",
      "  File \"C:\\Users\\Suryansh Grover\\anaconda3\\lib\\logging\\__init__.py\", line 927, in format\n",
      "    return fmt.format(record)\n",
      "  File \"C:\\Users\\Suryansh Grover\\anaconda3\\lib\\logging\\__init__.py\", line 666, in format\n",
      "    s = self.formatMessage(record)\n",
      "  File \"C:\\Users\\Suryansh Grover\\anaconda3\\lib\\logging\\__init__.py\", line 635, in formatMessage\n",
      "    return self._style.format(record)\n",
      "  File \"C:\\Users\\Suryansh Grover\\anaconda3\\lib\\logging\\__init__.py\", line 436, in format\n",
      "    raise ValueError('Formatting field not found in record: %s' % e)\n",
      "ValueError: Formatting field not found in record: 'level'\n",
      "Call stack:\n",
      "  File \"C:\\Users\\Suryansh Grover\\anaconda3\\lib\\runpy.py\", line 197, in _run_module_as_main\n",
      "    return _run_code(code, main_globals, None,\n",
      "  File \"C:\\Users\\Suryansh Grover\\anaconda3\\lib\\runpy.py\", line 87, in _run_code\n",
      "    exec(code, run_globals)\n",
      "  File \"C:\\Users\\Suryansh Grover\\anaconda3\\lib\\site-packages\\ipykernel_launcher.py\", line 16, in <module>\n",
      "    app.launch_new_instance()\n",
      "  File \"C:\\Users\\Suryansh Grover\\anaconda3\\lib\\site-packages\\traitlets\\config\\application.py\", line 846, in launch_instance\n",
      "    app.start()\n",
      "  File \"C:\\Users\\Suryansh Grover\\anaconda3\\lib\\site-packages\\ipykernel\\kernelapp.py\", line 677, in start\n",
      "    self.io_loop.start()\n",
      "  File \"C:\\Users\\Suryansh Grover\\anaconda3\\lib\\site-packages\\tornado\\platform\\asyncio.py\", line 199, in start\n",
      "    self.asyncio_loop.run_forever()\n",
      "  File \"C:\\Users\\Suryansh Grover\\anaconda3\\lib\\asyncio\\base_events.py\", line 596, in run_forever\n",
      "    self._run_once()\n",
      "  File \"C:\\Users\\Suryansh Grover\\anaconda3\\lib\\asyncio\\base_events.py\", line 1890, in _run_once\n",
      "    handle._run()\n",
      "  File \"C:\\Users\\Suryansh Grover\\anaconda3\\lib\\asyncio\\events.py\", line 80, in _run\n",
      "    self._context.run(self._callback, *self._args)\n",
      "  File \"C:\\Users\\Suryansh Grover\\anaconda3\\lib\\site-packages\\ipykernel\\kernelbase.py\", line 457, in dispatch_queue\n",
      "    await self.process_one()\n",
      "  File \"C:\\Users\\Suryansh Grover\\anaconda3\\lib\\site-packages\\ipykernel\\kernelbase.py\", line 446, in process_one\n",
      "    await dispatch(*args)\n",
      "  File \"C:\\Users\\Suryansh Grover\\anaconda3\\lib\\site-packages\\ipykernel\\kernelbase.py\", line 353, in dispatch_shell\n",
      "    await result\n",
      "  File \"C:\\Users\\Suryansh Grover\\anaconda3\\lib\\site-packages\\ipykernel\\kernelbase.py\", line 648, in execute_request\n",
      "    reply_content = await reply_content\n",
      "  File \"C:\\Users\\Suryansh Grover\\anaconda3\\lib\\site-packages\\ipykernel\\ipkernel.py\", line 353, in do_execute\n",
      "    res = shell.run_cell(code, store_history=store_history, silent=silent)\n",
      "  File \"C:\\Users\\Suryansh Grover\\anaconda3\\lib\\site-packages\\ipykernel\\zmqshell.py\", line 533, in run_cell\n",
      "    return super(ZMQInteractiveShell, self).run_cell(*args, **kwargs)\n",
      "  File \"C:\\Users\\Suryansh Grover\\anaconda3\\lib\\site-packages\\IPython\\core\\interactiveshell.py\", line 2901, in run_cell\n",
      "    result = self._run_cell(\n",
      "  File \"C:\\Users\\Suryansh Grover\\anaconda3\\lib\\site-packages\\IPython\\core\\interactiveshell.py\", line 2947, in _run_cell\n",
      "    return runner(coro)\n",
      "  File \"C:\\Users\\Suryansh Grover\\anaconda3\\lib\\site-packages\\IPython\\core\\async_helpers.py\", line 68, in _pseudo_sync_runner\n",
      "    coro.send(None)\n",
      "  File \"C:\\Users\\Suryansh Grover\\anaconda3\\lib\\site-packages\\IPython\\core\\interactiveshell.py\", line 3172, in run_cell_async\n",
      "    has_raised = await self.run_ast_nodes(code_ast.body, cell_name,\n",
      "  File \"C:\\Users\\Suryansh Grover\\anaconda3\\lib\\site-packages\\IPython\\core\\interactiveshell.py\", line 3364, in run_ast_nodes\n",
      "    if (await self.run_code(code, result,  async_=asy)):\n",
      "  File \"C:\\Users\\Suryansh Grover\\anaconda3\\lib\\site-packages\\IPython\\core\\interactiveshell.py\", line 3444, in run_code\n",
      "    exec(code_obj, self.user_global_ns, self.user_ns)\n",
      "  File \"C:\\Users\\SURYAN~1\\AppData\\Local\\Temp/ipykernel_22600/714435402.py\", line 4, in <module>\n",
      "    logger2.info(\"Info for logger 2!\")\n",
      "Message: 'Info for logger 2!'\n",
      "Arguments: ()\n",
      "%(asctime)s %(level)s %(message)s\n"
     ]
    }
   ],
   "source": [
    "logger1.info(\"Fuck Y'all.\")\n",
    "logger2.debug(\"Debugging here!\")\n",
    "logger1.debug(\"Debugging here!\")\n",
    "logger2.info(\"Info for logger 2!\")"
   ]
  },
  {
   "cell_type": "code",
   "execution_count": null,
   "id": "70d98719",
   "metadata": {},
   "outputs": [],
   "source": []
  },
  {
   "cell_type": "code",
   "execution_count": 1,
   "id": "faced870",
   "metadata": {},
   "outputs": [
    {
     "data": {
      "text/plain": [
       "'C:\\\\Users\\\\Suryansh Grover\\\\iNeuron\\\\1. python basics'"
      ]
     },
     "execution_count": 1,
     "metadata": {},
     "output_type": "execute_result"
    }
   ],
   "source": [
    "import logging as lg\n",
    "import os\n",
    "os.getcwd()"
   ]
  },
  {
   "cell_type": "code",
   "execution_count": 2,
   "id": "0ded4248",
   "metadata": {},
   "outputs": [],
   "source": [
    "os.chdir(os.getcwd() + '\\\\logging')"
   ]
  },
  {
   "cell_type": "code",
   "execution_count": 3,
   "id": "ade6a3bb",
   "metadata": {},
   "outputs": [
    {
     "data": {
      "text/plain": [
       "'C:\\\\Users\\\\Suryansh Grover\\\\iNeuron\\\\1. python basics\\\\logging'"
      ]
     },
     "execution_count": 3,
     "metadata": {},
     "output_type": "execute_result"
    }
   ],
   "source": [
    "pwd"
   ]
  },
  {
   "cell_type": "code",
   "execution_count": 4,
   "id": "1f222da9",
   "metadata": {},
   "outputs": [],
   "source": [
    "lg.basicConfig(filename  = 'streaming.log', level = lg.DEBUG, format = \"%(levelname)s %(asctime)s %(name)s %(message)s\")"
   ]
  },
  {
   "cell_type": "code",
   "execution_count": 5,
   "id": "72636c23",
   "metadata": {},
   "outputs": [],
   "source": [
    "#setting level\n",
    "console_log = lg.StreamHandler()\n",
    "console_log.setLevel(lg.INFO)\n",
    "os.chmod(os.getcwd(), 777) #some sort of giving permission."
   ]
  },
  {
   "cell_type": "code",
   "execution_count": 6,
   "id": "fe717e9c",
   "metadata": {},
   "outputs": [],
   "source": [
    "#setting format\n",
    "format = lg.Formatter(\"%(asctime)s %(message)s %(levelname)s %(name)s\")\n",
    "console_log.setFormatter(format)"
   ]
  },
  {
   "cell_type": "code",
   "execution_count": 11,
   "id": "2b4f3be8",
   "metadata": {},
   "outputs": [],
   "source": [
    "'''\n",
    "Just setting the handler for console log i.e. by default root.\n",
    "'''\n",
    "lg.getLogger('').addHandler(console_log)"
   ]
  },
  {
   "cell_type": "code",
   "execution_count": 12,
   "id": "559fdea5",
   "metadata": {},
   "outputs": [
    {
     "name": "stderr",
     "output_type": "stream",
     "text": [
      "2022-05-13 12:33:02,520 First code, perhaps! INFO root\n"
     ]
    }
   ],
   "source": [
    "lg.info(\"First code, perhaps!\")"
   ]
  },
  {
   "cell_type": "code",
   "execution_count": 13,
   "id": "a79a25c5",
   "metadata": {},
   "outputs": [
    {
     "data": {
      "text/plain": [
       "\"\\nso whenever we try to insert some data through loggers 1 and 2, it'll try\\nto differentiate by their label names respectively.\\n\""
      ]
     },
     "execution_count": 13,
     "metadata": {},
     "output_type": "execute_result"
    }
   ],
   "source": [
    "logger1 = lg.getLogger('logger1.area1') #just getting the 'root::' like labels for loggers 1 and 2 respectively.\n",
    "logger2 = lg.getLogger('logger2.area2') \n",
    "'''\n",
    "so whenever we try to insert some data through loggers 1 and 2, it'll try\n",
    "to differentiate by their label names respectively.\n",
    "'''"
   ]
  },
  {
   "cell_type": "code",
   "execution_count": 14,
   "id": "5f9cec53",
   "metadata": {},
   "outputs": [
    {
     "name": "stderr",
     "output_type": "stream",
     "text": [
      "2022-05-13 12:33:03,783 Here for logger1! INFO logger1.area1\n",
      "2022-05-13 12:33:03,789 Here for logger2! INFO logger2.area2\n",
      "2022-05-13 12:33:03,794 Warning forL1!!!! WARNING logger1.area1\n"
     ]
    }
   ],
   "source": [
    "logger1.info(\"Here for logger1!\")\n",
    "logger1.debug(\"debug for l1!\")\n",
    "logger2.info(\"Here for logger2!\")\n",
    "logger2.debug(\"debug for l2!\")\n",
    "logger1.warning(\"Warning forL1!!!!\")"
   ]
  },
  {
   "cell_type": "code",
   "execution_count": null,
   "id": "e66daf10",
   "metadata": {},
   "outputs": [],
   "source": []
  },
  {
   "cell_type": "markdown",
   "id": "9be21e29",
   "metadata": {},
   "source": [
    "#                                                     DEBUGING:"
   ]
  },
  {
   "cell_type": "code",
   "execution_count": 1,
   "id": "c917c957",
   "metadata": {},
   "outputs": [
    {
     "name": "stdout",
     "output_type": "stream",
     "text": [
      "Requirement already satisfied: ipdb in c:\\users\\suryansh grover\\anaconda3\\lib\\site-packages (0.13.9)\n",
      "Requirement already satisfied: ipython>=7.17.0 in c:\\users\\suryansh grover\\anaconda3\\lib\\site-packages (from ipdb) (7.29.0)\n",
      "Requirement already satisfied: toml>=0.10.2 in c:\\users\\suryansh grover\\anaconda3\\lib\\site-packages (from ipdb) (0.10.2)\n",
      "Requirement already satisfied: decorator in c:\\users\\suryansh grover\\anaconda3\\lib\\site-packages (from ipdb) (5.1.0)\n",
      "Requirement already satisfied: setuptools in c:\\users\\suryansh grover\\anaconda3\\lib\\site-packages (from ipdb) (58.0.4)\n",
      "Requirement already satisfied: pickleshare in c:\\users\\suryansh grover\\anaconda3\\lib\\site-packages (from ipython>=7.17.0->ipdb) (0.7.5)\n",
      "Requirement already satisfied: prompt-toolkit!=3.0.0,!=3.0.1,<3.1.0,>=2.0.0 in c:\\users\\suryansh grover\\anaconda3\\lib\\site-packages (from ipython>=7.17.0->ipdb) (3.0.20)\n",
      "Requirement already satisfied: traitlets>=4.2 in c:\\users\\suryansh grover\\anaconda3\\lib\\site-packages (from ipython>=7.17.0->ipdb) (5.1.0)\n",
      "Requirement already satisfied: backcall in c:\\users\\suryansh grover\\anaconda3\\lib\\site-packages (from ipython>=7.17.0->ipdb) (0.2.0)\n",
      "Requirement already satisfied: matplotlib-inline in c:\\users\\suryansh grover\\anaconda3\\lib\\site-packages (from ipython>=7.17.0->ipdb) (0.1.2)\n",
      "Requirement already satisfied: colorama in c:\\users\\suryansh grover\\anaconda3\\lib\\site-packages (from ipython>=7.17.0->ipdb) (0.4.4)\n",
      "Requirement already satisfied: jedi>=0.16 in c:\\users\\suryansh grover\\anaconda3\\lib\\site-packages (from ipython>=7.17.0->ipdb) (0.18.0)\n",
      "Requirement already satisfied: pygments in c:\\users\\suryansh grover\\anaconda3\\lib\\site-packages (from ipython>=7.17.0->ipdb) (2.10.0)\n",
      "Requirement already satisfied: parso<0.9.0,>=0.8.0 in c:\\users\\suryansh grover\\anaconda3\\lib\\site-packages (from jedi>=0.16->ipython>=7.17.0->ipdb) (0.8.2)\n",
      "Requirement already satisfied: wcwidth in c:\\users\\suryansh grover\\anaconda3\\lib\\site-packages (from prompt-toolkit!=3.0.0,!=3.0.1,<3.1.0,>=2.0.0->ipython>=7.17.0->ipdb) (0.2.5)\n"
     ]
    }
   ],
   "source": [
    "!pip install ipdb"
   ]
  },
  {
   "cell_type": "code",
   "execution_count": 1,
   "id": "5cfebe6a",
   "metadata": {},
   "outputs": [],
   "source": [
    "import ipdb"
   ]
  },
  {
   "cell_type": "code",
   "execution_count": 2,
   "id": "d22b9de8",
   "metadata": {},
   "outputs": [],
   "source": [
    "def testdebug():\n",
    "    \n",
    "    ipdb.set_trace()\n",
    "    l = []\n",
    "    for i in range(10):\n",
    "        l.append(i)\n",
    "        print(\"Appended!\")\n",
    "        \n",
    "    return l\n",
    "    "
   ]
  },
  {
   "cell_type": "code",
   "execution_count": 3,
   "id": "d5c76daa",
   "metadata": {},
   "outputs": [
    {
     "name": "stdout",
     "output_type": "stream",
     "text": [
      "> \u001b[1;32mc:\\users\\suryan~1\\appdata\\local\\temp\\ipykernel_6816\\633169488.py\u001b[0m(4)\u001b[0;36mtestdebug\u001b[1;34m()\u001b[0m\n",
      "\n",
      "ipdb> h\n",
      "\n",
      "Documented commands (type help <topic>):\n",
      "========================================\n",
      "EOF    commands   enable    ll        pp       s                until \n",
      "a      condition  exit      longlist  psource  skip_hidden      up    \n",
      "alias  cont       h         n         q        skip_predicates  w     \n",
      "args   context    help      next      quit     source           whatis\n",
      "b      continue   ignore    p         r        step             where \n",
      "break  d          interact  pdef      restart  tbreak         \n",
      "bt     debug      j         pdoc      return   u              \n",
      "c      disable    jump      pfile     retval   unalias        \n",
      "cl     display    l         pinfo     run      undisplay      \n",
      "clear  down       list      pinfo2    rv       unt            \n",
      "\n",
      "Miscellaneous help topics:\n",
      "==========================\n",
      "exec  pdb\n",
      "\n",
      "ipdb> n\n",
      "> \u001b[1;32mc:\\users\\suryan~1\\appdata\\local\\temp\\ipykernel_6816\\633169488.py\u001b[0m(5)\u001b[0;36mtestdebug\u001b[1;34m()\u001b[0m\n",
      "\n",
      "ipdb> exit\n"
     ]
    },
    {
     "ename": "BdbQuit",
     "evalue": "",
     "output_type": "error",
     "traceback": [
      "\u001b[1;31m---------------------------------------------------------------------------\u001b[0m",
      "\u001b[1;31mBdbQuit\u001b[0m                                   Traceback (most recent call last)",
      "\u001b[1;32mC:\\Users\\SURYAN~1\\AppData\\Local\\Temp/ipykernel_6816/3801750879.py\u001b[0m in \u001b[0;36m<module>\u001b[1;34m\u001b[0m\n\u001b[1;32m----> 1\u001b[1;33m \u001b[0mtestdebug\u001b[0m\u001b[1;33m(\u001b[0m\u001b[1;33m)\u001b[0m\u001b[1;33m\u001b[0m\u001b[1;33m\u001b[0m\u001b[0m\n\u001b[0m",
      "\u001b[1;32mC:\\Users\\SURYAN~1\\AppData\\Local\\Temp/ipykernel_6816/633169488.py\u001b[0m in \u001b[0;36mtestdebug\u001b[1;34m()\u001b[0m\n\u001b[0;32m      3\u001b[0m     \u001b[0mipdb\u001b[0m\u001b[1;33m.\u001b[0m\u001b[0mset_trace\u001b[0m\u001b[1;33m(\u001b[0m\u001b[1;33m)\u001b[0m\u001b[1;33m\u001b[0m\u001b[1;33m\u001b[0m\u001b[0m\n\u001b[0;32m      4\u001b[0m     \u001b[0ml\u001b[0m \u001b[1;33m=\u001b[0m \u001b[1;33m[\u001b[0m\u001b[1;33m]\u001b[0m\u001b[1;33m\u001b[0m\u001b[1;33m\u001b[0m\u001b[0m\n\u001b[1;32m----> 5\u001b[1;33m     \u001b[1;32mfor\u001b[0m \u001b[0mi\u001b[0m \u001b[1;32min\u001b[0m \u001b[0mrange\u001b[0m\u001b[1;33m(\u001b[0m\u001b[1;36m10\u001b[0m\u001b[1;33m)\u001b[0m\u001b[1;33m:\u001b[0m\u001b[1;33m\u001b[0m\u001b[1;33m\u001b[0m\u001b[0m\n\u001b[0m\u001b[0;32m      6\u001b[0m         \u001b[0ml\u001b[0m\u001b[1;33m.\u001b[0m\u001b[0mappend\u001b[0m\u001b[1;33m(\u001b[0m\u001b[0mi\u001b[0m\u001b[1;33m)\u001b[0m\u001b[1;33m\u001b[0m\u001b[1;33m\u001b[0m\u001b[0m\n\u001b[0;32m      7\u001b[0m         \u001b[0mprint\u001b[0m\u001b[1;33m(\u001b[0m\u001b[1;34m\"Appended!\"\u001b[0m\u001b[1;33m)\u001b[0m\u001b[1;33m\u001b[0m\u001b[1;33m\u001b[0m\u001b[0m\n",
      "\u001b[1;32mC:\\Users\\SURYAN~1\\AppData\\Local\\Temp/ipykernel_6816/633169488.py\u001b[0m in \u001b[0;36mtestdebug\u001b[1;34m()\u001b[0m\n\u001b[0;32m      3\u001b[0m     \u001b[0mipdb\u001b[0m\u001b[1;33m.\u001b[0m\u001b[0mset_trace\u001b[0m\u001b[1;33m(\u001b[0m\u001b[1;33m)\u001b[0m\u001b[1;33m\u001b[0m\u001b[1;33m\u001b[0m\u001b[0m\n\u001b[0;32m      4\u001b[0m     \u001b[0ml\u001b[0m \u001b[1;33m=\u001b[0m \u001b[1;33m[\u001b[0m\u001b[1;33m]\u001b[0m\u001b[1;33m\u001b[0m\u001b[1;33m\u001b[0m\u001b[0m\n\u001b[1;32m----> 5\u001b[1;33m     \u001b[1;32mfor\u001b[0m \u001b[0mi\u001b[0m \u001b[1;32min\u001b[0m \u001b[0mrange\u001b[0m\u001b[1;33m(\u001b[0m\u001b[1;36m10\u001b[0m\u001b[1;33m)\u001b[0m\u001b[1;33m:\u001b[0m\u001b[1;33m\u001b[0m\u001b[1;33m\u001b[0m\u001b[0m\n\u001b[0m\u001b[0;32m      6\u001b[0m         \u001b[0ml\u001b[0m\u001b[1;33m.\u001b[0m\u001b[0mappend\u001b[0m\u001b[1;33m(\u001b[0m\u001b[0mi\u001b[0m\u001b[1;33m)\u001b[0m\u001b[1;33m\u001b[0m\u001b[1;33m\u001b[0m\u001b[0m\n\u001b[0;32m      7\u001b[0m         \u001b[0mprint\u001b[0m\u001b[1;33m(\u001b[0m\u001b[1;34m\"Appended!\"\u001b[0m\u001b[1;33m)\u001b[0m\u001b[1;33m\u001b[0m\u001b[1;33m\u001b[0m\u001b[0m\n",
      "\u001b[1;32m~\\anaconda3\\lib\\bdb.py\u001b[0m in \u001b[0;36mtrace_dispatch\u001b[1;34m(self, frame, event, arg)\u001b[0m\n\u001b[0;32m     86\u001b[0m             \u001b[1;32mreturn\u001b[0m \u001b[1;31m# None\u001b[0m\u001b[1;33m\u001b[0m\u001b[1;33m\u001b[0m\u001b[0m\n\u001b[0;32m     87\u001b[0m         \u001b[1;32mif\u001b[0m \u001b[0mevent\u001b[0m \u001b[1;33m==\u001b[0m \u001b[1;34m'line'\u001b[0m\u001b[1;33m:\u001b[0m\u001b[1;33m\u001b[0m\u001b[1;33m\u001b[0m\u001b[0m\n\u001b[1;32m---> 88\u001b[1;33m             \u001b[1;32mreturn\u001b[0m \u001b[0mself\u001b[0m\u001b[1;33m.\u001b[0m\u001b[0mdispatch_line\u001b[0m\u001b[1;33m(\u001b[0m\u001b[0mframe\u001b[0m\u001b[1;33m)\u001b[0m\u001b[1;33m\u001b[0m\u001b[1;33m\u001b[0m\u001b[0m\n\u001b[0m\u001b[0;32m     89\u001b[0m         \u001b[1;32mif\u001b[0m \u001b[0mevent\u001b[0m \u001b[1;33m==\u001b[0m \u001b[1;34m'call'\u001b[0m\u001b[1;33m:\u001b[0m\u001b[1;33m\u001b[0m\u001b[1;33m\u001b[0m\u001b[0m\n\u001b[0;32m     90\u001b[0m             \u001b[1;32mreturn\u001b[0m \u001b[0mself\u001b[0m\u001b[1;33m.\u001b[0m\u001b[0mdispatch_call\u001b[0m\u001b[1;33m(\u001b[0m\u001b[0mframe\u001b[0m\u001b[1;33m,\u001b[0m \u001b[0marg\u001b[0m\u001b[1;33m)\u001b[0m\u001b[1;33m\u001b[0m\u001b[1;33m\u001b[0m\u001b[0m\n",
      "\u001b[1;32m~\\anaconda3\\lib\\bdb.py\u001b[0m in \u001b[0;36mdispatch_line\u001b[1;34m(self, frame)\u001b[0m\n\u001b[0;32m    111\u001b[0m         \u001b[1;32mif\u001b[0m \u001b[0mself\u001b[0m\u001b[1;33m.\u001b[0m\u001b[0mstop_here\u001b[0m\u001b[1;33m(\u001b[0m\u001b[0mframe\u001b[0m\u001b[1;33m)\u001b[0m \u001b[1;32mor\u001b[0m \u001b[0mself\u001b[0m\u001b[1;33m.\u001b[0m\u001b[0mbreak_here\u001b[0m\u001b[1;33m(\u001b[0m\u001b[0mframe\u001b[0m\u001b[1;33m)\u001b[0m\u001b[1;33m:\u001b[0m\u001b[1;33m\u001b[0m\u001b[1;33m\u001b[0m\u001b[0m\n\u001b[0;32m    112\u001b[0m             \u001b[0mself\u001b[0m\u001b[1;33m.\u001b[0m\u001b[0muser_line\u001b[0m\u001b[1;33m(\u001b[0m\u001b[0mframe\u001b[0m\u001b[1;33m)\u001b[0m\u001b[1;33m\u001b[0m\u001b[1;33m\u001b[0m\u001b[0m\n\u001b[1;32m--> 113\u001b[1;33m             \u001b[1;32mif\u001b[0m \u001b[0mself\u001b[0m\u001b[1;33m.\u001b[0m\u001b[0mquitting\u001b[0m\u001b[1;33m:\u001b[0m \u001b[1;32mraise\u001b[0m \u001b[0mBdbQuit\u001b[0m\u001b[1;33m\u001b[0m\u001b[1;33m\u001b[0m\u001b[0m\n\u001b[0m\u001b[0;32m    114\u001b[0m         \u001b[1;32mreturn\u001b[0m \u001b[0mself\u001b[0m\u001b[1;33m.\u001b[0m\u001b[0mtrace_dispatch\u001b[0m\u001b[1;33m\u001b[0m\u001b[1;33m\u001b[0m\u001b[0m\n\u001b[0;32m    115\u001b[0m \u001b[1;33m\u001b[0m\u001b[0m\n",
      "\u001b[1;31mBdbQuit\u001b[0m: "
     ]
    }
   ],
   "source": [
    "testdebug()"
   ]
  },
  {
   "cell_type": "code",
   "execution_count": null,
   "id": "8faaff6b",
   "metadata": {},
   "outputs": [],
   "source": [
    " "
   ]
  },
  {
   "cell_type": "code",
   "execution_count": null,
   "id": "e7fe336b",
   "metadata": {},
   "outputs": [],
   "source": []
  }
 ],
 "metadata": {
  "kernelspec": {
   "display_name": "Python 3 (ipykernel)",
   "language": "python",
   "name": "python3"
  },
  "language_info": {
   "codemirror_mode": {
    "name": "ipython",
    "version": 3
   },
   "file_extension": ".py",
   "mimetype": "text/x-python",
   "name": "python",
   "nbconvert_exporter": "python",
   "pygments_lexer": "ipython3",
   "version": "3.9.7"
  }
 },
 "nbformat": 4,
 "nbformat_minor": 5
}
