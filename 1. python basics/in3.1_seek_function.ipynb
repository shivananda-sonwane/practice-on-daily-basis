{
 "cells": [
  {
   "cell_type": "code",
   "execution_count": 69,
   "id": "09aa4879",
   "metadata": {},
   "outputs": [],
   "source": [
    "f = open(\"seek clearance.txt\", \"wb+\")"
   ]
  },
  {
   "cell_type": "code",
   "execution_count": 70,
   "id": "7da0b50a",
   "metadata": {},
   "outputs": [
    {
     "data": {
      "text/plain": [
       "93"
      ]
     },
     "execution_count": 70,
     "metadata": {},
     "output_type": "execute_result"
    }
   ],
   "source": [
    "f.write(b\"Yesterday was not so good. I kinda wasted my whole time yesterday and it is paining me today.\")"
   ]
  },
  {
   "cell_type": "code",
   "execution_count": 76,
   "id": "a3e99d11",
   "metadata": {},
   "outputs": [
    {
     "data": {
      "text/plain": [
       "0"
      ]
     },
     "execution_count": 76,
     "metadata": {},
     "output_type": "execute_result"
    }
   ],
   "source": [
    "f.seek(0)"
   ]
  },
  {
   "cell_type": "code",
   "execution_count": 60,
   "id": "d4ebf683",
   "metadata": {},
   "outputs": [
    {
     "data": {
      "text/plain": [
       "b'Yesterday was not so good. I kinda wasted my whole time yesterday and it is paining me today.'"
      ]
     },
     "execution_count": 60,
     "metadata": {},
     "output_type": "execute_result"
    }
   ],
   "source": [
    "f.read()"
   ]
  },
  {
   "cell_type": "code",
   "execution_count": 77,
   "id": "c7f9f0f2",
   "metadata": {},
   "outputs": [
    {
     "data": {
      "text/plain": [
       "92"
      ]
     },
     "execution_count": 77,
     "metadata": {},
     "output_type": "execute_result"
    }
   ],
   "source": [
    "f.seek(-1, 2)"
   ]
  },
  {
   "cell_type": "code",
   "execution_count": 78,
   "id": "14b90ff7",
   "metadata": {},
   "outputs": [
    {
     "data": {
      "text/plain": [
       "22"
      ]
     },
     "execution_count": 78,
     "metadata": {},
     "output_type": "execute_result"
    }
   ],
   "source": [
    "f.write(b\"Some additional part!!\")"
   ]
  },
  {
   "cell_type": "code",
   "execution_count": 79,
   "id": "84a0dd9e",
   "metadata": {},
   "outputs": [],
   "source": [
    "f.close()"
   ]
  },
  {
   "cell_type": "code",
   "execution_count": null,
   "id": "be6b03f1",
   "metadata": {},
   "outputs": [],
   "source": []
  }
 ],
 "metadata": {
  "kernelspec": {
   "display_name": "Python 3 (ipykernel)",
   "language": "python",
   "name": "python3"
  },
  "language_info": {
   "codemirror_mode": {
    "name": "ipython",
    "version": 3
   },
   "file_extension": ".py",
   "mimetype": "text/x-python",
   "name": "python",
   "nbconvert_exporter": "python",
   "pygments_lexer": "ipython3",
   "version": "3.9.7"
  }
 },
 "nbformat": 4,
 "nbformat_minor": 5
}
