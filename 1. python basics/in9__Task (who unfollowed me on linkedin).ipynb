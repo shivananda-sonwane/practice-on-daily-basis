{
 "cells": [
  {
   "cell_type": "markdown",
   "id": "c043ca36",
   "metadata": {},
   "source": [
    "## Task (to self, just for fun): To find out the persons who are the connections on LinkedIn but not followers."
   ]
  },
  {
   "cell_type": "code",
   "execution_count": 1,
   "id": "da1da869",
   "metadata": {},
   "outputs": [],
   "source": [
    "import os"
   ]
  },
  {
   "cell_type": "code",
   "execution_count": 2,
   "id": "86fc29d1",
   "metadata": {},
   "outputs": [],
   "source": [
    "os.chdir(\"C://Users//Suryansh Grover\")"
   ]
  },
  {
   "cell_type": "code",
   "execution_count": 3,
   "id": "c67d52ac",
   "metadata": {},
   "outputs": [
    {
     "data": {
      "text/plain": [
       "'C:\\\\Users\\\\Suryansh Grover'"
      ]
     },
     "execution_count": 3,
     "metadata": {},
     "output_type": "execute_result"
    }
   ],
   "source": [
    "pwd"
   ]
  },
  {
   "cell_type": "code",
   "execution_count": 4,
   "id": "2abb6ce6",
   "metadata": {},
   "outputs": [
    {
     "name": "stdout",
     "output_type": "stream",
     "text": [
      "LinkedIn Cons.txt\n",
      "LinkedIn followers.txt\n",
      "toefl writing task 1 (practice 2).txt\n",
      "toefl writing task 1.txt\n"
     ]
    }
   ],
   "source": [
    "for i in os.listdir():\n",
    "    if '.txt' in i:\n",
    "        print(i)"
   ]
  },
  {
   "cell_type": "code",
   "execution_count": 20,
   "id": "585ef7f2",
   "metadata": {},
   "outputs": [],
   "source": [
    "with open(\"LinkedIn Cons.txt\", \"rb\") as data:\n",
    "    cons = data.read() #Connections data\n",
    "cons = cons.split(b'\\n')"
   ]
  },
  {
   "cell_type": "code",
   "execution_count": 21,
   "id": "bc17aba1",
   "metadata": {},
   "outputs": [
    {
     "data": {
      "text/plain": [
       "209"
      ]
     },
     "execution_count": 21,
     "metadata": {},
     "output_type": "execute_result"
    }
   ],
   "source": [
    "connections = [] #filtering out connections.\n",
    "for i in cons:\n",
    "    if i.count(b\" \") == 1 or i.count(b\" \") == 2: #count == 2 i.e. people having middle names as well. \n",
    "        if i not in connections:\n",
    "            connections.append(i)\n",
    "len(connections)"
   ]
  },
  {
   "cell_type": "code",
   "execution_count": 22,
   "id": "27302b8d",
   "metadata": {},
   "outputs": [],
   "source": [
    "with open(\"LinkedIn followers.txt\", \"rb\") as data:\n",
    "    fols = data.read() #followers data\n",
    "fols = fols.split(b'\\n')"
   ]
  },
  {
   "cell_type": "code",
   "execution_count": 24,
   "id": "3a5f467f",
   "metadata": {},
   "outputs": [
    {
     "data": {
      "text/plain": [
       "317"
      ]
     },
     "execution_count": 24,
     "metadata": {},
     "output_type": "execute_result"
    }
   ],
   "source": [
    "followers = [] #filtering out followers.\n",
    "for i in fols:\n",
    "    if i.count(b\" \") == 1 or i.count(b\" \") == 2:\n",
    "        if i not in followers:\n",
    "            followers.append(i)\n",
    "len(followers)"
   ]
  },
  {
   "cell_type": "code",
   "execution_count": 25,
   "id": "e66c5be4",
   "metadata": {},
   "outputs": [
    {
     "data": {
      "text/plain": [
       "[b'Member\\xe2\\x80\\x99s name\\r',\n",
       " b'Member\\xe2\\x80\\x99s occupation\\r',\n",
       " b'Gbolahan (Joseph) Egunjobi\\r']"
      ]
     },
     "execution_count": 25,
     "metadata": {},
     "output_type": "execute_result"
    }
   ],
   "source": [
    "unf=[]\n",
    "for i in connections:\n",
    "    if i not in followers:\n",
    "        unf.append(i)\n",
    "unf #from this we can easily identify Person's name."
   ]
  }
 ],
 "metadata": {
  "kernelspec": {
   "display_name": "Python 3 (ipykernel)",
   "language": "python",
   "name": "python3"
  },
  "language_info": {
   "codemirror_mode": {
    "name": "ipython",
    "version": 3
   },
   "file_extension": ".py",
   "mimetype": "text/x-python",
   "name": "python",
   "nbconvert_exporter": "python",
   "pygments_lexer": "ipython3",
   "version": "3.9.7"
  }
 },
 "nbformat": 4,
 "nbformat_minor": 5
}
