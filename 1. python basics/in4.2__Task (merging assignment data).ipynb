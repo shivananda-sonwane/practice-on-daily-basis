{
 "cells": [
  {
   "cell_type": "code",
   "execution_count": 1,
   "id": "8df6a9e8",
   "metadata": {},
   "outputs": [
    {
     "data": {
      "text/plain": [
       "'C:\\\\Users\\\\Suryansh Grover\\\\iNeuron\\\\1. python basics'"
      ]
     },
     "execution_count": 1,
     "metadata": {},
     "output_type": "execute_result"
    }
   ],
   "source": [
    "pwd()"
   ]
  },
  {
   "cell_type": "code",
   "execution_count": 1,
   "id": "15e811ce",
   "metadata": {},
   "outputs": [],
   "source": [
    "import os, pdb\n",
    "os.chdir(\"C:\\\\Users\\\\Suryansh Grover\\\\downloads\\\\Assignments (iNeuron)\")"
   ]
  },
  {
   "cell_type": "code",
   "execution_count": 2,
   "id": "64130fc0",
   "metadata": {},
   "outputs": [
    {
     "data": {
      "text/plain": [
       "['Assignment_1 (2).docx',\n",
       " 'Assignment_1.docx',\n",
       " 'Assignment_10 (2).docx',\n",
       " 'Assignment_10.docx',\n",
       " 'Assignment_11 (2).docx',\n",
       " 'Assignment_11.docx',\n",
       " 'Assignment_12 (2).docx',\n",
       " 'Assignment_12.docx',\n",
       " 'Assignment_13 (2).docx',\n",
       " 'Assignment_13.docx',\n",
       " 'Assignment_14 (2).docx',\n",
       " 'Assignment_14.docx',\n",
       " 'Assignment_15 (2).docx',\n",
       " 'Assignment_15.docx',\n",
       " 'Assignment_16 (2).docx',\n",
       " 'Assignment_16.docx',\n",
       " 'Assignment_17 (2).docx',\n",
       " 'Assignment_17.docx',\n",
       " 'Assignment_18 (2).docx',\n",
       " 'Assignment_18.docx',\n",
       " 'Assignment_19 (2).docx',\n",
       " 'Assignment_19.docx',\n",
       " 'Assignment_2 (2).docx',\n",
       " 'Assignment_2.docx',\n",
       " 'Assignment_20 (2).docx',\n",
       " 'Assignment_20.docx',\n",
       " 'Assignment_21 (2).docx',\n",
       " 'Assignment_21.docx',\n",
       " 'Assignment_22 (2).docx',\n",
       " 'Assignment_22.docx',\n",
       " 'Assignment_23 (2).docx',\n",
       " 'Assignment_23.docx',\n",
       " 'Assignment_24 (2).docx',\n",
       " 'Assignment_24.docx',\n",
       " 'Assignment_25 (2).docx',\n",
       " 'Assignment_25.docx',\n",
       " 'Assignment_3 (2).docx',\n",
       " 'Assignment_3.docx',\n",
       " 'Assignment_4 (2).docx',\n",
       " 'Assignment_4.docx',\n",
       " 'Assignment_5 (2).docx',\n",
       " 'Assignment_5.docx',\n",
       " 'Assignment_6 (2).docx',\n",
       " 'Assignment_6.docx',\n",
       " 'Assignment_7 (2).docx',\n",
       " 'Assignment_7.docx',\n",
       " 'Assignment_8 (2).docx',\n",
       " 'Assignment_8.docx',\n",
       " 'Assignment_9 (2).docx',\n",
       " 'Assignment_9.docx',\n",
       " 'Merged',\n",
       " 'Programming_Assingment1.docx',\n",
       " 'Programming_Assingment10.docx',\n",
       " 'Programming_Assingment11.docx',\n",
       " 'Programming_Assingment12.docx',\n",
       " 'Programming_Assingment13.docx',\n",
       " 'Programming_Assingment14.docx',\n",
       " 'Programming_Assingment15.docx',\n",
       " 'Programming_Assingment16.docx',\n",
       " 'Programming_Assingment17.docx',\n",
       " 'Programming_Assingment18.docx',\n",
       " 'Programming_Assingment19.docx',\n",
       " 'Programming_Assingment2.docx',\n",
       " 'Programming_Assingment20.docx',\n",
       " 'Programming_Assingment21.docx',\n",
       " 'Programming_Assingment22.docx',\n",
       " 'Programming_Assingment23.docx',\n",
       " 'Programming_Assingment24.docx',\n",
       " 'Programming_Assingment25.docx',\n",
       " 'Programming_Assingment3.docx',\n",
       " 'Programming_Assingment4.docx',\n",
       " 'Programming_Assingment5.docx',\n",
       " 'Programming_Assingment6.docx',\n",
       " 'Programming_Assingment7.docx',\n",
       " 'Programming_Assingment8.docx',\n",
       " 'Programming_Assingment9.docx']"
      ]
     },
     "execution_count": 2,
     "metadata": {},
     "output_type": "execute_result"
    }
   ],
   "source": [
    "os.listdir()"
   ]
  },
  {
   "cell_type": "code",
   "execution_count": 3,
   "id": "7fe1fc90",
   "metadata": {},
   "outputs": [],
   "source": [
    "def rename(file_name, ext = '.docx'):\n",
    "    \"\"\"\n",
    "    Renaming the files so that they don't have any '(' and ')' in them.\n",
    "    \"\"\"\n",
    "    cut_len = 0\n",
    "\n",
    "    for i in range(len(file_name)):\n",
    "        if file_name[i].isnumeric():\n",
    "            cut_len = i\n",
    "            for j in range(i, len(file_name)):\n",
    "                if not file_name[j].isnumeric():\n",
    "                    cut_len1 = j\n",
    "                    break\n",
    "            break\n",
    "    \n",
    "    #print(cut_len, cut_len1)\n",
    "    \n",
    "    file_name_new = file_name[:cut_len1] + '_' + file_name[cut_len:cut_len1] + ext\n",
    "    os.rename(file_name, file_name_new)\n",
    "    \n",
    "    return file_name_new \n",
    "    "
   ]
  },
  {
   "cell_type": "code",
   "execution_count": 4,
   "id": "b1725b05",
   "metadata": {},
   "outputs": [],
   "source": [
    "def dir_name(file_name, ext = \".docx\"):\n",
    "    \"\"\"\n",
    "    Choosing the directory name for the same types of documents.\n",
    "    Like 'Programming Assignments' for programming assignments and 'Assignments' for assignments.\n",
    "    \"\"\"\n",
    "    \n",
    "    cut_len = len(file_name) - len(ext)\n",
    "    \n",
    "    for i in range(len(file_name)):\n",
    "        if file_name[i].isnumeric():\n",
    "            cut_len = i\n",
    "            break\n",
    "            \n",
    "    dir = file_name[:cut_len].replace('_', '')\n",
    "    \n",
    "    return dir"
   ]
  },
  {
   "cell_type": "code",
   "execution_count": 5,
   "id": "66261302",
   "metadata": {},
   "outputs": [
    {
     "data": {
      "text/plain": [
       "'C:\\\\Users\\\\Suryansh Grover\\\\downloads\\\\Assignments (iNeuron)'"
      ]
     },
     "execution_count": 5,
     "metadata": {},
     "output_type": "execute_result"
    }
   ],
   "source": [
    "os.getcwd()"
   ]
  },
  {
   "cell_type": "code",
   "execution_count": 6,
   "id": "d04947e1",
   "metadata": {},
   "outputs": [],
   "source": [
    "import os, shutil, docx\n",
    "merged_doc = docx.Document()"
   ]
  },
  {
   "cell_type": "code",
   "execution_count": 7,
   "id": "7ff92237",
   "metadata": {},
   "outputs": [],
   "source": [
    "#Renaming all the files \n",
    "for i in os.listdir():\n",
    "    if '.docx' in i:\n",
    "        \n",
    "        if '(' and ')' in i:\n",
    "            rename(i)   "
   ]
  },
  {
   "cell_type": "code",
   "execution_count": 8,
   "id": "434a542a",
   "metadata": {},
   "outputs": [],
   "source": [
    "for i in os.listdir():\n",
    "        \n",
    "    #Opening the each .docx file in the directory.\n",
    "    #And writing the content of them into the desired Merged Doc. \n",
    "    if '.docx' in i:\n",
    "        \n",
    "        doc = docx.Document(i)\n",
    "        merged_doc.add_heading(i) #Heading i.e the name of the .docx file.\n",
    "        merged_doc.add_paragraph('\\n')\n",
    "        \n",
    "        for para in range(len(doc.paragraphs)):\n",
    "            merged_doc.add_paragraph(doc.paragraphs[para].text)\n",
    "            \n",
    "        merged_doc.add_page_break()\n",
    "        \n",
    "        folder = os.getcwd() + '\\\\' + dir_name(i)\n",
    "        #print(i, ';', folder)\n",
    "        if os.path.isdir(folder):\n",
    "            #print(\"Directory Available!\", '\\n')\n",
    "            shutil.move(i, folder)\n",
    "        else:\n",
    "            #print(\"Not Available!\", '\\n')\n",
    "            os.mkdir(folder)\n",
    "            shutil.move(i, folder)\n",
    "            \n",
    "merged_doc.save(\"MergedContent (Assignment).docx\")"
   ]
  }
 ],
 "metadata": {
  "kernelspec": {
   "display_name": "Python 3 (ipykernel)",
   "language": "python",
   "name": "python3"
  },
  "language_info": {
   "codemirror_mode": {
    "name": "ipython",
    "version": 3
   },
   "file_extension": ".py",
   "mimetype": "text/x-python",
   "name": "python",
   "nbconvert_exporter": "python",
   "pygments_lexer": "ipython3",
   "version": "3.9.7"
  }
 },
 "nbformat": 4,
 "nbformat_minor": 5
}
