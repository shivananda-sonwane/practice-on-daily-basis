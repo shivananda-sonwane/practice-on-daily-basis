{
 "cells": [
  {
   "cell_type": "code",
   "execution_count": 1,
   "id": "19a89c97",
   "metadata": {},
   "outputs": [],
   "source": [
    "import math"
   ]
  },
  {
   "cell_type": "code",
   "execution_count": 2,
   "id": "3e661ecf",
   "metadata": {},
   "outputs": [
    {
     "data": {
      "text/plain": [
       "5"
      ]
     },
     "execution_count": 2,
     "metadata": {},
     "output_type": "execute_result"
    }
   ],
   "source": [
    "math.trunc(5.76786)"
   ]
  },
  {
   "cell_type": "code",
   "execution_count": 8,
   "id": "49a30123",
   "metadata": {},
   "outputs": [
    {
     "data": {
      "text/plain": [
       "'\\nJust a way to use all maethods and fucntions inside the Math module without \\nhaving to type math.function_name() again and again.\\n'"
      ]
     },
     "execution_count": 8,
     "metadata": {},
     "output_type": "execute_result"
    }
   ],
   "source": [
    "from math import sqrt\n",
    "\"\"\"\n",
    "Just a way to use all maethods and fucntions inside the Math module without \n",
    "having to type math.function_name() again and again.\n",
    "\"\"\""
   ]
  },
  {
   "cell_type": "code",
   "execution_count": 6,
   "id": "44f36532",
   "metadata": {},
   "outputs": [
    {
     "data": {
      "text/plain": [
       "23.323807579381203"
      ]
     },
     "execution_count": 6,
     "metadata": {},
     "output_type": "execute_result"
    }
   ],
   "source": [
    "sqrt(544)"
   ]
  },
  {
   "cell_type": "code",
   "execution_count": 9,
   "id": "843bf001",
   "metadata": {},
   "outputs": [],
   "source": [
    "from math import * #importing every single method and function from the math module in one fell swoop."
   ]
  },
  {
   "cell_type": "code",
   "execution_count": 10,
   "id": "a7f928c5",
   "metadata": {},
   "outputs": [
    {
     "data": {
      "text/plain": [
       "'C:\\\\Users\\\\Suryansh Grover\\\\iNeuron\\\\1. python basics'"
      ]
     },
     "execution_count": 10,
     "metadata": {},
     "output_type": "execute_result"
    }
   ],
   "source": [
    "pwd"
   ]
  },
  {
   "cell_type": "code",
   "execution_count": 11,
   "id": "5aaa22db",
   "metadata": {},
   "outputs": [
    {
     "name": "stdout",
     "output_type": "stream",
     "text": [
      "This is my first ever module.\n"
     ]
    }
   ],
   "source": [
    "import test"
   ]
  },
  {
   "cell_type": "code",
   "execution_count": 12,
   "id": "c132cdaa",
   "metadata": {},
   "outputs": [],
   "source": [
    "import test"
   ]
  },
  {
   "cell_type": "code",
   "execution_count": 13,
   "id": "88a646f2",
   "metadata": {},
   "outputs": [
    {
     "name": "stdout",
     "output_type": "stream",
     "text": [
      "This is my first ever module.\n"
     ]
    },
    {
     "data": {
      "text/plain": [
       "<module 'test' from 'C:\\\\Users\\\\Suryansh Grover\\\\iNeuron\\\\1. python basics\\\\test.py'>"
      ]
     },
     "execution_count": 13,
     "metadata": {},
     "output_type": "execute_result"
    }
   ],
   "source": [
    "import imp\n",
    "imp.reload(test)"
   ]
  },
  {
   "cell_type": "code",
   "execution_count": 14,
   "id": "634cfdd9",
   "metadata": {},
   "outputs": [],
   "source": [
    "import test"
   ]
  },
  {
   "cell_type": "code",
   "execution_count": 18,
   "id": "6b294386",
   "metadata": {},
   "outputs": [],
   "source": [
    "import extract"
   ]
  },
  {
   "cell_type": "code",
   "execution_count": 19,
   "id": "b7a53faa",
   "metadata": {},
   "outputs": [
    {
     "name": "stdout",
     "output_type": "stream",
     "text": [
      "This is the module that conatins two methods, one for renaming the files and secondly for extract the common name from the bunch of files.\n"
     ]
    },
    {
     "data": {
      "text/plain": [
       "<module 'extract' from 'C:\\\\Users\\\\Suryansh Grover\\\\iNeuron\\\\1. python basics\\\\extract.py'>"
      ]
     },
     "execution_count": 19,
     "metadata": {},
     "output_type": "execute_result"
    }
   ],
   "source": [
    "imp.reload(extract)"
   ]
  },
  {
   "cell_type": "code",
   "execution_count": 16,
   "id": "03a93b9c",
   "metadata": {},
   "outputs": [
    {
     "data": {
      "text/plain": [
       "'Assignment'"
      ]
     },
     "execution_count": 16,
     "metadata": {},
     "output_type": "execute_result"
    }
   ],
   "source": [
    "extract.dir_name(\"Assignment_12_Suryansh.docx\")"
   ]
  },
  {
   "cell_type": "code",
   "execution_count": 17,
   "id": "23405976",
   "metadata": {},
   "outputs": [],
   "source": [
    "import extract"
   ]
  },
  {
   "cell_type": "code",
   "execution_count": 20,
   "id": "56b6958f",
   "metadata": {},
   "outputs": [
    {
     "ename": "ModuleNotFoundError",
     "evalue": "No module named 'mod1'",
     "output_type": "error",
     "traceback": [
      "\u001b[1;31m---------------------------------------------------------------------------\u001b[0m",
      "\u001b[1;31mModuleNotFoundError\u001b[0m                       Traceback (most recent call last)",
      "\u001b[1;32mC:\\Users\\SURYAN~1\\AppData\\Local\\Temp/ipykernel_21168/2315466016.py\u001b[0m in \u001b[0;36m<module>\u001b[1;34m\u001b[0m\n\u001b[1;32m----> 1\u001b[1;33m \u001b[1;32mimport\u001b[0m \u001b[0mmod1\u001b[0m\u001b[1;33m,\u001b[0m \u001b[0mmod2\u001b[0m\u001b[1;33m,\u001b[0m \u001b[0mmod3\u001b[0m\u001b[1;33m\u001b[0m\u001b[1;33m\u001b[0m\u001b[0m\n\u001b[0m",
      "\u001b[1;31mModuleNotFoundError\u001b[0m: No module named 'mod1'"
     ]
    }
   ],
   "source": [
    "import mod1, mod2, mod3"
   ]
  },
  {
   "cell_type": "code",
   "execution_count": 23,
   "id": "1dd1850b",
   "metadata": {},
   "outputs": [
    {
     "name": "stdout",
     "output_type": "stream",
     "text": [
      "This is the module that conatins two methods, one for renaming the files and secondly for extract the common name from the bunch of files.\n"
     ]
    }
   ],
   "source": [
    "from test1.mod1 import *"
   ]
  },
  {
   "cell_type": "code",
   "execution_count": 24,
   "id": "ce13a20f",
   "metadata": {},
   "outputs": [
    {
     "data": {
      "text/plain": [
       "'Assigmnentfuckwed up'"
      ]
     },
     "execution_count": 24,
     "metadata": {},
     "output_type": "execute_result"
    }
   ],
   "source": [
    "f2(\"Assigmnent_fuckwed _up235425.docx\")"
   ]
  },
  {
   "cell_type": "code",
   "execution_count": 26,
   "id": "640d3b8d",
   "metadata": {},
   "outputs": [],
   "source": [
    "from test1.mod2 import * "
   ]
  },
  {
   "cell_type": "code",
   "execution_count": 2,
   "id": "aad8402c",
   "metadata": {},
   "outputs": [],
   "source": [
    "from test1.mod3 import *"
   ]
  },
  {
   "cell_type": "markdown",
   "id": "350e2c97",
   "metadata": {},
   "source": [
    "# EXCEPTION HANDLING:"
   ]
  },
  {
   "cell_type": "code",
   "execution_count": 29,
   "id": "31a40cd3",
   "metadata": {},
   "outputs": [],
   "source": [
    "def div(a, b):\n",
    "    return a/b    "
   ]
  },
  {
   "cell_type": "code",
   "execution_count": 30,
   "id": "938eff1c",
   "metadata": {},
   "outputs": [
    {
     "ename": "ZeroDivisionError",
     "evalue": "division by zero",
     "output_type": "error",
     "traceback": [
      "\u001b[1;31m---------------------------------------------------------------------------\u001b[0m",
      "\u001b[1;31mZeroDivisionError\u001b[0m                         Traceback (most recent call last)",
      "\u001b[1;32mC:\\Users\\SURYAN~1\\AppData\\Local\\Temp/ipykernel_21168/1853166614.py\u001b[0m in \u001b[0;36m<module>\u001b[1;34m\u001b[0m\n\u001b[1;32m----> 1\u001b[1;33m \u001b[0mdiv\u001b[0m\u001b[1;33m(\u001b[0m\u001b[1;36m5\u001b[0m\u001b[1;33m,\u001b[0m \u001b[1;36m0\u001b[0m\u001b[1;33m)\u001b[0m\u001b[1;33m\u001b[0m\u001b[1;33m\u001b[0m\u001b[0m\n\u001b[0m",
      "\u001b[1;32mC:\\Users\\SURYAN~1\\AppData\\Local\\Temp/ipykernel_21168/1850462202.py\u001b[0m in \u001b[0;36mdiv\u001b[1;34m(a, b)\u001b[0m\n\u001b[0;32m      1\u001b[0m \u001b[1;32mdef\u001b[0m \u001b[0mdiv\u001b[0m\u001b[1;33m(\u001b[0m\u001b[0ma\u001b[0m\u001b[1;33m,\u001b[0m \u001b[0mb\u001b[0m\u001b[1;33m)\u001b[0m\u001b[1;33m:\u001b[0m\u001b[1;33m\u001b[0m\u001b[1;33m\u001b[0m\u001b[0m\n\u001b[1;32m----> 2\u001b[1;33m     \u001b[1;32mreturn\u001b[0m \u001b[0ma\u001b[0m\u001b[1;33m/\u001b[0m\u001b[0mb\u001b[0m\u001b[1;33m\u001b[0m\u001b[1;33m\u001b[0m\u001b[0m\n\u001b[0m",
      "\u001b[1;31mZeroDivisionError\u001b[0m: division by zero"
     ]
    }
   ],
   "source": [
    "div(5, 0)"
   ]
  },
  {
   "cell_type": "code",
   "execution_count": 31,
   "id": "e9dd3d3b",
   "metadata": {},
   "outputs": [
    {
     "ename": "ZeroDivisionError",
     "evalue": "division by zero",
     "output_type": "error",
     "traceback": [
      "\u001b[1;31m---------------------------------------------------------------------------\u001b[0m",
      "\u001b[1;31mZeroDivisionError\u001b[0m                         Traceback (most recent call last)",
      "\u001b[1;32mC:\\Users\\SURYAN~1\\AppData\\Local\\Temp/ipykernel_21168/2874912419.py\u001b[0m in \u001b[0;36m<module>\u001b[1;34m\u001b[0m\n\u001b[1;32m----> 1\u001b[1;33m \u001b[1;36m5\u001b[0m\u001b[1;33m/\u001b[0m\u001b[1;36m0\u001b[0m\u001b[1;33m\u001b[0m\u001b[1;33m\u001b[0m\u001b[0m\n\u001b[0m",
      "\u001b[1;31mZeroDivisionError\u001b[0m: division by zero"
     ]
    }
   ],
   "source": [
    "5/0"
   ]
  },
  {
   "cell_type": "code",
   "execution_count": 36,
   "id": "f1e159a9",
   "metadata": {},
   "outputs": [
    {
     "name": "stdout",
     "output_type": "stream",
     "text": [
      "Some Error! division by zero\n"
     ]
    }
   ],
   "source": [
    "try:\n",
    "    div(6/0)\n",
    "except ArithmeticError as e:\n",
    "    print(\"Some Error!\", e)"
   ]
  },
  {
   "cell_type": "code",
   "execution_count": 39,
   "id": "1136a29f",
   "metadata": {},
   "outputs": [
    {
     "ename": "ZeroDivisionError",
     "evalue": "division by zero",
     "output_type": "error",
     "traceback": [
      "\u001b[1;31m---------------------------------------------------------------------------\u001b[0m",
      "\u001b[1;31mZeroDivisionError\u001b[0m                         Traceback (most recent call last)",
      "\u001b[1;32mC:\\Users\\SURYAN~1\\AppData\\Local\\Temp/ipykernel_21168/640172464.py\u001b[0m in \u001b[0;36m<module>\u001b[1;34m\u001b[0m\n\u001b[0;32m      1\u001b[0m \u001b[1;32mtry\u001b[0m\u001b[1;33m:\u001b[0m\u001b[1;33m\u001b[0m\u001b[1;33m\u001b[0m\u001b[0m\n\u001b[1;32m----> 2\u001b[1;33m     \u001b[0mdiv\u001b[0m\u001b[1;33m(\u001b[0m\u001b[1;36m6\u001b[0m\u001b[1;33m/\u001b[0m\u001b[1;36m0\u001b[0m\u001b[1;33m)\u001b[0m\u001b[1;33m\u001b[0m\u001b[1;33m\u001b[0m\u001b[0m\n\u001b[0m\u001b[0;32m      3\u001b[0m \u001b[1;32mexcept\u001b[0m \u001b[0mSyntaxError\u001b[0m \u001b[1;32mas\u001b[0m \u001b[0me\u001b[0m\u001b[1;33m:\u001b[0m\u001b[1;33m\u001b[0m\u001b[1;33m\u001b[0m\u001b[0m\n\u001b[0;32m      4\u001b[0m     \u001b[0mprint\u001b[0m\u001b[1;33m(\u001b[0m\u001b[1;34m\"Some Error!\"\u001b[0m\u001b[1;33m,\u001b[0m \u001b[0me\u001b[0m\u001b[1;33m)\u001b[0m\u001b[1;33m\u001b[0m\u001b[1;33m\u001b[0m\u001b[0m\n",
      "\u001b[1;31mZeroDivisionError\u001b[0m: division by zero"
     ]
    }
   ],
   "source": [
    "try:\n",
    "    div(6/0)\n",
    "except SyntaxError as e:\n",
    "    print(\"Some Error!\", e)"
   ]
  },
  {
   "cell_type": "code",
   "execution_count": 40,
   "id": "ef3341d5",
   "metadata": {},
   "outputs": [
    {
     "ename": "SyntaxError",
     "evalue": "invalid syntax (Temp/ipykernel_21168/3264022663.py, line 1)",
     "output_type": "error",
     "traceback": [
      "\u001b[1;36m  File \u001b[1;32m\"C:\\Users\\SURYAN~1\\AppData\\Local\\Temp/ipykernel_21168/3264022663.py\"\u001b[1;36m, line \u001b[1;32m1\u001b[0m\n\u001b[1;33m    print(glm;lgm)\u001b[0m\n\u001b[1;37m             ^\u001b[0m\n\u001b[1;31mSyntaxError\u001b[0m\u001b[1;31m:\u001b[0m invalid syntax\n"
     ]
    }
   ],
   "source": [
    "print(glm;lgm)"
   ]
  },
  {
   "cell_type": "code",
   "execution_count": 44,
   "id": "3419f837",
   "metadata": {
    "scrolled": true
   },
   "outputs": [
    {
     "name": "stdout",
     "output_type": "stream",
     "text": [
      "Some Error! name 'glmlgm' is not defined\n"
     ]
    }
   ],
   "source": [
    "try:\n",
    "    print(glmlgm)\n",
    "except NameError as e:\n",
    "    print(\"Some Error!\", e)"
   ]
  },
  {
   "cell_type": "code",
   "execution_count": 45,
   "id": "09d5eca7",
   "metadata": {},
   "outputs": [
    {
     "ename": "FileNotFoundError",
     "evalue": "[Errno 2] No such file or directory: 'lets try.txt'",
     "output_type": "error",
     "traceback": [
      "\u001b[1;31m---------------------------------------------------------------------------\u001b[0m",
      "\u001b[1;31mFileNotFoundError\u001b[0m                         Traceback (most recent call last)",
      "\u001b[1;32mC:\\Users\\SURYAN~1\\AppData\\Local\\Temp/ipykernel_21168/2186635604.py\u001b[0m in \u001b[0;36m<module>\u001b[1;34m\u001b[0m\n\u001b[1;32m----> 1\u001b[1;33m \u001b[0mf\u001b[0m \u001b[1;33m=\u001b[0m \u001b[0mopen\u001b[0m\u001b[1;33m(\u001b[0m\u001b[1;34m\"lets try.txt\"\u001b[0m\u001b[1;33m,\u001b[0m \u001b[1;34m\"r\"\u001b[0m\u001b[1;33m)\u001b[0m\u001b[1;33m\u001b[0m\u001b[1;33m\u001b[0m\u001b[0m\n\u001b[0m",
      "\u001b[1;31mFileNotFoundError\u001b[0m: [Errno 2] No such file or directory: 'lets try.txt'"
     ]
    }
   ],
   "source": [
    "f = open(\"lets try.txt\", \"r\")"
   ]
  },
  {
   "cell_type": "code",
   "execution_count": 2,
   "id": "792595d1",
   "metadata": {},
   "outputs": [
    {
     "name": "stdout",
     "output_type": "stream",
     "text": [
      "Non existing files can't be open in the read mode. [Errno 2] No such file or directory: 'lets try again.txt'\n",
      "I was empty before this statement came into picture.\n",
      "And here I am not giving fuck about whatever the fuck's happening with the try block!!!\n"
     ]
    }
   ],
   "source": [
    "try:\n",
    "    f = open(\"lets try again.txt\", \"r\")\n",
    "    f.seek(0)\n",
    "    print(f.read())\n",
    "    f.close()\n",
    "except FileNotFoundError as e:\n",
    "    \n",
    "    '''\n",
    "    In Layman terms, I am try block's FAILURE!\n",
    "    '''\n",
    "    \n",
    "    print(\"Non existing files can't be open in the read mode.\", e)\n",
    "    f = open(\"lets try.txt\", \"w+\")\n",
    "    f.write(\"I was empty before this statement came into picture.\")\n",
    "    f.seek(0)\n",
    "    print(f.read())\n",
    "    f.close()\n",
    "else:\n",
    "    \n",
    "    '''\n",
    "    In Layman terms, I am try block's SUCCESS! \n",
    "    '''\n",
    "    \n",
    "    print(\"This block will only execute once the try block gets executed with success.\")\n",
    "    \n",
    "finally:\n",
    "    \n",
    "    print(\"And here I am not giving fuck about whatever the fuck's happening with the try block!!!\")\n",
    "    "
   ]
  },
  {
   "cell_type": "code",
   "execution_count": 4,
   "id": "52c0ef91",
   "metadata": {},
   "outputs": [],
   "source": [
    "def askforint():\n",
    "    while True:\n",
    "        try:\n",
    "            i = int(input(\"Enter an integer: \"))\n",
    "        except Exception as e:\n",
    "            print(\"Only integers are expected!\")\n",
    "            print(e)\n",
    "        else:\n",
    "            return i\n",
    "        finally:\n",
    "            print(\"You got it, eh boy?\")\n",
    "        "
   ]
  },
  {
   "cell_type": "code",
   "execution_count": 5,
   "id": "c2ad6a1f",
   "metadata": {},
   "outputs": [
    {
     "name": "stdout",
     "output_type": "stream",
     "text": [
      "Enter an integer: fsf\n",
      "Only integers are expected!\n",
      "invalid literal for int() with base 10: 'fsf'\n",
      "You got it, eh boy?\n",
      "Enter an integer: fsgdf\n",
      "Only integers are expected!\n",
      "invalid literal for int() with base 10: 'fsgdf'\n",
      "You got it, eh boy?\n",
      "Enter an integer: fsjkfnksjfn\n",
      "Only integers are expected!\n",
      "invalid literal for int() with base 10: 'fsjkfnksjfn'\n",
      "You got it, eh boy?\n",
      "Enter an integer: surynash\n",
      "Only integers are expected!\n",
      "invalid literal for int() with base 10: 'surynash'\n",
      "You got it, eh boy?\n",
      "Enter an integer: mvishfoi\n",
      "Only integers are expected!\n",
      "invalid literal for int() with base 10: 'mvishfoi'\n",
      "You got it, eh boy?\n",
      "Enter an integer: vkxnvkos\n",
      "Only integers are expected!\n",
      "invalid literal for int() with base 10: 'vkxnvkos'\n",
      "You got it, eh boy?\n",
      "Enter an integer: sfsbd\n",
      "Only integers are expected!\n",
      "invalid literal for int() with base 10: 'sfsbd'\n",
      "You got it, eh boy?\n",
      "Enter an integer: sfsgdn,pdo\n",
      "Only integers are expected!\n",
      "invalid literal for int() with base 10: 'sfsgdn,pdo'\n",
      "You got it, eh boy?\n",
      "Enter an integer: sf/kfosjfo\n",
      "Only integers are expected!\n",
      "invalid literal for int() with base 10: 'sf/kfosjfo'\n",
      "You got it, eh boy?\n",
      "Enter an integer: ;vsklgnopsnfg\n",
      "Only integers are expected!\n",
      "invalid literal for int() with base 10: ';vsklgnopsnfg'\n",
      "You got it, eh boy?\n",
      "Enter an integer: vklsniosher9gjn,n\n",
      "Only integers are expected!\n",
      "invalid literal for int() with base 10: 'vklsniosher9gjn,n'\n",
      "You got it, eh boy?\n",
      "Enter an integer:  vsklhf98whkgb;jk\n",
      "Only integers are expected!\n",
      "invalid literal for int() with base 10: ' vsklhf98whkgb;jk'\n",
      "You got it, eh boy?\n",
      "Enter an integer: msknf9iwhgnl\n",
      "Only integers are expected!\n",
      "invalid literal for int() with base 10: 'msknf9iwhgnl'\n",
      "You got it, eh boy?\n",
      "Enter an integer: 45\n",
      "You got it, eh boy?\n"
     ]
    },
    {
     "data": {
      "text/plain": [
       "45"
      ]
     },
     "execution_count": 5,
     "metadata": {},
     "output_type": "execute_result"
    }
   ],
   "source": [
    "askforint()"
   ]
  },
  {
   "cell_type": "markdown",
   "id": "b5ece01f",
   "metadata": {},
   "source": [
    "## Note: No matter where the loop breaks or function returns value, the execution of the finally block is inevitable."
   ]
  },
  {
   "cell_type": "markdown",
   "id": "21ce6617",
   "metadata": {},
   "source": [
    "#### LBYL: Look Before You Leap\n",
    "#### EAFP: Easier to Ask For Forgiveness than Permission"
   ]
  },
  {
   "cell_type": "markdown",
   "id": "8080d84f",
   "metadata": {},
   "source": [
    "# Raising My Own Exceptions: "
   ]
  },
  {
   "cell_type": "code",
   "execution_count": 11,
   "id": "0b344296",
   "metadata": {},
   "outputs": [],
   "source": [
    "def raise_my_excep(a):\n",
    "    if a in [20, 12, 43, 50, 60, 70, 80, 90, 100]:\n",
    "        raise Exception(\"Error: \", a)\n",
    "    return a"
   ]
  },
  {
   "cell_type": "code",
   "execution_count": 12,
   "id": "27956daf",
   "metadata": {},
   "outputs": [
    {
     "ename": "Exception",
     "evalue": "('Error: ', 43)",
     "output_type": "error",
     "traceback": [
      "\u001b[1;31m---------------------------------------------------------------------------\u001b[0m",
      "\u001b[1;31mException\u001b[0m                                 Traceback (most recent call last)",
      "\u001b[1;32mC:\\Users\\SURYAN~1\\AppData\\Local\\Temp/ipykernel_36664/3270686445.py\u001b[0m in \u001b[0;36m<module>\u001b[1;34m\u001b[0m\n\u001b[1;32m----> 1\u001b[1;33m \u001b[0mraise_my_excep\u001b[0m\u001b[1;33m(\u001b[0m\u001b[1;36m43\u001b[0m\u001b[1;33m)\u001b[0m\u001b[1;33m\u001b[0m\u001b[1;33m\u001b[0m\u001b[0m\n\u001b[0m",
      "\u001b[1;32mC:\\Users\\SURYAN~1\\AppData\\Local\\Temp/ipykernel_36664/2878080431.py\u001b[0m in \u001b[0;36mraise_my_excep\u001b[1;34m(a)\u001b[0m\n\u001b[0;32m      1\u001b[0m \u001b[1;32mdef\u001b[0m \u001b[0mraise_my_excep\u001b[0m\u001b[1;33m(\u001b[0m\u001b[0ma\u001b[0m\u001b[1;33m)\u001b[0m\u001b[1;33m:\u001b[0m\u001b[1;33m\u001b[0m\u001b[1;33m\u001b[0m\u001b[0m\n\u001b[0;32m      2\u001b[0m     \u001b[1;32mif\u001b[0m \u001b[0ma\u001b[0m \u001b[1;32min\u001b[0m \u001b[1;33m[\u001b[0m\u001b[1;36m20\u001b[0m\u001b[1;33m,\u001b[0m \u001b[1;36m12\u001b[0m\u001b[1;33m,\u001b[0m \u001b[1;36m43\u001b[0m\u001b[1;33m,\u001b[0m \u001b[1;36m50\u001b[0m\u001b[1;33m,\u001b[0m \u001b[1;36m60\u001b[0m\u001b[1;33m,\u001b[0m \u001b[1;36m70\u001b[0m\u001b[1;33m,\u001b[0m \u001b[1;36m80\u001b[0m\u001b[1;33m,\u001b[0m \u001b[1;36m90\u001b[0m\u001b[1;33m,\u001b[0m \u001b[1;36m100\u001b[0m\u001b[1;33m]\u001b[0m\u001b[1;33m:\u001b[0m\u001b[1;33m\u001b[0m\u001b[1;33m\u001b[0m\u001b[0m\n\u001b[1;32m----> 3\u001b[1;33m         \u001b[1;32mraise\u001b[0m \u001b[0mException\u001b[0m\u001b[1;33m(\u001b[0m\u001b[1;34m\"Error: \"\u001b[0m\u001b[1;33m,\u001b[0m \u001b[0ma\u001b[0m\u001b[1;33m)\u001b[0m\u001b[1;33m\u001b[0m\u001b[1;33m\u001b[0m\u001b[0m\n\u001b[0m\u001b[0;32m      4\u001b[0m     \u001b[1;32mreturn\u001b[0m \u001b[0ma\u001b[0m\u001b[1;33m\u001b[0m\u001b[1;33m\u001b[0m\u001b[0m\n",
      "\u001b[1;31mException\u001b[0m: ('Error: ', 43)"
     ]
    }
   ],
   "source": [
    "raise_my_excep(43)"
   ]
  },
  {
   "cell_type": "code",
   "execution_count": 16,
   "id": "0d7094c8",
   "metadata": {},
   "outputs": [],
   "source": [
    "try:\n",
    "    raise_my_excep(45)\n",
    "except Exception as e:\n",
    "    print(e)"
   ]
  },
  {
   "cell_type": "markdown",
   "id": "62accbc6",
   "metadata": {},
   "source": [
    "### Task:"
   ]
  },
  {
   "cell_type": "code",
   "execution_count": 1,
   "id": "f01f40e1",
   "metadata": {},
   "outputs": [],
   "source": [
    "from test1 import even_numbers"
   ]
  },
  {
   "cell_type": "code",
   "execution_count": 5,
   "id": "f64436f0",
   "metadata": {},
   "outputs": [],
   "source": [
    "import os, logging as lg"
   ]
  },
  {
   "cell_type": "code",
   "execution_count": 7,
   "id": "3a3917b7",
   "metadata": {},
   "outputs": [],
   "source": [
    "lg.basicConfig( filename = os.getcwd() + \"\\\\even.log\", level = lg.ERROR, format = \"%(asctime)s %(message)s\" )"
   ]
  },
  {
   "cell_type": "code",
   "execution_count": 8,
   "id": "a847c187",
   "metadata": {},
   "outputs": [
    {
     "name": "stdout",
     "output_type": "stream",
     "text": [
      "Enter the range up to which you want your list of even numbers: sjkgf\n",
      "You are supposed to enter an integer range!\n",
      "ERROR:  invalid literal for int() with base 10: 'sjkgf'\n",
      "Enter the range up to which you want your list of even numbers: skljgios\n",
      "You are supposed to enter an integer range!\n",
      "ERROR:  invalid literal for int() with base 10: 'skljgios'\n",
      "Enter the range up to which you want your list of even numbers: csihgrehngk\n",
      "You are supposed to enter an integer range!\n",
      "ERROR:  invalid literal for int() with base 10: 'csihgrehngk'\n",
      "Enter the range up to which you want your list of even numbers: 56\n",
      "Range you entered:  56\n",
      "The list you desired: \n",
      "[0, 2, 4, 6, 8, 10, 12, 14, 16, 18, 20, 22, 24, 26, 28, 30, 32, 34, 36, 38, 40, 42, 44, 46, 48, 50, 52, 54]\n"
     ]
    }
   ],
   "source": [
    "while True:\n",
    "    \n",
    "    try:\n",
    "        n = int(input(\"Enter the range up to which you want your list of even numbers: \"))\n",
    "\n",
    "    except Exception as e:\n",
    "        print(\"You are supposed to enter an integer range!\")\n",
    "        print(\"ERROR: \", e)\n",
    "        lg.error(e)\n",
    "        \n",
    "    else:\n",
    "        print(\"Range you entered: \", n)\n",
    "        print(\"The list you desired: \")\n",
    "        try:\n",
    "            print(even_numbers.even_num(n))\n",
    "        except Exception as e:\n",
    "            print(e)\n",
    "            lg.error(e)\n",
    "        break\n",
    "        "
   ]
  },
  {
   "cell_type": "code",
   "execution_count": null,
   "id": "8b75fe53",
   "metadata": {},
   "outputs": [],
   "source": []
  }
 ],
 "metadata": {
  "kernelspec": {
   "display_name": "Python 3 (ipykernel)",
   "language": "python",
   "name": "python3"
  },
  "language_info": {
   "codemirror_mode": {
    "name": "ipython",
    "version": 3
   },
   "file_extension": ".py",
   "mimetype": "text/x-python",
   "name": "python",
   "nbconvert_exporter": "python",
   "pygments_lexer": "ipython3",
   "version": "3.9.7"
  }
 },
 "nbformat": 4,
 "nbformat_minor": 5
}
