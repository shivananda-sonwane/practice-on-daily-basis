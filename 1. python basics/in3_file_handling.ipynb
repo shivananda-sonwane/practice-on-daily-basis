{
 "cells": [
  {
   "cell_type": "code",
   "execution_count": 38,
   "id": "f0bee995",
   "metadata": {},
   "outputs": [],
   "source": [
    "f = open(\"basics.txt\", 'wb')"
   ]
  },
  {
   "cell_type": "code",
   "execution_count": 17,
   "id": "30a11bdf",
   "metadata": {},
   "outputs": [],
   "source": [
    "g = open(\"in2_python_basics.ipynb\", \"wb\")"
   ]
  },
  {
   "cell_type": "code",
   "execution_count": 8,
   "id": "637a0fc8",
   "metadata": {},
   "outputs": [
    {
     "data": {
      "text/plain": [
       "<ipykernel.zmqshell.ZMQInteractiveShell at 0x1440a34d490>"
      ]
     },
     "execution_count": 8,
     "metadata": {},
     "output_type": "execute_result"
    }
   ],
   "source": [
    "get_ipython()"
   ]
  },
  {
   "cell_type": "code",
   "execution_count": 9,
   "id": "1d931b79",
   "metadata": {},
   "outputs": [
    {
     "ename": "UnsupportedOperation",
     "evalue": "read",
     "output_type": "error",
     "traceback": [
      "\u001b[1;31m---------------------------------------------------------------------------\u001b[0m",
      "\u001b[1;31mUnsupportedOperation\u001b[0m                      Traceback (most recent call last)",
      "\u001b[1;32mC:\\Users\\SURYAN~1\\AppData\\Local\\Temp/ipykernel_20184/4054685340.py\u001b[0m in \u001b[0;36m<module>\u001b[1;34m\u001b[0m\n\u001b[1;32m----> 1\u001b[1;33m \u001b[0mg\u001b[0m\u001b[1;33m.\u001b[0m\u001b[0mread\u001b[0m\u001b[1;33m(\u001b[0m\u001b[1;33m)\u001b[0m\u001b[1;33m\u001b[0m\u001b[1;33m\u001b[0m\u001b[0m\n\u001b[0m",
      "\u001b[1;31mUnsupportedOperation\u001b[0m: read"
     ]
    }
   ],
   "source": [
    "g.read()"
   ]
  },
  {
   "cell_type": "code",
   "execution_count": 18,
   "id": "4b331c9d",
   "metadata": {},
   "outputs": [],
   "source": [
    "g.close()"
   ]
  },
  {
   "cell_type": "code",
   "execution_count": 11,
   "id": "82d644fb",
   "metadata": {},
   "outputs": [],
   "source": [
    "x = open(\"in2_python_functions.ipynb\")"
   ]
  },
  {
   "cell_type": "code",
   "execution_count": 12,
   "id": "49128ca0",
   "metadata": {},
   "outputs": [
    {
     "data": {
      "text/plain": [
       "'{\\n \"cells\": [\\n  {\\n   \"cell_type\": \"code\",\\n   \"execution_count\": 1,\\n   \"id\": \"71d5b827\",\\n   \"metadata\": {},\\n   \"outputs\": [],\\n   \"source\": [\\n    \"def test(a, b):\\\\n\",\\n    \"    print(a + b)\"\\n   ]\\n  },\\n  {\\n   \"cell_type\": \"code\",\\n   \"execution_count\": 5,\\n   \"id\": \"6ff7291a\",\\n   \"metadata\": {},\\n   \"outputs\": [\\n    {\\n     \"name\": \"stdout\",\\n     \"output_type\": \"stream\",\\n     \"text\": [\\n      \"19\\\\n\"\\n     ]\\n    }\\n   ],\\n   \"source\": [\\n    \"x = test(9, 10)\"\\n   ]\\n  },\\n  {\\n   \"cell_type\": \"code\",\\n   \"execution_count\": 6,\\n   \"id\": \"01e2c851\",\\n   \"metadata\": {},\\n   \"outputs\": [],\\n   \"source\": [\\n    \"def test1(a, b):\\\\n\",\\n    \"    return a + b\"\\n   ]\\n  },\\n  {\\n   \"cell_type\": \"code\",\\n   \"execution_count\": 7,\\n   \"id\": \"04d1d57d\",\\n   \"metadata\": {},\\n   \"outputs\": [],\\n   \"source\": [\\n    \"y = test1(9, 7)\"\\n   ]\\n  },\\n  {\\n   \"cell_type\": \"code\",\\n   \"execution_count\": 8,\\n   \"id\": \"97ea2472\",\\n   \"metadata\": {},\\n   \"outputs\": [\\n    {\\n     \"data\": {\\n      \"text/plain\": [\\n       \"16\"\\n      ]\\n     },\\n     \"execution_count\": 8,\\n     \"metadata\": {},\\n     \"output_type\": \"execute_result\"\\n    }\\n   ],\\n   \"source\": [\\n    \"y\"\\n   ]\\n  },\\n  {\\n   \"cell_type\": \"code\",\\n   \"execution_count\": 10,\\n   \"id\": \"2a592361\",\\n   \"metadata\": {},\\n   \"outputs\": [\\n    {\\n     \"data\": {\\n      \"text/plain\": [\\n       \"NoneType\"\\n      ]\\n     },\\n     \"execution_count\": 10,\\n     \"metadata\": {},\\n     \"output_type\": \"execute_result\"\\n    }\\n   ],\\n   \"source\": [\\n    \"type(x)\"\\n   ]\\n  },\\n  {\\n   \"cell_type\": \"code\",\\n   \"execution_count\": 11,\\n   \"id\": \"8cab324f\",\\n   \"metadata\": {},\\n   \"outputs\": [\\n    {\\n     \"data\": {\\n      \"text/plain\": [\\n       \"int\"\\n      ]\\n     },\\n     \"execution_count\": 11,\\n     \"metadata\": {},\\n     \"output_type\": \"execute_result\"\\n    }\\n   ],\\n   \"source\": [\\n    \"type(y)\"\\n   ]\\n  },\\n  {\\n   \"cell_type\": \"code\",\\n   \"execution_count\": 12,\\n   \"id\": \"59ccde83\",\\n   \"metadata\": {},\\n   \"outputs\": [\\n    {\\n     \"ename\": \"TypeError\",\\n     \"evalue\": \"unsupported operand type(s) for +: \\'int\\' and \\'str\\'\",\\n     \"output_type\": \"error\",\\n     \"traceback\": [\\n      \"\\\\u001b[1;31m---------------------------------------------------------------------------\\\\u001b[0m\",\\n      \"\\\\u001b[1;31mTypeError\\\\u001b[0m                                 Traceback (most recent call last)\",\\n      \"\\\\u001b[1;32mC:\\\\\\\\Users\\\\\\\\SURYAN~1\\\\\\\\AppData\\\\\\\\Local\\\\\\\\Temp/ipykernel_22256/4214389469.py\\\\u001b[0m in \\\\u001b[0;36m<module>\\\\u001b[1;34m\\\\u001b[0m\\\\n\\\\u001b[1;32m----> 1\\\\u001b[1;33m \\\\u001b[0mtest1\\\\u001b[0m\\\\u001b[1;33m(\\\\u001b[0m\\\\u001b[1;36m7\\\\u001b[0m\\\\u001b[1;33m,\\\\u001b[0m \\\\u001b[1;34m\\'9\\'\\\\u001b[0m\\\\u001b[1;33m)\\\\u001b[0m\\\\u001b[1;33m\\\\u001b[0m\\\\u001b[1;33m\\\\u001b[0m\\\\u001b[0m\\\\n\\\\u001b[0m\",\\n      \"\\\\u001b[1;32mC:\\\\\\\\Users\\\\\\\\SURYAN~1\\\\\\\\AppData\\\\\\\\Local\\\\\\\\Temp/ipykernel_22256/2233943004.py\\\\u001b[0m in \\\\u001b[0;36mtest1\\\\u001b[1;34m(a, b)\\\\u001b[0m\\\\n\\\\u001b[0;32m      1\\\\u001b[0m \\\\u001b[1;32mdef\\\\u001b[0m \\\\u001b[0mtest1\\\\u001b[0m\\\\u001b[1;33m(\\\\u001b[0m\\\\u001b[0ma\\\\u001b[0m\\\\u001b[1;33m,\\\\u001b[0m \\\\u001b[0mb\\\\u001b[0m\\\\u001b[1;33m)\\\\u001b[0m\\\\u001b[1;33m:\\\\u001b[0m\\\\u001b[1;33m\\\\u001b[0m\\\\u001b[1;33m\\\\u001b[0m\\\\u001b[0m\\\\n\\\\u001b[1;32m----> 2\\\\u001b[1;33m     \\\\u001b[1;32mreturn\\\\u001b[0m \\\\u001b[0ma\\\\u001b[0m \\\\u001b[1;33m+\\\\u001b[0m \\\\u001b[0mb\\\\u001b[0m\\\\u001b[1;33m\\\\u001b[0m\\\\u001b[1;33m\\\\u001b[0m\\\\u001b[0m\\\\n\\\\u001b[0m\",\\n      \"\\\\u001b[1;31mTypeError\\\\u001b[0m: unsupported operand type(s) for +: \\'int\\' and \\'str\\'\"\\n     ]\\n    }\\n   ],\\n   \"source\": [\\n    \"test1(7, \\'9\\')\"\\n   ]\\n  },\\n  {\\n   \"cell_type\": \"code\",\\n   \"execution_count\": 13,\\n   \"id\": \"0b882cea\",\\n   \"metadata\": {},\\n   \"outputs\": [\\n    {\\n     \"ename\": \"TypeError\",\\n     \"evalue\": \"test() takes 2 positional arguments but 3 were given\",\\n     \"output_type\": \"error\",\\n     \"traceback\": [\\n      \"\\\\u001b[1;31m---------------------------------------------------------------------------\\\\u001b[0m\",\\n      \"\\\\u001b[1;31mTypeError\\\\u001b[0m                                 Traceback (most recent call last)\",\\n      \"\\\\u001b[1;32mC:\\\\\\\\Users\\\\\\\\SURYAN~1\\\\\\\\AppData\\\\\\\\Local\\\\\\\\Temp/ipykernel_22256/1439120748.py\\\\u001b[0m in \\\\u001b[0;36m<module>\\\\u001b[1;34m\\\\u001b[0m\\\\n\\\\u001b[1;32m----> 1\\\\u001b[1;33m \\\\u001b[0mtest\\\\u001b[0m\\\\u001b[1;33m(\\\\u001b[0m\\\\u001b[1;36m89\\\\u001b[0m\\\\u001b[1;33m,\\\\u001b[0m \\\\u001b[1;36m98\\\\u001b[0m\\\\u001b[1;33m,\\\\u001b[0m \\\\u001b[1;36m90\\\\u001b[0m\\\\u001b[1;33m)\\\\u001b[0m\\\\u001b[1;33m\\\\u001b[0m\\\\u001b[1;33m\\\\u001b[0m\\\\u001b[0m\\\\n\\\\u001b[0m\",\\n      \"\\\\u001b[1;31mTypeError\\\\u001b[0m: test() takes 2 positional arguments but 3 were given\"\\n     ]\\n    }\\n   ],\\n   \"source\": [\\n    \"test(89, 98, 90)\"\\n   ]\\n  },\\n  {\\n   \"cell_type\": \"code\",\\n   \"execution_count\": 14,\\n   \"id\": \"1b9719dc\",\\n   \"metadata\": {},\\n   \"outputs\": [\\n    {\\n     \"ename\": \"TypeError\",\\n     \"evalue\": \"test() takes 2 positional arguments but 3 were given\",\\n     \"output_type\": \"error\",\\n     \"traceback\": [\\n      \"\\\\u001b[1;31m---------------------------------------------------------------------------\\\\u001b[0m\",\\n      \"\\\\u001b[1;31mTypeError\\\\u001b[0m                                 Traceback (most recent call last)\",\\n      \"\\\\u001b[1;32mC:\\\\\\\\Users\\\\\\\\SURYAN~1\\\\\\\\AppData\\\\\\\\Local\\\\\\\\Temp/ipykernel_22256/3055216886.py\\\\u001b[0m in \\\\u001b[0;36m<module>\\\\u001b[1;34m\\\\u001b[0m\\\\n\\\\u001b[1;32m----> 1\\\\u001b[1;33m \\\\u001b[0mtest\\\\u001b[0m\\\\u001b[1;33m(\\\\u001b[0m\\\\u001b[1;36m90\\\\u001b[0m\\\\u001b[1;33m,\\\\u001b[0m \\\\u001b[1;36m89\\\\u001b[0m\\\\u001b[1;33m,\\\\u001b[0m \\\\u001b[1;34m\\'null\\'\\\\u001b[0m\\\\u001b[1;33m)\\\\u001b[0m\\\\u001b[1;33m\\\\u001b[0m\\\\u001b[1;33m\\\\u001b[0m\\\\u001b[0m\\\\n\\\\u001b[0m\",\\n      \"\\\\u001b[1;31mTypeError\\\\u001b[0m: test() takes 2 positional arguments but 3 were given\"\\n     ]\\n    }\\n   ],\\n   \"source\": [\\n    \"test(90, 89, \\'null\\')\"\\n   ]\\n  },\\n  {\\n   \"cell_type\": \"code\",\\n   \"execution_count\": 15,\\n   \"id\": \"ecd734b6\",\\n   \"metadata\": {},\\n   \"outputs\": [],\\n   \"source\": [\\n    \"def test2(l, m, n):\\\\n\",\\n    \"    return l, m, n+1, l+m\"\\n   ]\\n  },\\n  {\\n   \"cell_type\": \"code\",\\n   \"execution_count\": 35,\\n   \"id\": \"2256d6ad\",\\n   \"metadata\": {},\\n   \"outputs\": [],\\n   \"source\": [\\n    \"x, y, _, _ = test2(5, 7, 9)\"\\n   ]\\n  },\\n  {\\n   \"cell_type\": \"code\",\\n   \"execution_count\": 36,\\n   \"id\": \"95c1cd06\",\\n   \"metadata\": {},\\n   \"outputs\": [\\n    {\\n     \"data\": {\\n      \"text/plain\": [\\n       \"5\"\\n      ]\\n     },\\n     \"execution_count\": 36,\\n     \"metadata\": {},\\n     \"output_type\": \"execute_result\"\\n    }\\n   ],\\n   \"source\": [\\n    \"x\"\\n   ]\\n  },\\n  {\\n   \"cell_type\": \"code\",\\n   \"execution_count\": 37,\\n   \"id\": \"b20823e8\",\\n   \"metadata\": {},\\n   \"outputs\": [\\n    {\\n     \"data\": {\\n      \"text/plain\": [\\n       \"7\"\\n      ]\\n     },\\n     \"execution_count\": 37,\\n     \"metadata\": {},\\n     \"output_type\": \"execute_result\"\\n    }\\n   ],\\n   \"source\": [\\n    \"y\"\\n   ]\\n  },\\n  {\\n   \"cell_type\": \"code\",\\n   \"execution_count\": 38,\\n   \"id\": \"8a11609d\",\\n   \"metadata\": {},\\n   \"outputs\": [\\n    {\\n     \"data\": {\\n      \"text/plain\": [\\n       \"12\"\\n      ]\\n     },\\n     \"execution_count\": 38,\\n     \"metadata\": {},\\n     \"output_type\": \"execute_result\"\\n    }\\n   ],\\n   \"source\": [\\n    \"_\"\\n   ]\\n  },\\n  {\\n   \"cell_type\": \"code\",\\n   \"execution_count\": 39,\\n   \"id\": \"5d85992b\",\\n   \"metadata\": {},\\n   \"outputs\": [\\n    {\\n     \"data\": {\\n      \"text/plain\": [\\n       \"12\"\\n      ]\\n     },\\n     \"execution_count\": 39,\\n     \"metadata\": {},\\n     \"output_type\": \"execute_result\"\\n    }\\n   ],\\n   \"source\": [\\n    \"_\"\\n   ]\\n  },\\n  {\\n   \"cell_type\": \"code\",\\n   \"execution_count\": 41,\\n   \"id\": \"3abe407e\",\\n   \"metadata\": {},\\n   \"outputs\": [],\\n   \"source\": [\\n    \"x, x, x, x = test2(5, 7, 9)\"\\n   ]\\n  },\\n  {\\n   \"cell_type\": \"code\",\\n   \"execution_count\": 42,\\n   \"id\": \"37d084a8\",\\n   \"metadata\": {},\\n   \"outputs\": [\\n    {\\n     \"data\": {\\n      \"text/plain\": [\\n       \"12\"\\n      ]\\n     },\\n     \"execution_count\": 42,\\n     \"metadata\": {},\\n     \"output_type\": \"execute_result\"\\n    }\\n   ],\\n   \"source\": [\\n    \"x\"\\n   ]\\n  },\\n  {\\n   \"cell_type\": \"code\",\\n   \"execution_count\": 43,\\n   \"id\": \"ac0d07ac\",\\n   \"metadata\": {},\\n   \"outputs\": [],\\n   \"source\": [\\n    \"_ = 89\"\\n   ]\\n  },\\n  {\\n   \"cell_type\": \"code\",\\n   \"execution_count\": 44,\\n   \"id\": \"72ae6fbe\",\\n   \"metadata\": {},\\n   \"outputs\": [\\n    {\\n     \"data\": {\\n      \"text/plain\": [\\n       \"89\"\\n      ]\\n     },\\n     \"execution_count\": 44,\\n     \"metadata\": {},\\n     \"output_type\": \"execute_result\"\\n    }\\n   ],\\n   \"source\": [\\n    \"_\"\\n   ]\\n  },\\n  {\\n   \"cell_type\": \"code\",\\n   \"execution_count\": 47,\\n   \"id\": \"627aa254\",\\n   \"metadata\": {},\\n   \"outputs\": [\\n    {\\n     \"data\": {\\n      \"text/plain\": [\\n       \"[1, 2, 4, 56, 90, 4, 5, 7, 87, 3242]\"\\n      ]\\n     },\\n     \"execution_count\": 47,\\n     \"metadata\": {},\\n     \"output_type\": \"execute_result\"\\n    }\\n   ],\\n   \"source\": [\\n    \"[1, 2, 4, 56, 90] + [4, 5, 7, 87, 3242]\"\\n   ]\\n  },\\n  {\\n   \"cell_type\": \"code\",\\n   \"execution_count\": 6,\\n   \"id\": \"12151921\",\\n   \"metadata\": {},\\n   \"outputs\": [],\\n   \"source\": [\\n    \"#here we are taking lists as arguments and returning a one concatenated list composed of elements of all the lists passed. \\\\n\",\\n    \"def concat_l (*args):\\\\n\",\\n    \"    lst = []\\\\n\",\\n    \"    for i in args:\\\\n\",\\n    \"        #lst += i \\\\n\",\\n    \"        #lst.append(i)\\\\n\",\\n    \"        lst.extend(i)\\\\n\",\\n    \"    return lst\"\\n   ]\\n  },\\n  {\\n   \"cell_type\": \"code\",\\n   \"execution_count\": 7,\\n   \"id\": \"9f35c63f\",\\n   \"metadata\": {},\\n   \"outputs\": [\\n    {\\n     \"data\": {\\n      \"text/plain\": [\\n       \"[4, 5, 7, 87, 3242, 1, 2, 4, 56, 90]\"\\n      ]\\n     },\\n     \"execution_count\": 7,\\n     \"metadata\": {},\\n     \"output_type\": \"execute_result\"\\n    }\\n   ],\\n   \"source\": [\\n    \"concat_l ([4, 5, 7, 87, 3242], [1, 2, 4, 56, 90])\"\\n   ]\\n  },\\n  {\\n   \"cell_type\": \"code\",\\n   \"execution_count\": 32,\\n   \"id\": \"f74d0695\",\\n   \"metadata\": {},\\n   \"outputs\": [],\\n   \"source\": [\\n    \"def concat_l2 (*args):\\\\n\",\\n    \"    \\\\n\",\\n    \"    return [ i for j in args for i in j] #nested for loop or double iteration.\"\\n   ]\\n  },\\n  {\\n   \"cell_type\": \"code\",\\n   \"execution_count\": 33,\\n   \"id\": \"37e53b7b\",\\n   \"metadata\": {},\\n   \"outputs\": [\\n    {\\n     \"data\": {\\n      \"text/plain\": [\\n       \"[4, 5, 7, 87, 3242, 1, 2, 4, 56, 90, 454, 6767, 3535, 89, 43, 76, 32]\"\\n      ]\\n     },\\n     \"execution_count\": 33,\\n     \"metadata\": {},\\n     \"output_type\": \"execute_result\"\\n    }\\n   ],\\n   \"source\": [\\n    \"concat_l2 ([4, 5, 7, 87, 3242], [1, 2, 4, 56, 90], [454, 6767, 3535, 89, 43, 76, 32])\"\\n   ]\\n  },\\n  {\\n   \"cell_type\": \"code\",\\n   \"execution_count\": 46,\\n   \"id\": \"d99d75cf\",\\n   \"metadata\": {},\\n   \"outputs\": [],\\n   \"source\": [\\n    \"t = ([4, 5, 7, 87, 3242], [1, 2, 4, 56, 90], [454, 6767, 3535, 89, 43, 76, 32])\"\\n   ]\\n  },\\n  {\\n   \"cell_type\": \"code\",\\n   \"execution_count\": 47,\\n   \"id\": \"1bae7674\",\\n   \"metadata\": {},\\n   \"outputs\": [],\\n   \"source\": [\\n    \"lst1 = []\\\\n\",\\n    \"for j in t:\\\\n\",\\n    \"    for i in j:\\\\n\",\\n    \"        lst1.append(i)\"\\n   ]\\n  },\\n  {\\n   \"cell_type\": \"code\",\\n   \"execution_count\": 48,\\n   \"id\": \"eeaf1a31\",\\n   \"metadata\": {},\\n   \"outputs\": [\\n    {\\n     \"data\": {\\n      \"text/plain\": [\\n       \"[4, 5, 7, 87, 3242, 1, 2, 4, 56, 90, 454, 6767, 3535, 89, 43, 76, 32]\"\\n      ]\\n     },\\n     \"execution_count\": 48,\\n     \"metadata\": {},\\n     \"output_type\": \"execute_result\"\\n    }\\n   ],\\n   \"source\": [\\n    \"lst1\"\\n   ]\\n  },\\n  {\\n   \"cell_type\": \"code\",\\n   \"execution_count\": 49,\\n   \"id\": \"12ef794f\",\\n   \"metadata\": {},\\n   \"outputs\": [\\n    {\\n     \"data\": {\\n      \"text/plain\": [\\n       \"[4, 5, 7, 87, 3242, 1, 2, 4, 56, 90, 454, 6767, 3535, 89, 43, 76, 32]\"\\n      ]\\n     },\\n     \"execution_count\": 49,\\n     \"metadata\": {},\\n     \"output_type\": \"execute_result\"\\n    }\\n   ],\\n   \"source\": [\\n    \"#using list comprehension\\\\n\",\\n    \"[ j for i in t for j in i]\"\\n   ]\\n  },\\n  {\\n   \"cell_type\": \"code\",\\n   \"execution_count\": 5,\\n   \"id\": \"69577c40\",\\n   \"metadata\": {},\\n   \"outputs\": [],\\n   \"source\": [\\n    \"def dictx (**kwargs):\\\\n\",\\n    \"    return kwargs\"\\n   ]\\n  },\\n  {\\n   \"cell_type\": \"code\",\\n   \"execution_count\": 9,\\n   \"id\": \"0068ba15\",\\n   \"metadata\": {},\\n   \"outputs\": [\\n    {\\n     \"data\": {\\n      \"text/plain\": [\\n       \"{\\'a\\': 34, \\'b\\': 42, \\'Name\\': \\'I wont tell!\\'}\"\\n      ]\\n     },\\n     \"execution_count\": 9,\\n     \"metadata\": {},\\n     \"output_type\": \"execute_result\"\\n    }\\n   ],\\n   \"source\": [\\n    \"dictx( a = 34, b = 42, Name = \\'I wont tell!\\')\"\\n   ]\\n  },\\n  {\\n   \"cell_type\": \"code\",\\n   \"execution_count\": 30,\\n   \"id\": \"155c8310\",\\n   \"metadata\": {},\\n   \"outputs\": [\\n    {\\n     \"name\": \"stdout\",\\n     \"output_type\": \"stream\",\\n     \"text\": [\\n      \"[<class \\'dict\\'>, <class \\'list\\'>, <class \\'str\\'>, <class \\'int\\'>, <class \\'float\\'>]\\\\n\"\\n     ]\\n    },\\n    {\\n     \"data\": {\\n      \"text/plain\": [\\n       \"True\"\\n      ]\\n     },\\n     \"execution_count\": 30,\\n     \"metadata\": {},\\n     \"output_type\": \"execute_result\"\\n    }\\n   ],\\n   \"source\": [\\n    \"lst_x = (34, \\'suryansh\\', 22, \\\\\"fyck it is?\\\\\", 7.89, {\\'a\\': \\'b\\', \\'x\\': \\'y\\'}, [34, 65, 87])\\\\n\",\\n    \"\\\\n\",\\n    \"x = list(set([type(i) for i in lst_x]))\\\\n\",\\n    \"print(x)\\\\n\",\\n    \"y = [4, 5, 6, 6]\\\\n\",\\n    \"type(y) == x[1]\"\\n   ]\\n  },\\n  {\\n   \"cell_type\": \"code\",\\n   \"execution_count\": 1,\\n   \"id\": \"c87cd2c7\",\\n   \"metadata\": {},\\n   \"outputs\": [],\\n   \"source\": [\\n    \"\\'\\'\\'\\\\n\",\\n    \"Create a function that takes input a number of mixed data types\\\\n\",\\n    \"and try to create a list of separate data based on individuals data types\\\\n\",\\n    \"and return multiple results.\\\\n\",\\n    \"\\'\\'\\'\\\\n\",\\n    \"#method 1 (mine):\\\\n\",\\n    \"def ret_buck(*args):\\\\n\",\\n    \"    \\\\n\",\\n    \"    num_types = list(set([type(i) for i in args]))\\\\n\",\\n    \"    print(num_types)\\\\n\",\\n    \"    \\\\n\",\\n    \"    fin_bucket = []\\\\n\",\\n    \"    \\\\n\",\\n    \"    for i in num_types:\\\\n\",\\n    \"        bucket = []\\\\n\",\\n    \"        for j in args:\\\\n\",\\n    \"            if type(j) == i:\\\\n\",\\n    \"                bucket.append(j)\\\\n\",\\n    \"        fin_bucket.append(bucket)\\\\n\",\\n    \"    \\\\n\",\\n    \"    return fin_bucket\"\\n   ]\\n  },\\n  {\\n   \"cell_type\": \"code\",\\n   \"execution_count\": 2,\\n   \"id\": \"cf1ed353\",\\n   \"metadata\": {},\\n   \"outputs\": [\\n    {\\n     \"name\": \"stdout\",\\n     \"output_type\": \"stream\",\\n     \"text\": [\\n      \"[<class \\'dict\\'>, <class \\'list\\'>, <class \\'str\\'>, <class \\'int\\'>, <class \\'float\\'>]\\\\n\"\\n     ]\\n    },\\n    {\\n     \"data\": {\\n      \"text/plain\": [\\n       \"[[{\\'a\\': \\'b\\', \\'x\\': \\'y\\'}],\\\\n\",\\n       \" [[34, 65, 87]],\\\\n\",\\n       \" [\\'suryansh\\', \\'fyck it is?\\'],\\\\n\",\\n       \" [34, 22],\\\\n\",\\n       \" [7.89]]\"\\n      ]\\n     },\\n     \"execution_count\": 2,\\n     \"metadata\": {},\\n     \"output_type\": \"execute_result\"\\n    }\\n   ],\\n   \"source\": [\\n    \"ret_buck(34, \\'suryansh\\', 22, \\\\\"fyck it is?\\\\\", 7.89, {\\'a\\': \\'b\\', \\'x\\': \\'y\\'}, [34, 65, 87])\"\\n   ]\\n  },\\n  {\\n   \"cell_type\": \"code\",\\n   \"execution_count\": 19,\\n   \"id\": \"a3cd537a\",\\n   \"metadata\": {},\\n   \"outputs\": [],\\n   \"source\": [\\n    \"#method 2:\\\\n\",\\n    \"def ret_buck2 (*args):\\\\n\",\\n    \"    \\\\n\",\\n    \"    d = {}\\\\n\",\\n    \"    \\\\n\",\\n    \"    for i in args:\\\\n\",\\n    \"        if type(i) not in d:\\\\n\",\\n    \"            d[type(i)] = [i]\\\\n\",\\n    \"        else:\\\\n\",\\n    \"            d[type(i)].append(i)\\\\n\",\\n    \"    \\\\n\",\\n    \"    return d\"\\n   ]\\n  },\\n  {\\n   \"cell_type\": \"code\",\\n   \"execution_count\": 20,\\n   \"id\": \"01244f4d\",\\n   \"metadata\": {},\\n   \"outputs\": [\\n    {\\n     \"data\": {\\n      \"text/plain\": [\\n       \"{int: [34, 22],\\\\n\",\\n       \" str: [\\'suryansh\\', \\'fyck it is?\\'],\\\\n\",\\n       \" float: [7.89],\\\\n\",\\n       \" dict: [{\\'a\\': \\'b\\', \\'x\\': \\'y\\'}],\\\\n\",\\n       \" list: [[34, 65, 87]]}\"\\n      ]\\n     },\\n     \"execution_count\": 20,\\n     \"metadata\": {},\\n     \"output_type\": \"execute_result\"\\n    }\\n   ],\\n   \"source\": [\\n    \"ret_buck2(34, \\'suryansh\\', 22, \\\\\"fyck it is?\\\\\", 7.89, {\\'a\\': \\'b\\', \\'x\\': \\'y\\'}, [34, 65, 87])\"\\n   ]\\n  },\\n  {\\n   \"cell_type\": \"code\",\\n   \"execution_count\": 119,\\n   \"id\": \"83c45cea\",\\n   \"metadata\": {},\\n   \"outputs\": [],\\n   \"source\": [\\n    \"\\'\\'\\'\\\\n\",\\n    \"Create a function which will be able to use args and kwargs\\\\n\",\\n    \"and it will be able to do all the list values concatenation\\\\n\",\\n    \"and return a list.\\\\n\",\\n    \"\\'\\'\\'\\\\n\",\\n    \"def concat_list (*args, **kwargs):\\\\n\",\\n    \"    \\\\n\",\\n    \"    lst = []\\\\n\",\\n    \"    \\\\n\",\\n    \"    for i in args:\\\\n\",\\n    \"        if type(i) == list:\\\\n\",\\n    \"            lst += i\\\\n\",\\n    \"            \\\\n\",\\n    \"    for i in kwargs.values():\\\\n\",\\n    \"        if type(i) == list:\\\\n\",\\n    \"            lst += i\\\\n\",\\n    \"    \\\\n\",\\n    \"    return lst\"\\n   ]\\n  },\\n  {\\n   \"cell_type\": \"code\",\\n   \"execution_count\": 122,\\n   \"id\": \"db7e2c9d\",\\n   \"metadata\": {},\\n   \"outputs\": [\\n    {\\n     \"data\": {\\n      \"text/plain\": [\\n       \"[1,\\\\n\",\\n       \" 3,\\\\n\",\\n       \" 4,\\\\n\",\\n       \" 6,\\\\n\",\\n       \" 7,\\\\n\",\\n       \" 3,\\\\n\",\\n       \" True,\\\\n\",\\n       \" False,\\\\n\",\\n       \" \\'fuck!\\',\\\\n\",\\n       \" 4,\\\\n\",\\n       \" True,\\\\n\",\\n       \" 357903,\\\\n\",\\n       \" 8930574,\\\\n\",\\n       \" 90,\\\\n\",\\n       \" \\'Grover\\',\\\\n\",\\n       \" \\'damn!\\']\"\\n      ]\\n     },\\n     \"execution_count\": 122,\\n     \"metadata\": {},\\n     \"output_type\": \"execute_result\"\\n    }\\n   ],\\n   \"source\": [\\n    \"concat_list([1, 3, 4, 6, 7, 3, True, False, \\\\\"fuck!\\\\\"], a1 = \\'b1\\', c1 = \\'d1\\', jam = \\'peanut butter\\', mobile = \\'mobility\\', concat = [4, True, 357903, 8930574, 90, \\\\\"Grover\\\\\", \\'damn!\\'])\"\\n   ]\\n  },\\n  {\\n   \"cell_type\": \"code\",\\n   \"execution_count\": 112,\\n   \"id\": \"1561e238\",\\n   \"metadata\": {},\\n   \"outputs\": [\\n    {\\n     \"data\": {\\n      \"text/plain\": [\\n       \"[2,\\\\n\",\\n       \" 3,\\\\n\",\\n       \" 4,\\\\n\",\\n       \" 3,\\\\n\",\\n       \" True,\\\\n\",\\n       \" 3.45,\\\\n\",\\n       \" \\'Ninentendo\\',\\\\n\",\\n       \" 89,\\\\n\",\\n       \" 90,\\\\n\",\\n       \" \\'jhklh\\',\\\\n\",\\n       \" 9.8,\\\\n\",\\n       \" False,\\\\n\",\\n       \" \\\\\"For God\\'s Sake!\\\\\",\\\\n\",\\n       \" \\'Name\\',\\\\n\",\\n       \" \\'Rank\\',\\\\n\",\\n       \" 45,\\\\n\",\\n       \" 667,\\\\n\",\\n       \" 98,\\\\n\",\\n       \" 90,\\\\n\",\\n       \" \\'a\\',\\\\n\",\\n       \" \\'b\\',\\\\n\",\\n       \" \\'Name\\']\"\\n      ]\\n     },\\n     \"execution_count\": 112,\\n     \"metadata\": {},\\n     \"output_type\": \"execute_result\"\\n    }\\n   ],\\n   \"source\": [\\n    \"concat_list(2, 3, 4, 3, True, 3.45, \\\\\"Ninentendo\\\\\", [89, 90, \\'jhklh\\', 9.8, False], \\\\\"For God\\'s Sake!\\\\\", {\\'Name\\': \\\\\"Ace\\\\\", \\\\\"Rank\\\\\": \\\\\"Shirohige 2nd division Commander\\\\\"}, (45, 667, 98, 90), {\\'a\\': 34, \\'b\\': 42, \\'Name\\': \\'I wont tell!\\'})\\\\n\"\\n   ]\\n  },\\n  {\\n   \"cell_type\": \"code\",\\n   \"execution_count\": 109,\\n   \"id\": \"56801739\",\\n   \"metadata\": {},\\n   \"outputs\": [],\\n   \"source\": [\\n    \"l1 = [1, 2, 3, 4, 6]\\\\n\",\\n    \"l2 = [8.54, 2, 54, \\\\\"Suryansh\\\\\", \\\\\"got nothing on my mind..!!\\\\\", True, 1]\\\\n\",\\n    \"d1 = {\\'Name\\': \\\\\"Ace\\\\\", \\\\\"Rank\\\\\": \\\\\"Shirohige 2nd division Commander\\\\\" }\"\\n   ]\\n  },\\n  {\\n   \"cell_type\": \"code\",\\n   \"execution_count\": 67,\\n   \"id\": \"d77c3b41\",\\n   \"metadata\": {},\\n   \"outputs\": [\\n    {\\n     \"data\": {\\n      \"text/plain\": [\\n       \"[1,\\\\n\",\\n       \" 2,\\\\n\",\\n       \" 3,\\\\n\",\\n       \" 4,\\\\n\",\\n       \" 6,\\\\n\",\\n       \" 8.54,\\\\n\",\\n       \" 2,\\\\n\",\\n       \" 54,\\\\n\",\\n       \" \\'Suryansh\\',\\\\n\",\\n       \" \\'got nothing on my mind..!!\\',\\\\n\",\\n       \" True,\\\\n\",\\n       \" 1,\\\\n\",\\n       \" \\'Name\\',\\\\n\",\\n       \" \\'Rank\\',\\\\n\",\\n       \" 8.54,\\\\n\",\\n       \" 2,\\\\n\",\\n       \" 54,\\\\n\",\\n       \" \\'Suryansh\\',\\\\n\",\\n       \" \\'got nothing on my mind..!!\\',\\\\n\",\\n       \" True,\\\\n\",\\n       \" 1,\\\\n\",\\n       \" 45,\\\\n\",\\n       \" 667,\\\\n\",\\n       \" 98,\\\\n\",\\n       \" 90]\"\\n      ]\\n     },\\n     \"execution_count\": 67,\\n     \"metadata\": {},\\n     \"output_type\": \"execute_result\"\\n    }\\n   ],\\n   \"source\": [\\n    \"l1 += l2\\\\n\",\\n    \"l1 += (45, 667, 98, 90)\\\\n\",\\n    \"l1\"\\n   ]\\n  },\\n  {\\n   \"cell_type\": \"code\",\\n   \"execution_count\": 101,\\n   \"id\": \"d9a4e29a\",\\n   \"metadata\": {},\\n   \"outputs\": [\\n    {\\n     \"data\": {\\n      \"text/plain\": [\\n       \"complex\"\\n      ]\\n     },\\n     \"execution_count\": 101,\\n     \"metadata\": {},\\n     \"output_type\": \"execute_result\"\\n    }\\n   ],\\n   \"source\": [\\n    \"type(4 + 4j)\"\\n   ]\\n  },\\n  {\\n   \"cell_type\": \"code\",\\n   \"execution_count\": 1,\\n   \"id\": \"bbc2f930\",\\n   \"metadata\": {},\\n   \"outputs\": [],\\n   \"source\": [\\n    \"def kwargs (**kwargs):\\\\n\",\\n    \"    return type(kwargs)\"\\n   ]\\n  },\\n  {\\n   \"cell_type\": \"code\",\\n   \"execution_count\": 2,\\n   \"id\": \"257606b4\",\\n   \"metadata\": {},\\n   \"outputs\": [\\n    {\\n     \"data\": {\\n      \"text/plain\": [\\n       \"dict\"\\n      ]\\n     },\\n     \"execution_count\": 2,\\n     \"metadata\": {},\\n     \"output_type\": \"execute_result\"\\n    }\\n   ],\\n   \"source\": [\\n    \"kwargs( a = \\'Suryansh\\', b = \\'Grover\\', c = \\'22\\')\"\\n   ]\\n  },\\n  {\\n   \"cell_type\": \"code\",\\n   \"execution_count\": 14,\\n   \"id\": \"12e4aa08\",\\n   \"metadata\": {},\\n   \"outputs\": [],\\n   \"source\": [\\n    \"#passing the list as arguments and returning a one single list consisting of elements of all lists passed.\\\\n\",\\n    \"def ret_sin (*args):\\\\n\",\\n    \"    lst = []\\\\n\",\\n    \"    \\'\\'\\'\\\\n\",\\n    \"    for i in args:\\\\n\",\\n    \"        if type(i) == list:\\\\n\",\\n    \"            lst += i\\\\n\",\\n    \"    \\'\\'\\'\\\\n\",\\n    \"    #using list comprehension\\\\n\",\\n    \"    [lst.append(j) for i in args for j in i]\\\\n\",\\n    \"            \\\\n\",\\n    \"    return lst\"\\n   ]\\n  },\\n  {\\n   \"cell_type\": \"code\",\\n   \"execution_count\": 15,\\n   \"id\": \"dd2b6e9b\",\\n   \"metadata\": {},\\n   \"outputs\": [\\n    {\\n     \"data\": {\\n      \"text/plain\": [\\n       \"[1, 3, 4, 45, 42, 7.7, \\'Sueryamdhj\\', \\'nbfsjkbf\\', 9090, \\'fhuihfi\\']\"\\n      ]\\n     },\\n     \"execution_count\": 15,\\n     \"metadata\": {},\\n     \"output_type\": \"execute_result\"\\n    }\\n   ],\\n   \"source\": [\\n    \"ret_sin ([1, 3, 4, 45 , 42, 7.7], [\\'Sueryamdhj\\', \\'nbfsjkbf\\', 9090, \\\\\"fhuihfi\\\\\"])\"\\n   ]\\n  },\\n  {\\n   \"cell_type\": \"code\",\\n   \"execution_count\": 1,\\n   \"id\": \"035cb0eb\",\\n   \"metadata\": {},\\n   \"outputs\": [\\n    {\\n     \"ename\": \"SyntaxError\",\\n     \"evalue\": \"non-default argument follows default argument (Temp/ipykernel_18440/1318767565.py, line 1)\",\\n     \"output_type\": \"error\",\\n     \"traceback\": [\\n      \"\\\\u001b[1;36m  File \\\\u001b[1;32m\\\\\"C:\\\\\\\\Users\\\\\\\\SURYAN~1\\\\\\\\AppData\\\\\\\\Local\\\\\\\\Temp/ipykernel_18440/1318767565.py\\\\\"\\\\u001b[1;36m, line \\\\u001b[1;32m1\\\\u001b[0m\\\\n\\\\u001b[1;33m    def test(a = 10, b):\\\\u001b[0m\\\\n\\\\u001b[1;37m                      ^\\\\u001b[0m\\\\n\\\\u001b[1;31mSyntaxError\\\\u001b[0m\\\\u001b[1;31m:\\\\u001b[0m non-default argument follows default argument\\\\n\"\\n     ]\\n    }\\n   ],\\n   \"source\": [\\n    \"def test(a = 10, b):\\\\n\",\\n    \"    return a + b\"\\n   ]\\n  },\\n  {\\n   \"cell_type\": \"code\",\\n   \"execution_count\": 2,\\n   \"id\": \"a43b514c\",\\n   \"metadata\": {},\\n   \"outputs\": [\\n    {\\n     \"data\": {\\n      \"text/plain\": [\\n       \"\\'\\\\\\\\nAll required parameters must be placed inside before th default parameters in the functions.\\\\\\\\n\\'\"\\n      ]\\n     },\\n     \"execution_count\": 2,\\n     \"metadata\": {},\\n     \"output_type\": \"execute_result\"\\n    }\\n   ],\\n   \"source\": [\\n    \"\\'\\'\\'\\\\n\",\\n    \"All required parameters must be placed inside before th default parameters in the functions.\\\\n\",\\n    \"\\'\\'\\'\"\\n   ]\\n  },\\n  {\\n   \"cell_type\": \"code\",\\n   \"execution_count\": 16,\\n   \"id\": \"0badf680\",\\n   \"metadata\": {},\\n   \"outputs\": [],\\n   \"source\": [\\n    \"def ret_insideloop(n):\\\\n\",\\n    \"    lst = []\\\\n\",\\n    \"    for i in range(1, n+1):\\\\n\",\\n    \"        lst.append(i**3)\\\\n\",\\n    \"        \\\\n\",\\n    \"    return lst\"\\n   ]\\n  },\\n  {\\n   \"cell_type\": \"code\",\\n   \"execution_count\": 21,\\n   \"id\": \"fdb31b5e\",\\n   \"metadata\": {},\\n   \"outputs\": [\\n    {\\n     \"data\": {\\n      \"text/plain\": [\\n       \"[1,\\\\n\",\\n       \" 8,\\\\n\",\\n       \" 27,\\\\n\",\\n       \" 64,\\\\n\",\\n       \" 125,\\\\n\",\\n       \" 216,\\\\n\",\\n       \" 343,\\\\n\",\\n       \" 512,\\\\n\",\\n       \" 729,\\\\n\",\\n       \" 1000,\\\\n\",\\n       \" 1331,\\\\n\",\\n       \" 1728,\\\\n\",\\n       \" 2197,\\\\n\",\\n       \" 2744,\\\\n\",\\n       \" 3375,\\\\n\",\\n       \" 4096,\\\\n\",\\n       \" 4913,\\\\n\",\\n       \" 5832,\\\\n\",\\n       \" 6859,\\\\n\",\\n       \" 8000,\\\\n\",\\n       \" 9261,\\\\n\",\\n       \" 10648,\\\\n\",\\n       \" 12167,\\\\n\",\\n       \" 13824,\\\\n\",\\n       \" 15625,\\\\n\",\\n       \" 17576,\\\\n\",\\n       \" 19683,\\\\n\",\\n       \" 21952,\\\\n\",\\n       \" 24389,\\\\n\",\\n       \" 27000,\\\\n\",\\n       \" 29791,\\\\n\",\\n       \" 32768,\\\\n\",\\n       \" 35937,\\\\n\",\\n       \" 39304,\\\\n\",\\n       \" 42875,\\\\n\",\\n       \" 46656,\\\\n\",\\n       \" 50653,\\\\n\",\\n       \" 54872,\\\\n\",\\n       \" 59319,\\\\n\",\\n       \" 64000,\\\\n\",\\n       \" 68921,\\\\n\",\\n       \" 74088,\\\\n\",\\n       \" 79507,\\\\n\",\\n       \" 85184,\\\\n\",\\n       \" 91125,\\\\n\",\\n       \" 97336,\\\\n\",\\n       \" 103823,\\\\n\",\\n       \" 110592,\\\\n\",\\n       \" 117649,\\\\n\",\\n       \" 125000,\\\\n\",\\n       \" 132651,\\\\n\",\\n       \" 140608,\\\\n\",\\n       \" 148877,\\\\n\",\\n       \" 157464,\\\\n\",\\n       \" 166375,\\\\n\",\\n       \" 175616,\\\\n\",\\n       \" 185193,\\\\n\",\\n       \" 195112,\\\\n\",\\n       \" 205379,\\\\n\",\\n       \" 216000,\\\\n\",\\n       \" 226981,\\\\n\",\\n       \" 238328,\\\\n\",\\n       \" 250047,\\\\n\",\\n       \" 262144,\\\\n\",\\n       \" 274625,\\\\n\",\\n       \" 287496,\\\\n\",\\n       \" 300763,\\\\n\",\\n       \" 314432,\\\\n\",\\n       \" 328509,\\\\n\",\\n       \" 343000,\\\\n\",\\n       \" 357911,\\\\n\",\\n       \" 373248,\\\\n\",\\n       \" 389017,\\\\n\",\\n       \" 405224,\\\\n\",\\n       \" 421875,\\\\n\",\\n       \" 438976,\\\\n\",\\n       \" 456533,\\\\n\",\\n       \" 474552,\\\\n\",\\n       \" 493039,\\\\n\",\\n       \" 512000,\\\\n\",\\n       \" 531441,\\\\n\",\\n       \" 551368,\\\\n\",\\n       \" 571787,\\\\n\",\\n       \" 592704,\\\\n\",\\n       \" 614125,\\\\n\",\\n       \" 636056,\\\\n\",\\n       \" 658503,\\\\n\",\\n       \" 681472,\\\\n\",\\n       \" 704969,\\\\n\",\\n       \" 729000,\\\\n\",\\n       \" 753571,\\\\n\",\\n       \" 778688,\\\\n\",\\n       \" 804357,\\\\n\",\\n       \" 830584,\\\\n\",\\n       \" 857375,\\\\n\",\\n       \" 884736,\\\\n\",\\n       \" 912673,\\\\n\",\\n       \" 941192,\\\\n\",\\n       \" 970299,\\\\n\",\\n       \" 1000000,\\\\n\",\\n       \" 1030301,\\\\n\",\\n       \" 1061208,\\\\n\",\\n       \" 1092727,\\\\n\",\\n       \" 1124864,\\\\n\",\\n       \" 1157625,\\\\n\",\\n       \" 1191016,\\\\n\",\\n       \" 1225043,\\\\n\",\\n       \" 1259712,\\\\n\",\\n       \" 1295029,\\\\n\",\\n       \" 1331000,\\\\n\",\\n       \" 1367631,\\\\n\",\\n       \" 1404928,\\\\n\",\\n       \" 1442897,\\\\n\",\\n       \" 1481544,\\\\n\",\\n       \" 1520875,\\\\n\",\\n       \" 1560896,\\\\n\",\\n       \" 1601613,\\\\n\",\\n       \" 1643032,\\\\n\",\\n       \" 1685159,\\\\n\",\\n       \" 1728000,\\\\n\",\\n       \" 1771561,\\\\n\",\\n       \" 1815848,\\\\n\",\\n       \" 1860867,\\\\n\",\\n       \" 1906624,\\\\n\",\\n       \" 1953125,\\\\n\",\\n       \" 2000376,\\\\n\",\\n       \" 2048383,\\\\n\",\\n       \" 2097152,\\\\n\",\\n       \" 2146689,\\\\n\",\\n       \" 2197000,\\\\n\",\\n       \" 2248091,\\\\n\",\\n       \" 2299968,\\\\n\",\\n       \" 2352637,\\\\n\",\\n       \" 2406104,\\\\n\",\\n       \" 2460375,\\\\n\",\\n       \" 2515456,\\\\n\",\\n       \" 2571353,\\\\n\",\\n       \" 2628072,\\\\n\",\\n       \" 2685619,\\\\n\",\\n       \" 2744000,\\\\n\",\\n       \" 2803221,\\\\n\",\\n       \" 2863288,\\\\n\",\\n       \" 2924207,\\\\n\",\\n       \" 2985984,\\\\n\",\\n       \" 3048625,\\\\n\",\\n       \" 3112136,\\\\n\",\\n       \" 3176523,\\\\n\",\\n       \" 3241792,\\\\n\",\\n       \" 3307949,\\\\n\",\\n       \" 3375000,\\\\n\",\\n       \" 3442951,\\\\n\",\\n       \" 3511808,\\\\n\",\\n       \" 3581577,\\\\n\",\\n       \" 3652264,\\\\n\",\\n       \" 3723875,\\\\n\",\\n       \" 3796416,\\\\n\",\\n       \" 3869893,\\\\n\",\\n       \" 3944312,\\\\n\",\\n       \" 4019679,\\\\n\",\\n       \" 4096000,\\\\n\",\\n       \" 4173281,\\\\n\",\\n       \" 4251528,\\\\n\",\\n       \" 4330747,\\\\n\",\\n       \" 4410944,\\\\n\",\\n       \" 4492125,\\\\n\",\\n       \" 4574296,\\\\n\",\\n       \" 4657463,\\\\n\",\\n       \" 4741632,\\\\n\",\\n       \" 4826809,\\\\n\",\\n       \" 4913000,\\\\n\",\\n       \" 5000211,\\\\n\",\\n       \" 5088448,\\\\n\",\\n       \" 5177717,\\\\n\",\\n       \" 5268024,\\\\n\",\\n       \" 5359375,\\\\n\",\\n       \" 5451776,\\\\n\",\\n       \" 5545233,\\\\n\",\\n       \" 5639752,\\\\n\",\\n       \" 5735339,\\\\n\",\\n       \" 5832000,\\\\n\",\\n       \" 5929741,\\\\n\",\\n       \" 6028568,\\\\n\",\\n       \" 6128487,\\\\n\",\\n       \" 6229504,\\\\n\",\\n       \" 6331625,\\\\n\",\\n       \" 6434856,\\\\n\",\\n       \" 6539203,\\\\n\",\\n       \" 6644672,\\\\n\",\\n       \" 6751269,\\\\n\",\\n       \" 6859000,\\\\n\",\\n       \" 6967871,\\\\n\",\\n       \" 7077888,\\\\n\",\\n       \" 7189057,\\\\n\",\\n       \" 7301384,\\\\n\",\\n       \" 7414875,\\\\n\",\\n       \" 7529536,\\\\n\",\\n       \" 7645373,\\\\n\",\\n       \" 7762392,\\\\n\",\\n       \" 7880599,\\\\n\",\\n       \" 8000000,\\\\n\",\\n       \" 8120601,\\\\n\",\\n       \" 8242408,\\\\n\",\\n       \" 8365427,\\\\n\",\\n       \" 8489664,\\\\n\",\\n       \" 8615125,\\\\n\",\\n       \" 8741816,\\\\n\",\\n       \" 8869743,\\\\n\",\\n       \" 8998912,\\\\n\",\\n       \" 9129329,\\\\n\",\\n       \" 9261000,\\\\n\",\\n       \" 9393931,\\\\n\",\\n       \" 9528128,\\\\n\",\\n       \" 9663597,\\\\n\",\\n       \" 9800344,\\\\n\",\\n       \" 9938375,\\\\n\",\\n       \" 10077696,\\\\n\",\\n       \" 10218313,\\\\n\",\\n       \" 10360232,\\\\n\",\\n       \" 10503459,\\\\n\",\\n       \" 10648000,\\\\n\",\\n       \" 10793861,\\\\n\",\\n       \" 10941048,\\\\n\",\\n       \" 11089567,\\\\n\",\\n       \" 11239424,\\\\n\",\\n       \" 11390625,\\\\n\",\\n       \" 11543176,\\\\n\",\\n       \" 11697083,\\\\n\",\\n       \" 11852352,\\\\n\",\\n       \" 12008989,\\\\n\",\\n       \" 12167000,\\\\n\",\\n       \" 12326391,\\\\n\",\\n       \" 12487168,\\\\n\",\\n       \" 12649337,\\\\n\",\\n       \" 12812904,\\\\n\",\\n       \" 12977875,\\\\n\",\\n       \" 13144256,\\\\n\",\\n       \" 13312053,\\\\n\",\\n       \" 13481272,\\\\n\",\\n       \" 13651919,\\\\n\",\\n       \" 13824000,\\\\n\",\\n       \" 13997521,\\\\n\",\\n       \" 14172488,\\\\n\",\\n       \" 14348907,\\\\n\",\\n       \" 14526784,\\\\n\",\\n       \" 14706125,\\\\n\",\\n       \" 14886936,\\\\n\",\\n       \" 15069223,\\\\n\",\\n       \" 15252992,\\\\n\",\\n       \" 15438249,\\\\n\",\\n       \" 15625000,\\\\n\",\\n       \" 15813251,\\\\n\",\\n       \" 16003008,\\\\n\",\\n       \" 16194277,\\\\n\",\\n       \" 16387064,\\\\n\",\\n       \" 16581375,\\\\n\",\\n       \" 16777216,\\\\n\",\\n       \" 16974593,\\\\n\",\\n       \" 17173512,\\\\n\",\\n       \" 17373979,\\\\n\",\\n       \" 17576000,\\\\n\",\\n       \" 17779581,\\\\n\",\\n       \" 17984728,\\\\n\",\\n       \" 18191447,\\\\n\",\\n       \" 18399744,\\\\n\",\\n       \" 18609625,\\\\n\",\\n       \" 18821096,\\\\n\",\\n       \" 19034163,\\\\n\",\\n       \" 19248832,\\\\n\",\\n       \" 19465109,\\\\n\",\\n       \" 19683000,\\\\n\",\\n       \" 19902511,\\\\n\",\\n       \" 20123648,\\\\n\",\\n       \" 20346417,\\\\n\",\\n       \" 20570824,\\\\n\",\\n       \" 20796875,\\\\n\",\\n       \" 21024576,\\\\n\",\\n       \" 21253933,\\\\n\",\\n       \" 21484952,\\\\n\",\\n       \" 21717639,\\\\n\",\\n       \" 21952000,\\\\n\",\\n       \" 22188041,\\\\n\",\\n       \" 22425768,\\\\n\",\\n       \" 22665187,\\\\n\",\\n       \" 22906304,\\\\n\",\\n       \" 23149125,\\\\n\",\\n       \" 23393656,\\\\n\",\\n       \" 23639903,\\\\n\",\\n       \" 23887872,\\\\n\",\\n       \" 24137569,\\\\n\",\\n       \" 24389000,\\\\n\",\\n       \" 24642171,\\\\n\",\\n       \" 24897088,\\\\n\",\\n       \" 25153757,\\\\n\",\\n       \" 25412184,\\\\n\",\\n       \" 25672375,\\\\n\",\\n       \" 25934336,\\\\n\",\\n       \" 26198073,\\\\n\",\\n       \" 26463592,\\\\n\",\\n       \" 26730899,\\\\n\",\\n       \" 27000000,\\\\n\",\\n       \" 27270901,\\\\n\",\\n       \" 27543608,\\\\n\",\\n       \" 27818127,\\\\n\",\\n       \" 28094464,\\\\n\",\\n       \" 28372625,\\\\n\",\\n       \" 28652616,\\\\n\",\\n       \" 28934443,\\\\n\",\\n       \" 29218112,\\\\n\",\\n       \" 29503629,\\\\n\",\\n       \" 29791000,\\\\n\",\\n       \" 30080231,\\\\n\",\\n       \" 30371328,\\\\n\",\\n       \" 30664297,\\\\n\",\\n       \" 30959144,\\\\n\",\\n       \" 31255875,\\\\n\",\\n       \" 31554496,\\\\n\",\\n       \" 31855013,\\\\n\",\\n       \" 32157432,\\\\n\",\\n       \" 32461759,\\\\n\",\\n       \" 32768000,\\\\n\",\\n       \" 33076161,\\\\n\",\\n       \" 33386248,\\\\n\",\\n       \" 33698267,\\\\n\",\\n       \" 34012224,\\\\n\",\\n       \" 34328125,\\\\n\",\\n       \" 34645976,\\\\n\",\\n       \" 34965783,\\\\n\",\\n       \" 35287552,\\\\n\",\\n       \" 35611289,\\\\n\",\\n       \" 35937000,\\\\n\",\\n       \" 36264691,\\\\n\",\\n       \" 36594368,\\\\n\",\\n       \" 36926037,\\\\n\",\\n       \" 37259704,\\\\n\",\\n       \" 37595375,\\\\n\",\\n       \" 37933056,\\\\n\",\\n       \" 38272753,\\\\n\",\\n       \" 38614472,\\\\n\",\\n       \" 38958219,\\\\n\",\\n       \" 39304000,\\\\n\",\\n       \" 39651821,\\\\n\",\\n       \" 40001688,\\\\n\",\\n       \" 40353607,\\\\n\",\\n       \" 40707584,\\\\n\",\\n       \" 41063625,\\\\n\",\\n       \" 41421736,\\\\n\",\\n       \" 41781923,\\\\n\",\\n       \" 42144192,\\\\n\",\\n       \" 42508549,\\\\n\",\\n       \" 42875000,\\\\n\",\\n       \" 43243551,\\\\n\",\\n       \" 43614208,\\\\n\",\\n       \" 43986977,\\\\n\",\\n       \" 44361864,\\\\n\",\\n       \" 44738875,\\\\n\",\\n       \" 45118016,\\\\n\",\\n       \" 45499293,\\\\n\",\\n       \" 45882712,\\\\n\",\\n       \" 46268279,\\\\n\",\\n       \" 46656000,\\\\n\",\\n       \" 47045881,\\\\n\",\\n       \" 47437928,\\\\n\",\\n       \" 47832147,\\\\n\",\\n       \" 48228544,\\\\n\",\\n       \" 48627125,\\\\n\",\\n       \" 49027896,\\\\n\",\\n       \" 49430863,\\\\n\",\\n       \" 49836032,\\\\n\",\\n       \" 50243409,\\\\n\",\\n       \" 50653000,\\\\n\",\\n       \" 51064811,\\\\n\",\\n       \" 51478848,\\\\n\",\\n       \" 51895117,\\\\n\",\\n       \" 52313624,\\\\n\",\\n       \" 52734375,\\\\n\",\\n       \" 53157376,\\\\n\",\\n       \" 53582633,\\\\n\",\\n       \" 54010152,\\\\n\",\\n       \" 54439939,\\\\n\",\\n       \" 54872000,\\\\n\",\\n       \" 55306341,\\\\n\",\\n       \" 55742968,\\\\n\",\\n       \" 56181887,\\\\n\",\\n       \" 56623104,\\\\n\",\\n       \" 57066625,\\\\n\",\\n       \" 57512456,\\\\n\",\\n       \" 57960603,\\\\n\",\\n       \" 58411072,\\\\n\",\\n       \" 58863869,\\\\n\",\\n       \" 59319000,\\\\n\",\\n       \" 59776471,\\\\n\",\\n       \" 60236288,\\\\n\",\\n       \" 60698457,\\\\n\",\\n       \" 61162984,\\\\n\",\\n       \" 61629875,\\\\n\",\\n       \" 62099136,\\\\n\",\\n       \" 62570773,\\\\n\",\\n       \" 63044792,\\\\n\",\\n       \" 63521199,\\\\n\",\\n       \" 64000000,\\\\n\",\\n       \" 64481201,\\\\n\",\\n       \" 64964808,\\\\n\",\\n       \" 65450827,\\\\n\",\\n       \" 65939264,\\\\n\",\\n       \" 66430125,\\\\n\",\\n       \" 66923416,\\\\n\",\\n       \" 67419143,\\\\n\",\\n       \" 67917312,\\\\n\",\\n       \" 68417929,\\\\n\",\\n       \" 68921000,\\\\n\",\\n       \" 69426531,\\\\n\",\\n       \" 69934528,\\\\n\",\\n       \" 70444997,\\\\n\",\\n       \" 70957944,\\\\n\",\\n       \" 71473375,\\\\n\",\\n       \" 71991296,\\\\n\",\\n       \" 72511713,\\\\n\",\\n       \" 73034632,\\\\n\",\\n       \" 73560059,\\\\n\",\\n       \" 74088000,\\\\n\",\\n       \" 74618461,\\\\n\",\\n       \" 75151448,\\\\n\",\\n       \" 75686967,\\\\n\",\\n       \" 76225024,\\\\n\",\\n       \" 76765625,\\\\n\",\\n       \" 77308776,\\\\n\",\\n       \" 77854483,\\\\n\",\\n       \" 78402752,\\\\n\",\\n       \" 78953589,\\\\n\",\\n       \" 79507000,\\\\n\",\\n       \" 80062991,\\\\n\",\\n       \" 80621568,\\\\n\",\\n       \" 81182737,\\\\n\",\\n       \" 81746504,\\\\n\",\\n       \" 82312875,\\\\n\",\\n       \" 82881856,\\\\n\",\\n       \" 83453453,\\\\n\",\\n       \" 84027672,\\\\n\",\\n       \" 84604519,\\\\n\",\\n       \" 85184000,\\\\n\",\\n       \" 85766121,\\\\n\",\\n       \" 86350888,\\\\n\",\\n       \" 86938307,\\\\n\",\\n       \" 87528384,\\\\n\",\\n       \" 88121125,\\\\n\",\\n       \" 88716536,\\\\n\",\\n       \" 89314623,\\\\n\",\\n       \" 89915392,\\\\n\",\\n       \" 90518849,\\\\n\",\\n       \" 91125000,\\\\n\",\\n       \" 91733851,\\\\n\",\\n       \" 92345408,\\\\n\",\\n       \" 92959677,\\\\n\",\\n       \" 93576664,\\\\n\",\\n       \" 94196375,\\\\n\",\\n       \" 94818816,\\\\n\",\\n       \" 95443993,\\\\n\",\\n       \" 96071912,\\\\n\",\\n       \" 96702579,\\\\n\",\\n       \" 97336000,\\\\n\",\\n       \" 97972181,\\\\n\",\\n       \" 98611128,\\\\n\",\\n       \" 99252847,\\\\n\",\\n       \" 99897344,\\\\n\",\\n       \" 100544625,\\\\n\",\\n       \" 101194696,\\\\n\",\\n       \" 101847563,\\\\n\",\\n       \" 102503232,\\\\n\",\\n       \" 103161709,\\\\n\",\\n       \" 103823000,\\\\n\",\\n       \" 104487111,\\\\n\",\\n       \" 105154048,\\\\n\",\\n       \" 105823817,\\\\n\",\\n       \" 106496424,\\\\n\",\\n       \" 107171875,\\\\n\",\\n       \" 107850176,\\\\n\",\\n       \" 108531333,\\\\n\",\\n       \" 109215352,\\\\n\",\\n       \" 109902239,\\\\n\",\\n       \" 110592000,\\\\n\",\\n       \" 111284641,\\\\n\",\\n       \" 111980168,\\\\n\",\\n       \" 112678587,\\\\n\",\\n       \" 113379904,\\\\n\",\\n       \" 114084125,\\\\n\",\\n       \" 114791256,\\\\n\",\\n       \" 115501303,\\\\n\",\\n       \" 116214272,\\\\n\",\\n       \" 116930169,\\\\n\",\\n       \" 117649000,\\\\n\",\\n       \" 118370771,\\\\n\",\\n       \" 119095488,\\\\n\",\\n       \" 119823157,\\\\n\",\\n       \" 120553784,\\\\n\",\\n       \" 121287375,\\\\n\",\\n       \" 122023936,\\\\n\",\\n       \" 122763473,\\\\n\",\\n       \" 123505992,\\\\n\",\\n       \" 124251499,\\\\n\",\\n       \" 125000000,\\\\n\",\\n       \" 125751501,\\\\n\",\\n       \" 126506008,\\\\n\",\\n       \" 127263527,\\\\n\",\\n       \" 128024064,\\\\n\",\\n       \" 128787625,\\\\n\",\\n       \" 129554216,\\\\n\",\\n       \" 130323843,\\\\n\",\\n       \" 131096512,\\\\n\",\\n       \" 131872229,\\\\n\",\\n       \" 132651000,\\\\n\",\\n       \" 133432831,\\\\n\",\\n       \" 134217728,\\\\n\",\\n       \" 135005697,\\\\n\",\\n       \" 135796744,\\\\n\",\\n       \" 136590875,\\\\n\",\\n       \" 137388096,\\\\n\",\\n       \" 138188413,\\\\n\",\\n       \" 138991832,\\\\n\",\\n       \" 139798359,\\\\n\",\\n       \" 140608000,\\\\n\",\\n       \" 141420761,\\\\n\",\\n       \" 142236648,\\\\n\",\\n       \" 143055667,\\\\n\",\\n       \" 143877824,\\\\n\",\\n       \" 144703125,\\\\n\",\\n       \" 145531576,\\\\n\",\\n       \" 146363183,\\\\n\",\\n       \" 147197952,\\\\n\",\\n       \" 148035889,\\\\n\",\\n       \" 148877000,\\\\n\",\\n       \" 149721291,\\\\n\",\\n       \" 150568768,\\\\n\",\\n       \" 151419437,\\\\n\",\\n       \" 152273304,\\\\n\",\\n       \" 153130375,\\\\n\",\\n       \" 153990656,\\\\n\",\\n       \" 154854153,\\\\n\",\\n       \" 155720872,\\\\n\",\\n       \" 156590819,\\\\n\",\\n       \" 157464000,\\\\n\",\\n       \" 158340421,\\\\n\",\\n       \" 159220088,\\\\n\",\\n       \" 160103007,\\\\n\",\\n       \" 160989184,\\\\n\",\\n       \" 161878625,\\\\n\",\\n       \" 162771336,\\\\n\",\\n       \" 163667323,\\\\n\",\\n       \" 164566592,\\\\n\",\\n       \" 165469149,\\\\n\",\\n       \" 166375000,\\\\n\",\\n       \" 167284151,\\\\n\",\\n       \" 168196608,\\\\n\",\\n       \" 169112377,\\\\n\",\\n       \" 170031464,\\\\n\",\\n       \" 170953875,\\\\n\",\\n       \" 171879616,\\\\n\",\\n       \" 172808693,\\\\n\",\\n       \" 173741112,\\\\n\",\\n       \" 174676879,\\\\n\",\\n       \" 175616000,\\\\n\",\\n       \" 176558481,\\\\n\",\\n       \" 177504328,\\\\n\",\\n       \" 178453547,\\\\n\",\\n       \" 179406144,\\\\n\",\\n       \" 180362125,\\\\n\",\\n       \" 181321496,\\\\n\",\\n       \" 182284263,\\\\n\",\\n       \" 183250432,\\\\n\",\\n       \" 184220009,\\\\n\",\\n       \" 185193000,\\\\n\",\\n       \" 186169411,\\\\n\",\\n       \" 187149248,\\\\n\",\\n       \" 188132517,\\\\n\",\\n       \" 189119224,\\\\n\",\\n       \" 190109375,\\\\n\",\\n       \" 191102976,\\\\n\",\\n       \" 192100033,\\\\n\",\\n       \" 193100552,\\\\n\",\\n       \" 194104539,\\\\n\",\\n       \" 195112000,\\\\n\",\\n       \" 196122941,\\\\n\",\\n       \" 197137368,\\\\n\",\\n       \" 198155287,\\\\n\",\\n       \" 199176704,\\\\n\",\\n       \" 200201625,\\\\n\",\\n       \" 201230056,\\\\n\",\\n       \" 202262003,\\\\n\",\\n       \" 203297472,\\\\n\",\\n       \" 204336469,\\\\n\",\\n       \" 205379000,\\\\n\",\\n       \" 206425071,\\\\n\",\\n       \" 207474688,\\\\n\",\\n       \" 208527857,\\\\n\",\\n       \" 209584584,\\\\n\",\\n       \" 210644875,\\\\n\",\\n       \" 211708736,\\\\n\",\\n       \" 212776173,\\\\n\",\\n       \" 213847192,\\\\n\",\\n       \" 214921799,\\\\n\",\\n       \" 216000000,\\\\n\",\\n       \" 217081801,\\\\n\",\\n       \" 218167208,\\\\n\",\\n       \" 219256227,\\\\n\",\\n       \" 220348864,\\\\n\",\\n       \" 221445125,\\\\n\",\\n       \" 222545016,\\\\n\",\\n       \" 223648543,\\\\n\",\\n       \" 224755712,\\\\n\",\\n       \" 225866529,\\\\n\",\\n       \" 226981000,\\\\n\",\\n       \" 228099131,\\\\n\",\\n       \" 229220928,\\\\n\",\\n       \" 230346397,\\\\n\",\\n       \" 231475544,\\\\n\",\\n       \" 232608375,\\\\n\",\\n       \" 233744896,\\\\n\",\\n       \" 234885113,\\\\n\",\\n       \" 236029032,\\\\n\",\\n       \" 237176659,\\\\n\",\\n       \" 238328000,\\\\n\",\\n       \" 239483061,\\\\n\",\\n       \" 240641848,\\\\n\",\\n       \" 241804367,\\\\n\",\\n       \" 242970624,\\\\n\",\\n       \" 244140625,\\\\n\",\\n       \" 245314376,\\\\n\",\\n       \" 246491883,\\\\n\",\\n       \" 247673152,\\\\n\",\\n       \" 248858189,\\\\n\",\\n       \" 250047000,\\\\n\",\\n       \" 251239591,\\\\n\",\\n       \" 252435968,\\\\n\",\\n       \" 253636137,\\\\n\",\\n       \" 254840104,\\\\n\",\\n       \" 256047875,\\\\n\",\\n       \" 257259456,\\\\n\",\\n       \" 258474853,\\\\n\",\\n       \" 259694072,\\\\n\",\\n       \" 260917119,\\\\n\",\\n       \" 262144000,\\\\n\",\\n       \" 263374721,\\\\n\",\\n       \" 264609288,\\\\n\",\\n       \" 265847707,\\\\n\",\\n       \" 267089984,\\\\n\",\\n       \" 268336125,\\\\n\",\\n       \" 269586136,\\\\n\",\\n       \" 270840023,\\\\n\",\\n       \" 272097792,\\\\n\",\\n       \" 273359449,\\\\n\",\\n       \" 274625000,\\\\n\",\\n       \" 275894451,\\\\n\",\\n       \" 277167808,\\\\n\",\\n       \" 278445077,\\\\n\",\\n       \" 279726264,\\\\n\",\\n       \" 281011375,\\\\n\",\\n       \" 282300416,\\\\n\",\\n       \" 283593393,\\\\n\",\\n       \" 284890312,\\\\n\",\\n       \" 286191179,\\\\n\",\\n       \" 287496000,\\\\n\",\\n       \" 288804781,\\\\n\",\\n       \" 290117528,\\\\n\",\\n       \" 291434247,\\\\n\",\\n       \" 292754944,\\\\n\",\\n       \" 294079625,\\\\n\",\\n       \" 295408296,\\\\n\",\\n       \" 296740963,\\\\n\",\\n       \" 298077632,\\\\n\",\\n       \" 299418309,\\\\n\",\\n       \" 300763000,\\\\n\",\\n       \" 302111711,\\\\n\",\\n       \" 303464448,\\\\n\",\\n       \" 304821217,\\\\n\",\\n       \" 306182024,\\\\n\",\\n       \" 307546875,\\\\n\",\\n       \" 308915776,\\\\n\",\\n       \" 310288733,\\\\n\",\\n       \" 311665752,\\\\n\",\\n       \" 313046839,\\\\n\",\\n       \" 314432000,\\\\n\",\\n       \" 315821241,\\\\n\",\\n       \" 317214568,\\\\n\",\\n       \" 318611987,\\\\n\",\\n       \" 320013504,\\\\n\",\\n       \" 321419125,\\\\n\",\\n       \" 322828856,\\\\n\",\\n       \" 324242703,\\\\n\",\\n       \" 325660672,\\\\n\",\\n       \" 327082769,\\\\n\",\\n       \" 328509000,\\\\n\",\\n       \" 329939371,\\\\n\",\\n       \" 331373888,\\\\n\",\\n       \" 332812557,\\\\n\",\\n       \" 334255384,\\\\n\",\\n       \" 335702375,\\\\n\",\\n       \" 337153536,\\\\n\",\\n       \" 338608873,\\\\n\",\\n       \" 340068392,\\\\n\",\\n       \" 341532099,\\\\n\",\\n       \" 343000000,\\\\n\",\\n       \" 344472101,\\\\n\",\\n       \" 345948408,\\\\n\",\\n       \" 347428927,\\\\n\",\\n       \" 348913664,\\\\n\",\\n       \" 350402625,\\\\n\",\\n       \" 351895816,\\\\n\",\\n       \" 353393243,\\\\n\",\\n       \" 354894912,\\\\n\",\\n       \" 356400829,\\\\n\",\\n       \" 357911000,\\\\n\",\\n       \" 359425431,\\\\n\",\\n       \" 360944128,\\\\n\",\\n       \" 362467097,\\\\n\",\\n       \" 363994344,\\\\n\",\\n       \" 365525875,\\\\n\",\\n       \" 367061696,\\\\n\",\\n       \" 368601813,\\\\n\",\\n       \" 370146232,\\\\n\",\\n       \" 371694959,\\\\n\",\\n       \" 373248000,\\\\n\",\\n       \" 374805361,\\\\n\",\\n       \" 376367048,\\\\n\",\\n       \" 377933067,\\\\n\",\\n       \" 379503424,\\\\n\",\\n       \" 381078125,\\\\n\",\\n       \" 382657176,\\\\n\",\\n       \" 384240583,\\\\n\",\\n       \" 385828352,\\\\n\",\\n       \" 387420489,\\\\n\",\\n       \" 389017000,\\\\n\",\\n       \" 390617891,\\\\n\",\\n       \" 392223168,\\\\n\",\\n       \" 393832837,\\\\n\",\\n       \" 395446904,\\\\n\",\\n       \" 397065375,\\\\n\",\\n       \" 398688256,\\\\n\",\\n       \" 400315553,\\\\n\",\\n       \" 401947272,\\\\n\",\\n       \" 403583419,\\\\n\",\\n       \" 405224000,\\\\n\",\\n       \" 406869021,\\\\n\",\\n       \" 408518488,\\\\n\",\\n       \" 410172407,\\\\n\",\\n       \" 411830784,\\\\n\",\\n       \" 413493625,\\\\n\",\\n       \" 415160936,\\\\n\",\\n       \" 416832723,\\\\n\",\\n       \" 418508992,\\\\n\",\\n       \" 420189749,\\\\n\",\\n       \" 421875000,\\\\n\",\\n       \" 423564751,\\\\n\",\\n       \" 425259008,\\\\n\",\\n       \" 426957777,\\\\n\",\\n       \" 428661064,\\\\n\",\\n       \" 430368875,\\\\n\",\\n       \" 432081216,\\\\n\",\\n       \" 433798093,\\\\n\",\\n       \" 435519512,\\\\n\",\\n       \" 437245479,\\\\n\",\\n       \" 438976000,\\\\n\",\\n       \" 440711081,\\\\n\",\\n       \" 442450728,\\\\n\",\\n       \" 444194947,\\\\n\",\\n       \" 445943744,\\\\n\",\\n       \" 447697125,\\\\n\",\\n       \" 449455096,\\\\n\",\\n       \" 451217663,\\\\n\",\\n       \" 452984832,\\\\n\",\\n       \" 454756609,\\\\n\",\\n       \" 456533000,\\\\n\",\\n       \" 458314011,\\\\n\",\\n       \" 460099648,\\\\n\",\\n       \" 461889917,\\\\n\",\\n       \" 463684824,\\\\n\",\\n       \" 465484375,\\\\n\",\\n       \" 467288576,\\\\n\",\\n       \" 469097433,\\\\n\",\\n       \" 470910952,\\\\n\",\\n       \" 472729139,\\\\n\",\\n       \" 474552000,\\\\n\",\\n       \" 476379541,\\\\n\",\\n       \" 478211768,\\\\n\",\\n       \" 480048687,\\\\n\",\\n       \" 481890304,\\\\n\",\\n       \" 483736625,\\\\n\",\\n       \" 485587656,\\\\n\",\\n       \" 487443403,\\\\n\",\\n       \" 489303872,\\\\n\",\\n       \" 491169069,\\\\n\",\\n       \" 493039000,\\\\n\",\\n       \" 494913671,\\\\n\",\\n       \" 496793088,\\\\n\",\\n       \" 498677257,\\\\n\",\\n       \" 500566184,\\\\n\",\\n       \" 502459875,\\\\n\",\\n       \" 504358336,\\\\n\",\\n       \" 506261573,\\\\n\",\\n       \" 508169592,\\\\n\",\\n       \" 510082399,\\\\n\",\\n       \" 512000000,\\\\n\",\\n       \" 513922401,\\\\n\",\\n       \" 515849608,\\\\n\",\\n       \" 517781627,\\\\n\",\\n       \" 519718464,\\\\n\",\\n       \" 521660125,\\\\n\",\\n       \" 523606616,\\\\n\",\\n       \" 525557943,\\\\n\",\\n       \" 527514112,\\\\n\",\\n       \" 529475129,\\\\n\",\\n       \" 531441000,\\\\n\",\\n       \" 533411731,\\\\n\",\\n       \" 535387328,\\\\n\",\\n       \" 537367797,\\\\n\",\\n       \" 539353144,\\\\n\",\\n       \" 541343375,\\\\n\",\\n       \" 543338496,\\\\n\",\\n       \" 545338513,\\\\n\",\\n       \" 547343432,\\\\n\",\\n       \" 549353259,\\\\n\",\\n       \" 551368000,\\\\n\",\\n       \" 553387661,\\\\n\",\\n       \" 555412248,\\\\n\",\\n       \" 557441767,\\\\n\",\\n       \" 559476224,\\\\n\",\\n       \" 561515625,\\\\n\",\\n       \" 563559976,\\\\n\",\\n       \" 565609283,\\\\n\",\\n       \" 567663552,\\\\n\",\\n       \" 569722789,\\\\n\",\\n       \" 571787000,\\\\n\",\\n       \" 573856191,\\\\n\",\\n       \" 575930368,\\\\n\",\\n       \" 578009537,\\\\n\",\\n       \" 580093704,\\\\n\",\\n       \" 582182875,\\\\n\",\\n       \" 584277056,\\\\n\",\\n       \" 586376253,\\\\n\",\\n       \" 588480472,\\\\n\",\\n       \" 590589719,\\\\n\",\\n       \" 592704000,\\\\n\",\\n       \" 594823321,\\\\n\",\\n       \" 596947688,\\\\n\",\\n       \" 599077107,\\\\n\",\\n       \" 601211584,\\\\n\",\\n       \" 603351125,\\\\n\",\\n       \" 605495736,\\\\n\",\\n       \" 607645423,\\\\n\",\\n       \" 609800192,\\\\n\",\\n       \" 611960049,\\\\n\",\\n       \" 614125000,\\\\n\",\\n       \" 616295051,\\\\n\",\\n       \" 618470208,\\\\n\",\\n       \" 620650477,\\\\n\",\\n       \" 622835864,\\\\n\",\\n       \" 625026375,\\\\n\",\\n       \" 627222016,\\\\n\",\\n       \" 629422793,\\\\n\",\\n       \" 631628712,\\\\n\",\\n       \" 633839779,\\\\n\",\\n       \" 636056000,\\\\n\",\\n       \" 638277381,\\\\n\",\\n       \" 640503928,\\\\n\",\\n       \" 642735647,\\\\n\",\\n       \" 644972544,\\\\n\",\\n       \" 647214625,\\\\n\",\\n       \" 649461896,\\\\n\",\\n       \" 651714363,\\\\n\",\\n       \" 653972032,\\\\n\",\\n       \" 656234909,\\\\n\",\\n       \" 658503000,\\\\n\",\\n       \" 660776311,\\\\n\",\\n       \" 663054848,\\\\n\",\\n       \" 665338617,\\\\n\",\\n       \" 667627624,\\\\n\",\\n       \" 669921875,\\\\n\",\\n       \" 672221376,\\\\n\",\\n       \" 674526133,\\\\n\",\\n       \" 676836152,\\\\n\",\\n       \" 679151439,\\\\n\",\\n       \" 681472000,\\\\n\",\\n       \" 683797841,\\\\n\",\\n       \" 686128968,\\\\n\",\\n       \" 688465387,\\\\n\",\\n       \" 690807104,\\\\n\",\\n       \" 693154125,\\\\n\",\\n       \" 695506456,\\\\n\",\\n       \" 697864103,\\\\n\",\\n       \" 700227072,\\\\n\",\\n       \" 702595369,\\\\n\",\\n       \" 704969000,\\\\n\",\\n       \" 707347971,\\\\n\",\\n       \" 709732288,\\\\n\",\\n       \" 712121957,\\\\n\",\\n       \" 714516984,\\\\n\",\\n       \" 716917375,\\\\n\",\\n       \" 719323136,\\\\n\",\\n       \" 721734273,\\\\n\",\\n       \" 724150792,\\\\n\",\\n       \" 726572699,\\\\n\",\\n       \" 729000000,\\\\n\",\\n       \" 731432701,\\\\n\",\\n       \" 733870808,\\\\n\",\\n       \" 736314327,\\\\n\",\\n       \" 738763264,\\\\n\",\\n       \" 741217625,\\\\n\",\\n       \" 743677416,\\\\n\",\\n       \" 746142643,\\\\n\",\\n       \" 748613312,\\\\n\",\\n       \" 751089429,\\\\n\",\\n       \" 753571000,\\\\n\",\\n       \" 756058031,\\\\n\",\\n       \" 758550528,\\\\n\",\\n       \" 761048497,\\\\n\",\\n       \" 763551944,\\\\n\",\\n       \" 766060875,\\\\n\",\\n       \" 768575296,\\\\n\",\\n       \" 771095213,\\\\n\",\\n       \" 773620632,\\\\n\",\\n       \" 776151559,\\\\n\",\\n       \" 778688000,\\\\n\",\\n       \" 781229961,\\\\n\",\\n       \" 783777448,\\\\n\",\\n       \" 786330467,\\\\n\",\\n       \" 788889024,\\\\n\",\\n       \" 791453125,\\\\n\",\\n       \" 794022776,\\\\n\",\\n       \" 796597983,\\\\n\",\\n       \" 799178752,\\\\n\",\\n       \" 801765089,\\\\n\",\\n       \" 804357000,\\\\n\",\\n       \" 806954491,\\\\n\",\\n       \" 809557568,\\\\n\",\\n       \" 812166237,\\\\n\",\\n       \" 814780504,\\\\n\",\\n       \" 817400375,\\\\n\",\\n       \" 820025856,\\\\n\",\\n       \" 822656953,\\\\n\",\\n       \" 825293672,\\\\n\",\\n       \" 827936019,\\\\n\",\\n       \" 830584000,\\\\n\",\\n       \" 833237621,\\\\n\",\\n       \" 835896888,\\\\n\",\\n       \" 838561807,\\\\n\",\\n       \" 841232384,\\\\n\",\\n       \" 843908625,\\\\n\",\\n       \" 846590536,\\\\n\",\\n       \" 849278123,\\\\n\",\\n       \" 851971392,\\\\n\",\\n       \" 854670349,\\\\n\",\\n       \" 857375000,\\\\n\",\\n       \" 860085351,\\\\n\",\\n       \" 862801408,\\\\n\",\\n       \" 865523177,\\\\n\",\\n       \" 868250664,\\\\n\",\\n       \" 870983875,\\\\n\",\\n       \" 873722816,\\\\n\",\\n       \" 876467493,\\\\n\",\\n       \" 879217912,\\\\n\",\\n       \" 881974079,\\\\n\",\\n       \" 884736000,\\\\n\",\\n       \" 887503681,\\\\n\",\\n       \" 890277128,\\\\n\",\\n       \" 893056347,\\\\n\",\\n       \" 895841344,\\\\n\",\\n       \" 898632125,\\\\n\",\\n       \" 901428696,\\\\n\",\\n       \" 904231063,\\\\n\",\\n       \" 907039232,\\\\n\",\\n       \" 909853209,\\\\n\",\\n       \" 912673000,\\\\n\",\\n       \" 915498611,\\\\n\",\\n       \" 918330048,\\\\n\",\\n       \" 921167317,\\\\n\",\\n       \" 924010424,\\\\n\",\\n       \" 926859375,\\\\n\",\\n       \" 929714176,\\\\n\",\\n       \" 932574833,\\\\n\",\\n       \" 935441352,\\\\n\",\\n       \" 938313739,\\\\n\",\\n       \" 941192000,\\\\n\",\\n       \" 944076141,\\\\n\",\\n       \" 946966168,\\\\n\",\\n       \" 949862087,\\\\n\",\\n       \" 952763904,\\\\n\",\\n       \" 955671625,\\\\n\",\\n       \" 958585256,\\\\n\",\\n       \" 961504803,\\\\n\",\\n       \" 964430272,\\\\n\",\\n       \" 967361669,\\\\n\",\\n       \" 970299000,\\\\n\",\\n       \" 973242271,\\\\n\",\\n       \" 976191488,\\\\n\",\\n       \" 979146657,\\\\n\",\\n       \" 982107784,\\\\n\",\\n       \" 985074875,\\\\n\",\\n       \" 988047936,\\\\n\",\\n       \" 991026973,\\\\n\",\\n       \" 994011992,\\\\n\",\\n       \" 997002999,\\\\n\",\\n       \" 1000000000,\\\\n\",\\n       \" ...]\"\\n      ]\\n     },\\n     \"execution_count\": 21,\\n     \"metadata\": {},\\n     \"output_type\": \"execute_result\"\\n    }\\n   ],\\n   \"source\": [\\n    \"x = ret_insideloop(50000000)\\\\n\",\\n    \"x\"\\n   ]\\n  },\\n  {\\n   \"cell_type\": \"code\",\\n   \"execution_count\": 20,\\n   \"id\": \"c86f557b\",\\n   \"metadata\": {},\\n   \"outputs\": [],\\n   \"source\": [\\n    \"def yld_insideloop(n):\\\\n\",\\n    \"    print(\\'[\\')\\\\n\",\\n    \"    for i in range(1, n+1):\\\\n\",\\n    \"        yield i**3\\\\n\",\\n    \"        if i != n:\\\\n\",\\n    \"            print(\\', \\', end = \\'\\')\\\\n\",\\n    \"        if i == n:\\\\n\",\\n    \"            print(\\']\\')\"\\n   ]\\n  },\\n  {\\n   \"cell_type\": \"code\",\\n   \"execution_count\": 21,\\n   \"id\": \"2b0c067b\",\\n   \"metadata\": {},\\n   \"outputs\": [\\n    {\\n     \"name\": \"stdout\",\\n     \"output_type\": \"stream\",\\n     \"text\": [\\n      \"[\\\\n\",\\n      \"1\\\\n\",\\n      \", 8\\\\n\",\\n      \", 27\\\\n\",\\n      \", 64\\\\n\",\\n      \", 125\\\\n\",\\n      \", 216\\\\n\",\\n      \", 343\\\\n\",\\n      \", 512\\\\n\",\\n      \", 729\\\\n\",\\n      \", 1000\\\\n\",\\n      \", 1331\\\\n\",\\n      \", 1728\\\\n\",\\n      \", 2197\\\\n\",\\n      \", 2744\\\\n\",\\n      \", 3375\\\\n\",\\n      \", 4096\\\\n\",\\n      \", 4913\\\\n\",\\n      \", 5832\\\\n\",\\n      \", 6859\\\\n\",\\n      \", 8000\\\\n\",\\n      \", 9261\\\\n\",\\n      \", 10648\\\\n\",\\n      \", 12167\\\\n\",\\n      \", 13824\\\\n\",\\n      \", 15625\\\\n\",\\n      \", 17576\\\\n\",\\n      \", 19683\\\\n\",\\n      \", 21952\\\\n\",\\n      \", 24389\\\\n\",\\n      \", 27000\\\\n\",\\n      \", 29791\\\\n\",\\n      \", 32768\\\\n\",\\n      \", 35937\\\\n\",\\n      \", 39304\\\\n\",\\n      \", 42875\\\\n\",\\n      \", 46656\\\\n\",\\n      \", 50653\\\\n\",\\n      \", 54872\\\\n\",\\n      \", 59319\\\\n\",\\n      \", 64000\\\\n\",\\n      \", 68921\\\\n\",\\n      \", 74088\\\\n\",\\n      \", 79507\\\\n\",\\n      \", 85184\\\\n\",\\n      \", 91125\\\\n\",\\n      \", 97336\\\\n\",\\n      \", 103823\\\\n\",\\n      \", 110592\\\\n\",\\n      \", 117649\\\\n\",\\n      \", 125000\\\\n\",\\n      \", 132651\\\\n\",\\n      \", 140608\\\\n\",\\n      \", 148877\\\\n\",\\n      \", 157464\\\\n\",\\n      \", 166375\\\\n\",\\n      \", 175616\\\\n\",\\n      \", 185193\\\\n\",\\n      \", 195112\\\\n\",\\n      \", 205379\\\\n\",\\n      \", 216000\\\\n\",\\n      \", 226981\\\\n\",\\n      \", 238328\\\\n\",\\n      \", 250047\\\\n\",\\n      \", 262144\\\\n\",\\n      \", 274625\\\\n\",\\n      \", 287496\\\\n\",\\n      \", 300763\\\\n\",\\n      \", 314432\\\\n\",\\n      \", 328509\\\\n\",\\n      \", 343000\\\\n\",\\n      \", 357911\\\\n\",\\n      \", 373248\\\\n\",\\n      \", 389017\\\\n\",\\n      \", 405224\\\\n\",\\n      \", 421875\\\\n\",\\n      \", 438976\\\\n\",\\n      \", 456533\\\\n\",\\n      \", 474552\\\\n\",\\n      \", 493039\\\\n\",\\n      \", 512000\\\\n\",\\n      \", 531441\\\\n\",\\n      \", 551368\\\\n\",\\n      \", 571787\\\\n\",\\n      \", 592704\\\\n\",\\n      \", 614125\\\\n\",\\n      \", 636056\\\\n\",\\n      \", 658503\\\\n\",\\n      \", 681472\\\\n\",\\n      \", 704969\\\\n\",\\n      \", 729000\\\\n\",\\n      \", 753571\\\\n\",\\n      \", 778688\\\\n\",\\n      \", 804357\\\\n\",\\n      \", 830584\\\\n\",\\n      \", 857375\\\\n\",\\n      \", 884736\\\\n\",\\n      \", 912673\\\\n\",\\n      \", 941192\\\\n\",\\n      \", 970299\\\\n\",\\n      \", 1000000\\\\n\",\\n      \", 1030301\\\\n\",\\n      \", 1061208\\\\n\",\\n      \", 1092727\\\\n\",\\n      \", 1124864\\\\n\",\\n      \", 1157625\\\\n\",\\n      \", 1191016\\\\n\",\\n      \", 1225043\\\\n\",\\n      \", 1259712\\\\n\",\\n      \", 1295029\\\\n\",\\n      \", 1331000\\\\n\",\\n      \", 1367631\\\\n\",\\n      \", 1404928\\\\n\",\\n      \", 1442897\\\\n\",\\n      \", 1481544\\\\n\",\\n      \", 1520875\\\\n\",\\n      \", 1560896\\\\n\",\\n      \", 1601613\\\\n\",\\n      \", 1643032\\\\n\",\\n      \", 1685159\\\\n\",\\n      \", 1728000\\\\n\",\\n      \", 1771561\\\\n\",\\n      \", 1815848\\\\n\",\\n      \", 1860867\\\\n\",\\n      \", 1906624\\\\n\",\\n      \", 1953125\\\\n\",\\n      \", 2000376\\\\n\",\\n      \", 2048383\\\\n\",\\n      \", 2097152\\\\n\",\\n      \", 2146689\\\\n\",\\n      \", 2197000\\\\n\",\\n      \", 2248091\\\\n\",\\n      \", 2299968\\\\n\",\\n      \", 2352637\\\\n\",\\n      \", 2406104\\\\n\",\\n      \", 2460375\\\\n\",\\n      \", 2515456\\\\n\",\\n      \", 2571353\\\\n\",\\n      \", 2628072\\\\n\",\\n      \", 2685619\\\\n\",\\n      \", 2744000\\\\n\",\\n      \", 2803221\\\\n\",\\n      \", 2863288\\\\n\",\\n      \", 2924207\\\\n\",\\n      \", 2985984\\\\n\",\\n      \", 3048625\\\\n\",\\n      \", 3112136\\\\n\",\\n      \", 3176523\\\\n\",\\n      \", 3241792\\\\n\",\\n      \", 3307949\\\\n\",\\n      \", 3375000\\\\n\",\\n      \", 3442951\\\\n\",\\n      \", 3511808\\\\n\",\\n      \", 3581577\\\\n\",\\n      \", 3652264\\\\n\",\\n      \", 3723875\\\\n\",\\n      \", 3796416\\\\n\",\\n      \", 3869893\\\\n\",\\n      \", 3944312\\\\n\",\\n      \", 4019679\\\\n\",\\n      \", 4096000\\\\n\",\\n      \", 4173281\\\\n\",\\n      \", 4251528\\\\n\",\\n      \", 4330747\\\\n\",\\n      \", 4410944\\\\n\",\\n      \", 4492125\\\\n\",\\n      \", 4574296\\\\n\",\\n      \", 4657463\\\\n\",\\n      \", 4741632\\\\n\",\\n      \", 4826809\\\\n\",\\n      \", 4913000\\\\n\",\\n      \", 5000211\\\\n\",\\n      \", 5088448\\\\n\",\\n      \", 5177717\\\\n\",\\n      \", 5268024\\\\n\",\\n      \", 5359375\\\\n\",\\n      \", 5451776\\\\n\",\\n      \", 5545233\\\\n\",\\n      \", 5639752\\\\n\",\\n      \", 5735339\\\\n\",\\n      \", 5832000\\\\n\",\\n      \", 5929741\\\\n\",\\n      \", 6028568\\\\n\",\\n      \", 6128487\\\\n\",\\n      \", 6229504\\\\n\",\\n      \", 6331625\\\\n\",\\n      \", 6434856\\\\n\",\\n      \", 6539203\\\\n\",\\n      \", 6644672\\\\n\",\\n      \", 6751269\\\\n\",\\n      \", 6859000\\\\n\",\\n      \", 6967871\\\\n\",\\n      \", 7077888\\\\n\",\\n      \", 7189057\\\\n\",\\n      \", 7301384\\\\n\",\\n      \", 7414875\\\\n\",\\n      \", 7529536\\\\n\",\\n      \", 7645373\\\\n\",\\n      \", 7762392\\\\n\",\\n      \", 7880599\\\\n\",\\n      \", 8000000\\\\n\",\\n      \", 8120601\\\\n\",\\n      \", 8242408\\\\n\",\\n      \", 8365427\\\\n\",\\n      \", 8489664\\\\n\",\\n      \", 8615125\\\\n\",\\n      \", 8741816\\\\n\",\\n      \", 8869743\\\\n\",\\n      \", 8998912\\\\n\",\\n      \", 9129329\\\\n\",\\n      \", 9261000\\\\n\",\\n      \", 9393931\\\\n\",\\n      \", 9528128\\\\n\",\\n      \", 9663597\\\\n\",\\n      \", 9800344\\\\n\",\\n      \", 9938375\\\\n\",\\n      \", 10077696\\\\n\",\\n      \", 10218313\\\\n\",\\n      \", 10360232\\\\n\",\\n      \", 10503459\\\\n\",\\n      \", 10648000\\\\n\",\\n      \", 10793861\\\\n\",\\n      \", 10941048\\\\n\",\\n      \", 11089567\\\\n\",\\n      \", 11239424\\\\n\",\\n      \", 11390625\\\\n\",\\n      \", 11543176\\\\n\",\\n      \", 11697083\\\\n\",\\n      \", 11852352\\\\n\",\\n      \", 12008989\\\\n\",\\n      \", 12167000\\\\n\",\\n      \", 12326391\\\\n\",\\n      \", 12487168\\\\n\",\\n      \", 12649337\\\\n\",\\n      \", 12812904\\\\n\",\\n      \", 12977875\\\\n\",\\n      \", 13144256\\\\n\",\\n      \", 13312053\\\\n\",\\n      \", 13481272\\\\n\",\\n      \", 13651919\\\\n\",\\n      \", 13824000\\\\n\",\\n      \", 13997521\\\\n\",\\n      \", 14172488\\\\n\",\\n      \", 14348907\\\\n\",\\n      \", 14526784\\\\n\",\\n      \", 14706125\\\\n\",\\n      \", 14886936\\\\n\",\\n      \", 15069223\\\\n\",\\n      \", 15252992\\\\n\",\\n      \", 15438249\\\\n\",\\n      \", 15625000\\\\n\",\\n      \", 15813251\\\\n\",\\n      \", 16003008\\\\n\",\\n      \", 16194277\\\\n\",\\n      \", 16387064\\\\n\",\\n      \", 16581375\\\\n\",\\n      \", 16777216\\\\n\",\\n      \", 16974593\\\\n\",\\n      \", 17173512\\\\n\",\\n      \", 17373979\\\\n\",\\n      \", 17576000\\\\n\",\\n      \", 17779581\\\\n\",\\n      \", 17984728\\\\n\",\\n      \", 18191447\\\\n\",\\n      \", 18399744\\\\n\",\\n      \", 18609625\\\\n\",\\n      \", 18821096\\\\n\",\\n      \", 19034163\\\\n\",\\n      \", 19248832\\\\n\",\\n      \", 19465109\\\\n\",\\n      \", 19683000\\\\n\",\\n      \", 19902511\\\\n\",\\n      \", 20123648\\\\n\",\\n      \", 20346417\\\\n\",\\n      \", 20570824\\\\n\",\\n      \", 20796875\\\\n\",\\n      \", 21024576\\\\n\",\\n      \", 21253933\\\\n\",\\n      \", 21484952\\\\n\",\\n      \", 21717639\\\\n\",\\n      \", 21952000\\\\n\",\\n      \", 22188041\\\\n\",\\n      \", 22425768\\\\n\",\\n      \", 22665187\\\\n\",\\n      \", 22906304\\\\n\",\\n      \", 23149125\\\\n\",\\n      \", 23393656\\\\n\",\\n      \", 23639903\\\\n\",\\n      \", 23887872\\\\n\",\\n      \", 24137569\\\\n\",\\n      \", 24389000\\\\n\",\\n      \", 24642171\\\\n\",\\n      \", 24897088\\\\n\",\\n      \", 25153757\\\\n\",\\n      \", 25412184\\\\n\",\\n      \", 25672375\\\\n\",\\n      \", 25934336\\\\n\",\\n      \", 26198073\\\\n\",\\n      \", 26463592\\\\n\",\\n      \", 26730899\\\\n\",\\n      \", 27000000\\\\n\",\\n      \", 27270901\\\\n\",\\n      \", 27543608\\\\n\",\\n      \", 27818127\\\\n\",\\n      \", 28094464\\\\n\",\\n      \", 28372625\\\\n\",\\n      \", 28652616\\\\n\",\\n      \", 28934443\\\\n\",\\n      \", 29218112\\\\n\",\\n      \", 29503629\\\\n\",\\n      \", 29791000\\\\n\",\\n      \", 30080231\\\\n\",\\n      \", 30371328\\\\n\",\\n      \", 30664297\\\\n\",\\n      \", 30959144\\\\n\",\\n      \", 31255875\\\\n\",\\n      \", 31554496\\\\n\",\\n      \", 31855013\\\\n\",\\n      \", 32157432\\\\n\",\\n      \", 32461759\\\\n\",\\n      \", 32768000\\\\n\",\\n      \", 33076161\\\\n\",\\n      \", 33386248\\\\n\",\\n      \", 33698267\\\\n\",\\n      \", 34012224\\\\n\",\\n      \", 34328125\\\\n\",\\n      \", 34645976\\\\n\",\\n      \", 34965783\\\\n\",\\n      \", 35287552\\\\n\",\\n      \", 35611289\\\\n\",\\n      \", 35937000\\\\n\",\\n      \", 36264691\\\\n\",\\n      \", 36594368\\\\n\",\\n      \", 36926037\\\\n\",\\n      \", 37259704\\\\n\",\\n      \", 37595375\\\\n\",\\n      \", 37933056\\\\n\",\\n      \", 38272753\\\\n\",\\n      \", 38614472\\\\n\",\\n      \", 38958219\\\\n\",\\n      \", 39304000\\\\n\",\\n      \", 39651821\\\\n\",\\n      \", 40001688\\\\n\",\\n      \", 40353607\\\\n\",\\n      \", 40707584\\\\n\",\\n      \", 41063625\\\\n\",\\n      \", 41421736\\\\n\",\\n      \", 41781923\\\\n\",\\n      \", 42144192\\\\n\",\\n      \", 42508549\\\\n\",\\n      \", 42875000\\\\n\",\\n      \", 43243551\\\\n\",\\n      \", 43614208\\\\n\",\\n      \", 43986977\\\\n\",\\n      \", 44361864\\\\n\",\\n      \", 44738875\\\\n\",\\n      \", 45118016\\\\n\",\\n      \", 45499293\\\\n\",\\n      \", 45882712\\\\n\",\\n      \", 46268279\\\\n\",\\n      \", 46656000\\\\n\",\\n      \", 47045881\\\\n\",\\n      \", 47437928\\\\n\",\\n      \", 47832147\\\\n\",\\n      \", 48228544\\\\n\",\\n      \", 48627125\\\\n\",\\n      \", 49027896\\\\n\",\\n      \", 49430863\\\\n\",\\n      \", 49836032\\\\n\",\\n      \", 50243409\\\\n\",\\n      \", 50653000\\\\n\",\\n      \", 51064811\\\\n\",\\n      \", 51478848\\\\n\",\\n      \", 51895117\\\\n\",\\n      \", 52313624\\\\n\",\\n      \", 52734375\\\\n\",\\n      \", 53157376\\\\n\",\\n      \", 53582633\\\\n\",\\n      \", 54010152\\\\n\",\\n      \", 54439939\\\\n\",\\n      \", 54872000\\\\n\",\\n      \", 55306341\\\\n\",\\n      \", 55742968\\\\n\",\\n      \", 56181887\\\\n\",\\n      \", 56623104\\\\n\",\\n      \", 57066625\\\\n\",\\n      \", 57512456\\\\n\",\\n      \", 57960603\\\\n\",\\n      \", 58411072\\\\n\",\\n      \", 58863869\\\\n\",\\n      \", 59319000\\\\n\",\\n      \", 59776471\\\\n\",\\n      \", 60236288\\\\n\",\\n      \", 60698457\\\\n\",\\n      \", 61162984\\\\n\",\\n      \", 61629875\\\\n\",\\n      \", 62099136\\\\n\",\\n      \", 62570773\\\\n\",\\n      \", 63044792\\\\n\",\\n      \", 63521199\\\\n\",\\n      \", 64000000\\\\n\",\\n      \", 64481201\\\\n\",\\n      \", 64964808\\\\n\",\\n      \", 65450827\\\\n\",\\n      \", 65939264\\\\n\",\\n      \", 66430125\\\\n\",\\n      \", 66923416\\\\n\",\\n      \", 67419143\\\\n\",\\n      \", 67917312\\\\n\",\\n      \", 68417929\\\\n\",\\n      \", 68921000\\\\n\",\\n      \", 69426531\\\\n\",\\n      \", 69934528\\\\n\",\\n      \", 70444997\\\\n\",\\n      \", 70957944\\\\n\",\\n      \", 71473375\\\\n\",\\n      \", 71991296\\\\n\",\\n      \", 72511713\\\\n\",\\n      \", 73034632\\\\n\",\\n      \", 73560059\\\\n\",\\n      \", 74088000\\\\n\",\\n      \", 74618461\\\\n\",\\n      \", 75151448\\\\n\",\\n      \", 75686967\\\\n\",\\n      \", 76225024\\\\n\",\\n      \", 76765625\\\\n\",\\n      \", 77308776\\\\n\",\\n      \", 77854483\\\\n\",\\n      \", 78402752\\\\n\",\\n      \", 78953589\\\\n\",\\n      \", 79507000\\\\n\",\\n      \", 80062991\\\\n\",\\n      \", 80621568\\\\n\",\\n      \", 81182737\\\\n\",\\n      \", 81746504\\\\n\",\\n      \", 82312875\\\\n\",\\n      \", 82881856\\\\n\",\\n      \", 83453453\\\\n\",\\n      \", 84027672\\\\n\",\\n      \", 84604519\\\\n\",\\n      \", 85184000\\\\n\",\\n      \", 85766121\\\\n\",\\n      \", 86350888\\\\n\",\\n      \", 86938307\\\\n\",\\n      \", 87528384\\\\n\",\\n      \", 88121125\\\\n\",\\n      \", 88716536\\\\n\",\\n      \", 89314623\\\\n\",\\n      \", 89915392\\\\n\",\\n      \", 90518849\\\\n\",\\n      \", 91125000\\\\n\",\\n      \", 91733851\\\\n\",\\n      \", 92345408\\\\n\",\\n      \", 92959677\\\\n\",\\n      \", 93576664\\\\n\",\\n      \", 94196375\\\\n\",\\n      \", 94818816\\\\n\",\\n      \", 95443993\\\\n\",\\n      \", 96071912\\\\n\",\\n      \", 96702579\\\\n\",\\n      \", 97336000\\\\n\",\\n      \", 97972181\\\\n\",\\n      \", 98611128\\\\n\",\\n      \", 99252847\\\\n\",\\n      \", 99897344\\\\n\",\\n      \", 100544625\\\\n\",\\n      \", 101194696\\\\n\",\\n      \", 101847563\\\\n\",\\n      \", 102503232\\\\n\",\\n      \", 103161709\\\\n\",\\n      \", 103823000\\\\n\",\\n      \", 104487111\\\\n\",\\n      \", 105154048\\\\n\",\\n      \", 105823817\\\\n\",\\n      \", 106496424\\\\n\",\\n      \", 107171875\\\\n\",\\n      \", 107850176\\\\n\",\\n      \", 108531333\\\\n\",\\n      \", 109215352\\\\n\",\\n      \", 109902239\\\\n\",\\n      \", 110592000\\\\n\",\\n      \", 111284641\\\\n\",\\n      \", 111980168\\\\n\",\\n      \", 112678587\\\\n\",\\n      \", 113379904\\\\n\",\\n      \", 114084125\\\\n\",\\n      \", 114791256\\\\n\",\\n      \", 115501303\\\\n\",\\n      \", 116214272\\\\n\",\\n      \", 116930169\\\\n\",\\n      \", 117649000\\\\n\",\\n      \", 118370771\\\\n\",\\n      \", 119095488\\\\n\",\\n      \", 119823157\\\\n\",\\n      \", 120553784\\\\n\",\\n      \", 121287375\\\\n\",\\n      \", 122023936\\\\n\",\\n      \", 122763473\\\\n\",\\n      \", 123505992\\\\n\",\\n      \", 124251499\\\\n\",\\n      \", 125000000\\\\n\",\\n      \", 125751501\\\\n\",\\n      \", 126506008\\\\n\",\\n      \", 127263527\\\\n\",\\n      \", 128024064\\\\n\",\\n      \", 128787625\\\\n\",\\n      \", 129554216\\\\n\",\\n      \", 130323843\\\\n\",\\n      \", 131096512\\\\n\",\\n      \", 131872229\\\\n\",\\n      \", 132651000\\\\n\",\\n      \", 133432831\\\\n\",\\n      \", 134217728\\\\n\",\\n      \", 135005697\\\\n\",\\n      \", 135796744\\\\n\",\\n      \", 136590875\\\\n\",\\n      \", 137388096\\\\n\",\\n      \", 138188413\\\\n\",\\n      \", 138991832\\\\n\",\\n      \", 139798359\\\\n\",\\n      \", 140608000\\\\n\",\\n      \", 141420761\\\\n\",\\n      \", 142236648\\\\n\",\\n      \", 143055667\\\\n\",\\n      \", 143877824\\\\n\",\\n      \", 144703125\\\\n\",\\n      \", 145531576\\\\n\",\\n      \", 146363183\\\\n\",\\n      \", 147197952\\\\n\",\\n      \", 148035889\\\\n\",\\n      \", 148877000\\\\n\",\\n      \", 149721291\\\\n\",\\n      \", 150568768\\\\n\",\\n      \", 151419437\\\\n\",\\n      \", 152273304\\\\n\",\\n      \", 153130375\\\\n\",\\n      \", 153990656\\\\n\",\\n      \", 154854153\\\\n\",\\n      \", 155720872\\\\n\",\\n      \", 156590819\\\\n\",\\n      \", 157464000\\\\n\",\\n      \", 158340421\\\\n\",\\n      \", 159220088\\\\n\",\\n      \", 160103007\\\\n\",\\n      \", 160989184\\\\n\",\\n      \", 161878625\\\\n\",\\n      \", 162771336\\\\n\",\\n      \", 163667323\\\\n\",\\n      \", 164566592\\\\n\",\\n      \", 165469149\\\\n\",\\n      \", 166375000\\\\n\",\\n      \", 167284151\\\\n\",\\n      \", 168196608\\\\n\",\\n      \", 169112377\\\\n\",\\n      \", 170031464\\\\n\",\\n      \", 170953875\\\\n\",\\n      \", 171879616\\\\n\",\\n      \", 172808693\\\\n\",\\n      \", 173741112\\\\n\",\\n      \", 174676879\\\\n\",\\n      \", 175616000\\\\n\",\\n      \", 176558481\\\\n\",\\n      \", 177504328\\\\n\",\\n      \", 178453547\\\\n\",\\n      \", 179406144\\\\n\",\\n      \", 180362125\\\\n\",\\n      \", 181321496\\\\n\",\\n      \", 182284263\\\\n\",\\n      \", 183250432\\\\n\",\\n      \", 184220009\\\\n\",\\n      \", 185193000\\\\n\",\\n      \", 186169411\\\\n\",\\n      \", 187149248\\\\n\",\\n      \", 188132517\\\\n\",\\n      \", 189119224\\\\n\",\\n      \", 190109375\\\\n\",\\n      \", 191102976\\\\n\",\\n      \", 192100033\\\\n\",\\n      \", 193100552\\\\n\",\\n      \", 194104539\\\\n\",\\n      \", 195112000\\\\n\",\\n      \", 196122941\\\\n\",\\n      \", 197137368\\\\n\",\\n      \", 198155287\\\\n\",\\n      \", 199176704\\\\n\",\\n      \", 200201625\\\\n\",\\n      \", 201230056\\\\n\",\\n      \", 202262003\\\\n\",\\n      \", 203297472\\\\n\",\\n      \", 204336469\\\\n\",\\n      \", 205379000\\\\n\",\\n      \", 206425071\\\\n\",\\n      \", 207474688\\\\n\",\\n      \", 208527857\\\\n\",\\n      \", 209584584\\\\n\",\\n      \", 210644875\\\\n\",\\n      \", 211708736\\\\n\",\\n      \", 212776173\\\\n\",\\n      \", 213847192\\\\n\",\\n      \", 214921799\\\\n\",\\n      \", 216000000\\\\n\",\\n      \"]\\\\n\"\\n     ]\\n    }\\n   ],\\n   \"source\": [\\n    \"for i in yld_insideloop(600):\\\\n\",\\n    \"    print(i)\"\\n   ]\\n  },\\n  {\\n   \"cell_type\": \"code\",\\n   \"execution_count\": null,\\n   \"id\": \"b2b8088e\",\\n   \"metadata\": {},\\n   \"outputs\": [],\\n   \"source\": []\\n  }\\n ],\\n \"metadata\": {\\n  \"kernelspec\": {\\n   \"display_name\": \"Python 3 (ipykernel)\",\\n   \"language\": \"python\",\\n   \"name\": \"python3\"\\n  },\\n  \"language_info\": {\\n   \"codemirror_mode\": {\\n    \"name\": \"ipython\",\\n    \"version\": 3\\n   },\\n   \"file_extension\": \".py\",\\n   \"mimetype\": \"text/x-python\",\\n   \"name\": \"python\",\\n   \"nbconvert_exporter\": \"python\",\\n   \"pygments_lexer\": \"ipython3\",\\n   \"version\": \"3.9.7\"\\n  }\\n },\\n \"nbformat\": 4,\\n \"nbformat_minor\": 5\\n}\\n'"
      ]
     },
     "execution_count": 12,
     "metadata": {},
     "output_type": "execute_result"
    }
   ],
   "source": [
    "x.read()"
   ]
  },
  {
   "cell_type": "code",
   "execution_count": 13,
   "id": "b9415a68",
   "metadata": {},
   "outputs": [],
   "source": [
    "x.close()"
   ]
  },
  {
   "cell_type": "code",
   "execution_count": 5,
   "id": "044ee102",
   "metadata": {},
   "outputs": [],
   "source": [
    "import os\n",
    "os.remove(\"in2_python_basics.ipynb\")"
   ]
  },
  {
   "cell_type": "code",
   "execution_count": 20,
   "id": "790696fa",
   "metadata": {},
   "outputs": [
    {
     "ename": "UnsupportedOperation",
     "evalue": "read",
     "output_type": "error",
     "traceback": [
      "\u001b[1;31m---------------------------------------------------------------------------\u001b[0m",
      "\u001b[1;31mUnsupportedOperation\u001b[0m                      Traceback (most recent call last)",
      "\u001b[1;32mC:\\Users\\SURYAN~1\\AppData\\Local\\Temp/ipykernel_20184/4054685340.py\u001b[0m in \u001b[0;36m<module>\u001b[1;34m\u001b[0m\n\u001b[1;32m----> 1\u001b[1;33m \u001b[0mg\u001b[0m\u001b[1;33m.\u001b[0m\u001b[0mread\u001b[0m\u001b[1;33m(\u001b[0m\u001b[1;33m)\u001b[0m\u001b[1;33m\u001b[0m\u001b[1;33m\u001b[0m\u001b[0m\n\u001b[0m",
      "\u001b[1;31mUnsupportedOperation\u001b[0m: read"
     ]
    }
   ],
   "source": [
    "g.read()"
   ]
  },
  {
   "cell_type": "code",
   "execution_count": 22,
   "id": "b7cb62d7",
   "metadata": {},
   "outputs": [
    {
     "ename": "TypeError",
     "evalue": "a bytes-like object is required, not 'str'",
     "output_type": "error",
     "traceback": [
      "\u001b[1;31m---------------------------------------------------------------------------\u001b[0m",
      "\u001b[1;31mTypeError\u001b[0m                                 Traceback (most recent call last)",
      "\u001b[1;32mC:\\Users\\SURYAN~1\\AppData\\Local\\Temp/ipykernel_20184/2785075024.py\u001b[0m in \u001b[0;36m<module>\u001b[1;34m\u001b[0m\n\u001b[0;32m      5\u001b[0m \u001b[0mTo\u001b[0m \u001b[0mstore\u001b[0m \u001b[0mthis\u001b[0m \u001b[0mtype\u001b[0m \u001b[0mof\u001b[0m \u001b[0mdata\u001b[0m\u001b[1;33m,\u001b[0m \u001b[0mI\u001b[0m \u001b[0mgotta\u001b[0m \u001b[0mmake\u001b[0m \u001b[0msure\u001b[0m \u001b[0mto\u001b[0m \u001b[0mallocate\u001b[0m \u001b[0mit\u001b[0m \u001b[0mfirst\u001b[0m\u001b[1;33m.\u001b[0m\u001b[1;33m\u001b[0m\u001b[1;33m\u001b[0m\u001b[0m\n\u001b[0;32m      6\u001b[0m '''\n\u001b[1;32m----> 7\u001b[1;33m \u001b[0mf\u001b[0m\u001b[1;33m.\u001b[0m\u001b[0mwrite\u001b[0m\u001b[1;33m(\u001b[0m\u001b[1;34m\"Yesterday I went to the Airia Mall and watch Dr. Strange in MOM\"\u001b[0m\u001b[1;33m)\u001b[0m\u001b[1;33m\u001b[0m\u001b[1;33m\u001b[0m\u001b[0m\n\u001b[0m",
      "\u001b[1;31mTypeError\u001b[0m: a bytes-like object is required, not 'str'"
     ]
    }
   ],
   "source": [
    "'''\n",
    "Binary type data is nothing but the format of data \n",
    "in which it is stored by the system.\n",
    "\n",
    "To store this type of data, I gotta make sure to allocate it first. \n",
    "'''\n",
    "f.write(\"Yesterday I went to the Airia Mall and watched Dr. Strange in MOM\")"
   ]
  },
  {
   "cell_type": "code",
   "execution_count": 39,
   "id": "ee604939",
   "metadata": {},
   "outputs": [
    {
     "data": {
      "text/plain": [
       "66"
      ]
     },
     "execution_count": 39,
     "metadata": {},
     "output_type": "execute_result"
    }
   ],
   "source": [
    "f.write(b\"Yesterday I went to the Airia Mall and watched Dr. Strange in MOM.\")"
   ]
  },
  {
   "cell_type": "code",
   "execution_count": 40,
   "id": "f108a9d2",
   "metadata": {},
   "outputs": [],
   "source": [
    "f.close()"
   ]
  },
  {
   "cell_type": "code",
   "execution_count": 50,
   "id": "f9757b32",
   "metadata": {},
   "outputs": [],
   "source": [
    "y = open(\"Test.txt\", 'wb')"
   ]
  },
  {
   "cell_type": "code",
   "execution_count": 51,
   "id": "83863ca8",
   "metadata": {},
   "outputs": [
    {
     "data": {
      "text/plain": [
       "96"
      ]
     },
     "execution_count": 51,
     "metadata": {},
     "output_type": "execute_result"
    }
   ],
   "source": [
    "y.write(b\"Yesterday I went to the Airia Mall and watched Dr. Strange in MOM. It was an awesome experience.\")"
   ]
  },
  {
   "cell_type": "code",
   "execution_count": 52,
   "id": "d3d53fe5",
   "metadata": {},
   "outputs": [
    {
     "data": {
      "text/plain": [
       "9"
      ]
     },
     "execution_count": 52,
     "metadata": {},
     "output_type": "execute_result"
    }
   ],
   "source": [
    "y.seek(9)"
   ]
  },
  {
   "cell_type": "code",
   "execution_count": 53,
   "id": "7bf4c3e4",
   "metadata": {},
   "outputs": [
    {
     "ename": "UnsupportedOperation",
     "evalue": "read",
     "output_type": "error",
     "traceback": [
      "\u001b[1;31m---------------------------------------------------------------------------\u001b[0m",
      "\u001b[1;31mUnsupportedOperation\u001b[0m                      Traceback (most recent call last)",
      "\u001b[1;32mC:\\Users\\SURYAN~1\\AppData\\Local\\Temp/ipykernel_20184/2500738568.py\u001b[0m in \u001b[0;36m<module>\u001b[1;34m\u001b[0m\n\u001b[1;32m----> 1\u001b[1;33m \u001b[0my\u001b[0m\u001b[1;33m.\u001b[0m\u001b[0mread\u001b[0m\u001b[1;33m(\u001b[0m\u001b[1;33m)\u001b[0m\u001b[1;33m\u001b[0m\u001b[1;33m\u001b[0m\u001b[0m\n\u001b[0m",
      "\u001b[1;31mUnsupportedOperation\u001b[0m: read"
     ]
    }
   ],
   "source": [
    "y.read()"
   ]
  },
  {
   "cell_type": "code",
   "execution_count": 75,
   "id": "75610660",
   "metadata": {},
   "outputs": [],
   "source": [
    "y.close()"
   ]
  },
  {
   "cell_type": "code",
   "execution_count": 76,
   "id": "9735a7aa",
   "metadata": {},
   "outputs": [],
   "source": [
    "y = open(\"Test.txt\", \"rb\")"
   ]
  },
  {
   "cell_type": "code",
   "execution_count": 77,
   "id": "77699d31",
   "metadata": {},
   "outputs": [
    {
     "data": {
      "text/plain": [
       "4"
      ]
     },
     "execution_count": 77,
     "metadata": {},
     "output_type": "execute_result"
    }
   ],
   "source": [
    "y.seek(4)"
   ]
  },
  {
   "cell_type": "code",
   "execution_count": 78,
   "id": "d9c732eb",
   "metadata": {},
   "outputs": [
    {
     "data": {
      "text/plain": [
       "b'erday I went to the Airia Mall and watched Dr. Strange in MOM. It was an awesome experience.\\nsfdsg\\nfsjk\\nnjkafbkjlabfk;janf;kjanf;kj\\nskHFKJBsfjkbowr[qkmfcz]\\nadnvabdvgvafjkanfkhoaifhkanfjvahdvbcdaj,djoaudigqjndklqjiodhkuqjvbdnqm dvjfp[wifbanf]\\n'"
      ]
     },
     "execution_count": 78,
     "metadata": {},
     "output_type": "execute_result"
    }
   ],
   "source": [
    "y.read()"
   ]
  },
  {
   "cell_type": "code",
   "execution_count": 79,
   "id": "45abb9df",
   "metadata": {},
   "outputs": [
    {
     "data": {
      "text/plain": [
       "0"
      ]
     },
     "execution_count": 79,
     "metadata": {},
     "output_type": "execute_result"
    }
   ],
   "source": [
    "y.seek(0)"
   ]
  },
  {
   "cell_type": "code",
   "execution_count": 80,
   "id": "f7371469",
   "metadata": {},
   "outputs": [
    {
     "data": {
      "text/plain": [
       "b'Yesterday I went to the Airia Mall and watched Dr. Strange in MOM. It was an awesome experience.\\n'"
      ]
     },
     "execution_count": 80,
     "metadata": {},
     "output_type": "execute_result"
    }
   ],
   "source": [
    "y.readline()"
   ]
  },
  {
   "cell_type": "code",
   "execution_count": 107,
   "id": "9a7ba676",
   "metadata": {},
   "outputs": [
    {
     "data": {
      "text/plain": [
       "190"
      ]
     },
     "execution_count": 107,
     "metadata": {},
     "output_type": "execute_result"
    }
   ],
   "source": [
    "y.seek(-56, 2)"
   ]
  },
  {
   "cell_type": "code",
   "execution_count": 82,
   "id": "9b0348a7",
   "metadata": {},
   "outputs": [
    {
     "data": {
      "text/plain": [
       "b'ahdvbcdaj,djoaudigqjndklqjiodhkuqjvbdnqm dvjfp[wifbanf]\\n'"
      ]
     },
     "execution_count": 82,
     "metadata": {},
     "output_type": "execute_result"
    }
   ],
   "source": [
    "y.read()"
   ]
  },
  {
   "cell_type": "code",
   "execution_count": 106,
   "id": "18cceb5a",
   "metadata": {},
   "outputs": [
    {
     "data": {
      "text/plain": [
       "0"
      ]
     },
     "execution_count": 106,
     "metadata": {},
     "output_type": "execute_result"
    }
   ],
   "source": [
    "y.seek(0)"
   ]
  },
  {
   "cell_type": "code",
   "execution_count": 99,
   "id": "fbf9ce3c",
   "metadata": {},
   "outputs": [
    {
     "data": {
      "text/plain": [
       "302"
      ]
     },
     "execution_count": 99,
     "metadata": {},
     "output_type": "execute_result"
    }
   ],
   "source": [
    "y.seek(56, 2)"
   ]
  },
  {
   "cell_type": "code",
   "execution_count": 108,
   "id": "22f1525a",
   "metadata": {},
   "outputs": [],
   "source": [
    "y.close()"
   ]
  },
  {
   "cell_type": "code",
   "execution_count": 159,
   "id": "2f3025a1",
   "metadata": {},
   "outputs": [],
   "source": [
    "y = open(\"Test.txt\", \"r+\")"
   ]
  },
  {
   "cell_type": "code",
   "execution_count": 160,
   "id": "1a92dc24",
   "metadata": {},
   "outputs": [
    {
     "data": {
      "text/plain": [
       "0"
      ]
     },
     "execution_count": 160,
     "metadata": {},
     "output_type": "execute_result"
    }
   ],
   "source": [
    "y.seek(0)"
   ]
  },
  {
   "cell_type": "code",
   "execution_count": 161,
   "id": "d8696bbb",
   "metadata": {},
   "outputs": [
    {
     "data": {
      "text/plain": [
       "250"
      ]
     },
     "execution_count": 161,
     "metadata": {},
     "output_type": "execute_result"
    }
   ],
   "source": [
    "y.seek(250)"
   ]
  },
  {
   "cell_type": "code",
   "execution_count": 162,
   "id": "dd92ae7e",
   "metadata": {},
   "outputs": [
    {
     "data": {
      "text/plain": [
       "'Oooo Yea!'"
      ]
     },
     "execution_count": 162,
     "metadata": {},
     "output_type": "execute_result"
    }
   ],
   "source": [
    "y.read()"
   ]
  },
  {
   "cell_type": "code",
   "execution_count": 163,
   "id": "fc7fbd32",
   "metadata": {},
   "outputs": [
    {
     "data": {
      "text/plain": [
       "9"
      ]
     },
     "execution_count": 163,
     "metadata": {},
     "output_type": "execute_result"
    }
   ],
   "source": [
    "y.write(\"Oooo Yea!\")"
   ]
  },
  {
   "cell_type": "code",
   "execution_count": 164,
   "id": "67441182",
   "metadata": {},
   "outputs": [],
   "source": [
    "y.close()"
   ]
  },
  {
   "cell_type": "code",
   "execution_count": 165,
   "id": "7c6b74d4",
   "metadata": {},
   "outputs": [],
   "source": [
    "y = open(\"Test.txt\", \"r+\")"
   ]
  },
  {
   "cell_type": "code",
   "execution_count": 166,
   "id": "9f06d691",
   "metadata": {},
   "outputs": [
    {
     "data": {
      "text/plain": [
       "5"
      ]
     },
     "execution_count": 166,
     "metadata": {},
     "output_type": "execute_result"
    }
   ],
   "source": [
    "y.fileno()"
   ]
  },
  {
   "cell_type": "code",
   "execution_count": 170,
   "id": "7ca68757",
   "metadata": {},
   "outputs": [],
   "source": [
    "import os"
   ]
  },
  {
   "cell_type": "code",
   "execution_count": 171,
   "id": "901fb179",
   "metadata": {},
   "outputs": [
    {
     "data": {
      "text/plain": [
       "'C:\\\\Users\\\\Suryansh Grover\\\\iNeuron\\\\1. python basics'"
      ]
     },
     "execution_count": 171,
     "metadata": {},
     "output_type": "execute_result"
    }
   ],
   "source": [
    "pwd()"
   ]
  },
  {
   "cell_type": "code",
   "execution_count": 172,
   "id": "2e226117",
   "metadata": {},
   "outputs": [
    {
     "data": {
      "text/plain": [
       "'C:\\\\Users\\\\Suryansh Grover\\\\iNeuron\\\\1. python basics'"
      ]
     },
     "execution_count": 172,
     "metadata": {},
     "output_type": "execute_result"
    }
   ],
   "source": [
    "os.getcwd()"
   ]
  },
  {
   "cell_type": "code",
   "execution_count": 173,
   "id": "698e3d2a",
   "metadata": {},
   "outputs": [
    {
     "data": {
      "text/plain": [
       "['.ipynb_checkpoints',\n",
       " 'Basics.txt',\n",
       " 'in1_python.ipynb',\n",
       " 'in2_python_functions.ipynb',\n",
       " 'in3_file_handling.ipynb',\n",
       " 'Test.txt']"
      ]
     },
     "execution_count": 173,
     "metadata": {},
     "output_type": "execute_result"
    }
   ],
   "source": [
    "os.listdir()"
   ]
  },
  {
   "cell_type": "code",
   "execution_count": 176,
   "id": "6a4e1b04",
   "metadata": {},
   "outputs": [
    {
     "data": {
      "text/plain": [
       "['.atom',\n",
       " '.conda',\n",
       " '.condarc',\n",
       " '.continuum',\n",
       " '.gitconfig',\n",
       " '.ipynb_checkpoints',\n",
       " '.ipython',\n",
       " '.jupyter',\n",
       " '.matplotlib',\n",
       " '.opera',\n",
       " '.pylint.d',\n",
       " '.python_history',\n",
       " '.spyder-py3',\n",
       " '3.1_python_coursera.py',\n",
       " '3D Objects',\n",
       " 'A1.ipynb',\n",
       " 'A2.ipynb',\n",
       " 'anaconda3',\n",
       " 'AppData',\n",
       " 'Application Data',\n",
       " 'BullseyeCoverageError.txt',\n",
       " 'Contacts',\n",
       " 'Cookies',\n",
       " 'DIVYANSH .html',\n",
       " 'Documents',\n",
       " 'Downloads',\n",
       " 'dwhelper',\n",
       " 'Google Drive (not syncing)',\n",
       " 'Image Transform Project',\n",
       " 'iNeuron',\n",
       " 'Jedi',\n",
       " 'Links',\n",
       " 'Local Settings',\n",
       " 'MicrosoftEdgeBackups',\n",
       " 'Music',\n",
       " 'My Documents',\n",
       " 'my python .py scripts',\n",
       " 'Mylio',\n",
       " 'NetHood',\n",
       " 'NTUSER.DAT',\n",
       " 'ntuser.dat.LOG1',\n",
       " 'ntuser.dat.LOG2',\n",
       " 'NTUSER.DAT{9d576a74-1999-11eb-94cc-847cc68e55df}.TxR.0.regtrans-ms',\n",
       " 'NTUSER.DAT{9d576a74-1999-11eb-94cc-847cc68e55df}.TxR.1.regtrans-ms',\n",
       " 'NTUSER.DAT{9d576a74-1999-11eb-94cc-847cc68e55df}.TxR.2.regtrans-ms',\n",
       " 'NTUSER.DAT{9d576a74-1999-11eb-94cc-847cc68e55df}.TxR.blf',\n",
       " 'NTUSER.DAT{9d576a75-1999-11eb-94cc-847cc68e55df}.TM.blf',\n",
       " 'NTUSER.DAT{9d576a75-1999-11eb-94cc-847cc68e55df}.TMContainer00000000000000000001.regtrans-ms',\n",
       " 'NTUSER.DAT{9d576a75-1999-11eb-94cc-847cc68e55df}.TMContainer00000000000000000002.regtrans-ms',\n",
       " 'ntuser.ini',\n",
       " 'OneDrive',\n",
       " 'PrintHood',\n",
       " 'Recent',\n",
       " 'Searches',\n",
       " 'SendTo',\n",
       " 'source',\n",
       " 'Start Menu',\n",
       " 'Templates',\n",
       " 'toefl writing task 1 (practice 2).txt',\n",
       " 'toefl writing task 1.txt',\n",
       " 'Videos',\n",
       " 'w0I5mayhEem-LxI3AmSYig_d4fa7d243d7e4186895a4cb2befed1e6_hello-world-given-files',\n",
       " 'w0I5mayhEem-LxI3AmSYig_d4fa7d243d7e4186895a4cb2befed1e6_hello-world-given-files.zip']"
      ]
     },
     "execution_count": 176,
     "metadata": {},
     "output_type": "execute_result"
    }
   ],
   "source": [
    "os.listdir(\"C:\\\\Users\\\\Suryansh Grover\")"
   ]
  },
  {
   "cell_type": "code",
   "execution_count": 177,
   "id": "0bd7ced1",
   "metadata": {},
   "outputs": [
    {
     "data": {
      "text/plain": [
       "'C:\\\\Users\\\\Suryansh Grover\\\\iNeuron\\\\1. python basics'"
      ]
     },
     "execution_count": 177,
     "metadata": {},
     "output_type": "execute_result"
    }
   ],
   "source": [
    "pwd()"
   ]
  },
  {
   "cell_type": "code",
   "execution_count": 178,
   "id": "63df666b",
   "metadata": {},
   "outputs": [],
   "source": [
    "os.chdir('E:')"
   ]
  },
  {
   "cell_type": "code",
   "execution_count": 179,
   "id": "5942f8d7",
   "metadata": {},
   "outputs": [
    {
     "data": {
      "text/plain": [
       "'E:\\\\'"
      ]
     },
     "execution_count": 179,
     "metadata": {},
     "output_type": "execute_result"
    }
   ],
   "source": [
    "pwd()"
   ]
  },
  {
   "cell_type": "code",
   "execution_count": 180,
   "id": "70d1095f",
   "metadata": {},
   "outputs": [
    {
     "data": {
      "text/plain": [
       "['$AV_ASW',\n",
       " '$RECYCLE.BIN',\n",
       " 'DumpStack.log.tmp',\n",
       " 'fake stuff',\n",
       " 'fav',\n",
       " 'imsmanifest.xml',\n",
       " 'msdia80.dll',\n",
       " 'self learning',\n",
       " 'System Volume Information']"
      ]
     },
     "execution_count": 180,
     "metadata": {},
     "output_type": "execute_result"
    }
   ],
   "source": [
    "os.listdir()"
   ]
  },
  {
   "cell_type": "code",
   "execution_count": 181,
   "id": "e6440030",
   "metadata": {},
   "outputs": [],
   "source": [
    "os.chdir('D:')"
   ]
  },
  {
   "cell_type": "code",
   "execution_count": 182,
   "id": "0d050f74",
   "metadata": {},
   "outputs": [
    {
     "data": {
      "text/plain": [
       "['$RECYCLE.BIN',\n",
       " 'Boot',\n",
       " 'bootmgr',\n",
       " 'bootmgr.efi',\n",
       " 'EFI',\n",
       " 'preload',\n",
       " 'Recovery',\n",
       " 'RP.ini',\n",
       " 'sources',\n",
       " 'System Volume Information']"
      ]
     },
     "execution_count": 182,
     "metadata": {},
     "output_type": "execute_result"
    }
   ],
   "source": [
    "os.listdir()"
   ]
  },
  {
   "cell_type": "code",
   "execution_count": 183,
   "id": "42157801",
   "metadata": {},
   "outputs": [
    {
     "data": {
      "text/plain": [
       "'D:\\\\'"
      ]
     },
     "execution_count": 183,
     "metadata": {},
     "output_type": "execute_result"
    }
   ],
   "source": [
    "pwd()"
   ]
  },
  {
   "cell_type": "code",
   "execution_count": 184,
   "id": "8f97d707",
   "metadata": {},
   "outputs": [],
   "source": [
    "os.chdir(\"E:\")"
   ]
  },
  {
   "cell_type": "code",
   "execution_count": 185,
   "id": "aee074d1",
   "metadata": {},
   "outputs": [
    {
     "data": {
      "text/plain": [
       "'E:\\\\'"
      ]
     },
     "execution_count": 185,
     "metadata": {},
     "output_type": "execute_result"
    }
   ],
   "source": [
    "pwd()"
   ]
  },
  {
   "cell_type": "code",
   "execution_count": 186,
   "id": "757782c5",
   "metadata": {},
   "outputs": [
    {
     "data": {
      "text/plain": [
       "['$AV_ASW',\n",
       " '$RECYCLE.BIN',\n",
       " 'DumpStack.log.tmp',\n",
       " 'fake stuff',\n",
       " 'fav',\n",
       " 'imsmanifest.xml',\n",
       " 'msdia80.dll',\n",
       " 'self learning',\n",
       " 'System Volume Information']"
      ]
     },
     "execution_count": 186,
     "metadata": {},
     "output_type": "execute_result"
    }
   ],
   "source": [
    "os.listdir()"
   ]
  },
  {
   "cell_type": "code",
   "execution_count": 6,
   "id": "97040c56",
   "metadata": {},
   "outputs": [],
   "source": [
    "os.chdir(\"E://fake stuff\")"
   ]
  },
  {
   "cell_type": "code",
   "execution_count": 7,
   "id": "6300a10e",
   "metadata": {},
   "outputs": [
    {
     "data": {
      "text/plain": [
       "['Anaconda3-2020.02-Windows-x86_64.exe',\n",
       " 'AnyDesk.exe',\n",
       " 'apache-cassandra-3.11.13-bin.tar.gz',\n",
       " 'AtomSetup-x64.exe',\n",
       " 'bootstrap-4.3.1-dist.zip',\n",
       " 'Complete-Python-3-Bootcamp-master.zip',\n",
       " 'FreeCourseSite.com-Udemy - Complete Python Bootcamp Go from zero to hero in Python 3.torrent',\n",
       " 'GitHubDesktopSetup-x64.exe',\n",
       " 'GitHubDesktopSetup.exe',\n",
       " 'installbackupandsync.exe',\n",
       " 'jdk-8u202-windows-x64.exe',\n",
       " 'Microsoft Windows 10 1607 Oct 2016 (x64) FULL [TechTools].iso',\n",
       " 'mongodb-windows-x86_64-5.0.8-signed.msi',\n",
       " 'MusicConverter.exe',\n",
       " 'mysql-installer-community-8.0.29.0.msi',\n",
       " 'not mine',\n",
       " 'psiphon.exe.orig',\n",
       " 'psiphon3.exe',\n",
       " 'psiphon3.exe.orig',\n",
       " 'rufus-2.17.exe',\n",
       " 'SeagateToolkit.exe',\n",
       " 'SetupMylio64.exe',\n",
       " 'SpotifySetup.exe',\n",
       " 'Sublime Text Build 3211 x64 Setup.exe',\n",
       " 'tsetup.2.4.7.exe',\n",
       " 'Udeler-Setup-1.8.2-windows-x64.exe',\n",
       " 'uTorrent.exe',\n",
       " 'VdhCoAppSetup-1.6.3.exe',\n",
       " 'vlc-3.0.16-win32.exe',\n",
       " 'VSCodeUserSetup-x64-1.51.1.exe',\n",
       " 'vs_community__2099719131.1605929385.exe',\n",
       " 'winrar-x64-511.exe']"
      ]
     },
     "execution_count": 7,
     "metadata": {},
     "output_type": "execute_result"
    }
   ],
   "source": [
    "os.listdir()"
   ]
  },
  {
   "cell_type": "code",
   "execution_count": 191,
   "id": "e164b0d4",
   "metadata": {},
   "outputs": [],
   "source": [
    "os.chdir(\"E://fav\")"
   ]
  },
  {
   "cell_type": "code",
   "execution_count": 197,
   "id": "a5c042ac",
   "metadata": {},
   "outputs": [
    {
     "data": {
      "text/plain": [
       "['pics', 'standards', 'watchshit']"
      ]
     },
     "execution_count": 197,
     "metadata": {},
     "output_type": "execute_result"
    }
   ],
   "source": [
    "os.listdir()"
   ]
  },
  {
   "cell_type": "code",
   "execution_count": 200,
   "id": "1a2518cf",
   "metadata": {},
   "outputs": [],
   "source": [
    "os.chdir(\"E://fav//watchshit//one piece\")"
   ]
  },
  {
   "cell_type": "code",
   "execution_count": 201,
   "id": "23aa6f25",
   "metadata": {},
   "outputs": [
    {
     "data": {
      "text/plain": [
       "['EP.651.v1.1080p.mp4',\n",
       " 'EP.652.v2.1080p.mp4',\n",
       " 'EP.656.v1.1080p.mp4',\n",
       " 'EP.657.v1.1080p.mp4',\n",
       " 'EP.658.v1.1080p.mp4',\n",
       " 'EP.659.v1.1080p.mp4',\n",
       " 'EP.660.v1.1080p.mp4',\n",
       " 'EP.661.v1.1080p.mp4',\n",
       " 'EP.663.v1.1080p.mp4',\n",
       " 'EP.664.v1.1080p.mp4',\n",
       " 'EP.665.v1.1080p.mp4',\n",
       " 'EP.666.v1.1080p.mp4',\n",
       " 'EP.667.v1.1080p.mp4',\n",
       " 'EP.668.v1.1080p.mp4',\n",
       " 'EP.669.v1.1080p.mp4',\n",
       " 'EP.670.v1.1080p.mp4',\n",
       " 'EP.671.v1.1080p.mp4',\n",
       " 'EP.672.v1.1080p.mp4',\n",
       " 'EP.673.v1.1080p.mp4',\n",
       " 'EP.674.v1.1080p.mp4',\n",
       " 'EP.675.v1.1080p.mp4',\n",
       " 'EP.676.v1.1080p.mp4',\n",
       " 'EP.677.v1.1080p.mp4',\n",
       " 'EP.678.v1.1080p.mp4',\n",
       " 'EP.679.v1.1080p.mp4',\n",
       " 'EP.680.v1.1080p.mp4',\n",
       " 'EP.681.v1.1080p.mp4',\n",
       " 'EP.682.v2.1080p.mp4',\n",
       " 'EP.683.v1.1080p.mp4',\n",
       " 'EP.684.v1.1080p.mp4',\n",
       " 'EP.685.v1.1080p.mp4',\n",
       " 'EP.686.v1.1080p.mp4',\n",
       " 'EP.687.v1.1080p.mp4',\n",
       " 'EP.688.v1.1080p.mp4',\n",
       " 'EP.689.v1.1080p.mp4',\n",
       " 'EP.690.v1.1080p.mp4',\n",
       " 'EP.691.v1.1080p.mp4',\n",
       " 'EP.692.v1.1080p.mp4',\n",
       " 'EP.693.v1.1080p.mp4',\n",
       " 'EP.694.v1.1080p.mp4',\n",
       " 'EP.695.v1.1080p.mp4',\n",
       " 'EP.696.v1.1080p.mp4',\n",
       " 'EP.697.v2.1080p.mp4',\n",
       " 'EP.698.v1.1080p.mp4',\n",
       " 'EP.699.v1.1080p.mp4',\n",
       " 'EP.700.v1.1080p.mp4',\n",
       " 'EP.701.v1.1080p.mp4',\n",
       " 'EP.702.v1.1080p.mp4',\n",
       " 'EP.703.v1.1080p.mp4',\n",
       " 'EP.704.v1.1080p.mp4',\n",
       " 'EP.705.v1.1080p.mp4',\n",
       " 'EP.706.v1.1080p.mp4',\n",
       " 'EP.707.v1.1080p.mp4',\n",
       " 'EP.708.v1.1080p.mp4',\n",
       " 'EP.709.v1.1080p.mp4',\n",
       " 'EP.710.v2.1080p.mp4',\n",
       " 'favs']"
      ]
     },
     "execution_count": 201,
     "metadata": {},
     "output_type": "execute_result"
    }
   ],
   "source": [
    "os.listdir()"
   ]
  },
  {
   "cell_type": "code",
   "execution_count": 202,
   "id": "c156b8ec",
   "metadata": {},
   "outputs": [],
   "source": [
    "f = open(\"EP.707.v1.1080p.mp4\", \"r\")"
   ]
  },
  {
   "cell_type": "code",
   "execution_count": 203,
   "id": "cbe921f4",
   "metadata": {},
   "outputs": [
    {
     "ename": "UnicodeDecodeError",
     "evalue": "'charmap' codec can't decode byte 0x8f in position 723: character maps to <undefined>",
     "output_type": "error",
     "traceback": [
      "\u001b[1;31m---------------------------------------------------------------------------\u001b[0m",
      "\u001b[1;31mUnicodeDecodeError\u001b[0m                        Traceback (most recent call last)",
      "\u001b[1;32mC:\\Users\\SURYAN~1\\AppData\\Local\\Temp/ipykernel_20184/973349034.py\u001b[0m in \u001b[0;36m<module>\u001b[1;34m\u001b[0m\n\u001b[1;32m----> 1\u001b[1;33m \u001b[0mf\u001b[0m\u001b[1;33m.\u001b[0m\u001b[0mreadlines\u001b[0m\u001b[1;33m(\u001b[0m\u001b[1;33m)\u001b[0m\u001b[1;33m\u001b[0m\u001b[1;33m\u001b[0m\u001b[0m\n\u001b[0m",
      "\u001b[1;32m~\\anaconda3\\lib\\encodings\\cp1252.py\u001b[0m in \u001b[0;36mdecode\u001b[1;34m(self, input, final)\u001b[0m\n\u001b[0;32m     21\u001b[0m \u001b[1;32mclass\u001b[0m \u001b[0mIncrementalDecoder\u001b[0m\u001b[1;33m(\u001b[0m\u001b[0mcodecs\u001b[0m\u001b[1;33m.\u001b[0m\u001b[0mIncrementalDecoder\u001b[0m\u001b[1;33m)\u001b[0m\u001b[1;33m:\u001b[0m\u001b[1;33m\u001b[0m\u001b[1;33m\u001b[0m\u001b[0m\n\u001b[0;32m     22\u001b[0m     \u001b[1;32mdef\u001b[0m \u001b[0mdecode\u001b[0m\u001b[1;33m(\u001b[0m\u001b[0mself\u001b[0m\u001b[1;33m,\u001b[0m \u001b[0minput\u001b[0m\u001b[1;33m,\u001b[0m \u001b[0mfinal\u001b[0m\u001b[1;33m=\u001b[0m\u001b[1;32mFalse\u001b[0m\u001b[1;33m)\u001b[0m\u001b[1;33m:\u001b[0m\u001b[1;33m\u001b[0m\u001b[1;33m\u001b[0m\u001b[0m\n\u001b[1;32m---> 23\u001b[1;33m         \u001b[1;32mreturn\u001b[0m \u001b[0mcodecs\u001b[0m\u001b[1;33m.\u001b[0m\u001b[0mcharmap_decode\u001b[0m\u001b[1;33m(\u001b[0m\u001b[0minput\u001b[0m\u001b[1;33m,\u001b[0m\u001b[0mself\u001b[0m\u001b[1;33m.\u001b[0m\u001b[0merrors\u001b[0m\u001b[1;33m,\u001b[0m\u001b[0mdecoding_table\u001b[0m\u001b[1;33m)\u001b[0m\u001b[1;33m[\u001b[0m\u001b[1;36m0\u001b[0m\u001b[1;33m]\u001b[0m\u001b[1;33m\u001b[0m\u001b[1;33m\u001b[0m\u001b[0m\n\u001b[0m\u001b[0;32m     24\u001b[0m \u001b[1;33m\u001b[0m\u001b[0m\n\u001b[0;32m     25\u001b[0m \u001b[1;32mclass\u001b[0m \u001b[0mStreamWriter\u001b[0m\u001b[1;33m(\u001b[0m\u001b[0mCodec\u001b[0m\u001b[1;33m,\u001b[0m\u001b[0mcodecs\u001b[0m\u001b[1;33m.\u001b[0m\u001b[0mStreamWriter\u001b[0m\u001b[1;33m)\u001b[0m\u001b[1;33m:\u001b[0m\u001b[1;33m\u001b[0m\u001b[1;33m\u001b[0m\u001b[0m\n",
      "\u001b[1;31mUnicodeDecodeError\u001b[0m: 'charmap' codec can't decode byte 0x8f in position 723: character maps to <undefined>"
     ]
    }
   ],
   "source": [
    "f.readlines()"
   ]
  },
  {
   "cell_type": "code",
   "execution_count": 207,
   "id": "fa7121c4",
   "metadata": {},
   "outputs": [
    {
     "data": {
      "text/plain": [
       "False"
      ]
     },
     "execution_count": 207,
     "metadata": {},
     "output_type": "execute_result"
    }
   ],
   "source": [
    "os.path.isdir(\"E://fav//watchshit//one piece//not mine\")"
   ]
  },
  {
   "cell_type": "code",
   "execution_count": 208,
   "id": "a816c999",
   "metadata": {},
   "outputs": [],
   "source": [
    "import shutil"
   ]
  },
  {
   "cell_type": "code",
   "execution_count": 209,
   "id": "8af299c9",
   "metadata": {},
   "outputs": [
    {
     "data": {
      "text/plain": [
       "'E://fav//watchshit//one piece\\\\not mine'"
      ]
     },
     "execution_count": 209,
     "metadata": {},
     "output_type": "execute_result"
    }
   ],
   "source": [
    "shutil.move(\"E://fake stuff//not mine\", \"E://fav//watchshit//one piece\")"
   ]
  },
  {
   "cell_type": "code",
   "execution_count": 211,
   "id": "a42ab795",
   "metadata": {},
   "outputs": [
    {
     "data": {
      "text/plain": [
       "'E://fake stuff\\\\not mine'"
      ]
     },
     "execution_count": 211,
     "metadata": {},
     "output_type": "execute_result"
    }
   ],
   "source": [
    "shutil.move(\"E://fav//watchshit//one piece//not mine\", \"E://fake stuff\")"
   ]
  },
  {
   "cell_type": "code",
   "execution_count": 225,
   "id": "955d0f5a",
   "metadata": {},
   "outputs": [],
   "source": [
    "'''\n",
    "Task:\n",
    "\n",
    "1. Create a new directory\n",
    "2. Create 10 txt files and write same data at a time in txt files.\n",
    "3. Read all the data from this dir and print into the console.\n",
    "4. Hold all the data in a list.\n",
    "5. Write all the data in a new file from the list.\n",
    "6. Keep only a new file in the present dir and dump rest in the new one.\n",
    "'''\n",
    "import os"
   ]
  },
  {
   "cell_type": "code",
   "execution_count": 226,
   "id": "1ca621d5",
   "metadata": {},
   "outputs": [
    {
     "data": {
      "text/plain": [
       "'E:\\\\fav\\\\watchshit\\\\one piece'"
      ]
     },
     "execution_count": 226,
     "metadata": {},
     "output_type": "execute_result"
    }
   ],
   "source": [
    "pwd()"
   ]
  },
  {
   "cell_type": "code",
   "execution_count": 227,
   "id": "7a8f8b1b",
   "metadata": {},
   "outputs": [],
   "source": [
    "os.mkdir(\"E://new dir\")"
   ]
  },
  {
   "cell_type": "code",
   "execution_count": 229,
   "id": "871fb3db",
   "metadata": {},
   "outputs": [],
   "source": [
    "os.chdir(\"E://new dir\")"
   ]
  },
  {
   "cell_type": "code",
   "execution_count": 1,
   "id": "4173b3b3",
   "metadata": {},
   "outputs": [
    {
     "data": {
      "text/plain": [
       "'C:\\\\Users\\\\Suryansh Grover\\\\iNeuron\\\\1. python basics'"
      ]
     },
     "execution_count": 1,
     "metadata": {},
     "output_type": "execute_result"
    }
   ],
   "source": [
    "pwd()"
   ]
  },
  {
   "cell_type": "code",
   "execution_count": 2,
   "id": "3b30b164",
   "metadata": {},
   "outputs": [],
   "source": [
    "def gen_sam_names(s_name, s_ext, n):\n",
    "    tot_sam = []\n",
    "    for i in range(1, n+1):\n",
    "        tot_sam.append(s_name + str(i) + s_ext)\n",
    "    return tot_sam \n",
    "    "
   ]
  },
  {
   "cell_type": "code",
   "execution_count": 3,
   "id": "732f0f64",
   "metadata": {},
   "outputs": [
    {
     "data": {
      "text/plain": [
       "['sample_1.txt',\n",
       " 'sample_2.txt',\n",
       " 'sample_3.txt',\n",
       " 'sample_4.txt',\n",
       " 'sample_5.txt',\n",
       " 'sample_6.txt',\n",
       " 'sample_7.txt',\n",
       " 'sample_8.txt',\n",
       " 'sample_9.txt',\n",
       " 'sample_10.txt']"
      ]
     },
     "execution_count": 3,
     "metadata": {},
     "output_type": "execute_result"
    }
   ],
   "source": [
    "x = gen_sam_names(\"sample_\", \".txt\", 10)\n",
    "x"
   ]
  },
  {
   "cell_type": "code",
   "execution_count": 5,
   "id": "f000a5a5",
   "metadata": {},
   "outputs": [],
   "source": [
    "import os"
   ]
  },
  {
   "cell_type": "code",
   "execution_count": 6,
   "id": "74cdbe4b",
   "metadata": {},
   "outputs": [
    {
     "data": {
      "text/plain": [
       "\"\\nThe Straw Hats, the Franky Family, and the Galley-La Company team up to rescue Nico Robin, save Franky, and avenge Iceburg. \\nTo do this, they attack Enies Lobby, a government stronghold where CP9 is based, declaring war on the World Government.\\nRobin re-joins; several power-ups for the crew are introduced (Luffy's Gears, \\nSanji's Diable Jambe, Zoro's Kyutoryu, Nami's Perfect Clima Tact, Usopp's Kabuto and Chopper's Monster Point); \\nZoro loses Yubashiri; the Going Merry is sunk.\\n\""
      ]
     },
     "execution_count": 6,
     "metadata": {},
     "output_type": "execute_result"
    }
   ],
   "source": [
    "'''\n",
    "The Straw Hats, the Franky Family, and the Galley-La Company team up to rescue Nico Robin, save Franky, and avenge Iceburg. \n",
    "To do this, they attack Enies Lobby, a government stronghold where CP9 is based, declaring war on the World Government.\n",
    "Robin re-joins; several power-ups for the crew are introduced (Luffy's Gears, \n",
    "Sanji's Diable Jambe, Zoro's Kyutoryu, Nami's Perfect Clima Tact, Usopp's Kabuto and Chopper's Monster Point); \n",
    "Zoro loses Yubashiri; the Going Merry is sunk.\n",
    "'''"
   ]
  },
  {
   "cell_type": "code",
   "execution_count": 7,
   "id": "16580bf6",
   "metadata": {},
   "outputs": [],
   "source": [
    "os.mkdir(\"E://new dir\")"
   ]
  },
  {
   "cell_type": "code",
   "execution_count": 13,
   "id": "ba4929bf",
   "metadata": {},
   "outputs": [
    {
     "data": {
      "text/plain": [
       "'E:\\\\new dir'"
      ]
     },
     "execution_count": 13,
     "metadata": {},
     "output_type": "execute_result"
    }
   ],
   "source": [
    "os.chdir(\"E://new dir\")\n",
    "os.getcwd()"
   ]
  },
  {
   "cell_type": "code",
   "execution_count": 11,
   "id": "1b0d2af3",
   "metadata": {},
   "outputs": [
    {
     "data": {
      "text/plain": [
       "'E:\\\\new dir'"
      ]
     },
     "execution_count": 11,
     "metadata": {},
     "output_type": "execute_result"
    }
   ],
   "source": [
    "pwd()"
   ]
  },
  {
   "cell_type": "code",
   "execution_count": 14,
   "id": "05e4b6de",
   "metadata": {},
   "outputs": [],
   "source": [
    "for i in range(10):\n",
    "    for j in x:\n",
    "        f = open(j, \"w+\")\n",
    "        f.write(\"The Straw Hats, the Franky Family, and the Galley-La Company team up to rescue Nico Robin, save Franky, and avenge Iceburg.\")\n",
    "        f.close()\n",
    "        "
   ]
  },
  {
   "cell_type": "code",
   "execution_count": 15,
   "id": "fd04f676",
   "metadata": {},
   "outputs": [
    {
     "data": {
      "text/plain": [
       "'E:\\\\new dir'"
      ]
     },
     "execution_count": 15,
     "metadata": {},
     "output_type": "execute_result"
    }
   ],
   "source": [
    "pwd()"
   ]
  },
  {
   "cell_type": "code",
   "execution_count": 27,
   "id": "ce837cbb",
   "metadata": {},
   "outputs": [
    {
     "data": {
      "text/plain": [
       "['sample_1.txt',\n",
       " 'sample_10.txt',\n",
       " 'sample_2.txt',\n",
       " 'sample_3.txt',\n",
       " 'sample_4.txt',\n",
       " 'sample_5.txt',\n",
       " 'sample_6.txt',\n",
       " 'sample_7.txt',\n",
       " 'sample_8.txt',\n",
       " 'sample_9.txt']"
      ]
     },
     "execution_count": 27,
     "metadata": {},
     "output_type": "execute_result"
    }
   ],
   "source": [
    "z = os.listdir()\n",
    "z"
   ]
  },
  {
   "cell_type": "code",
   "execution_count": 48,
   "id": "0d7d14e3",
   "metadata": {},
   "outputs": [],
   "source": [
    "f = open(\"sample_1.txt\", \"r\")"
   ]
  },
  {
   "cell_type": "code",
   "execution_count": 49,
   "id": "fe420575",
   "metadata": {},
   "outputs": [
    {
     "data": {
      "text/plain": [
       "['The Straw Hats, the Franky Family, and the Galley-La Company team up to rescue Nico Robin, save Franky, and avenge Iceburg.']"
      ]
     },
     "execution_count": 49,
     "metadata": {},
     "output_type": "execute_result"
    }
   ],
   "source": [
    "lst = []\n",
    "lst.append(f.read())\n",
    "lst"
   ]
  },
  {
   "cell_type": "code",
   "execution_count": 38,
   "id": "21c90d4f",
   "metadata": {},
   "outputs": [
    {
     "data": {
      "text/plain": [
       "0"
      ]
     },
     "execution_count": 38,
     "metadata": {},
     "output_type": "execute_result"
    }
   ],
   "source": [
    "f.seek(0)"
   ]
  },
  {
   "cell_type": "code",
   "execution_count": 39,
   "id": "39113e44",
   "metadata": {},
   "outputs": [],
   "source": [
    "f.close()"
   ]
  },
  {
   "cell_type": "code",
   "execution_count": 54,
   "id": "ba208d53",
   "metadata": {},
   "outputs": [
    {
     "name": "stdout",
     "output_type": "stream",
     "text": [
      "The Straw Hats, the Franky Family, and the Galley-La Company team up to rescue Nico Robin, save Franky, and avenge Iceburg.\n",
      "The Straw Hats, the Franky Family, and the Galley-La Company team up to rescue Nico Robin, save Franky, and avenge Iceburg.\n",
      "The Straw Hats, the Franky Family, and the Galley-La Company team up to rescue Nico Robin, save Franky, and avenge Iceburg.\n",
      "The Straw Hats, the Franky Family, and the Galley-La Company team up to rescue Nico Robin, save Franky, and avenge Iceburg.\n",
      "The Straw Hats, the Franky Family, and the Galley-La Company team up to rescue Nico Robin, save Franky, and avenge Iceburg.\n",
      "The Straw Hats, the Franky Family, and the Galley-La Company team up to rescue Nico Robin, save Franky, and avenge Iceburg.\n",
      "The Straw Hats, the Franky Family, and the Galley-La Company team up to rescue Nico Robin, save Franky, and avenge Iceburg.\n",
      "The Straw Hats, the Franky Family, and the Galley-La Company team up to rescue Nico Robin, save Franky, and avenge Iceburg.\n",
      "The Straw Hats, the Franky Family, and the Galley-La Company team up to rescue Nico Robin, save Franky, and avenge Iceburg.\n",
      "The Straw Hats, the Franky Family, and the Galley-La Company team up to rescue Nico Robin, save Franky, and avenge Iceburg.\n"
     ]
    }
   ],
   "source": [
    "#task3 and task 4\n",
    "task4 = []\n",
    "for i in z:\n",
    "    f = open(i, \"r\")\n",
    "    print(f.read())\n",
    "    f.close()\n",
    "    \n",
    "    f = open(i, \"r\")\n",
    "    task4.append(f.read())\n",
    "    f.close()"
   ]
  },
  {
   "cell_type": "code",
   "execution_count": 55,
   "id": "37e1baef",
   "metadata": {},
   "outputs": [
    {
     "data": {
      "text/plain": [
       "['The Straw Hats, the Franky Family, and the Galley-La Company team up to rescue Nico Robin, save Franky, and avenge Iceburg.',\n",
       " 'The Straw Hats, the Franky Family, and the Galley-La Company team up to rescue Nico Robin, save Franky, and avenge Iceburg.',\n",
       " 'The Straw Hats, the Franky Family, and the Galley-La Company team up to rescue Nico Robin, save Franky, and avenge Iceburg.',\n",
       " 'The Straw Hats, the Franky Family, and the Galley-La Company team up to rescue Nico Robin, save Franky, and avenge Iceburg.',\n",
       " 'The Straw Hats, the Franky Family, and the Galley-La Company team up to rescue Nico Robin, save Franky, and avenge Iceburg.',\n",
       " 'The Straw Hats, the Franky Family, and the Galley-La Company team up to rescue Nico Robin, save Franky, and avenge Iceburg.',\n",
       " 'The Straw Hats, the Franky Family, and the Galley-La Company team up to rescue Nico Robin, save Franky, and avenge Iceburg.',\n",
       " 'The Straw Hats, the Franky Family, and the Galley-La Company team up to rescue Nico Robin, save Franky, and avenge Iceburg.',\n",
       " 'The Straw Hats, the Franky Family, and the Galley-La Company team up to rescue Nico Robin, save Franky, and avenge Iceburg.',\n",
       " 'The Straw Hats, the Franky Family, and the Galley-La Company team up to rescue Nico Robin, save Franky, and avenge Iceburg.']"
      ]
     },
     "execution_count": 55,
     "metadata": {},
     "output_type": "execute_result"
    }
   ],
   "source": [
    "task4"
   ]
  },
  {
   "cell_type": "code",
   "execution_count": 113,
   "id": "68fe8801",
   "metadata": {},
   "outputs": [],
   "source": [
    "#task 5: Write all the data in a new file from the list.\n",
    "g = open(\"new sample.txt\", 'w+')\n",
    "for i in task4:\n",
    "    g.write(i)\n"
   ]
  },
  {
   "cell_type": "code",
   "execution_count": 112,
   "id": "a4f71aad",
   "metadata": {},
   "outputs": [],
   "source": [
    "g.close()"
   ]
  },
  {
   "cell_type": "code",
   "execution_count": 115,
   "id": "ff30c95d",
   "metadata": {},
   "outputs": [
    {
     "data": {
      "text/plain": [
       "'The Straw Hats, the Franky Family, and the Galley-La Company team up to rescue Nico Robin, save Franky, and avenge Iceburg.The Straw Hats, the Franky Family, and the Galley-La Company team up to rescue Nico Robin, save Franky, and avenge Iceburg.The Straw Hats, the Franky Family, and the Galley-La Company team up to rescue Nico Robin, save Franky, and avenge Iceburg.The Straw Hats, the Franky Family, and the Galley-La Company team up to rescue Nico Robin, save Franky, and avenge Iceburg.The Straw Hats, the Franky Family, and the Galley-La Company team up to rescue Nico Robin, save Franky, and avenge Iceburg.The Straw Hats, the Franky Family, and the Galley-La Company team up to rescue Nico Robin, save Franky, and avenge Iceburg.The Straw Hats, the Franky Family, and the Galley-La Company team up to rescue Nico Robin, save Franky, and avenge Iceburg.The Straw Hats, the Franky Family, and the Galley-La Company team up to rescue Nico Robin, save Franky, and avenge Iceburg.The Straw Hats, the Franky Family, and the Galley-La Company team up to rescue Nico Robin, save Franky, and avenge Iceburg.The Straw Hats, the Franky Family, and the Galley-La Company team up to rescue Nico Robin, save Franky, and avenge Iceburg.'"
      ]
     },
     "execution_count": 115,
     "metadata": {},
     "output_type": "execute_result"
    }
   ],
   "source": [
    "g.read()"
   ]
  },
  {
   "cell_type": "code",
   "execution_count": 114,
   "id": "0e943afb",
   "metadata": {},
   "outputs": [
    {
     "data": {
      "text/plain": [
       "0"
      ]
     },
     "execution_count": 114,
     "metadata": {},
     "output_type": "execute_result"
    }
   ],
   "source": [
    "g.seek(0)"
   ]
  },
  {
   "cell_type": "code",
   "execution_count": 119,
   "id": "3cab687b",
   "metadata": {},
   "outputs": [],
   "source": [
    "os.mkdir(\"E://new dir1\")"
   ]
  },
  {
   "cell_type": "code",
   "execution_count": 120,
   "id": "e1534618",
   "metadata": {},
   "outputs": [],
   "source": [
    "#task 6: Keep only a new file in the present dir and dump the rest in a new one.\n",
    "for i in x:\n",
    "    shutil.move(i, \"E://new dir1\")\n"
   ]
  },
  {
   "cell_type": "code",
   "execution_count": 118,
   "id": "b8e2c5d2",
   "metadata": {},
   "outputs": [],
   "source": [
    "import shutil"
   ]
  },
  {
   "cell_type": "code",
   "execution_count": 124,
   "id": "69dbeac0",
   "metadata": {},
   "outputs": [],
   "source": [
    "'''\n",
    "Task:\n",
    "\n",
    "1. Create a new directory\n",
    "2. Create 10 txt files and write same data at a time in txt files.\n",
    "3. Read all the data from this dir and print into the console.\n",
    "4. Hold all the data in a list.\n",
    "5. Write all the data in a new file from the list.\n",
    "6. Keep only a new file in the present dir and dump rest in the new one.\n",
    "'''\n",
    "\n",
    "#task 1 and 2:\n",
    "\n",
    "import os \n",
    "\n",
    "os.mkdir(\"E://direc_x\")\n",
    "os.chdir(\"E://direc_x\")\n",
    "\n",
    "def gen_sam_names(s_name, s_ext, n):\n",
    "    tot_sam = []\n",
    "    for i in range(1, n+1):\n",
    "        tot_sam.append(s_name + str(i) + s_ext)\n",
    "    return tot_sam \n",
    "\n",
    "ten_f = gen_sam_names(\"sample_\", \".txt\", 10)\n",
    "\n",
    "for i in range(10):\n",
    "    for j in ten_f:\n",
    "        f = open(j, \"w+\")\n",
    "        f.write(\"The Straw Hats, the Franky Family, and the Galley-La Company team up to rescue Nico Robin, save Franky, and avenge Iceburg.\")\n",
    "        f.close()  \n"
   ]
  },
  {
   "cell_type": "code",
   "execution_count": 125,
   "id": "2c9fa5c0",
   "metadata": {},
   "outputs": [
    {
     "name": "stdout",
     "output_type": "stream",
     "text": [
      "The Straw Hats, the Franky Family, and the Galley-La Company team up to rescue Nico Robin, save Franky, and avenge Iceburg.\n",
      "The Straw Hats, the Franky Family, and the Galley-La Company team up to rescue Nico Robin, save Franky, and avenge Iceburg.\n",
      "The Straw Hats, the Franky Family, and the Galley-La Company team up to rescue Nico Robin, save Franky, and avenge Iceburg.\n",
      "The Straw Hats, the Franky Family, and the Galley-La Company team up to rescue Nico Robin, save Franky, and avenge Iceburg.\n",
      "The Straw Hats, the Franky Family, and the Galley-La Company team up to rescue Nico Robin, save Franky, and avenge Iceburg.\n",
      "The Straw Hats, the Franky Family, and the Galley-La Company team up to rescue Nico Robin, save Franky, and avenge Iceburg.\n",
      "The Straw Hats, the Franky Family, and the Galley-La Company team up to rescue Nico Robin, save Franky, and avenge Iceburg.\n",
      "The Straw Hats, the Franky Family, and the Galley-La Company team up to rescue Nico Robin, save Franky, and avenge Iceburg.\n",
      "The Straw Hats, the Franky Family, and the Galley-La Company team up to rescue Nico Robin, save Franky, and avenge Iceburg.\n",
      "The Straw Hats, the Franky Family, and the Galley-La Company team up to rescue Nico Robin, save Franky, and avenge Iceburg.\n"
     ]
    }
   ],
   "source": [
    "#task3 and task 4\n",
    "z = os.listdir()\n",
    "\n",
    "task4 = []\n",
    "for i in z:\n",
    "    f = open(i, \"r\")\n",
    "    print(f.read())\n",
    "    f.close()\n",
    "    \n",
    "    f = open(i, \"r\")\n",
    "    task4.append(f.read())\n",
    "    f.close()\n"
   ]
  },
  {
   "cell_type": "code",
   "execution_count": 126,
   "id": "754d5c1d",
   "metadata": {},
   "outputs": [
    {
     "data": {
      "text/plain": [
       "'E:\\\\direc_x'"
      ]
     },
     "execution_count": 126,
     "metadata": {},
     "output_type": "execute_result"
    }
   ],
   "source": [
    "pwd()"
   ]
  },
  {
   "cell_type": "code",
   "execution_count": 127,
   "id": "18e468a9",
   "metadata": {},
   "outputs": [],
   "source": [
    "#task 5: Write all the data in a new file from the list.\n",
    "g = open(\"new sample.txt\", 'w+')\n",
    "for i in task4:\n",
    "    g.write(i)"
   ]
  },
  {
   "cell_type": "code",
   "execution_count": 130,
   "id": "87bc3441",
   "metadata": {},
   "outputs": [],
   "source": [
    "#task 6: Keep only a new file in the present dir and dump the rest in a new one.\n",
    "import shutil\n",
    "for i in x:\n",
    "    shutil.move(i, \"E://new dir2\")"
   ]
  },
  {
   "cell_type": "code",
   "execution_count": null,
   "id": "d233c419",
   "metadata": {},
   "outputs": [],
   "source": []
  },
  {
   "cell_type": "code",
   "execution_count": null,
   "id": "900007a8",
   "metadata": {},
   "outputs": [],
   "source": []
  },
  {
   "cell_type": "code",
   "execution_count": 131,
   "id": "a0127978",
   "metadata": {},
   "outputs": [],
   "source": [
    "tup = (1, 2, 4, 5, [1, 'Sury', 'ansh', 22, \"Nope!\"])"
   ]
  },
  {
   "cell_type": "code",
   "execution_count": 132,
   "id": "e3f95709",
   "metadata": {},
   "outputs": [
    {
     "data": {
      "text/plain": [
       "1"
      ]
     },
     "execution_count": 132,
     "metadata": {},
     "output_type": "execute_result"
    }
   ],
   "source": [
    "tup[0]"
   ]
  },
  {
   "cell_type": "code",
   "execution_count": 134,
   "id": "73692956",
   "metadata": {},
   "outputs": [
    {
     "ename": "TypeError",
     "evalue": "'tuple' object does not support item assignment",
     "output_type": "error",
     "traceback": [
      "\u001b[1;31m---------------------------------------------------------------------------\u001b[0m",
      "\u001b[1;31mTypeError\u001b[0m                                 Traceback (most recent call last)",
      "\u001b[1;32mC:\\Users\\SURYAN~1\\AppData\\Local\\Temp/ipykernel_20320/2724917665.py\u001b[0m in \u001b[0;36m<module>\u001b[1;34m\u001b[0m\n\u001b[1;32m----> 1\u001b[1;33m \u001b[0mtup\u001b[0m\u001b[1;33m[\u001b[0m\u001b[1;36m0\u001b[0m\u001b[1;33m]\u001b[0m \u001b[1;33m=\u001b[0m \u001b[1;36m45\u001b[0m\u001b[1;33m\u001b[0m\u001b[1;33m\u001b[0m\u001b[0m\n\u001b[0m",
      "\u001b[1;31mTypeError\u001b[0m: 'tuple' object does not support item assignment"
     ]
    }
   ],
   "source": [
    "tup[0] = 45"
   ]
  },
  {
   "cell_type": "code",
   "execution_count": 136,
   "id": "39f297d8",
   "metadata": {},
   "outputs": [
    {
     "ename": "TypeError",
     "evalue": "'tuple' object does not support item assignment",
     "output_type": "error",
     "traceback": [
      "\u001b[1;31m---------------------------------------------------------------------------\u001b[0m",
      "\u001b[1;31mTypeError\u001b[0m                                 Traceback (most recent call last)",
      "\u001b[1;32mC:\\Users\\SURYAN~1\\AppData\\Local\\Temp/ipykernel_20320/2688621426.py\u001b[0m in \u001b[0;36m<module>\u001b[1;34m\u001b[0m\n\u001b[1;32m----> 1\u001b[1;33m \u001b[0mtup\u001b[0m\u001b[1;33m[\u001b[0m\u001b[1;36m4\u001b[0m\u001b[1;33m]\u001b[0m \u001b[1;33m=\u001b[0m \u001b[1;33m[\u001b[0m\u001b[1;36m3\u001b[0m\u001b[1;33m,\u001b[0m \u001b[1;34m'fdd'\u001b[0m\u001b[1;33m,\u001b[0m \u001b[1;34m'fhsjbfjks'\u001b[0m\u001b[1;33m,\u001b[0m \u001b[1;36m45\u001b[0m\u001b[1;33m,\u001b[0m \u001b[1;36m90\u001b[0m\u001b[1;33m]\u001b[0m\u001b[1;33m\u001b[0m\u001b[1;33m\u001b[0m\u001b[0m\n\u001b[0m",
      "\u001b[1;31mTypeError\u001b[0m: 'tuple' object does not support item assignment"
     ]
    }
   ],
   "source": [
    "tup[4] = [3, 'fdd', 'fhsjbfjks', 45, 90]"
   ]
  },
  {
   "cell_type": "code",
   "execution_count": 137,
   "id": "d4ba0fb3",
   "metadata": {},
   "outputs": [],
   "source": [
    "tup[4][2] = 'Suryansh'"
   ]
  },
  {
   "cell_type": "code",
   "execution_count": 138,
   "id": "4da78af5",
   "metadata": {},
   "outputs": [
    {
     "data": {
      "text/plain": [
       "(1, 2, 4, 5, [1, 'Sury', 'Suryansh', 22, 'Nope!'])"
      ]
     },
     "execution_count": 138,
     "metadata": {},
     "output_type": "execute_result"
    }
   ],
   "source": [
    "tup"
   ]
  }
 ],
 "metadata": {
  "kernelspec": {
   "display_name": "Python 3 (ipykernel)",
   "language": "python",
   "name": "python3"
  },
  "language_info": {
   "codemirror_mode": {
    "name": "ipython",
    "version": 3
   },
   "file_extension": ".py",
   "mimetype": "text/x-python",
   "name": "python",
   "nbconvert_exporter": "python",
   "pygments_lexer": "ipython3",
   "version": "3.9.7"
  }
 },
 "nbformat": 4,
 "nbformat_minor": 5
}
