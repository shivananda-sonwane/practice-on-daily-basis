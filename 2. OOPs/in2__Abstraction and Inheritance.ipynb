{
 "cells": [
  {
   "cell_type": "markdown",
   "id": "d2c4444f",
   "metadata": {},
   "source": [
    "## Abstraction: It means not allowing you to access my variable so that you won't be able to manipulate it.\n",
    "\n",
    " - ### Abstraction in python is defined as a process of handling complexity by hiding unnecessary information from the user.\n",
    " - ### In python, we don't have any specfic keywords like public, private and protected, like in other languages. However we do have a symbolized notation for them.\n",
    " - ### Python doesn't apply the concept of ABSTRACTION strictly. \n",
    " - ### Creator of Python says that we should respect the abstraction of each and everyone.\n",
    " "
   ]
  },
  {
   "cell_type": "markdown",
   "id": "c898a944",
   "metadata": {},
   "source": [
    "## No underscore ~ Public variables; can be accessed outside the class by the conventional methods."
   ]
  },
  {
   "cell_type": "code",
   "execution_count": 1,
   "id": "5affc988",
   "metadata": {},
   "outputs": [],
   "source": [
    "class c1():\n",
    "    \n",
    "    def __init__(self, a, b, c, d):\n",
    "        self.a = a\n",
    "        self.b = b\n",
    "        self.c = c\n",
    "        self.d = d\n",
    "        \n",
    "    def custom(self, v):\n",
    "        return v - self.a"
   ]
  },
  {
   "cell_type": "code",
   "execution_count": 2,
   "id": "70d3b82d",
   "metadata": {},
   "outputs": [],
   "source": [
    "o = c1(5, 6, 7, 8)"
   ]
  },
  {
   "cell_type": "code",
   "execution_count": 3,
   "id": "9ecc4d4b",
   "metadata": {},
   "outputs": [
    {
     "data": {
      "text/plain": [
       "5"
      ]
     },
     "execution_count": 3,
     "metadata": {},
     "output_type": "execute_result"
    }
   ],
   "source": [
    "o.a"
   ]
  },
  {
   "cell_type": "code",
   "execution_count": 4,
   "id": "d6e083a2",
   "metadata": {},
   "outputs": [
    {
     "data": {
      "text/plain": [
       "38"
      ]
     },
     "execution_count": 4,
     "metadata": {},
     "output_type": "execute_result"
    }
   ],
   "source": [
    "o.custom(43)"
   ]
  },
  {
   "cell_type": "markdown",
   "id": "5812d7f7",
   "metadata": {},
   "source": [
    "## Single underscore ~ Protected variables; can be accessed outside the class by the conventional methods."
   ]
  },
  {
   "cell_type": "code",
   "execution_count": 6,
   "id": "e46ed137",
   "metadata": {},
   "outputs": [],
   "source": [
    "class c2():\n",
    "    \n",
    "    def __init__(self, a, b, c, d):\n",
    "        self._a = a\n",
    "        self.b = b\n",
    "        self.c = c\n",
    "        self.d = d\n",
    "        \n",
    "    def custom(self, v):\n",
    "        return v - self._a"
   ]
  },
  {
   "cell_type": "code",
   "execution_count": 7,
   "id": "03b975ce",
   "metadata": {},
   "outputs": [],
   "source": [
    "p = c2(4, 5, 6, 7)"
   ]
  },
  {
   "cell_type": "code",
   "execution_count": 8,
   "id": "133dce16",
   "metadata": {},
   "outputs": [
    {
     "data": {
      "text/plain": [
       "4"
      ]
     },
     "execution_count": 8,
     "metadata": {},
     "output_type": "execute_result"
    }
   ],
   "source": [
    "p._a"
   ]
  },
  {
   "cell_type": "code",
   "execution_count": 9,
   "id": "f62b5c7f",
   "metadata": {},
   "outputs": [
    {
     "data": {
      "text/plain": [
       "39"
      ]
     },
     "execution_count": 9,
     "metadata": {},
     "output_type": "execute_result"
    }
   ],
   "source": [
    "p.custom(43)"
   ]
  },
  {
   "cell_type": "markdown",
   "id": "a118b8ef",
   "metadata": {},
   "source": [
    "## Double underscore ~ Private variables; CAN'T be accessed outside the class by the conventional methods."
   ]
  },
  {
   "cell_type": "code",
   "execution_count": 13,
   "id": "58d85c02",
   "metadata": {},
   "outputs": [],
   "source": [
    "class parent():\n",
    "    \n",
    "    def __init__(self, a, b, c, d):\n",
    "        self.__a = a\n",
    "        self.b = b\n",
    "        self.c = c\n",
    "        self.d = d\n",
    "        \n",
    "    def custom(self, v):\n",
    "        return v - self.__a"
   ]
  },
  {
   "cell_type": "code",
   "execution_count": 15,
   "id": "f844074f",
   "metadata": {},
   "outputs": [],
   "source": [
    "q = parent(4, 5, 6, 7)"
   ]
  },
  {
   "cell_type": "code",
   "execution_count": 17,
   "id": "e21fd5e9",
   "metadata": {},
   "outputs": [
    {
     "ename": "AttributeError",
     "evalue": "'parent' object has no attribute '__a'",
     "output_type": "error",
     "traceback": [
      "\u001b[1;31m---------------------------------------------------------------------------\u001b[0m",
      "\u001b[1;31mAttributeError\u001b[0m                            Traceback (most recent call last)",
      "\u001b[1;32mC:\\Users\\SURYAN~1\\AppData\\Local\\Temp/ipykernel_5080/310655398.py\u001b[0m in \u001b[0;36m<module>\u001b[1;34m\u001b[0m\n\u001b[1;32m----> 1\u001b[1;33m \u001b[0mq\u001b[0m\u001b[1;33m.\u001b[0m\u001b[0m__a\u001b[0m\u001b[1;33m\u001b[0m\u001b[1;33m\u001b[0m\u001b[0m\n\u001b[0m",
      "\u001b[1;31mAttributeError\u001b[0m: 'parent' object has no attribute '__a'"
     ]
    }
   ],
   "source": [
    "q.__a"
   ]
  },
  {
   "cell_type": "code",
   "execution_count": 18,
   "id": "975346fb",
   "metadata": {},
   "outputs": [
    {
     "data": {
      "text/plain": [
       "39"
      ]
     },
     "execution_count": 18,
     "metadata": {},
     "output_type": "execute_result"
    }
   ],
   "source": [
    "q.custom(43) #But the class is able to call the variable '__a' internally."
   ]
  },
  {
   "cell_type": "code",
   "execution_count": 20,
   "id": "900830aa",
   "metadata": {},
   "outputs": [
    {
     "data": {
      "text/plain": [
       "4"
      ]
     },
     "execution_count": 20,
     "metadata": {},
     "output_type": "execute_result"
    }
   ],
   "source": [
    "'''\n",
    "To call the PROTECTED variable a:\n",
    "'''\n",
    "q._parent__a"
   ]
  },
  {
   "cell_type": "markdown",
   "id": "b2bfb7d4",
   "metadata": {},
   "source": [
    "# Inheritance:\n",
    "\n",
    "## Inheritance is nothing but inheriting the parent (all their attributes and methods) class in the child class, just for the sake of avoiding the creation of the parent class again. "
   ]
  },
  {
   "cell_type": "code",
   "execution_count": 21,
   "id": "20d09754",
   "metadata": {},
   "outputs": [],
   "source": [
    "class child(parent):\n",
    "    def __init__(self, j, *args):\n",
    "        super(child, self).__init__(*args) #who is the super of the child class? parent class offcourse, right.\n",
    "        \"\"\"\n",
    "        so why we are calling this __init_ function?\n",
    "        Okay, if we wanna use the variables of the parent class, we definitely have to call the __init_ function,\n",
    "        the way we have been doing always.\n",
    "        \n",
    "        The motive of passing *args in the arguments is just so that we don't have to pass the variables declared\n",
    "        in the parent class individually.\n",
    "        \"\"\"\n",
    "        self.j = j"
   ]
  },
  {
   "cell_type": "code",
   "execution_count": 22,
   "id": "b277d087",
   "metadata": {},
   "outputs": [],
   "source": [
    "o1 = child(3, 4, 5, 6, 7)"
   ]
  },
  {
   "cell_type": "code",
   "execution_count": 23,
   "id": "d792c956",
   "metadata": {},
   "outputs": [
    {
     "name": "stdout",
     "output_type": "stream",
     "text": [
      "5 4 6 7 3 44\n"
     ]
    }
   ],
   "source": [
    "print(o1.b, o1._parent__a, o1.c, o1.d, o1.j, o1.custom(48))"
   ]
  },
  {
   "cell_type": "markdown",
   "id": "3aec5685",
   "metadata": {},
   "source": [
    "## Task:"
   ]
  },
  {
   "cell_type": "code",
   "execution_count": 31,
   "id": "22dd685b",
   "metadata": {},
   "outputs": [
    {
     "data": {
      "text/plain": [
       "\"\\nthree classes test, test1 and test2.\\ntest1 inherits test.\\ntest2 inherits both test and test1.\\nfunction 'a' in classes test and test1.\\nclass test2 ought to inherit functiona from both the classes.\\n\""
      ]
     },
     "execution_count": 31,
     "metadata": {},
     "output_type": "execute_result"
    }
   ],
   "source": [
    "\"\"\"\n",
    "three classes test, test1 and test2.\n",
    "test1 inherits test.\n",
    "test2 inherits both test and test1.\n",
    "function 'a' in classes test and test1.\n",
    "class test2 ought to call function a from both the classes.\n",
    "\"\"\""
   ]
  },
  {
   "cell_type": "markdown",
   "id": "aa8499a0",
   "metadata": {},
   "source": [
    "### class test():"
   ]
  },
  {
   "cell_type": "code",
   "execution_count": 81,
   "id": "8841a537",
   "metadata": {},
   "outputs": [],
   "source": [
    "class test:\n",
    "    def __init__(self, s):\n",
    "        self.s = s\n",
    "        \n",
    "    def a(self, x):\n",
    "        print(self.s)\n",
    "        return x       \n",
    "    \n",
    "    \n",
    "class test1(test):\n",
    "    def __init__(self, s1, s):\n",
    "        super(test1, self).__init__(s)\n",
    "        self.s1 = s1\n",
    "        \n",
    "    def a(self, x1):\n",
    "        print(self.s1)\n",
    "        return x1\n",
    "    \n",
    "    \n",
    "class test2(test1):\n",
    "    def __init__(self, s2, s1, s):\n",
    "        self.s2 = s2\n",
    "        super(test2, self).__init__(s1, s)    \n",
    "        \n",
    "    def __str__(self):\n",
    "        return \"This classes inherits the class test1 which in turn inherits the class test.\", \"So basically this is an example of Mutli-Level Inheritance.\""
   ]
  },
  {
   "cell_type": "code",
   "execution_count": 82,
   "id": "c1cf9ef9",
   "metadata": {},
   "outputs": [],
   "source": [
    "t1 = test1(\"Attribute from the current class.\", \"Attribute from the prior class.\")"
   ]
  },
  {
   "cell_type": "code",
   "execution_count": 83,
   "id": "1a268261",
   "metadata": {},
   "outputs": [
    {
     "data": {
      "text/plain": [
       "('Attribute from the prior class.', 'Attribute from the current class.')"
      ]
     },
     "execution_count": 83,
     "metadata": {},
     "output_type": "execute_result"
    }
   ],
   "source": [
    "t1.s, t1.s1"
   ]
  },
  {
   "cell_type": "code",
   "execution_count": 84,
   "id": "625c39cf",
   "metadata": {},
   "outputs": [
    {
     "name": "stdout",
     "output_type": "stream",
     "text": [
      "Attribute from the current class.\n"
     ]
    },
    {
     "data": {
      "text/plain": [
       "'Woah!'"
      ]
     },
     "execution_count": 84,
     "metadata": {},
     "output_type": "execute_result"
    }
   ],
   "source": [
    "t1.a(\"Woah!\")"
   ]
  },
  {
   "cell_type": "code",
   "execution_count": 85,
   "id": "1beb99a3",
   "metadata": {},
   "outputs": [],
   "source": [
    "t2 = test2('Attribute from class test2', 'Attribute from the class test1', \"From class test\")"
   ]
  },
  {
   "cell_type": "code",
   "execution_count": 88,
   "id": "91a83ea6",
   "metadata": {},
   "outputs": [
    {
     "name": "stdout",
     "output_type": "stream",
     "text": [
      "Attribute from the class test1\n"
     ]
    },
    {
     "data": {
      "text/plain": [
       "('From class test',\n",
       " 'Attribute from the class test1',\n",
       " 'Attribute from class test2',\n",
       " 'Function from the prior class.')"
      ]
     },
     "execution_count": 88,
     "metadata": {},
     "output_type": "execute_result"
    }
   ],
   "source": [
    "t2.s, t2.s1, t2.s2, t2.a(\"Function from the prior class.\")"
   ]
  },
  {
   "cell_type": "code",
   "execution_count": 91,
   "id": "a6565c5a",
   "metadata": {},
   "outputs": [
    {
     "name": "stdout",
     "output_type": "stream",
     "text": [
      "Attribute from the class test1\n"
     ]
    },
    {
     "data": {
      "text/plain": [
       "'Function from the parent class of class test2.'"
      ]
     },
     "execution_count": 91,
     "metadata": {},
     "output_type": "execute_result"
    }
   ],
   "source": [
    "t2.a(\"Function from the parent class of class test2.\")"
   ]
  },
  {
   "cell_type": "code",
   "execution_count": null,
   "id": "954f6463",
   "metadata": {},
   "outputs": [],
   "source": []
  },
  {
   "cell_type": "code",
   "execution_count": 101,
   "id": "66da7efd",
   "metadata": {},
   "outputs": [],
   "source": [
    "class t:\n",
    "    \n",
    "    def __init__(self, a1):\n",
    "        self.a1 = a1\n",
    "    def a(self):\n",
    "        return \"FUNCTION of Class t.\"\n",
    "\n",
    "class t1:\n",
    "    def a(self):\n",
    "        return \"FUNCTION of Class t1.\"\n",
    "    \n",
    "class t2(t, t1):\n",
    "    def __init__(self):\n",
    "        pass"
   ]
  },
  {
   "cell_type": "code",
   "execution_count": 102,
   "id": "d8b4d14d",
   "metadata": {},
   "outputs": [
    {
     "data": {
      "text/plain": [
       "'FUNCTION of Class t.'"
      ]
     },
     "execution_count": 102,
     "metadata": {},
     "output_type": "execute_result"
    }
   ],
   "source": [
    "t(\"Nah!\").a()"
   ]
  },
  {
   "cell_type": "code",
   "execution_count": 106,
   "id": "e739c88d",
   "metadata": {},
   "outputs": [
    {
     "data": {
      "text/plain": [
       "'Nah!'"
      ]
     },
     "execution_count": 106,
     "metadata": {},
     "output_type": "execute_result"
    }
   ],
   "source": [
    "t(\"Nah!\").a1"
   ]
  },
  {
   "cell_type": "code",
   "execution_count": 96,
   "id": "26ce465d",
   "metadata": {},
   "outputs": [
    {
     "data": {
      "text/plain": [
       "'FUNCTION of Class t1.'"
      ]
     },
     "execution_count": 96,
     "metadata": {},
     "output_type": "execute_result"
    }
   ],
   "source": [
    "t1().a()"
   ]
  },
  {
   "cell_type": "code",
   "execution_count": 80,
   "id": "3f75ae08",
   "metadata": {},
   "outputs": [],
   "source": []
  },
  {
   "cell_type": "code",
   "execution_count": 97,
   "id": "c57fcc23",
   "metadata": {},
   "outputs": [
    {
     "data": {
      "text/plain": [
       "'FUNCTION of Class t.'"
      ]
     },
     "execution_count": 97,
     "metadata": {},
     "output_type": "execute_result"
    }
   ],
   "source": [
    "t2().a()"
   ]
  },
  {
   "cell_type": "markdown",
   "id": "1f3925ce",
   "metadata": {},
   "source": [
    "## Note: The purpose behind this task was to demonstrate that whenever two classes are inherited in a certain class (provided that those two classes have functions having same name), and when that function is called through that certain class' variable or object, the function called will be of the class that is passed first as an argument for the inheritance."
   ]
  },
  {
   "cell_type": "code",
   "execution_count": null,
   "id": "6d849d70",
   "metadata": {},
   "outputs": [],
   "source": [
    " "
   ]
  },
  {
   "cell_type": "markdown",
   "id": "232a4736",
   "metadata": {},
   "source": [
    "## Examples of Inheritance:"
   ]
  },
  {
   "cell_type": "code",
   "execution_count": 26,
   "id": "8338df9a",
   "metadata": {},
   "outputs": [
    {
     "name": "stdout",
     "output_type": "stream",
     "text": [
      "iNeuron Company was established in 2018\n"
     ]
    }
   ],
   "source": [
    "class Ineuron:\n",
    "    company_website = 'https://ineuron.ai/'\n",
    "    name = 'iNeuron'\n",
    " \n",
    "    def contact_details(self):\n",
    "        print('Contact us at ', self.company_website)\n",
    " \n",
    " \n",
    "class Datascience(Ineuron):\n",
    "    def __init__(self):\n",
    "        self.year_of_establishment = 2018\n",
    " \n",
    "    def est_details(self):\n",
    "        print('{0} Company was established in {1}'.format(self.name, self.year_of_establishment))\n",
    " \n",
    " \n",
    "ds = Datascience()\n",
    "ds.est_details()"
   ]
  },
  {
   "cell_type": "code",
   "execution_count": 28,
   "id": "2b5c6206",
   "metadata": {},
   "outputs": [
    {
     "name": "stdout",
     "output_type": "stream",
     "text": [
      "multi_task\n",
      "Name: sudh\n"
     ]
    }
   ],
   "source": [
    "class OS:\n",
    "    multi_task = True\n",
    "    os_name = 'Windows OS'\n",
    "    name = \"sudh\"\n",
    " \n",
    " \n",
    "class windows(OS, Ineuron):\n",
    "    def __init__(self):\n",
    "        if self.multi_task is True:\n",
    "            print('multi_task')\n",
    "        print('Name: {}'.format(self.name))\n",
    "\n",
    "        \n",
    "win = windows()"
   ]
  },
  {
   "cell_type": "code",
   "execution_count": 29,
   "id": "0500aba9",
   "metadata": {},
   "outputs": [
    {
     "name": "stdout",
     "output_type": "stream",
     "text": [
      "multi_task\n",
      "Name: iNeuron\n"
     ]
    }
   ],
   "source": [
    "'''\n",
    "WHAT IF?!\n",
    "'''\n",
    "class windows1(Ineuron, OS):\n",
    "    def __init__(self):\n",
    "        if self.multi_task is True:\n",
    "            print('multi_task')\n",
    "        print('Name: {}'.format(self.name))\n",
    "\n",
    "        \n",
    "win1 = windows1()"
   ]
  },
  {
   "cell_type": "code",
   "execution_count": 30,
   "id": "2e32def8",
   "metadata": {},
   "outputs": [
    {
     "name": "stdout",
     "output_type": "stream",
     "text": [
      "The company iNeuron offers total 12 different types of courses. Most trending course is Data-Science\n"
     ]
    }
   ],
   "source": [
    "'''\n",
    "MULTI LEVEL INHERITANCE!!!\n",
    "'''\n",
    "class iNeuron:\n",
    "    num_of_courses = 12\n",
    " \n",
    " \n",
    "class Datascience(iNeuron):\n",
    "    course_type = 'Data-Science'\n",
    " \n",
    " \n",
    "class AI(Datascience):\n",
    "    def __init__(self):\n",
    "        self.company = \"iNeuron\"\n",
    "        print('The company {0} offers total {1} different types of courses. Most trending course is {2}'\n",
    "              .format(self.company,self.num_of_courses,self.course_type))\n",
    " \n",
    " \n",
    "AI = AI()"
   ]
  },
  {
   "cell_type": "markdown",
   "id": "b5be7b25",
   "metadata": {},
   "source": [
    "# Encapsulation:\n",
    "\n",
    "## It's basically same as Inheritance. The only difference is we just try to hide the implementation of the parent class. "
   ]
  },
  {
   "cell_type": "code",
   "execution_count": 37,
   "id": "09cfbf9a",
   "metadata": {},
   "outputs": [],
   "source": [
    "class test:\n",
    "    \n",
    "    def __init__(self, a, b, c):\n",
    "        self.a = a\n",
    "        self.b = b\n",
    "        self.c = c\n",
    "        \n",
    "    def __str__(self):\n",
    "        return \"From class test!\"\n",
    "    \n",
    "class test1:\n",
    "    \n",
    "    def __init__(self, a, b, c):\n",
    "        self.a = a\n",
    "        self.b = b\n",
    "        self.c = c\n",
    "        \n",
    "    def __str__(self):\n",
    "        return \"From class test1!\"\n",
    "\n",
    "class test2:\n",
    "    \n",
    "    def __init__(self, a, b, c):\n",
    "        self.a = a\n",
    "        self.b = b\n",
    "        self.c = c\n",
    "        \n",
    "    def __str__(self):\n",
    "        return \"From class test2!\"\n",
    "\n",
    "class final:\n",
    "    \n",
    "    def __init__(self, a, b, c):\n",
    "        self.a = a\n",
    "        self.b = b\n",
    "        self.c = c\n",
    "        \n",
    "    def __str__(self):\n",
    "        return str(self.a) + \" \" + str(self.b) + \" \" + str(self.c)"
   ]
  },
  {
   "cell_type": "code",
   "execution_count": 38,
   "id": "cafaa133",
   "metadata": {},
   "outputs": [],
   "source": [
    "t = test(4, 5, 6)\n",
    "t1 = test1(7, 8, 8)\n",
    "t2 = test2(9, 3, 2)\n",
    "f = final(t, t1, t2)"
   ]
  },
  {
   "cell_type": "code",
   "execution_count": 39,
   "id": "93224a78",
   "metadata": {},
   "outputs": [
    {
     "name": "stdout",
     "output_type": "stream",
     "text": [
      "From class test! From class test1! From class test2!\n"
     ]
    }
   ],
   "source": [
    "print(f)"
   ]
  },
  {
   "cell_type": "markdown",
   "id": "957cd5cd",
   "metadata": {},
   "source": [
    "## Note: Instead of inheriting the parent classes, we are just passing the objects of parent classes as arguments in the child class.\n",
    "## And this simple concept is called ENCAPSULATION."
   ]
  },
  {
   "cell_type": "markdown",
   "id": "582762a5",
   "metadata": {},
   "source": [
    "### Example: "
   ]
  },
  {
   "cell_type": "code",
   "execution_count": 10,
   "id": "9ca2de07",
   "metadata": {},
   "outputs": [
    {
     "name": "stdout",
     "output_type": "stream",
     "text": [
      "Tyres: \n",
      " \tBranch: Pirelli\n",
      " \tBelted-bias: True\n",
      " \tOptimal pressure: 2.0\n",
      "Engine: \n",
      " \tFuel type: Diesel\n",
      " \tNoise level:3\n",
      "Body:\n",
      " \tSize: Medium\n",
      "toyota\n"
     ]
    }
   ],
   "source": [
    "class Tyres:\n",
    "    def __init__(self, branch, belted_bias, opt_pressure):\n",
    "        self.branch = branch\n",
    "        self.belted_bias = belted_bias\n",
    "        self.opt_pressure = opt_pressure\n",
    "        \n",
    "    def __str__(self):\n",
    "        return (\"Tyres: \\n \\tBranch: \" + self.branch +\n",
    "               \"\\n \\tBelted-bias: \" + str(self.belted_bias) + \n",
    "               \"\\n \\tOptimal pressure: \" + str(self.opt_pressure))\n",
    "        \n",
    "class Engine:\n",
    "    def __init__(self, fuel_type, noise_level):\n",
    "        self.fuel_type = fuel_type\n",
    "        self.noise_level = noise_level\n",
    "        \n",
    "    def __str__(self):\n",
    "        return (\"Engine: \\n \\tFuel type: \" + self.fuel_type +\n",
    "                \"\\n \\tNoise level:\" + str(self.noise_level))\n",
    "        \n",
    "class Body:\n",
    "    def __init__(self, size):\n",
    "        self.size = size\n",
    "        \n",
    "    def __str__(self):\n",
    "        return \"Body:\\n \\tSize: \" + self.size\n",
    "        \n",
    "class Car:\n",
    "    def __init__(self, name, tyres, engine, body):\n",
    "        self.name = name \n",
    "        self.tyres = tyres\n",
    "        self.engine = engine\n",
    "        self.body = body\n",
    "        \n",
    "    def __str__(self):\n",
    "        return str(self.tyres) + \"\\n\" + str(self.engine) + \"\\n\" + str(self.body) + \"\\n\"  + str(self.name)\n",
    "\n",
    "        \n",
    "t = Tyres('Pirelli', True, 2.0)\n",
    "e = Engine('Diesel', 3)\n",
    "b = Body('Medium')\n",
    "\n",
    "'''\n",
    "Encapsuling the objects of the class Tyres, Engine and Body in the Car Class.\n",
    "'''\n",
    "c = Car(\"toyota\", t, e, b)\n",
    "print(c)"
   ]
  },
  {
   "cell_type": "markdown",
   "id": "10ac18be",
   "metadata": {},
   "source": [
    "### Example:"
   ]
  },
  {
   "cell_type": "code",
   "execution_count": 15,
   "id": "45873059",
   "metadata": {},
   "outputs": [
    {
     "name": "stdout",
     "output_type": "stream",
     "text": [
      "Kudrjavka is a Laika born in 1954.\n"
     ]
    }
   ],
   "source": [
    "class Dog:\n",
    "    def __init__(self, name, year_of_birth, breed):\n",
    "        self._name = name\n",
    "        self._year_of_birth = year_of_birth\n",
    "        self._breed = breed\n",
    "\n",
    "    def __str__(self):\n",
    "        return \"%s is a %s born in %d.\" % (self._name, self._breed, self._year_of_birth)\n",
    "\n",
    "kudrjavka = Dog(\"Kudrjavka\", 1954, \"Laika\")\n",
    "\n",
    "print(kudrjavka)"
   ]
  },
  {
   "cell_type": "code",
   "execution_count": 16,
   "id": "d9d25dda",
   "metadata": {},
   "outputs": [],
   "source": [
    "class student:\n",
    "    def __init__(self,name, student_id,school_name, address):\n",
    "        self.name = name \n",
    "        self.student_id = student_id\n",
    "        self.school_name = school_name\n",
    "        self.address = address\n",
    "        \n",
    "    def __str__(self):\n",
    "        return str(self.name) + \"  \" + str(self.student_id) + \"   \" + str(self.school_name) + \"  \" + str( self.address)"
   ]
  },
  {
   "cell_type": "code",
   "execution_count": 23,
   "id": "43311472",
   "metadata": {},
   "outputs": [
    {
     "name": "stdout",
     "output_type": "stream",
     "text": [
      "Kudrjavka is a Laika born in 1954.  DOG9897   Pet School, Bakers Street.  211B Bakers Street.\n"
     ]
    }
   ],
   "source": [
    "'''\n",
    "What if our dog is also a student..\n",
    "'''\n",
    "dog_stu = student(kudrjavka, \"DOG9897\", \"Pet School, Bakers Street.\", \"211B Bakers Street.\")\n",
    "print(dog_stu)"
   ]
  },
  {
   "cell_type": "markdown",
   "id": "6af37bab",
   "metadata": {},
   "source": [
    "## Example:"
   ]
  },
  {
   "cell_type": "code",
   "execution_count": 42,
   "id": "92fda395",
   "metadata": {},
   "outputs": [],
   "source": [
    "class BonusDistribution:\n",
    "    \n",
    "    def __init__ (self, employeeId, employeeRating):\n",
    "    \n",
    "        self.empId = employeeId\n",
    "        self.empRating = employeeRating\n",
    "        self.__bonusforRatingA = \"70%\"  #making value private\n",
    "        self.__bonusforRatingB = \"60%\"  #making value private\n",
    "        self.__bonusforRatingC = \"50%\"  #making value private\n",
    "        self.__bonusforRatingD = \"30%\"  #making value private\n",
    "        self.__bonusforRatingForRest = \"No Bonus\" #making value private\n",
    "        \n",
    "        \n",
    "    def bonusCalculator(self):\n",
    "        \n",
    "        if self.empRating == 'A':\n",
    "            bonus = self.__bonusforRatingA\n",
    "            msg = \"Bonus for this employee is :\"+ bonus\n",
    "            return msg\n",
    "        elif self.empRating == 'B':\n",
    "            bonus = self.__bonusforRatingB\n",
    "            msg = \"Bonus for this employee is :\"+ bonus\n",
    "            return msg\n",
    "        elif self.empRating == 'C':\n",
    "            bonus = self.__bonusforRatingC\n",
    "            msg = \"Bonus for this employee is :\"+ bonus\n",
    "            return msg\n",
    "        elif self.empRating == 'D':\n",
    "            bonus = self.__bonusforRatingD\n",
    "            msg = \"Bonus for this employee is :\"+ bonus\n",
    "            return msg\n",
    "        else:\n",
    "            bonus = self.__bonusforRatingForRest\n",
    "            msg = \"Bonus for this employee is :\"+ bonus\n",
    "            return msg\n",
    "        \n",
    "    def __changevariable(self , value) : \n",
    "         self.__bonusforRatingB = value"
   ]
  },
  {
   "cell_type": "code",
   "execution_count": 43,
   "id": "5fbdf28d",
   "metadata": {},
   "outputs": [],
   "source": [
    "emp1 = BonusDistribution(\"Emp1\", \"A\")"
   ]
  },
  {
   "cell_type": "code",
   "execution_count": 44,
   "id": "be18d017",
   "metadata": {},
   "outputs": [
    {
     "data": {
      "text/plain": [
       "'Bonus for this employee is :70%'"
      ]
     },
     "execution_count": 44,
     "metadata": {},
     "output_type": "execute_result"
    }
   ],
   "source": [
    "emp1.bonusCalculator()"
   ]
  },
  {
   "cell_type": "code",
   "execution_count": 45,
   "id": "ffe0138b",
   "metadata": {},
   "outputs": [],
   "source": [
    "'''\n",
    "I want to change the bonus for rating A outside the class.\n",
    "'''\n",
    "emp1._BonusDistribution__bonusforRatingA = \"90%\""
   ]
  },
  {
   "cell_type": "code",
   "execution_count": 46,
   "id": "2a8a77c7",
   "metadata": {},
   "outputs": [
    {
     "data": {
      "text/plain": [
       "'Bonus for this employee is :90%'"
      ]
     },
     "execution_count": 46,
     "metadata": {},
     "output_type": "execute_result"
    }
   ],
   "source": [
    "emp1.bonusCalculator()"
   ]
  },
  {
   "cell_type": "code",
   "execution_count": 47,
   "id": "f5c6d7de",
   "metadata": {},
   "outputs": [
    {
     "data": {
      "text/plain": [
       "'Bonus for this employee is :60%'"
      ]
     },
     "execution_count": 47,
     "metadata": {},
     "output_type": "execute_result"
    }
   ],
   "source": [
    "emp2 = BonusDistribution('Emp2', \"B\")\n",
    "emp2.bonusCalculator()"
   ]
  },
  {
   "cell_type": "code",
   "execution_count": 49,
   "id": "369cae66",
   "metadata": {},
   "outputs": [
    {
     "data": {
      "text/plain": [
       "'Bonus for this employee is :85%'"
      ]
     },
     "execution_count": 49,
     "metadata": {},
     "output_type": "execute_result"
    }
   ],
   "source": [
    "emp2._BonusDistribution__changevariable(\"85%\")\n",
    "emp2.bonusCalculator()"
   ]
  },
  {
   "cell_type": "markdown",
   "id": "dd7e56ff",
   "metadata": {},
   "source": [
    "# Overloading:"
   ]
  },
  {
   "cell_type": "code",
   "execution_count": 66,
   "id": "6908eddd",
   "metadata": {},
   "outputs": [],
   "source": [
    "class multiplynumeric():\n",
    "    def __init__(self,a) : \n",
    "        self.a = a \n",
    "    \n",
    "    def __mul__(self, other ):\n",
    "        return self.a - other.a\n",
    "    \n",
    "    def __sub__(self, other):\n",
    "        return self.a + other.a\n",
    "    \n",
    "    \"\"\"\n",
    "    Here we are overloading the sub function by add operator.\n",
    "    And above it, we are overloading the multiply function by sub operator.\n",
    "    \"\"\"\n",
    "    \n",
    "    def __str__(self):\n",
    "        return \"Overloading th string function is what we have been doing since forever here.\""
   ]
  },
  {
   "cell_type": "code",
   "execution_count": 67,
   "id": "de1e2ff8",
   "metadata": {},
   "outputs": [
    {
     "data": {
      "text/plain": [
       "10"
      ]
     },
     "execution_count": 67,
     "metadata": {},
     "output_type": "execute_result"
    }
   ],
   "source": [
    "m1 = multiplynumeric(12)\n",
    "m2 = multiplynumeric(2)\n",
    "\n",
    "m1 * m2"
   ]
  },
  {
   "cell_type": "code",
   "execution_count": 68,
   "id": "5888446a",
   "metadata": {},
   "outputs": [
    {
     "data": {
      "text/plain": [
       "14"
      ]
     },
     "execution_count": 68,
     "metadata": {},
     "output_type": "execute_result"
    }
   ],
   "source": [
    "m1 - m2"
   ]
  },
  {
   "cell_type": "code",
   "execution_count": 69,
   "id": "88cf8e72",
   "metadata": {},
   "outputs": [
    {
     "ename": "TypeError",
     "evalue": "unsupported operand type(s) for +: 'multiplynumeric' and 'multiplynumeric'",
     "output_type": "error",
     "traceback": [
      "\u001b[1;31m---------------------------------------------------------------------------\u001b[0m",
      "\u001b[1;31mTypeError\u001b[0m                                 Traceback (most recent call last)",
      "\u001b[1;32mC:\\Users\\SURYAN~1\\AppData\\Local\\Temp/ipykernel_5360/332512838.py\u001b[0m in \u001b[0;36m<module>\u001b[1;34m\u001b[0m\n\u001b[1;32m----> 1\u001b[1;33m \u001b[0mm1\u001b[0m \u001b[1;33m+\u001b[0m \u001b[0mm2\u001b[0m\u001b[1;33m\u001b[0m\u001b[1;33m\u001b[0m\u001b[0m\n\u001b[0m",
      "\u001b[1;31mTypeError\u001b[0m: unsupported operand type(s) for +: 'multiplynumeric' and 'multiplynumeric'"
     ]
    }
   ],
   "source": [
    "m1 + m2"
   ]
  },
  {
   "cell_type": "code",
   "execution_count": 70,
   "id": "ea718e46",
   "metadata": {},
   "outputs": [
    {
     "ename": "TypeError",
     "evalue": "unsupported operand type(s) for /: 'multiplynumeric' and 'multiplynumeric'",
     "output_type": "error",
     "traceback": [
      "\u001b[1;31m---------------------------------------------------------------------------\u001b[0m",
      "\u001b[1;31mTypeError\u001b[0m                                 Traceback (most recent call last)",
      "\u001b[1;32mC:\\Users\\SURYAN~1\\AppData\\Local\\Temp/ipykernel_5360/3394317643.py\u001b[0m in \u001b[0;36m<module>\u001b[1;34m\u001b[0m\n\u001b[1;32m----> 1\u001b[1;33m \u001b[0mm1\u001b[0m \u001b[1;33m/\u001b[0m \u001b[0mm2\u001b[0m\u001b[1;33m\u001b[0m\u001b[1;33m\u001b[0m\u001b[0m\n\u001b[0m",
      "\u001b[1;31mTypeError\u001b[0m: unsupported operand type(s) for /: 'multiplynumeric' and 'multiplynumeric'"
     ]
    }
   ],
   "source": [
    "m1 / m2"
   ]
  },
  {
   "cell_type": "code",
   "execution_count": 71,
   "id": "4af0220f",
   "metadata": {},
   "outputs": [
    {
     "name": "stdout",
     "output_type": "stream",
     "text": [
      "Overloading th string function is what we have been doing since forever here. Overloading th string function is what we have been doing since forever here.\n"
     ]
    }
   ],
   "source": [
    "print(m1, m2)"
   ]
  },
  {
   "cell_type": "markdown",
   "id": "68a1f8cd",
   "metadata": {},
   "source": [
    "# Polymorphism:\n",
    "\n",
    "## Same object or function, but their behaviour is different under various conditions."
   ]
  },
  {
   "cell_type": "code",
   "execution_count": 72,
   "id": "ad38a806",
   "metadata": {},
   "outputs": [],
   "source": [
    "def addn(a1, a2):\n",
    "    return a1 + a2"
   ]
  },
  {
   "cell_type": "code",
   "execution_count": 74,
   "id": "0829f67e",
   "metadata": {},
   "outputs": [
    {
     "name": "stdout",
     "output_type": "stream",
     "text": [
      "7\n",
      "Suryansh\n",
      "[3, 4, 'Sury', 'ansh', 56, 9j, 'Woah!']\n"
     ]
    }
   ],
   "source": [
    "print(addn(3, 4))\n",
    "print(addn(\"Sury\", \"ansh\"))\n",
    "print(addn([3, 4, 'Sury'], [\"ansh\", 56, 9j, \"Woah!\"]))"
   ]
  }
 ],
 "metadata": {
  "kernelspec": {
   "display_name": "Python 3 (ipykernel)",
   "language": "python",
   "name": "python3"
  },
  "language_info": {
   "codemirror_mode": {
    "name": "ipython",
    "version": 3
   },
   "file_extension": ".py",
   "mimetype": "text/x-python",
   "name": "python",
   "nbconvert_exporter": "python",
   "pygments_lexer": "ipython3",
   "version": "3.9.7"
  }
 },
 "nbformat": 4,
 "nbformat_minor": 5
}
