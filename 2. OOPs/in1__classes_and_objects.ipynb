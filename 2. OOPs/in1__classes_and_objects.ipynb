{
 "cells": [
  {
   "cell_type": "markdown",
   "id": "3079a49a",
   "metadata": {},
   "source": [
    "## OOPs allows us programmers to create our own objects having their own methods and attributes. In general, OOPS allows us to create code that is repeatable ad more organized."
   ]
  },
  {
   "cell_type": "markdown",
   "id": "14eff5fe",
   "metadata": {},
   "source": [
    "## Classes are nothing but the classification of objects.\n",
    "\n",
    "#### Example: Car is a class, laptop can be a class.\n",
    "### It's kinda a generic term for similar kinds of objects. "
   ]
  },
  {
   "cell_type": "code",
   "execution_count": 2,
   "id": "f798c348",
   "metadata": {},
   "outputs": [
    {
     "data": {
      "text/plain": [
       "'\\nAn OBJECT is a simply a collection of data(variables) and methods(functions) that act on those data. \\nAn object is also called an INSTANCE of a class and the process of creating it is called INSTANATION.\\n\\nSimilarly, a Class is a blueprint for that object.\\n'"
      ]
     },
     "execution_count": 2,
     "metadata": {},
     "output_type": "execute_result"
    }
   ],
   "source": [
    "'''\n",
    "An OBJECT is a simply a collection of data(variables) and methods(functions) that act on those data. \n",
    "An object is also called an INSTANCE of a class and the process of creating it is called INSTANATION.\n",
    "\n",
    "Similarly, a Class is a blueprint for that object.\n",
    "'''"
   ]
  },
  {
   "cell_type": "markdown",
   "id": "c8f0e342",
   "metadata": {},
   "source": [
    "## Similarly, Objects are variables of a class."
   ]
  },
  {
   "cell_type": "code",
   "execution_count": 2,
   "id": "ae5134af",
   "metadata": {},
   "outputs": [
    {
     "data": {
      "text/plain": [
       "'\\nHere, s is the object of the sring class.\\n'"
      ]
     },
     "execution_count": 2,
     "metadata": {},
     "output_type": "execute_result"
    }
   ],
   "source": [
    "s = \"Suryansh\"\n",
    "'''\n",
    "Here, s is the object of the sring class.\n",
    "'''"
   ]
  },
  {
   "cell_type": "code",
   "execution_count": 3,
   "id": "fd59eeb5",
   "metadata": {},
   "outputs": [],
   "source": [
    "class car():\n",
    "    pass"
   ]
  },
  {
   "cell_type": "code",
   "execution_count": 10,
   "id": "437dc732",
   "metadata": {},
   "outputs": [
    {
     "data": {
      "text/plain": [
       "'\\naudiq7 is an instance or object of the car class.\\n'"
      ]
     },
     "execution_count": 10,
     "metadata": {},
     "output_type": "execute_result"
    }
   ],
   "source": [
    "audiq7 = car()\n",
    "'''\n",
    "audiq7 is an instance or object of the car class.\n",
    "'''"
   ]
  },
  {
   "cell_type": "code",
   "execution_count": 5,
   "id": "59c2a66e",
   "metadata": {},
   "outputs": [],
   "source": [
    "audiq7.mileage = 434\n",
    "audiq7.year = 2020\n",
    "audiq7.make = 809\n",
    "audiq7.model = \"vsg\""
   ]
  },
  {
   "cell_type": "code",
   "execution_count": 8,
   "id": "e0a6a099",
   "metadata": {},
   "outputs": [
    {
     "data": {
      "text/plain": [
       "2020"
      ]
     },
     "execution_count": 8,
     "metadata": {},
     "output_type": "execute_result"
    }
   ],
   "source": [
    "audiq7.year"
   ]
  },
  {
   "cell_type": "markdown",
   "id": "0aeb36e4",
   "metadata": {},
   "source": [
    " - ### Now, if we want to create another instance say rover, we'll have to define variable viz. mileage, year, make and model separately for it and WHICH IS NOT SO GOOD PRACTICE.\n",
    " \n",
    " - ### If we go by this, the concept of reusability is getting obliterated. \n",
    " \n",
    " - ### So, what we are gonna do is we'll try to initialize these variables inside the class car itself so that we can reuse them for different objects of the car class.\n"
   ]
  },
  {
   "cell_type": "code",
   "execution_count": 60,
   "id": "3528eefc",
   "metadata": {},
   "outputs": [],
   "source": [
    "class car():\n",
    "    def __init__(self, mileage, year, make, model):\n",
    "        \"\"\"\n",
    "        __init__ function is used to pass the data to the class.\n",
    "        Or it is the provider of data to the class.\n",
    "        \n",
    "        self is the pointer to the class. It binds variables and functions defined in the class scope\n",
    "        to the class itself.\n",
    "        \n",
    "        All the variables on the LHS are the class variables OR WHAT WE USED TO SAY 'ATTRIBUTES'.\n",
    "        Whereas on the right are just arguments that need to be passed when creating an object of the class.\n",
    "        \"\"\"\n",
    "        self.mileage = mileage\n",
    "        self.year = year\n",
    "        self.make = make\n",
    "        self.model = model\n",
    "        \n",
    "    def age(self, current_year):\n",
    "        return current_year - self.year\n",
    "    \n",
    "    def __str__(self):\n",
    "        return 'My CAR CLASS!'"
   ]
  },
  {
   "cell_type": "code",
   "execution_count": 62,
   "id": "17f33146",
   "metadata": {},
   "outputs": [],
   "source": [
    "rover = car(423, 2007, 342, \"rangerover\")"
   ]
  },
  {
   "cell_type": "code",
   "execution_count": 63,
   "id": "fc5fa48d",
   "metadata": {},
   "outputs": [
    {
     "data": {
      "text/plain": [
       "(423, 'rangerover', 342, 2007)"
      ]
     },
     "execution_count": 63,
     "metadata": {},
     "output_type": "execute_result"
    }
   ],
   "source": [
    "rover.mileage, rover.model, rover.make, rover.year"
   ]
  },
  {
   "cell_type": "code",
   "execution_count": 64,
   "id": "d150ea55",
   "metadata": {},
   "outputs": [
    {
     "data": {
      "text/plain": [
       "<bound method car.age of <__main__.car object at 0x0000029087733A30>>"
      ]
     },
     "execution_count": 64,
     "metadata": {},
     "output_type": "execute_result"
    }
   ],
   "source": [
    "rover.age"
   ]
  },
  {
   "cell_type": "code",
   "execution_count": 65,
   "id": "daf3cc99",
   "metadata": {},
   "outputs": [
    {
     "data": {
      "text/plain": [
       "15"
      ]
     },
     "execution_count": 65,
     "metadata": {},
     "output_type": "execute_result"
    }
   ],
   "source": [
    "rover.age(2022)"
   ]
  },
  {
   "cell_type": "code",
   "execution_count": 67,
   "id": "49bd4201",
   "metadata": {},
   "outputs": [
    {
     "data": {
      "text/plain": [
       "<__main__.car at 0x29087733a30>"
      ]
     },
     "execution_count": 67,
     "metadata": {},
     "output_type": "execute_result"
    }
   ],
   "source": [
    "rover"
   ]
  },
  {
   "cell_type": "code",
   "execution_count": 68,
   "id": "045473a5",
   "metadata": {},
   "outputs": [
    {
     "name": "stdout",
     "output_type": "stream",
     "text": [
      "My CAR CLASS!\n"
     ]
    }
   ],
   "source": [
    "print(rover)"
   ]
  },
  {
   "cell_type": "markdown",
   "id": "07e5ea44",
   "metadata": {},
   "source": [
    "## Task: "
   ]
  },
  {
   "cell_type": "code",
   "execution_count": 10,
   "id": "02de3845",
   "metadata": {},
   "outputs": [],
   "source": [
    "class data():\n",
    "    \n",
    "    def __init__(self, file_name, file_type, data):\n",
    "        self.file_name = (file_name)\n",
    "        self.file_type = str(file_type)\n",
    "        self.data = data\n",
    "        print(type(self.file_name))\n",
    "        \n",
    "    \n",
    "    def open_file(self):\n",
    "        try:\n",
    "            if type(self.file_name) != list:\n",
    "                f = open(self.file_name + self.file_type, \"w+\")\n",
    "                f.write(self.data)\n",
    "                f.close()\n",
    "            else:\n",
    "                for i in self.file_name:\n",
    "                    f = open(i + self.file_type, \"w+\")\n",
    "                    f.write(self.data)\n",
    "                    f.close()\n",
    "                    \n",
    "        except Exception as e:\n",
    "            self.log(e)\n",
    "                \n",
    "        \n",
    "    def read_file(self):\n",
    "        try:\n",
    "            if type(self.file_name) != list:\n",
    "                f = open(self.file_name + self.file_type, \"r\")\n",
    "                print(f.read())\n",
    "                f.seek(0)\n",
    "                f.close()\n",
    "            else:\n",
    "                for i in self.file_name:\n",
    "                    f = open(i + self.file_type, \"r\")\n",
    "                    print(f.read())\n",
    "                    f.seek(0)\n",
    "                    f.close()\n",
    "                    \n",
    "        except Exception as e:\n",
    "            print(\"The file must be created before you attempt to read it!\")\n",
    "            print(\"Error: \", e)\n",
    "            self.log(e)\n",
    "            \n",
    "            if type(self.file_name) != list:\n",
    "                f = open(self.file_name + self.file_type, \"w+\")\n",
    "                print(f.read())\n",
    "                f.seek(0)\n",
    "                f.close()\n",
    "                \n",
    "            else:\n",
    "                for i in self.file_name():\n",
    "                    f = open(i + self.file_type, \"w+\")\n",
    "                    print(f.read())\n",
    "                    f.seek(0)\n",
    "                    f.close()\n",
    "                    \n",
    "        \n",
    "    def append_data(self, append_data):\n",
    "        try:\n",
    "            if type(self.file_name) != list:\n",
    "                f = open(self.file_name + self.file_type, \"a\")\n",
    "                f.write(append_data)\n",
    "                f.close()\n",
    "            \n",
    "            else:\n",
    "                for i in self.file_name:\n",
    "                    f = open(i + self.file_type, \"a\")\n",
    "                    f.write(append_data)\n",
    "                    f.close()\n",
    "                    \n",
    "        except Exception as e:\n",
    "            print(\"The file must be created before you attempt to append something into it!\")\n",
    "            print(\"Error: \", e)\n",
    "            self.log(e)\n",
    "            \n",
    "            if type(self.file_name) != list:\n",
    "                f = open(self.file_name + seflf.file_type, \"w+\")\n",
    "                f.write(append_data)\n",
    "                f.close()\n",
    "            else:\n",
    "                for i in self.file_name():\n",
    "                    f = open(i + self.file_type, \"w+\")\n",
    "                    f.write(append_data)\n",
    "                    f.close()\n",
    "        \n",
    "    def log(self, msg):\n",
    "        import logging as lg\n",
    "        lg.basicConfig(filename = \"Logging in Class.log\", level = lg.ERROR)\n",
    "        lg.error(msg)      "
   ]
  },
  {
   "cell_type": "code",
   "execution_count": 11,
   "id": "6eca84db",
   "metadata": {},
   "outputs": [],
   "source": [
    "import logging as lg "
   ]
  },
  {
   "cell_type": "code",
   "execution_count": 12,
   "id": "b0460ff6",
   "metadata": {},
   "outputs": [
    {
     "name": "stdout",
     "output_type": "stream",
     "text": [
      "<class 'str'>\n"
     ]
    }
   ],
   "source": [
    "data1 = data(\"data1\", \".txt\", \"This is the file named data1.\")"
   ]
  },
  {
   "cell_type": "code",
   "execution_count": 13,
   "id": "223aeaec",
   "metadata": {},
   "outputs": [
    {
     "data": {
      "text/plain": [
       "'data1'"
      ]
     },
     "execution_count": 13,
     "metadata": {},
     "output_type": "execute_result"
    }
   ],
   "source": [
    "data1.file_name"
   ]
  },
  {
   "cell_type": "code",
   "execution_count": 14,
   "id": "33f9a2ee",
   "metadata": {},
   "outputs": [
    {
     "data": {
      "text/plain": [
       "'.txt'"
      ]
     },
     "execution_count": 14,
     "metadata": {},
     "output_type": "execute_result"
    }
   ],
   "source": [
    "data1.file_type"
   ]
  },
  {
   "cell_type": "code",
   "execution_count": 15,
   "id": "ecbf3fc9",
   "metadata": {},
   "outputs": [
    {
     "data": {
      "text/plain": [
       "'This is the file named data1.'"
      ]
     },
     "execution_count": 15,
     "metadata": {},
     "output_type": "execute_result"
    }
   ],
   "source": [
    "data1.data"
   ]
  },
  {
   "cell_type": "code",
   "execution_count": 16,
   "id": "96019833",
   "metadata": {},
   "outputs": [
    {
     "name": "stdout",
     "output_type": "stream",
     "text": [
      "This is the file named data1.What the fuck is going on here?!!!!!What the fuck is going on here?!!!!!What the fuck is going on here?!!!!!What the fuck is going on here?!!!!!What the fuck is going on here?!!!!!\n"
     ]
    }
   ],
   "source": [
    "data1.read_file()"
   ]
  },
  {
   "cell_type": "code",
   "execution_count": 17,
   "id": "a7d8c226",
   "metadata": {},
   "outputs": [],
   "source": [
    "data1.append_data(\"What the fuck is going on here?!!!!!\")"
   ]
  },
  {
   "cell_type": "code",
   "execution_count": 18,
   "id": "396c4b21",
   "metadata": {},
   "outputs": [
    {
     "name": "stdout",
     "output_type": "stream",
     "text": [
      "This is the file named data1.What the fuck is going on here?!!!!!What the fuck is going on here?!!!!!What the fuck is going on here?!!!!!What the fuck is going on here?!!!!!What the fuck is going on here?!!!!!What the fuck is going on here?!!!!!\n"
     ]
    }
   ],
   "source": [
    "data1.read_file()"
   ]
  },
  {
   "cell_type": "code",
   "execution_count": 19,
   "id": "7a1ddf53",
   "metadata": {},
   "outputs": [
    {
     "name": "stdout",
     "output_type": "stream",
     "text": [
      "<class 'list'>\n"
     ]
    }
   ],
   "source": [
    "data2 = data([\"file1\", \"file2\", \"file3\"], \".txt\", \"I don't know what I am supposed to do here!\")"
   ]
  },
  {
   "cell_type": "code",
   "execution_count": 20,
   "id": "a501b496",
   "metadata": {},
   "outputs": [],
   "source": [
    "data2.open_file()"
   ]
  },
  {
   "cell_type": "code",
   "execution_count": 21,
   "id": "59dd17fc",
   "metadata": {},
   "outputs": [
    {
     "name": "stdout",
     "output_type": "stream",
     "text": [
      "I don't know what I am supposed to do here!\n",
      "I don't know what I am supposed to do here!\n",
      "I don't know what I am supposed to do here!\n"
     ]
    }
   ],
   "source": [
    "data2.read_file()"
   ]
  },
  {
   "cell_type": "code",
   "execution_count": 22,
   "id": "af4ec74e",
   "metadata": {},
   "outputs": [
    {
     "name": "stdout",
     "output_type": "stream",
     "text": [
      "<class 'str'>\n"
     ]
    }
   ],
   "source": [
    "data3 = data(\"file5\", \".txt\", \"Still I am in confusion. In delusion too!\")"
   ]
  },
  {
   "cell_type": "code",
   "execution_count": 24,
   "id": "65094597",
   "metadata": {},
   "outputs": [
    {
     "name": "stdout",
     "output_type": "stream",
     "text": [
      "Still I am in confusion. In delusion too!     Woah! i didn't expect this kinda fuckery......!!!!!!!!\n"
     ]
    }
   ],
   "source": [
    "data3.read_file()"
   ]
  },
  {
   "cell_type": "code",
   "execution_count": 25,
   "id": "8cec9bf5",
   "metadata": {},
   "outputs": [],
   "source": [
    "data3.open_file()"
   ]
  },
  {
   "cell_type": "code",
   "execution_count": 26,
   "id": "d2ef67c5",
   "metadata": {},
   "outputs": [
    {
     "name": "stdout",
     "output_type": "stream",
     "text": [
      "Still I am in confusion. In delusion too!\n"
     ]
    }
   ],
   "source": [
    "data3.read_file()"
   ]
  },
  {
   "cell_type": "code",
   "execution_count": 28,
   "id": "fbe28d3d",
   "metadata": {},
   "outputs": [],
   "source": [
    "data3.append_data(\"     Woah! i didn't expect sorta mishap......!!!!!!!!\")"
   ]
  },
  {
   "cell_type": "code",
   "execution_count": 29,
   "id": "25367530",
   "metadata": {},
   "outputs": [
    {
     "name": "stdout",
     "output_type": "stream",
     "text": [
      "Still I am in confusion. In delusion too!     Woah! i didn't expect sorta mishap......!!!!!!!!     Woah! i didn't expect sorta mishap......!!!!!!!!\n"
     ]
    }
   ],
   "source": [
    "data3.read_file()"
   ]
  },
  {
   "cell_type": "markdown",
   "id": "3557f1a9",
   "metadata": {},
   "source": [
    "## Can an object and its class have same name?\n",
    "\n",
    "### An object with the same name as a class is called a companion object. Conversely, the class is the object's companion class. A companion class or object can access the private members of its companion. Use a companion object for methods and values which are not specific to instances of the companion class."
   ]
  },
  {
   "cell_type": "code",
   "execution_count": 1,
   "id": "97898073",
   "metadata": {},
   "outputs": [],
   "source": [
    "class samename:\n",
    "    def __init__(self, a2):\n",
    "        self.__a1 = \"Pri var\"\n",
    "        self.a2 = a2"
   ]
  },
  {
   "cell_type": "code",
   "execution_count": 3,
   "id": "481530b3",
   "metadata": {},
   "outputs": [
    {
     "data": {
      "text/plain": [
       "'pub var'"
      ]
     },
     "execution_count": 3,
     "metadata": {},
     "output_type": "execute_result"
    }
   ],
   "source": [
    "samename(\"pub var\").a2 #not trying to create an object of this class. Calling directly.."
   ]
  },
  {
   "cell_type": "code",
   "execution_count": 5,
   "id": "74789c73",
   "metadata": {},
   "outputs": [
    {
     "data": {
      "text/plain": [
       "'Pri var'"
      ]
     },
     "execution_count": 5,
     "metadata": {},
     "output_type": "execute_result"
    }
   ],
   "source": [
    "samename(\"pub var\")._samename__a1"
   ]
  },
  {
   "cell_type": "code",
   "execution_count": 6,
   "id": "9e32d448",
   "metadata": {},
   "outputs": [],
   "source": [
    "samename = samename(\"Public var of the class samename.\")"
   ]
  },
  {
   "cell_type": "code",
   "execution_count": 7,
   "id": "1bdf33c9",
   "metadata": {},
   "outputs": [
    {
     "data": {
      "text/plain": [
       "'Pri var'"
      ]
     },
     "execution_count": 7,
     "metadata": {},
     "output_type": "execute_result"
    }
   ],
   "source": [
    "samename._samename__a1"
   ]
  },
  {
   "cell_type": "code",
   "execution_count": 8,
   "id": "1564c213",
   "metadata": {},
   "outputs": [
    {
     "data": {
      "text/plain": [
       "'Public var of the class samename.'"
      ]
     },
     "execution_count": 8,
     "metadata": {},
     "output_type": "execute_result"
    }
   ],
   "source": [
    "samename.a2"
   ]
  }
 ],
 "metadata": {
  "kernelspec": {
   "display_name": "Python 3 (ipykernel)",
   "language": "python",
   "name": "python3"
  },
  "language_info": {
   "codemirror_mode": {
    "name": "ipython",
    "version": 3
   },
   "file_extension": ".py",
   "mimetype": "text/x-python",
   "name": "python",
   "nbconvert_exporter": "python",
   "pygments_lexer": "ipython3",
   "version": "3.9.7"
  }
 },
 "nbformat": 4,
 "nbformat_minor": 5
}
