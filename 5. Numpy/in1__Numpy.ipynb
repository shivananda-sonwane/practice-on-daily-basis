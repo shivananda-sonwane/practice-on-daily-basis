{
 "cells": [
  {
   "cell_type": "markdown",
   "id": "9b4a5f1f",
   "metadata": {},
   "source": [
    "### So the first impression is, \"Everything is arrays or matrices even images, audios and videos, etc.\""
   ]
  },
  {
   "cell_type": "code",
   "execution_count": 1,
   "id": "3462d43b",
   "metadata": {},
   "outputs": [],
   "source": [
    "import numpy as np"
   ]
  },
  {
   "cell_type": "code",
   "execution_count": 2,
   "id": "56b65434",
   "metadata": {},
   "outputs": [
    {
     "data": {
      "text/plain": [
       "array([1, 2, 3, 4, 5, 6])"
      ]
     },
     "execution_count": 2,
     "metadata": {},
     "output_type": "execute_result"
    }
   ],
   "source": [
    "np.array([1,2,3,4,5,6])"
   ]
  },
  {
   "cell_type": "code",
   "execution_count": 4,
   "id": "989d2994",
   "metadata": {},
   "outputs": [
    {
     "data": {
      "text/plain": [
       "array([ 1.+0.j,  4.+0.j, 45.+0.j,  5.+4.j, 29.+0.j])"
      ]
     },
     "execution_count": 4,
     "metadata": {},
     "output_type": "execute_result"
    }
   ],
   "source": [
    "np.array([1, 4, 45, 5+4j, 29])"
   ]
  },
  {
   "cell_type": "markdown",
   "id": "539ad5d8",
   "metadata": {},
   "source": [
    "- **So what numpy is doing here is that it is automatically upcasting the datatype of my data to the datatype which is having a higher order comparatively.**<br>\n",
    "- **In above case, the moment I entered a complex number in the list, datatype of all elements of the list was upcasted to type \"float\" from \"int\".**"
   ]
  },
  {
   "cell_type": "code",
   "execution_count": 5,
   "id": "6833704c",
   "metadata": {},
   "outputs": [
    {
     "data": {
      "text/plain": [
       "array([['1', '4', '45', '(5+4j)', '29', 'Suryanshyaknow']], dtype='<U64')"
      ]
     },
     "execution_count": 5,
     "metadata": {},
     "output_type": "execute_result"
    }
   ],
   "source": [
    "np.array([[1, 4, 45, 5+4j, 29, \"Suryanshyaknow\"]]) #so all elemets are upcasted to object datatype i.e. string."
   ]
  },
  {
   "cell_type": "code",
   "execution_count": 8,
   "id": "9ec31eae",
   "metadata": {
    "scrolled": true
   },
   "outputs": [
    {
     "name": "stderr",
     "output_type": "stream",
     "text": [
      "C:\\Users\\SURYAN~1\\AppData\\Local\\Temp/ipykernel_19692/4044435637.py:1: VisibleDeprecationWarning: Creating an ndarray from ragged nested sequences (which is a list-or-tuple of lists-or-tuples-or ndarrays with different lengths or shapes) is deprecated. If you meant to do this, you must specify 'dtype=object' when creating the ndarray.\n",
      "  np.array([1, 4, 45, 5+4j, 29, \"Suryanshyaknow\", [1,2,3,4,5,6]])\n"
     ]
    },
    {
     "data": {
      "text/plain": [
       "array([1, 4, 45, (5+4j), 29, 'Suryanshyaknow', list([1, 2, 3, 4, 5, 6])],\n",
       "      dtype=object)"
      ]
     },
     "execution_count": 8,
     "metadata": {},
     "output_type": "execute_result"
    }
   ],
   "source": [
    "np.array([1, 4, 45, 5+4j, 29, \"Suryanshyaknow\", [1,2,3,4,5,6]])"
   ]
  },
  {
   "cell_type": "code",
   "execution_count": 6,
   "id": "3f3bf0fa",
   "metadata": {},
   "outputs": [
    {
     "name": "stderr",
     "output_type": "stream",
     "text": [
      "C:\\Users\\SURYAN~1\\AppData\\Local\\Temp/ipykernel_1196/1916509671.py:1: VisibleDeprecationWarning: Creating an ndarray from ragged nested sequences (which is a list-or-tuple of lists-or-tuples-or ndarrays with different lengths or shapes) is deprecated. If you meant to do this, you must specify 'dtype=object' when creating the ndarray.\n",
      "  np.array([1, 4, 45, 5+4j, 29, \"Suryanshyaknow\", np.array([1,2,3,4,5,6])])\n"
     ]
    },
    {
     "data": {
      "text/plain": [
       "array([1, 4, 45, (5+4j), 29, 'Suryanshyaknow', array([1, 2, 3, 4, 5, 6])],\n",
       "      dtype=object)"
      ]
     },
     "execution_count": 6,
     "metadata": {},
     "output_type": "execute_result"
    }
   ],
   "source": [
    "np.array([1, 4, 45, 5+4j, 29, \"Suryanshyaknow\", np.array([1,2,3,4,5,6])])"
   ]
  },
  {
   "cell_type": "code",
   "execution_count": 7,
   "id": "01642919",
   "metadata": {},
   "outputs": [
    {
     "data": {
      "text/plain": [
       "array([[1, 3],\n",
       "       [3, 4]])"
      ]
     },
     "execution_count": 7,
     "metadata": {},
     "output_type": "execute_result"
    }
   ],
   "source": [
    "np.array([[1,3],[3,4]])"
   ]
  },
  {
   "cell_type": "code",
   "execution_count": 8,
   "id": "c35bb316",
   "metadata": {},
   "outputs": [
    {
     "data": {
      "text/plain": [
       "2"
      ]
     },
     "execution_count": 8,
     "metadata": {},
     "output_type": "execute_result"
    }
   ],
   "source": [
    "#Dimension of this array:\n",
    "np.array([[1,3],[3,4]]).ndim"
   ]
  },
  {
   "cell_type": "code",
   "execution_count": 9,
   "id": "72d66334",
   "metadata": {},
   "outputs": [
    {
     "data": {
      "text/plain": [
       "4"
      ]
     },
     "execution_count": 9,
     "metadata": {},
     "output_type": "execute_result"
    }
   ],
   "source": [
    "#no. of elements in this array:\n",
    "np.array([[1,3],[3,4]]).size"
   ]
  },
  {
   "cell_type": "code",
   "execution_count": 10,
   "id": "ded38657",
   "metadata": {},
   "outputs": [
    {
     "data": {
      "text/plain": [
       "(2, 2)"
      ]
     },
     "execution_count": 10,
     "metadata": {},
     "output_type": "execute_result"
    }
   ],
   "source": [
    "#(rows, columns)\n",
    "np.array([[1,3],[3,4]]).shape"
   ]
  },
  {
   "cell_type": "code",
   "execution_count": 14,
   "id": "fa2095f4",
   "metadata": {},
   "outputs": [
    {
     "data": {
      "text/plain": [
       "array([[1, 3],\n",
       "       [3, 4],\n",
       "       [6, 7]])"
      ]
     },
     "execution_count": 14,
     "metadata": {},
     "output_type": "execute_result"
    }
   ],
   "source": [
    "np.array([[1,3],[3,4],[6,7]])"
   ]
  },
  {
   "cell_type": "code",
   "execution_count": 18,
   "id": "31d433d6",
   "metadata": {},
   "outputs": [
    {
     "name": "stderr",
     "output_type": "stream",
     "text": [
      "C:\\Users\\SURYAN~1\\AppData\\Local\\Temp/ipykernel_19692/1655787997.py:1: VisibleDeprecationWarning: Creating an ndarray from ragged nested sequences (which is a list-or-tuple of lists-or-tuples-or ndarrays with different lengths or shapes) is deprecated. If you meant to do this, you must specify 'dtype=object' when creating the ndarray.\n",
      "  np.array([[1,3],[3,4],[6,7,8]])\n"
     ]
    },
    {
     "data": {
      "text/plain": [
       "array([list([1, 3]), list([3, 4]), list([6, 7, 8])], dtype=object)"
      ]
     },
     "execution_count": 18,
     "metadata": {},
     "output_type": "execute_result"
    }
   ],
   "source": [
    "np.array([[1,3],[3,4],[6,7,8]])"
   ]
  },
  {
   "cell_type": "markdown",
   "id": "9e5bdf90",
   "metadata": {},
   "source": [
    "- **So here, what this warning is trying to convey is that it might not be persmissible to be having an array having heterogenous dimension, so what it is trying to do is, it is converting the all passed elements of array into list, like it did 5 cells above.**"
   ]
  },
  {
   "cell_type": "code",
   "execution_count": 19,
   "id": "0dfe330f",
   "metadata": {},
   "outputs": [
    {
     "name": "stderr",
     "output_type": "stream",
     "text": [
      "C:\\Users\\SURYAN~1\\AppData\\Local\\Temp/ipykernel_19692/215437245.py:2: VisibleDeprecationWarning: Creating an ndarray from ragged nested sequences (which is a list-or-tuple of lists-or-tuples-or ndarrays with different lengths or shapes) is deprecated. If you meant to do this, you must specify 'dtype=object' when creating the ndarray.\n",
      "  np.array([[1,3],[3,4],[6,7,8]]).ndim\n"
     ]
    },
    {
     "data": {
      "text/plain": [
       "1"
      ]
     },
     "execution_count": 19,
     "metadata": {},
     "output_type": "execute_result"
    }
   ],
   "source": [
    "#So consequently, the dimension of this array is:\n",
    "np.array([[1,3],[3,4],[6,7,8]]).ndim"
   ]
  },
  {
   "cell_type": "markdown",
   "id": "ad37fccb",
   "metadata": {},
   "source": [
    "**And consequently, the dimension of the our array becomes one.**"
   ]
  },
  {
   "cell_type": "code",
   "execution_count": 20,
   "id": "794b3629",
   "metadata": {},
   "outputs": [
    {
     "data": {
      "text/plain": [
       "array([[[1, 3],\n",
       "        [3, 4]],\n",
       "\n",
       "       [[1, 3],\n",
       "        [3, 4]]])"
      ]
     },
     "execution_count": 20,
     "metadata": {},
     "output_type": "execute_result"
    }
   ],
   "source": [
    "np.array([[[1,3],[3,4]],[[1,3],[3,4]]])"
   ]
  },
  {
   "cell_type": "code",
   "execution_count": 21,
   "id": "246b035e",
   "metadata": {},
   "outputs": [
    {
     "data": {
      "text/plain": [
       "3"
      ]
     },
     "execution_count": 21,
     "metadata": {},
     "output_type": "execute_result"
    }
   ],
   "source": [
    "np.array([[[1,3],[3,4]],[[1,3],[3,4]]]).ndim"
   ]
  },
  {
   "cell_type": "markdown",
   "id": "5c04389b",
   "metadata": {},
   "source": [
    "### ndmin:\n",
    "**int, optional**<br>\n",
    "&emsp;&emsp;**Specifies the minimum number of dimensions that the resulting array should have.  Ones will be pre-pended to the shape as needed to meet this requirement.**"
   ]
  },
  {
   "cell_type": "code",
   "execution_count": 23,
   "id": "ca2bc1c3",
   "metadata": {},
   "outputs": [
    {
     "data": {
      "text/plain": [
       "array([[[1, 2, 3]]])"
      ]
     },
     "execution_count": 23,
     "metadata": {},
     "output_type": "execute_result"
    }
   ],
   "source": [
    "np.array([1,2,3] , ndmin = 3)"
   ]
  },
  {
   "cell_type": "code",
   "execution_count": 26,
   "id": "505b1710",
   "metadata": {},
   "outputs": [
    {
     "data": {
      "text/plain": [
       "3"
      ]
     },
     "execution_count": 26,
     "metadata": {},
     "output_type": "execute_result"
    }
   ],
   "source": [
    "np.array([1,2,3] , ndmin = 3).ndim"
   ]
  },
  {
   "cell_type": "code",
   "execution_count": 11,
   "id": "c7e88e50",
   "metadata": {},
   "outputs": [
    {
     "data": {
      "text/plain": [
       "(1, 1, 3)"
      ]
     },
     "execution_count": 11,
     "metadata": {},
     "output_type": "execute_result"
    }
   ],
   "source": [
    "np.array([1,2,3] , ndmin = 3).shape #Ones will be pre-pended to the shape as needed to meet this requirement."
   ]
  },
  {
   "cell_type": "markdown",
   "id": "e976e894",
   "metadata": {},
   "source": [
    "### Customized way of setting datatype:"
   ]
  },
  {
   "cell_type": "code",
   "execution_count": 28,
   "id": "00e5a3a2",
   "metadata": {},
   "outputs": [
    {
     "data": {
      "text/plain": [
       "array([1.+0.j, 2.+0.j, 3.+0.j])"
      ]
     },
     "execution_count": 28,
     "metadata": {},
     "output_type": "execute_result"
    }
   ],
   "source": [
    "np.array([1,2,3] , dtype = complex)"
   ]
  },
  {
   "cell_type": "markdown",
   "id": "b21bd6ab",
   "metadata": {},
   "source": [
    "### We can also pack the elments of an array into tuples (however they will be immutable), let's see:"
   ]
  },
  {
   "cell_type": "code",
   "execution_count": 30,
   "id": "0a3e1d1f",
   "metadata": {},
   "outputs": [
    {
     "data": {
      "text/plain": [
       "array([[1, 3],\n",
       "       [3, 4]])"
      ]
     },
     "execution_count": 30,
     "metadata": {},
     "output_type": "execute_result"
    }
   ],
   "source": [
    "np.array([(1,3), (3,4)])"
   ]
  },
  {
   "cell_type": "markdown",
   "id": "a52581dd",
   "metadata": {},
   "source": [
    "**..and no changes observed whatsoever.**"
   ]
  },
  {
   "cell_type": "code",
   "execution_count": 12,
   "id": "28f8bffe",
   "metadata": {},
   "outputs": [],
   "source": [
    "arr = np.array([(1,2) , (4,5)], dtype = [(\"a\",'<i4'), (\"b\",'<i8')])"
   ]
  },
  {
   "cell_type": "code",
   "execution_count": 33,
   "id": "6254c663",
   "metadata": {},
   "outputs": [
    {
     "data": {
      "text/plain": [
       "numpy.int32"
      ]
     },
     "execution_count": 33,
     "metadata": {},
     "output_type": "execute_result"
    }
   ],
   "source": [
    "type(arr[0][0]) #i4, 4*8=32bits"
   ]
  },
  {
   "cell_type": "code",
   "execution_count": 35,
   "id": "6e51f349",
   "metadata": {},
   "outputs": [
    {
     "data": {
      "text/plain": [
       "numpy.int64"
      ]
     },
     "execution_count": 35,
     "metadata": {},
     "output_type": "execute_result"
    }
   ],
   "source": [
    "type(arr[0][1]) #i8, 8*8=64bits"
   ]
  },
  {
   "cell_type": "markdown",
   "id": "82e9c02d",
   "metadata": {},
   "source": [
    "**NOTE: We'll never use this concept until and unless we are developing a library.**"
   ]
  },
  {
   "cell_type": "code",
   "execution_count": 37,
   "id": "740dd253",
   "metadata": {},
   "outputs": [
    {
     "data": {
      "text/plain": [
       "array([[1, 3],\n",
       "       [3, 4]])"
      ]
     },
     "execution_count": 37,
     "metadata": {},
     "output_type": "execute_result"
    }
   ],
   "source": [
    "arr = np.array([[1,3],[3,4]])\n",
    "arr"
   ]
  },
  {
   "cell_type": "code",
   "execution_count": 15,
   "id": "4de2f4ad",
   "metadata": {},
   "outputs": [
    {
     "data": {
      "text/plain": [
       "[12, 34, 546, 'Suryansh']"
      ]
     },
     "execution_count": 15,
     "metadata": {},
     "output_type": "execute_result"
    }
   ],
   "source": [
    "l = [12, 34, 546, 'Suryansh']\n",
    "l"
   ]
  },
  {
   "cell_type": "code",
   "execution_count": 40,
   "id": "27e2b1a5",
   "metadata": {},
   "outputs": [
    {
     "data": {
      "text/plain": [
       "array(['12', '34', '546', 'Suryansh'], dtype='<U11')"
      ]
     },
     "execution_count": 40,
     "metadata": {},
     "output_type": "execute_result"
    }
   ],
   "source": [
    "np.asarray(l)"
   ]
  },
  {
   "cell_type": "code",
   "execution_count": 47,
   "id": "54502ec8",
   "metadata": {},
   "outputs": [
    {
     "data": {
      "text/plain": [
       "matrix([['12', '34', '546', 'Suryansh']], dtype='<U11')"
      ]
     },
     "execution_count": 47,
     "metadata": {},
     "output_type": "execute_result"
    }
   ],
   "source": [
    "np.mat(l)"
   ]
  },
  {
   "cell_type": "code",
   "execution_count": 16,
   "id": "65b0b7e4",
   "metadata": {},
   "outputs": [
    {
     "data": {
      "text/plain": [
       "matrix([['12', '34', '546', 'Suryansh']], dtype='<U11')"
      ]
     },
     "execution_count": 16,
     "metadata": {},
     "output_type": "execute_result"
    }
   ],
   "source": [
    "mat = np.asmatrix(l) #converting to matrix.\n",
    "mat"
   ]
  },
  {
   "cell_type": "markdown",
   "id": "f68d7904",
   "metadata": {},
   "source": [
    "### Matrix is the subset of the Array.\n",
    "\n",
    "### .issubclass():"
   ]
  },
  {
   "cell_type": "code",
   "execution_count": 53,
   "id": "3595a4a9",
   "metadata": {},
   "outputs": [
    {
     "data": {
      "text/plain": [
       "True"
      ]
     },
     "execution_count": 53,
     "metadata": {},
     "output_type": "execute_result"
    }
   ],
   "source": [
    "issubclass(np.matrix, np.ndarray)"
   ]
  },
  {
   "cell_type": "code",
   "execution_count": 54,
   "id": "70b61f77",
   "metadata": {},
   "outputs": [
    {
     "data": {
      "text/plain": [
       "False"
      ]
     },
     "execution_count": 54,
     "metadata": {},
     "output_type": "execute_result"
    }
   ],
   "source": [
    "issubclass(np.ndarray, np.matrix)"
   ]
  },
  {
   "cell_type": "markdown",
   "id": "64e1fca2",
   "metadata": {},
   "source": [
    "###  .asanyarray():"
   ]
  },
  {
   "cell_type": "code",
   "execution_count": 49,
   "id": "e73798a0",
   "metadata": {},
   "outputs": [
    {
     "data": {
      "text/plain": [
       "array(['12', '34', '546', 'Suryansh'], dtype='<U11')"
      ]
     },
     "execution_count": 49,
     "metadata": {},
     "output_type": "execute_result"
    }
   ],
   "source": [
    "np.asanyarray(l) #if not array, will convert into it."
   ]
  },
  {
   "cell_type": "code",
   "execution_count": 17,
   "id": "76c6f489",
   "metadata": {},
   "outputs": [
    {
     "data": {
      "text/plain": [
       "matrix([['12', '34', '546', 'Suryansh']], dtype='<U11')"
      ]
     },
     "execution_count": 17,
     "metadata": {},
     "output_type": "execute_result"
    }
   ],
   "source": [
    "np.asanyarray(mat) #if array or its any sub-type, then won't."
   ]
  },
  {
   "cell_type": "markdown",
   "id": "25bebc28",
   "metadata": {},
   "source": [
    "### Shallow Copy and Deep Copy concept:"
   ]
  },
  {
   "cell_type": "code",
   "execution_count": 62,
   "id": "1594cd2a",
   "metadata": {},
   "outputs": [
    {
     "data": {
      "text/plain": [
       "[[0, 1], [1, 0]]"
      ]
     },
     "execution_count": 62,
     "metadata": {},
     "output_type": "execute_result"
    }
   ],
   "source": [
    "arr = [[0,1], [1,0]]\n",
    "arr"
   ]
  },
  {
   "cell_type": "code",
   "execution_count": 63,
   "id": "4d3d59fb",
   "metadata": {},
   "outputs": [],
   "source": [
    "a = arr\n",
    "b = np.copy(arr)"
   ]
  },
  {
   "cell_type": "code",
   "execution_count": 64,
   "id": "7a63d091",
   "metadata": {},
   "outputs": [
    {
     "data": {
      "text/plain": [
       "([[0, 1], [1, 0]],\n",
       " array([[0, 1],\n",
       "        [1, 0]]))"
      ]
     },
     "execution_count": 64,
     "metadata": {},
     "output_type": "execute_result"
    }
   ],
   "source": [
    "a, b"
   ]
  },
  {
   "cell_type": "code",
   "execution_count": 68,
   "id": "4a3b421d",
   "metadata": {},
   "outputs": [],
   "source": [
    "#Lets make some changes in the org value of arr.\n",
    "arr[0][0] = 56 "
   ]
  },
  {
   "cell_type": "code",
   "execution_count": 66,
   "id": "ce014e9d",
   "metadata": {},
   "outputs": [
    {
     "data": {
      "text/plain": [
       "[[56, 1], [1, 0]]"
      ]
     },
     "execution_count": 66,
     "metadata": {},
     "output_type": "execute_result"
    }
   ],
   "source": [
    "a #a is able to reflect those changes."
   ]
  },
  {
   "cell_type": "markdown",
   "id": "145aa86e",
   "metadata": {},
   "source": [
    "**a** is **Shallow copy** of **arr**.<br>\n",
    "**And this is because now, arr and a are pointing to same location and if there are some changes made to that location so both arr and a will be able to reflect them.**"
   ]
  },
  {
   "cell_type": "code",
   "execution_count": 67,
   "id": "947490cc",
   "metadata": {},
   "outputs": [
    {
     "data": {
      "text/plain": [
       "array([[0, 1],\n",
       "       [1, 0]])"
      ]
     },
     "execution_count": 67,
     "metadata": {},
     "output_type": "execute_result"
    }
   ],
   "source": [
    "b #while b is not."
   ]
  },
  {
   "cell_type": "markdown",
   "id": "8a0efb6d",
   "metadata": {},
   "source": [
    "**b** is **Deep Copy** of **arr**.<br>\n",
    "**i.e. a literal copy of arr is made somewhere and now b is pointing to that location. And it goes without saying that b will only reflect changes that will be made to the new location.**"
   ]
  },
  {
   "cell_type": "markdown",
   "id": "446f7ab4",
   "metadata": {},
   "source": [
    "### np.fromfunction(): Constructs an array by executing a function over each coordinate."
   ]
  },
  {
   "cell_type": "code",
   "execution_count": 72,
   "id": "ca144fca",
   "metadata": {},
   "outputs": [
    {
     "data": {
      "text/plain": [
       "array([[ True, False, False, False],\n",
       "       [False,  True, False, False],\n",
       "       [False, False,  True, False]])"
      ]
     },
     "execution_count": 72,
     "metadata": {},
     "output_type": "execute_result"
    }
   ],
   "source": [
    "np.fromfunction(lambda i,j:i==j, (3,4))"
   ]
  },
  {
   "cell_type": "code",
   "execution_count": 75,
   "id": "ff83e39e",
   "metadata": {},
   "outputs": [
    {
     "data": {
      "text/plain": [
       "array([[1., 0., 0.],\n",
       "       [1., 1., 1.],\n",
       "       [1., 2., 4.]])"
      ]
     },
     "execution_count": 75,
     "metadata": {},
     "output_type": "execute_result"
    }
   ],
   "source": [
    "np.fromfunction(lambda i,j:i**j, (3,3)) #by default datatype."
   ]
  },
  {
   "cell_type": "code",
   "execution_count": 76,
   "id": "3367b542",
   "metadata": {},
   "outputs": [
    {
     "name": "stderr",
     "output_type": "stream",
     "text": [
      "C:\\Users\\SURYAN~1\\AppData\\Local\\Temp/ipykernel_19692/1073688577.py:1: RuntimeWarning: divide by zero encountered in true_divide\n",
      "  np.fromfunction(lambda i,j:i/j, (3,3))\n",
      "C:\\Users\\SURYAN~1\\AppData\\Local\\Temp/ipykernel_19692/1073688577.py:1: RuntimeWarning: invalid value encountered in true_divide\n",
      "  np.fromfunction(lambda i,j:i/j, (3,3))\n"
     ]
    },
    {
     "data": {
      "text/plain": [
       "array([[nan, 0. , 0. ],\n",
       "       [inf, 1. , 0.5],\n",
       "       [inf, 2. , 1. ]])"
      ]
     },
     "execution_count": 76,
     "metadata": {},
     "output_type": "execute_result"
    }
   ],
   "source": [
    "np.fromfunction(lambda i,j:i/j, (3,3)) "
   ]
  },
  {
   "cell_type": "markdown",
   "id": "4a07c5c8",
   "metadata": {},
   "source": [
    "### .fromiter(): Create a new 1-dimensional array from an iterable object."
   ]
  },
  {
   "cell_type": "markdown",
   "id": "5c86aac8",
   "metadata": {},
   "source": [
    "**This is a news! I didn't know that.**"
   ]
  },
  {
   "cell_type": "code",
   "execution_count": 26,
   "id": "f01d47d3",
   "metadata": {},
   "outputs": [
    {
     "data": {
      "text/plain": [
       "<generator object <genexpr> at 0x000001F43855CC10>"
      ]
     },
     "execution_count": 26,
     "metadata": {},
     "output_type": "execute_result"
    }
   ],
   "source": [
    "gen=(i**2 for i in range(5))\n",
    "gen"
   ]
  },
  {
   "cell_type": "code",
   "execution_count": 39,
   "id": "dd9fd031",
   "metadata": {},
   "outputs": [
    {
     "data": {
      "text/plain": [
       "[0, 1, 4, 9, 16]"
      ]
     },
     "execution_count": 39,
     "metadata": {},
     "output_type": "execute_result"
    }
   ],
   "source": [
    "lc=[i**2 for i in range(5)]\n",
    "lc #list comprehension"
   ]
  },
  {
   "cell_type": "code",
   "execution_count": 40,
   "id": "665dd04c",
   "metadata": {},
   "outputs": [
    {
     "data": {
      "text/plain": [
       "array([ 0,  1,  4,  9, 16])"
      ]
     },
     "execution_count": 40,
     "metadata": {},
     "output_type": "execute_result"
    }
   ],
   "source": [
    "np.fromiter(lc, dtype=int)"
   ]
  },
  {
   "cell_type": "code",
   "execution_count": 24,
   "id": "9e4db945",
   "metadata": {},
   "outputs": [
    {
     "data": {
      "text/plain": [
       "array([ 0,  1,  4,  9, 16])"
      ]
     },
     "execution_count": 24,
     "metadata": {},
     "output_type": "execute_result"
    }
   ],
   "source": [
    "np.fromiter(gen, dtype=int)"
   ]
  },
  {
   "cell_type": "code",
   "execution_count": 27,
   "id": "d4a84c38",
   "metadata": {},
   "outputs": [
    {
     "data": {
      "text/plain": [
       "array([False,  True,  True,  True,  True])"
      ]
     },
     "execution_count": 27,
     "metadata": {},
     "output_type": "execute_result"
    }
   ],
   "source": [
    "np.fromiter(gen, dtype=bool)"
   ]
  },
  {
   "cell_type": "code",
   "execution_count": 99,
   "id": "1fc1e922",
   "metadata": {},
   "outputs": [
    {
     "data": {
      "text/plain": [
       "array([ 0,  1,  4,  9, 16])"
      ]
     },
     "execution_count": 99,
     "metadata": {},
     "output_type": "execute_result"
    }
   ],
   "source": [
    "np.fromiter((i**2 for i in range(5)), dtype=int)"
   ]
  },
  {
   "cell_type": "code",
   "execution_count": 100,
   "id": "9d3ea921",
   "metadata": {},
   "outputs": [
    {
     "data": {
      "text/plain": [
       "array([0, 1, 2, 3, 4])"
      ]
     },
     "execution_count": 100,
     "metadata": {},
     "output_type": "execute_result"
    }
   ],
   "source": [
    "np.fromiter(range(5), dtype=int)"
   ]
  },
  {
   "cell_type": "markdown",
   "id": "18898b0a",
   "metadata": {},
   "source": [
    "### Is range a generator function?\n",
    "**In Python range objects are not iterators. range is a class of a list of immutable objects. The iteration behavior of range is similar to iteration behavior of list. In list and range we can not directly call next function. We can call next if we get an iterator using iter.**"
   ]
  },
  {
   "cell_type": "markdown",
   "id": "a4faca1f",
   "metadata": {},
   "source": [
    "### .fromstring(): Creating an array from a string. Gotta give the separator val."
   ]
  },
  {
   "cell_type": "code",
   "execution_count": 42,
   "id": "9f7578c7",
   "metadata": {},
   "outputs": [
    {
     "data": {
      "text/plain": [
       "array([1, 3, 4, 5, 6])"
      ]
     },
     "execution_count": 42,
     "metadata": {},
     "output_type": "execute_result"
    }
   ],
   "source": [
    "np.fromstring('1,3,4,5,6', sep = ',', dtype= int)"
   ]
  },
  {
   "cell_type": "code",
   "execution_count": 29,
   "id": "1a02451c",
   "metadata": {},
   "outputs": [
    {
     "name": "stderr",
     "output_type": "stream",
     "text": [
      "C:\\Users\\SURYAN~1\\AppData\\Local\\Temp/ipykernel_1196/1625818934.py:1: DeprecationWarning: string or file could not be read to its end due to unmatched data; this will raise a ValueError in the future.\n",
      "  np.fromstring('1,3,4,5,6', sep = ' ', dtype= int)\n"
     ]
    },
    {
     "data": {
      "text/plain": [
       "array([1])"
      ]
     },
     "execution_count": 29,
     "metadata": {},
     "output_type": "execute_result"
    }
   ],
   "source": [
    "np.fromstring('1,3,4,5,6', sep = ' ', dtype= int)"
   ]
  },
  {
   "cell_type": "code",
   "execution_count": 102,
   "id": "636fcd1a",
   "metadata": {},
   "outputs": [
    {
     "data": {
      "text/plain": [
       "array([  456.+0.j,   456.+0.j,  3454.+0.j, 34543.+0.j])"
      ]
     },
     "execution_count": 102,
     "metadata": {},
     "output_type": "execute_result"
    }
   ],
   "source": [
    "np.fromstring(\"456 456 3454 34543\", sep = ' ', dtype= complex)"
   ]
  },
  {
   "cell_type": "code",
   "execution_count": 31,
   "id": "7f08849f",
   "metadata": {},
   "outputs": [
    {
     "name": "stderr",
     "output_type": "stream",
     "text": [
      "C:\\Users\\SURYAN~1\\AppData\\Local\\Temp/ipykernel_1196/2272772299.py:1: DeprecationWarning: string or file could not be read to its end due to unmatched data; this will raise a ValueError in the future.\n",
      "  np.fromstring(\"456 456 3454 34543\", sep = ',', dtype= complex)\n"
     ]
    },
    {
     "data": {
      "text/plain": [
       "array([456.+0.j])"
      ]
     },
     "execution_count": 31,
     "metadata": {},
     "output_type": "execute_result"
    }
   ],
   "source": [
    "np.fromstring(\"456 456 3454 34543\", sep = ',', dtype= complex)"
   ]
  },
  {
   "cell_type": "markdown",
   "id": "dd417b0c",
   "metadata": {},
   "source": [
    "### How to read 3D array:"
   ]
  },
  {
   "cell_type": "code",
   "execution_count": 107,
   "id": "e4f34d1a",
   "metadata": {},
   "outputs": [
    {
     "data": {
      "text/plain": [
       "array([[[1, 2, 3, 4],\n",
       "        [4, 5, 6, 7]],\n",
       "\n",
       "       [[1, 2, 3, 4],\n",
       "        [4, 5, 6, 7]]])"
      ]
     },
     "execution_count": 107,
     "metadata": {},
     "output_type": "execute_result"
    }
   ],
   "source": [
    "arr = np.array([[[1,2,3,4],[4,5,6,7]],[[1,2,3,4],[4,5,6,7]]])\n",
    "arr"
   ]
  },
  {
   "cell_type": "code",
   "execution_count": 109,
   "id": "04b60666",
   "metadata": {},
   "outputs": [
    {
     "data": {
      "text/plain": [
       "3"
      ]
     },
     "execution_count": 109,
     "metadata": {},
     "output_type": "execute_result"
    }
   ],
   "source": [
    "arr.ndim"
   ]
  },
  {
   "cell_type": "code",
   "execution_count": 114,
   "id": "53ff0d65",
   "metadata": {},
   "outputs": [
    {
     "data": {
      "text/plain": [
       "16"
      ]
     },
     "execution_count": 114,
     "metadata": {},
     "output_type": "execute_result"
    }
   ],
   "source": [
    "arr.size #16 elements."
   ]
  },
  {
   "cell_type": "code",
   "execution_count": 111,
   "id": "ccaa8d83",
   "metadata": {},
   "outputs": [
    {
     "data": {
      "text/plain": [
       "(2, 2, 4)"
      ]
     },
     "execution_count": 111,
     "metadata": {},
     "output_type": "execute_result"
    }
   ],
   "source": [
    "arr.shape"
   ]
  },
  {
   "cell_type": "markdown",
   "id": "4fd4ccfb",
   "metadata": {},
   "source": [
    "**This should be read as 2 arrays of size (2 x 4).**<br>\n",
    "**Here, 2 can be considered as thickness of the 2D array [[1, 2, 3, 4], [4, 5, 6, 7]] in the 3rd dimesion.**"
   ]
  },
  {
   "cell_type": "code",
   "execution_count": 120,
   "id": "4a186f30",
   "metadata": {},
   "outputs": [
    {
     "data": {
      "text/plain": [
       "array([[[[1, 2, 3, 4],\n",
       "         [4, 5, 6, 7]],\n",
       "\n",
       "        [[1, 2, 3, 4],\n",
       "         [4, 5, 6, 7]],\n",
       "\n",
       "        [[1, 2, 3, 4],\n",
       "         [4, 5, 6, 7]],\n",
       "\n",
       "        [[1, 2, 3, 4],\n",
       "         [4, 5, 6, 7]]]])"
      ]
     },
     "execution_count": 120,
     "metadata": {},
     "output_type": "execute_result"
    }
   ],
   "source": [
    "#4 dimensional array:\n",
    "arr4 = np.array([[[[1,2,3,4],[4,5,6,7]],[[1,2,3,4],[4,5,6,7]],[[1,2,3,4],[4,5,6,7]],[[1,2,3,4],[4,5,6,7]]]])\n",
    "arr4"
   ]
  },
  {
   "cell_type": "code",
   "execution_count": 121,
   "id": "d057cce9",
   "metadata": {},
   "outputs": [
    {
     "data": {
      "text/plain": [
       "(1, 4, 2, 4)"
      ]
     },
     "execution_count": 121,
     "metadata": {},
     "output_type": "execute_result"
    }
   ],
   "source": [
    "arr4.shape"
   ]
  },
  {
   "cell_type": "markdown",
   "id": "9f7f9e8d",
   "metadata": {},
   "source": [
    "### .arange(): \n",
    "- **Return evenly spaced values within a given interval.**\n",
    "- **Unlike range(), arange() even accepts start, end and step size in float values.**"
   ]
  },
  {
   "cell_type": "code",
   "execution_count": 132,
   "id": "8379dd30",
   "metadata": {},
   "outputs": [
    {
     "data": {
      "text/plain": [
       "range(0, 3)"
      ]
     },
     "execution_count": 132,
     "metadata": {},
     "output_type": "execute_result"
    }
   ],
   "source": [
    "range(3)"
   ]
  },
  {
   "cell_type": "code",
   "execution_count": 126,
   "id": "23a1fab1",
   "metadata": {},
   "outputs": [
    {
     "data": {
      "text/plain": [
       "array([0, 1, 2, 3, 4, 5, 6, 7, 8])"
      ]
     },
     "execution_count": 126,
     "metadata": {},
     "output_type": "execute_result"
    }
   ],
   "source": [
    "np.arange(9)"
   ]
  },
  {
   "cell_type": "code",
   "execution_count": 49,
   "id": "ae752bd1",
   "metadata": {},
   "outputs": [
    {
     "data": {
      "text/plain": [
       "array([0., 1., 2., 3., 4., 5., 6., 7., 8.])"
      ]
     },
     "execution_count": 49,
     "metadata": {},
     "output_type": "execute_result"
    }
   ],
   "source": [
    "np.arange(8.000000000000001)"
   ]
  },
  {
   "cell_type": "code",
   "execution_count": 127,
   "id": "8da524f7",
   "metadata": {},
   "outputs": [
    {
     "data": {
      "text/plain": [
       "array([0., 1., 2., 3., 4., 5., 6., 7., 8.])"
      ]
     },
     "execution_count": 127,
     "metadata": {},
     "output_type": "execute_result"
    }
   ],
   "source": [
    "np.arange(8.9)"
   ]
  },
  {
   "cell_type": "code",
   "execution_count": 133,
   "id": "1bd559f8",
   "metadata": {},
   "outputs": [
    {
     "data": {
      "text/plain": [
       "array([6.7, 7.7, 8.7])"
      ]
     },
     "execution_count": 133,
     "metadata": {},
     "output_type": "execute_result"
    }
   ],
   "source": [
    "np.arange(6.7, 8.9)"
   ]
  },
  {
   "cell_type": "code",
   "execution_count": 134,
   "id": "d3aaa88b",
   "metadata": {},
   "outputs": [
    {
     "data": {
      "text/plain": [
       "array([6.7, 7.2, 7.7, 8.2, 8.7])"
      ]
     },
     "execution_count": 134,
     "metadata": {},
     "output_type": "execute_result"
    }
   ],
   "source": [
    "np.arange(6.7, 8.9, 0.5)"
   ]
  },
  {
   "cell_type": "code",
   "execution_count": 140,
   "id": "75e47115",
   "metadata": {},
   "outputs": [
    {
     "data": {
      "text/plain": [
       "array([6.6, 6.9, 7.2, 7.5, 7.8, 8.1, 8.4, 8.7, 9. ])"
      ]
     },
     "execution_count": 140,
     "metadata": {},
     "output_type": "execute_result"
    }
   ],
   "source": [
    "np.arange(6.6, 9, 0.3)"
   ]
  },
  {
   "cell_type": "markdown",
   "id": "0eff2d9d",
   "metadata": {},
   "source": [
    "**NOTE: 0.3 is not to be taken as absolute value that's why even upper bound 9 is taken.**"
   ]
  },
  {
   "cell_type": "markdown",
   "id": "e38d6a60",
   "metadata": {},
   "source": [
    "### .linspace()"
   ]
  },
  {
   "cell_type": "code",
   "execution_count": 142,
   "id": "46f478c5",
   "metadata": {},
   "outputs": [
    {
     "data": {
      "text/plain": [
       "array([1.  , 1.25, 1.5 , 1.75, 2.  ])"
      ]
     },
     "execution_count": 142,
     "metadata": {},
     "output_type": "execute_result"
    }
   ],
   "source": [
    "np.linspace(1,2,5) #Dividing the data between 1 and 2 into 5 equal parts."
   ]
  },
  {
   "cell_type": "code",
   "execution_count": 32,
   "id": "2b85edaa",
   "metadata": {},
   "outputs": [
    {
     "data": {
      "text/plain": [
       "array([1.        , 1.02040816, 1.04081633, 1.06122449, 1.08163265,\n",
       "       1.10204082, 1.12244898, 1.14285714, 1.16326531, 1.18367347,\n",
       "       1.20408163, 1.2244898 , 1.24489796, 1.26530612, 1.28571429,\n",
       "       1.30612245, 1.32653061, 1.34693878, 1.36734694, 1.3877551 ,\n",
       "       1.40816327, 1.42857143, 1.44897959, 1.46938776, 1.48979592,\n",
       "       1.51020408, 1.53061224, 1.55102041, 1.57142857, 1.59183673,\n",
       "       1.6122449 , 1.63265306, 1.65306122, 1.67346939, 1.69387755,\n",
       "       1.71428571, 1.73469388, 1.75510204, 1.7755102 , 1.79591837,\n",
       "       1.81632653, 1.83673469, 1.85714286, 1.87755102, 1.89795918,\n",
       "       1.91836735, 1.93877551, 1.95918367, 1.97959184, 2.        ])"
      ]
     },
     "execution_count": 32,
     "metadata": {},
     "output_type": "execute_result"
    }
   ],
   "source": [
    "np.linspace(1,2) #default no. of elements in the array is 50, thus 50 equal parts."
   ]
  },
  {
   "cell_type": "code",
   "execution_count": 145,
   "id": "5b5d7187",
   "metadata": {},
   "outputs": [
    {
     "data": {
      "text/plain": [
       "array([-0.4       , -0.05714286,  0.28571429,  0.62857143,  0.97142857,\n",
       "        1.31428571,  1.65714286,  2.        ])"
      ]
     },
     "execution_count": 145,
     "metadata": {},
     "output_type": "execute_result"
    }
   ],
   "source": [
    "np.linspace(-0.4,2,8)"
   ]
  },
  {
   "cell_type": "markdown",
   "id": "51e956fc",
   "metadata": {},
   "source": [
    "**Doubt:**\n",
    "\n",
    "**If endpoint = False, what should be the end value of an array generated by the .linspace(). Because if endpoint = True we have, say distance between them to be made parts of.**<br>\n",
    "**In layman terms, what would be our right extreme?**"
   ]
  },
  {
   "cell_type": "code",
   "execution_count": 34,
   "id": "09f22689",
   "metadata": {},
   "outputs": [
    {
     "data": {
      "text/plain": [
       "array([0. , 0.2, 0.4, 0.6, 0.8, 1. , 1.2, 1.4, 1.6, 1.8, 2. , 2.2, 2.4,\n",
       "       2.6, 2.8, 3. , 3.2, 3.4, 3.6, 3.8, 4. , 4.2, 4.4, 4.6, 4.8, 5. ,\n",
       "       5.2, 5.4, 5.6, 5.8, 6. , 6.2, 6.4, 6.6, 6.8, 7. , 7.2, 7.4, 7.6,\n",
       "       7.8, 8. , 8.2, 8.4, 8.6, 8.8, 9. , 9.2, 9.4, 9.6, 9.8])"
      ]
     },
     "execution_count": 34,
     "metadata": {},
     "output_type": "execute_result"
    }
   ],
   "source": [
    "np.linspace(0, 10, endpoint=False)"
   ]
  },
  {
   "cell_type": "code",
   "execution_count": 162,
   "id": "86167d67",
   "metadata": {},
   "outputs": [
    {
     "data": {
      "text/plain": [
       "array([ 0. ,  2.5,  5. ,  7.5, 10. ])"
      ]
     },
     "execution_count": 162,
     "metadata": {},
     "output_type": "execute_result"
    }
   ],
   "source": [
    "np.linspace(0, 10, 5)"
   ]
  },
  {
   "cell_type": "code",
   "execution_count": 37,
   "id": "fd0e3bdd",
   "metadata": {},
   "outputs": [
    {
     "data": {
      "text/plain": [
       "array([0., 2., 4., 6., 8.])"
      ]
     },
     "execution_count": 37,
     "metadata": {},
     "output_type": "execute_result"
    }
   ],
   "source": [
    "np.linspace(0, 10, 5, endpoint=False)"
   ]
  },
  {
   "cell_type": "code",
   "execution_count": 164,
   "id": "eedd6807",
   "metadata": {},
   "outputs": [
    {
     "data": {
      "text/plain": [
       "array([ 1.  ,  3.25,  5.5 ,  7.75, 10.  ])"
      ]
     },
     "execution_count": 164,
     "metadata": {},
     "output_type": "execute_result"
    }
   ],
   "source": [
    "np.linspace(1, 10, 5)"
   ]
  },
  {
   "cell_type": "code",
   "execution_count": 163,
   "id": "a327a25b",
   "metadata": {},
   "outputs": [
    {
     "data": {
      "text/plain": [
       "array([1. , 2.8, 4.6, 6.4, 8.2])"
      ]
     },
     "execution_count": 163,
     "metadata": {},
     "output_type": "execute_result"
    }
   ],
   "source": [
    "np.linspace(1, 10, 5, endpoint=False)"
   ]
  },
  {
   "cell_type": "code",
   "execution_count": 166,
   "id": "13634d6a",
   "metadata": {},
   "outputs": [
    {
     "data": {
      "text/plain": [
       "array([ 2.,  4.,  6.,  8., 10.])"
      ]
     },
     "execution_count": 166,
     "metadata": {},
     "output_type": "execute_result"
    }
   ],
   "source": [
    "np.linspace(2, 10, 5)"
   ]
  },
  {
   "cell_type": "code",
   "execution_count": 165,
   "id": "79dae674",
   "metadata": {},
   "outputs": [
    {
     "data": {
      "text/plain": [
       "array([2. , 3.6, 5.2, 6.8, 8.4])"
      ]
     },
     "execution_count": 165,
     "metadata": {},
     "output_type": "execute_result"
    }
   ],
   "source": [
    "np.linspace(2, 10, 5, endpoint=False)"
   ]
  },
  {
   "cell_type": "markdown",
   "id": "49404af4",
   "metadata": {},
   "source": [
    "### Transpose of 1D array doesn't exists:"
   ]
  },
  {
   "cell_type": "code",
   "execution_count": 180,
   "id": "74fb3aee",
   "metadata": {},
   "outputs": [
    {
     "name": "stdout",
     "output_type": "stream",
     "text": [
      "destination: axis 1 is out of bounds for array of dimension 1\n"
     ]
    }
   ],
   "source": [
    "try:\n",
    "    np.linspace(2, 10, 5, axis=1) #Because the entered array is of 1D type and transpose of 1D array doesn't exist.\n",
    "except Exception as e:\n",
    "    print(e)"
   ]
  },
  {
   "cell_type": "code",
   "execution_count": 6,
   "id": "9b458e75",
   "metadata": {},
   "outputs": [
    {
     "data": {
      "text/plain": [
       "array([[2.  , 6.  ],\n",
       "       [2.75, 5.75],\n",
       "       [3.5 , 5.5 ],\n",
       "       [4.25, 5.25],\n",
       "       [5.  , 5.  ]])"
      ]
     },
     "execution_count": 6,
     "metadata": {},
     "output_type": "execute_result"
    }
   ],
   "source": [
    "np.linspace([2, 6], 5, 5,axis=0)"
   ]
  },
  {
   "cell_type": "code",
   "execution_count": 7,
   "id": "9b1732fd",
   "metadata": {},
   "outputs": [
    {
     "data": {
      "text/plain": [
       "array([[2.  , 2.75, 3.5 , 4.25, 5.  ],\n",
       "       [6.  , 5.75, 5.5 , 5.25, 5.  ]])"
      ]
     },
     "execution_count": 7,
     "metadata": {},
     "output_type": "execute_result"
    }
   ],
   "source": [
    "np.linspace([2, 6], 5, 5,axis=1) "
   ]
  },
  {
   "cell_type": "markdown",
   "id": "f1f8f21a",
   "metadata": {},
   "source": [
    "### .zeros(): Return a new array of given shape and type, filled with zeros."
   ]
  },
  {
   "cell_type": "code",
   "execution_count": 167,
   "id": "2aa42817",
   "metadata": {},
   "outputs": [
    {
     "data": {
      "text/plain": [
       "array([[[0., 0., 0., 0.],\n",
       "        [0., 0., 0., 0.],\n",
       "        [0., 0., 0., 0.]],\n",
       "\n",
       "       [[0., 0., 0., 0.],\n",
       "        [0., 0., 0., 0.],\n",
       "        [0., 0., 0., 0.]]])"
      ]
     },
     "execution_count": 167,
     "metadata": {},
     "output_type": "execute_result"
    }
   ],
   "source": [
    "np.zeros((2,3,4))"
   ]
  },
  {
   "cell_type": "code",
   "execution_count": 169,
   "id": "242b75fb",
   "metadata": {},
   "outputs": [
    {
     "data": {
      "text/plain": [
       "array([[0., 0.],\n",
       "       [0., 0.]])"
      ]
     },
     "execution_count": 169,
     "metadata": {},
     "output_type": "execute_result"
    }
   ],
   "source": [
    "np.zeros((2,2))"
   ]
  },
  {
   "cell_type": "markdown",
   "id": "85c98485",
   "metadata": {},
   "source": [
    "### .ones(): Return a new array of given shape and type, filled with ones."
   ]
  },
  {
   "cell_type": "code",
   "execution_count": 170,
   "id": "280bb2b3",
   "metadata": {},
   "outputs": [
    {
     "data": {
      "text/plain": [
       "array([[[1., 1., 1., 1.],\n",
       "        [1., 1., 1., 1.],\n",
       "        [1., 1., 1., 1.]],\n",
       "\n",
       "       [[1., 1., 1., 1.],\n",
       "        [1., 1., 1., 1.],\n",
       "        [1., 1., 1., 1.]]])"
      ]
     },
     "execution_count": 170,
     "metadata": {},
     "output_type": "execute_result"
    }
   ],
   "source": [
    "np.ones((2,3,4))"
   ]
  },
  {
   "cell_type": "code",
   "execution_count": 172,
   "id": "e5da7584",
   "metadata": {},
   "outputs": [
    {
     "data": {
      "text/plain": [
       "array([[1., 1., 1.],\n",
       "       [1., 1., 1.],\n",
       "       [1., 1., 1.]])"
      ]
     },
     "execution_count": 172,
     "metadata": {},
     "output_type": "execute_result"
    }
   ],
   "source": [
    "np.ones((3,3))"
   ]
  },
  {
   "cell_type": "code",
   "execution_count": 176,
   "id": "04978cec",
   "metadata": {},
   "outputs": [
    {
     "data": {
      "text/plain": [
       "array([1., 1., 1., 1., 1.])"
      ]
     },
     "execution_count": 176,
     "metadata": {},
     "output_type": "execute_result"
    }
   ],
   "source": [
    "np.ones(5)"
   ]
  },
  {
   "cell_type": "markdown",
   "id": "7868168b",
   "metadata": {},
   "source": [
    "### .empty(): Return a new array of given shape and type, without initializing entries i.e random element values."
   ]
  },
  {
   "cell_type": "code",
   "execution_count": 175,
   "id": "2c6c6b9c",
   "metadata": {},
   "outputs": [
    {
     "data": {
      "text/plain": [
       "array([ 2.,  4.,  6.,  8., 10.])"
      ]
     },
     "execution_count": 175,
     "metadata": {},
     "output_type": "execute_result"
    }
   ],
   "source": [
    "np.empty(5)"
   ]
  },
  {
   "cell_type": "code",
   "execution_count": 174,
   "id": "482b597b",
   "metadata": {},
   "outputs": [
    {
     "data": {
      "text/plain": [
       "array([[6.36598737e-314, 8.48798317e-314]])"
      ]
     },
     "execution_count": 174,
     "metadata": {},
     "output_type": "execute_result"
    }
   ],
   "source": [
    "np.empty((1,2))"
   ]
  },
  {
   "cell_type": "markdown",
   "id": "ec8a9eab",
   "metadata": {},
   "source": [
    "### .eye(): Returns a identity matrix of entered dimension."
   ]
  },
  {
   "cell_type": "code",
   "execution_count": 177,
   "id": "b8f8f150",
   "metadata": {},
   "outputs": [
    {
     "data": {
      "text/plain": [
       "array([[1., 0., 0.],\n",
       "       [0., 1., 0.],\n",
       "       [0., 0., 1.]])"
      ]
     },
     "execution_count": 177,
     "metadata": {},
     "output_type": "execute_result"
    }
   ],
   "source": [
    "np.eye(3)"
   ]
  },
  {
   "cell_type": "code",
   "execution_count": 9,
   "id": "686cebd5",
   "metadata": {},
   "outputs": [
    {
     "data": {
      "text/plain": [
       "array([[2., 0., 0., 0., 0.],\n",
       "       [0., 2., 0., 0., 0.],\n",
       "       [0., 0., 2., 0., 0.],\n",
       "       [0., 0., 0., 2., 0.],\n",
       "       [0., 0., 0., 0., 2.]])"
      ]
     },
     "execution_count": 9,
     "metadata": {},
     "output_type": "execute_result"
    }
   ],
   "source": [
    "np.eye(5)*2"
   ]
  },
  {
   "cell_type": "markdown",
   "id": "20b16c3e",
   "metadata": {},
   "source": [
    "### .logspace(): Return numbers spaced evenly on a log scale."
   ]
  },
  {
   "cell_type": "code",
   "execution_count": 18,
   "id": "be4cd1b2",
   "metadata": {},
   "outputs": [
    {
     "data": {
      "text/plain": [
       "array([[ 100.        , 1000.        ],\n",
       "       [ 316.22776602, 1000.        ],\n",
       "       [1000.        , 1000.        ]])"
      ]
     },
     "execution_count": 18,
     "metadata": {},
     "output_type": "execute_result"
    }
   ],
   "source": [
    "np.logspace([2,3], 3, 3, axis=0)"
   ]
  },
  {
   "cell_type": "code",
   "execution_count": 21,
   "id": "8b49a171",
   "metadata": {},
   "outputs": [
    {
     "data": {
      "text/plain": [
       "array([[  100.        ,  1000.        , 10000.        ],\n",
       "       [ 1000.        ,  3162.27766017, 10000.        ]])"
      ]
     },
     "execution_count": 21,
     "metadata": {},
     "output_type": "execute_result"
    }
   ],
   "source": [
    "np.logspace([2,3], 4, 3, axis=1)"
   ]
  },
  {
   "cell_type": "code",
   "execution_count": 30,
   "id": "ecb1187c",
   "metadata": {},
   "outputs": [
    {
     "data": {
      "text/plain": [
       "array([[ 100.        ],\n",
       "       [ 215.443469  ],\n",
       "       [ 464.15888336],\n",
       "       [1000.        ]])"
      ]
     },
     "execution_count": 30,
     "metadata": {},
     "output_type": "execute_result"
    }
   ],
   "source": [
    "np.logspace([2], [3], 4, axis=0)"
   ]
  },
  {
   "cell_type": "code",
   "execution_count": 29,
   "id": "ee6ac2fa",
   "metadata": {},
   "outputs": [
    {
     "data": {
      "text/plain": [
       "array([[ 100.        ,  316.22776602, 1000.        ],\n",
       "       [1000.        , 1000.        , 1000.        ]])"
      ]
     },
     "execution_count": 29,
     "metadata": {},
     "output_type": "execute_result"
    }
   ],
   "source": [
    "np.logspace([2,3], 3, 3, axis=1)"
   ]
  },
  {
   "cell_type": "markdown",
   "id": "491e1b0c",
   "metadata": {},
   "source": [
    "### .reshape():"
   ]
  },
  {
   "cell_type": "code",
   "execution_count": 32,
   "id": "57107b52",
   "metadata": {},
   "outputs": [
    {
     "data": {
      "text/plain": [
       "array([ 2.        ,  3.21052632,  4.42105263,  5.63157895,  6.84210526,\n",
       "        8.05263158,  9.26315789, 10.47368421, 11.68421053, 12.89473684,\n",
       "       14.10526316, 15.31578947, 16.52631579, 17.73684211, 18.94736842,\n",
       "       20.15789474, 21.36842105, 22.57894737, 23.78947368, 25.        ])"
      ]
     },
     "execution_count": 32,
     "metadata": {},
     "output_type": "execute_result"
    }
   ],
   "source": [
    "x = np.linspace(2,25,20)\n",
    "x"
   ]
  },
  {
   "cell_type": "code",
   "execution_count": 33,
   "id": "2cc8a3b4",
   "metadata": {},
   "outputs": [
    {
     "data": {
      "text/plain": [
       "1"
      ]
     },
     "execution_count": 33,
     "metadata": {},
     "output_type": "execute_result"
    }
   ],
   "source": [
    "x.ndim"
   ]
  },
  {
   "cell_type": "code",
   "execution_count": 35,
   "id": "affc0bcd",
   "metadata": {},
   "outputs": [
    {
     "data": {
      "text/plain": [
       "(20,)"
      ]
     },
     "execution_count": 35,
     "metadata": {},
     "output_type": "execute_result"
    }
   ],
   "source": [
    "x.shape"
   ]
  },
  {
   "cell_type": "code",
   "execution_count": 40,
   "id": "3758a9c9",
   "metadata": {},
   "outputs": [
    {
     "data": {
      "text/plain": [
       "array([[[ 2.        ,  3.21052632,  4.42105263,  5.63157895,\n",
       "          6.84210526,  8.05263158,  9.26315789, 10.47368421,\n",
       "         11.68421053, 12.89473684, 14.10526316, 15.31578947,\n",
       "         16.52631579, 17.73684211, 18.94736842, 20.15789474,\n",
       "         21.36842105, 22.57894737, 23.78947368, 25.        ]]])"
      ]
     },
     "execution_count": 40,
     "metadata": {},
     "output_type": "execute_result"
    }
   ],
   "source": [
    "x.reshape(1,1,20)"
   ]
  },
  {
   "cell_type": "code",
   "execution_count": 36,
   "id": "a48c9dab",
   "metadata": {},
   "outputs": [
    {
     "data": {
      "text/plain": [
       "array([[ 2.        ,  3.21052632,  4.42105263,  5.63157895],\n",
       "       [ 6.84210526,  8.05263158,  9.26315789, 10.47368421],\n",
       "       [11.68421053, 12.89473684, 14.10526316, 15.31578947],\n",
       "       [16.52631579, 17.73684211, 18.94736842, 20.15789474],\n",
       "       [21.36842105, 22.57894737, 23.78947368, 25.        ]])"
      ]
     },
     "execution_count": 36,
     "metadata": {},
     "output_type": "execute_result"
    }
   ],
   "source": [
    "x.reshape(5,4) "
   ]
  },
  {
   "cell_type": "code",
   "execution_count": 41,
   "id": "890e0662",
   "metadata": {},
   "outputs": [
    {
     "data": {
      "text/plain": [
       "array([[[ 2.        ,  3.21052632]],\n",
       "\n",
       "       [[ 4.42105263,  5.63157895]],\n",
       "\n",
       "       [[ 6.84210526,  8.05263158]],\n",
       "\n",
       "       [[ 9.26315789, 10.47368421]],\n",
       "\n",
       "       [[11.68421053, 12.89473684]],\n",
       "\n",
       "       [[14.10526316, 15.31578947]],\n",
       "\n",
       "       [[16.52631579, 17.73684211]],\n",
       "\n",
       "       [[18.94736842, 20.15789474]],\n",
       "\n",
       "       [[21.36842105, 22.57894737]],\n",
       "\n",
       "       [[23.78947368, 25.        ]]])"
      ]
     },
     "execution_count": 41,
     "metadata": {},
     "output_type": "execute_result"
    }
   ],
   "source": [
    "x.reshape(10,1,2) "
   ]
  },
  {
   "cell_type": "markdown",
   "id": "a49026b4",
   "metadata": {},
   "source": [
    "### np.random.rand()"
   ]
  },
  {
   "cell_type": "code",
   "execution_count": 48,
   "id": "d92c34a9",
   "metadata": {},
   "outputs": [
    {
     "data": {
      "text/plain": [
       "array([0.66381962, 0.74781977, 0.70801191])"
      ]
     },
     "execution_count": 48,
     "metadata": {},
     "output_type": "execute_result"
    }
   ],
   "source": [
    "np.random.rand(3) #Random values in a given shape."
   ]
  },
  {
   "cell_type": "code",
   "execution_count": 50,
   "id": "6334e74b",
   "metadata": {},
   "outputs": [
    {
     "data": {
      "text/plain": [
       "array([[[0.49203936, 0.68987959, 0.1832852 ],\n",
       "        [0.91418838, 0.84195741, 0.35581714],\n",
       "        [0.72367301, 0.83194475, 0.0042029 ]],\n",
       "\n",
       "       [[0.10567503, 0.39575175, 0.5926357 ],\n",
       "        [0.49430806, 0.36355452, 0.51544635],\n",
       "        [0.55661395, 0.02217789, 0.5700007 ]]])"
      ]
     },
     "execution_count": 50,
     "metadata": {},
     "output_type": "execute_result"
    }
   ],
   "source": [
    "np.random.rand(2,3,3)"
   ]
  },
  {
   "cell_type": "code",
   "execution_count": 47,
   "id": "9a2c4634",
   "metadata": {},
   "outputs": [
    {
     "data": {
      "text/plain": [
       "array([-1.28750206, -0.40761027,  0.83597795])"
      ]
     },
     "execution_count": 47,
     "metadata": {},
     "output_type": "execute_result"
    }
   ],
   "source": [
    "np.random.randn(3) #Returns a sample (or samples) from the \"standard normal\" distribution."
   ]
  },
  {
   "cell_type": "code",
   "execution_count": 51,
   "id": "c8bf36ce",
   "metadata": {},
   "outputs": [
    {
     "data": {
      "text/plain": [
       "array([[[-1.08488361, -0.14052412,  0.22452383],\n",
       "        [-1.36295719,  0.14457488, -0.67463294],\n",
       "        [ 0.29767901,  0.89685936, -0.89732606]],\n",
       "\n",
       "       [[ 1.10914396, -1.06970707, -0.58660842],\n",
       "        [ 0.92045638, -0.58580723, -0.3438161 ],\n",
       "        [-0.28827368, -2.06314489, -0.13453842]]])"
      ]
     },
     "execution_count": 51,
     "metadata": {},
     "output_type": "execute_result"
    }
   ],
   "source": [
    "np.random.randn(2,3,3)"
   ]
  },
  {
   "cell_type": "code",
   "execution_count": 56,
   "id": "fd927543",
   "metadata": {},
   "outputs": [
    {
     "data": {
      "text/plain": [
       "15"
      ]
     },
     "execution_count": 56,
     "metadata": {},
     "output_type": "execute_result"
    }
   ],
   "source": [
    "np.random.randint(10,20) #Return random integers from `low` (inclusive) to `high` (exclusive)."
   ]
  },
  {
   "cell_type": "code",
   "execution_count": 57,
   "id": "48e4af2d",
   "metadata": {},
   "outputs": [
    {
     "data": {
      "text/plain": [
       "array([[15, 12, 18],\n",
       "       [16, 17, 16],\n",
       "       [12, 10, 18]])"
      ]
     },
     "execution_count": 57,
     "metadata": {},
     "output_type": "execute_result"
    }
   ],
   "source": [
    "np.random.randint(10,20, (3,3))"
   ]
  },
  {
   "cell_type": "code",
   "execution_count": 58,
   "id": "ee403944",
   "metadata": {},
   "outputs": [
    {
     "data": {
      "text/plain": [
       "array([[[15, 15, 19],\n",
       "        [10, 18, 13],\n",
       "        [17, 19, 13]],\n",
       "\n",
       "       [[14, 13, 12],\n",
       "        [18, 15, 10],\n",
       "        [17, 14, 16]]])"
      ]
     },
     "execution_count": 58,
     "metadata": {},
     "output_type": "execute_result"
    }
   ],
   "source": [
    "np.random.randint(10,20, (2,3,3))"
   ]
  },
  {
   "cell_type": "code",
   "execution_count": 60,
   "id": "dff8eee8",
   "metadata": {},
   "outputs": [
    {
     "data": {
      "text/plain": [
       "array([[ 6, 23,  8],\n",
       "       [48, 38, 36],\n",
       "       [44, 27, 13]])"
      ]
     },
     "execution_count": 60,
     "metadata": {},
     "output_type": "execute_result"
    }
   ],
   "source": [
    "arr=np.random.randint(1,50, (3,3))\n",
    "arr"
   ]
  },
  {
   "cell_type": "markdown",
   "id": "f85486c1",
   "metadata": {},
   "source": [
    "**Trick:**"
   ]
  },
  {
   "cell_type": "code",
   "execution_count": 61,
   "id": "51ea540d",
   "metadata": {},
   "outputs": [
    {
     "data": {
      "text/plain": [
       "array([[ 6, 23,  8, 48, 38, 36, 44, 27, 13]])"
      ]
     },
     "execution_count": 61,
     "metadata": {},
     "output_type": "execute_result"
    }
   ],
   "source": [
    "arr.reshape(1, -54345356) #it's able to predict the second number on its own."
   ]
  },
  {
   "cell_type": "code",
   "execution_count": 62,
   "id": "80c5a984",
   "metadata": {},
   "outputs": [
    {
     "data": {
      "text/plain": [
       "array([[ 6, 23,  8],\n",
       "       [48, 38, 36],\n",
       "       [44, 27, 13]])"
      ]
     },
     "execution_count": 62,
     "metadata": {},
     "output_type": "execute_result"
    }
   ],
   "source": [
    "arr.reshape(3, -54345356)"
   ]
  },
  {
   "cell_type": "markdown",
   "id": "1fd10681",
   "metadata": {},
   "source": [
    "## Extracting specific elements from the matrix:"
   ]
  },
  {
   "cell_type": "code",
   "execution_count": 70,
   "id": "94b81bd0",
   "metadata": {},
   "outputs": [
    {
     "data": {
      "text/plain": [
       "array([[80, 99, 84, 88, 14],\n",
       "       [47, 41, 32, 64, 49],\n",
       "       [69, 99, 47, 13, 68],\n",
       "       [43, 72, 42, 84, 53],\n",
       "       [62, 61, 74, 12, 60]])"
      ]
     },
     "execution_count": 70,
     "metadata": {},
     "output_type": "execute_result"
    }
   ],
   "source": [
    "mat=np.random.randint(12, 100, (5,5))\n",
    "mat"
   ]
  },
  {
   "cell_type": "code",
   "execution_count": 71,
   "id": "917316e2",
   "metadata": {},
   "outputs": [
    {
     "data": {
      "text/plain": [
       "array([[84, 53],\n",
       "       [12, 60]])"
      ]
     },
     "execution_count": 71,
     "metadata": {},
     "output_type": "execute_result"
    }
   ],
   "source": [
    "mat[3:, 3:]"
   ]
  },
  {
   "cell_type": "code",
   "execution_count": 74,
   "id": "9eec4df2",
   "metadata": {},
   "outputs": [
    {
     "data": {
      "text/plain": [
       "array([[ True,  True,  True,  True, False],\n",
       "       [False, False, False,  True, False],\n",
       "       [ True,  True, False, False,  True],\n",
       "       [False,  True, False,  True,  True],\n",
       "       [ True,  True,  True, False,  True]])"
      ]
     },
     "execution_count": 74,
     "metadata": {},
     "output_type": "execute_result"
    }
   ],
   "source": [
    "mat>50"
   ]
  },
  {
   "cell_type": "code",
   "execution_count": 75,
   "id": "49742207",
   "metadata": {},
   "outputs": [
    {
     "data": {
      "text/plain": [
       "array([80, 99, 84, 88, 64, 69, 99, 68, 72, 84, 53, 62, 61, 74, 60])"
      ]
     },
     "execution_count": 75,
     "metadata": {},
     "output_type": "execute_result"
    }
   ],
   "source": [
    "mat[mat>50]"
   ]
  },
  {
   "cell_type": "markdown",
   "id": "282cfd40",
   "metadata": {},
   "source": [
    "## Matrix Multiplication: "
   ]
  },
  {
   "cell_type": "code",
   "execution_count": 76,
   "id": "76bf8337",
   "metadata": {},
   "outputs": [
    {
     "data": {
      "text/plain": [
       "(array([[39, 76, 13],\n",
       "        [95, 25, 20],\n",
       "        [40, 99, 77]]),\n",
       " array([[27, 87, 32],\n",
       "        [63, 27, 57],\n",
       "        [33, 12, 63]]))"
      ]
     },
     "execution_count": 76,
     "metadata": {},
     "output_type": "execute_result"
    }
   ],
   "source": [
    "A=np.random.randint(12, 100, (3,3))\n",
    "B=np.random.randint(12, 100, (3,3))\n",
    "A, B"
   ]
  },
  {
   "cell_type": "code",
   "execution_count": 77,
   "id": "471341f6",
   "metadata": {},
   "outputs": [
    {
     "data": {
      "text/plain": [
       "array([[1053, 6612,  416],\n",
       "       [5985,  675, 1140],\n",
       "       [1320, 1188, 4851]])"
      ]
     },
     "execution_count": 77,
     "metadata": {},
     "output_type": "execute_result"
    }
   ],
   "source": [
    "A*B"
   ]
  },
  {
   "cell_type": "markdown",
   "id": "491a303e",
   "metadata": {},
   "source": [
    "### This ain't the multiplication we were expecting. It won't do any good."
   ]
  },
  {
   "cell_type": "code",
   "execution_count": 79,
   "id": "0acc69fd",
   "metadata": {},
   "outputs": [
    {
     "data": {
      "text/plain": [
       "array([[ 6270,  5601,  6399],\n",
       "       [ 4800,  9180,  5725],\n",
       "       [ 9858,  7077, 11774]])"
      ]
     },
     "execution_count": 79,
     "metadata": {},
     "output_type": "execute_result"
    }
   ],
   "source": [
    "A@B #Our legit multiplication."
   ]
  },
  {
   "cell_type": "code",
   "execution_count": 80,
   "id": "7c66bd1f",
   "metadata": {},
   "outputs": [
    {
     "data": {
      "text/plain": [
       "(array([[74, 20],\n",
       "        [37, 39],\n",
       "        [64, 61]]),\n",
       " array([[40, 79, 53],\n",
       "        [82, 66, 93]]))"
      ]
     },
     "execution_count": 80,
     "metadata": {},
     "output_type": "execute_result"
    }
   ],
   "source": [
    "A=np.random.randint(12, 100, (3,2))\n",
    "B=np.random.randint(12, 100, (2,3))\n",
    "A, B"
   ]
  },
  {
   "cell_type": "code",
   "execution_count": 81,
   "id": "b1af51b3",
   "metadata": {},
   "outputs": [
    {
     "name": "stdout",
     "output_type": "stream",
     "text": [
      "operands could not be broadcast together with shapes (3,2) (2,3) \n"
     ]
    }
   ],
   "source": [
    "try:\n",
    "    A*B\n",
    "except Exception as e:\n",
    "    print(e)"
   ]
  },
  {
   "cell_type": "code",
   "execution_count": 82,
   "id": "e5b0561d",
   "metadata": {},
   "outputs": [
    {
     "data": {
      "text/plain": [
       "array([[4600, 7166, 5782],\n",
       "       [4678, 5497, 5588],\n",
       "       [7562, 9082, 9065]])"
      ]
     },
     "execution_count": 82,
     "metadata": {},
     "output_type": "execute_result"
    }
   ],
   "source": [
    "A@B"
   ]
  },
  {
   "cell_type": "markdown",
   "id": "7c5169c8",
   "metadata": {},
   "source": [
    "## Broacasting:"
   ]
  },
  {
   "cell_type": "code",
   "execution_count": 92,
   "id": "c6e0dbf5",
   "metadata": {},
   "outputs": [
    {
     "data": {
      "text/plain": [
       "array([[40, 79, 53],\n",
       "       [82, 66, 93]])"
      ]
     },
     "execution_count": 92,
     "metadata": {},
     "output_type": "execute_result"
    }
   ],
   "source": [
    "arr = np.array([100, 200, 300])\n",
    "B"
   ]
  },
  {
   "cell_type": "markdown",
   "id": "d639ab90",
   "metadata": {},
   "source": [
    "### Row-wise Broadcasting:"
   ]
  },
  {
   "cell_type": "code",
   "execution_count": 93,
   "id": "c86427ae",
   "metadata": {},
   "outputs": [
    {
     "data": {
      "text/plain": [
       "array([[140, 279, 353],\n",
       "       [182, 266, 393]])"
      ]
     },
     "execution_count": 93,
     "metadata": {},
     "output_type": "execute_result"
    }
   ],
   "source": [
    "B + arr #broadcasted the arr to each row of the mat B."
   ]
  },
  {
   "cell_type": "markdown",
   "id": "a95e665f",
   "metadata": {},
   "source": [
    "### Column-wise Broadcasting:"
   ]
  },
  {
   "cell_type": "code",
   "execution_count": 95,
   "id": "e92fd268",
   "metadata": {},
   "outputs": [
    {
     "data": {
      "text/plain": [
       "array([[31],\n",
       "       [87]])"
      ]
     },
     "execution_count": 95,
     "metadata": {},
     "output_type": "execute_result"
    }
   ],
   "source": [
    "arr1 = np.random.randint(10, 99, (2,1))\n",
    "arr1"
   ]
  },
  {
   "cell_type": "code",
   "execution_count": 97,
   "id": "b9f81c05",
   "metadata": {},
   "outputs": [
    {
     "data": {
      "text/plain": [
       "array([[ 71, 110,  84],\n",
       "       [169, 153, 180]])"
      ]
     },
     "execution_count": 97,
     "metadata": {},
     "output_type": "execute_result"
    }
   ],
   "source": [
    "B + arr1 #broadcasted the arr1 to each column of the mat B."
   ]
  },
  {
   "cell_type": "code",
   "execution_count": 98,
   "id": "454b2a7f",
   "metadata": {},
   "outputs": [
    {
     "data": {
      "text/plain": [
       "array([[31, 87]])"
      ]
     },
     "execution_count": 98,
     "metadata": {},
     "output_type": "execute_result"
    }
   ],
   "source": [
    "arr1.T #transpose"
   ]
  },
  {
   "cell_type": "code",
   "execution_count": 101,
   "id": "42c64665",
   "metadata": {},
   "outputs": [
    {
     "data": {
      "text/plain": [
       "array([[72, 69, 95, 68],\n",
       "       [57, 87, 87, 72],\n",
       "       [76, 97, 52, 66],\n",
       "       [60, 91, 90, 61],\n",
       "       [52, 96, 69, 76]])"
      ]
     },
     "execution_count": 101,
     "metadata": {},
     "output_type": "execute_result"
    }
   ],
   "source": [
    "arr2 = np.random.randint(50,99, (5, 4))\n",
    "arr2"
   ]
  },
  {
   "cell_type": "code",
   "execution_count": 102,
   "id": "1c0e6639",
   "metadata": {},
   "outputs": [
    {
     "data": {
      "text/plain": [
       "array([[8.48528137, 8.30662386, 9.74679434, 8.24621125],\n",
       "       [7.54983444, 9.32737905, 9.32737905, 8.48528137],\n",
       "       [8.71779789, 9.8488578 , 7.21110255, 8.1240384 ],\n",
       "       [7.74596669, 9.53939201, 9.48683298, 7.81024968],\n",
       "       [7.21110255, 9.79795897, 8.30662386, 8.71779789]])"
      ]
     },
     "execution_count": 102,
     "metadata": {},
     "output_type": "execute_result"
    }
   ],
   "source": [
    "np.sqrt(arr2)"
   ]
  },
  {
   "cell_type": "code",
   "execution_count": 103,
   "id": "3b2a9be3",
   "metadata": {},
   "outputs": [
    {
     "data": {
      "text/plain": [
       "array([[1.8573325 , 1.83884909, 1.97772361, 1.83250891],\n",
       "       [1.75587486, 1.93951925, 1.93951925, 1.8573325 ],\n",
       "       [1.88081359, 1.98677173, 1.71600334, 1.81954394],\n",
       "       [1.77815125, 1.95904139, 1.95424251, 1.78532984],\n",
       "       [1.71600334, 1.98227123, 1.83884909, 1.88081359]])"
      ]
     },
     "execution_count": 103,
     "metadata": {},
     "output_type": "execute_result"
    }
   ],
   "source": [
    "np.log10(arr2)"
   ]
  },
  {
   "cell_type": "code",
   "execution_count": 104,
   "id": "41bd57c6",
   "metadata": {},
   "outputs": [
    {
     "data": {
      "text/plain": [
       "array([[1.85867175e+31, 9.25378173e+29, 1.81123908e+41, 3.40427605e+29],\n",
       "       [5.68572000e+24, 6.07603023e+37, 6.07603023e+37, 1.85867175e+31],\n",
       "       [1.01480039e+33, 1.33833472e+42, 3.83100800e+22, 4.60718663e+28],\n",
       "       [1.14200739e+26, 3.31740010e+39, 1.22040329e+39, 3.10429794e+26],\n",
       "       [3.83100800e+22, 4.92345829e+41, 9.25378173e+29, 1.01480039e+33]])"
      ]
     },
     "execution_count": 104,
     "metadata": {},
     "output_type": "execute_result"
    }
   ],
   "source": [
    "np.exp(arr2)"
   ]
  },
  {
   "cell_type": "markdown",
   "id": "64ba96b7",
   "metadata": {},
   "source": [
    "### .random.seed(): To fixate the random generated data."
   ]
  },
  {
   "cell_type": "code",
   "execution_count": 108,
   "id": "1deea303",
   "metadata": {},
   "outputs": [
    {
     "data": {
      "text/plain": [
       "array([[58, 56, 58],\n",
       "       [56, 58, 58],\n",
       "       [56, 57, 56]])"
      ]
     },
     "execution_count": 108,
     "metadata": {},
     "output_type": "execute_result"
    }
   ],
   "source": [
    "np.random.seed(13) #For every seed value the data will be different, but can be fixated using these seed values.\n",
    "np.random.randint(56, 59, (3,3))"
   ]
  },
  {
   "cell_type": "code",
   "execution_count": 109,
   "id": "9373a632",
   "metadata": {},
   "outputs": [
    {
     "data": {
      "text/plain": [
       "array([[57, 58, 58],\n",
       "       [57, 56, 57],\n",
       "       [58, 56, 56]])"
      ]
     },
     "execution_count": 109,
     "metadata": {},
     "output_type": "execute_result"
    }
   ],
   "source": [
    "np.random.seed(17) #For every seed value the data will be different, but can be fixated using these seed values.\n",
    "np.random.randint(56, 59, (3,3))"
   ]
  },
  {
   "cell_type": "markdown",
   "id": "271fb307",
   "metadata": {},
   "source": [
    "### Solve linear equation for x:"
   ]
  },
  {
   "cell_type": "code",
   "execution_count": 52,
   "id": "0c1b8c9e",
   "metadata": {},
   "outputs": [
    {
     "name": "stdout",
     "output_type": "stream",
     "text": [
      "A: [[20 10]\n",
      " [17 22]]\n",
      "B: [350 500]\n"
     ]
    }
   ],
   "source": [
    "#20x + 10y = 350\n",
    "#17x + 22y = 500\n",
    "A = np.array([[20,10], [17,22]])\n",
    "B = np.array([350, 500])\n",
    "\n",
    "print(f\"A: {A}\\nB: {B}\")"
   ]
  },
  {
   "cell_type": "code",
   "execution_count": 56,
   "id": "a6caf1e3",
   "metadata": {},
   "outputs": [
    {
     "data": {
      "text/plain": [
       "array([10., 15.])"
      ]
     },
     "execution_count": 56,
     "metadata": {},
     "output_type": "execute_result"
    }
   ],
   "source": [
    "xy = np.linalg.solve(A, B)\n",
    "xy #(x, y)"
   ]
  }
 ],
 "metadata": {
  "kernelspec": {
   "display_name": "Python 3 (ipykernel)",
   "language": "python",
   "name": "python3"
  },
  "language_info": {
   "codemirror_mode": {
    "name": "ipython",
    "version": 3
   },
   "file_extension": ".py",
   "mimetype": "text/x-python",
   "name": "python",
   "nbconvert_exporter": "python",
   "pygments_lexer": "ipython3",
   "version": "3.9.7"
  }
 },
 "nbformat": 4,
 "nbformat_minor": 5
}
