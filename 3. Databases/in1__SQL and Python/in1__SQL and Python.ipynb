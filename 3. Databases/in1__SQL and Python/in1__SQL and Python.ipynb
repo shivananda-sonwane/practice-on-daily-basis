{
 "cells": [
  {
   "cell_type": "markdown",
   "id": "49b938a3",
   "metadata": {},
   "source": [
    "## We'd need a some kinda intermediary to connect our python notebook to MySQL. And that intermediary is what is known as 'connector'.\n",
    "### Thus we ought to install this Connector below."
   ]
  },
  {
   "cell_type": "code",
   "execution_count": 1,
   "id": "c3781d50",
   "metadata": {},
   "outputs": [
    {
     "name": "stdout",
     "output_type": "stream",
     "text": [
      "Requirement already satisfied: mysql-connector-python in c:\\users\\suryansh grover\\anaconda3\\lib\\site-packages (8.0.29)\n",
      "Requirement already satisfied: protobuf>=3.0.0 in c:\\users\\suryansh grover\\anaconda3\\lib\\site-packages (from mysql-connector-python) (3.20.1)\n"
     ]
    }
   ],
   "source": [
    "!pip install mysql-connector-python"
   ]
  },
  {
   "cell_type": "code",
   "execution_count": 1,
   "id": "2a03c308",
   "metadata": {},
   "outputs": [],
   "source": [
    "from mysql.connector import *"
   ]
  },
  {
   "cell_type": "code",
   "execution_count": 2,
   "id": "3de1ab1c",
   "metadata": {},
   "outputs": [
    {
     "name": "stdout",
     "output_type": "stream",
     "text": [
      "<mysql.connector.connection.MySQLConnection object at 0x00000216D953DF40>\n"
     ]
    }
   ],
   "source": [
    "try:\n",
    "    mydb = connect(host=\"localhost\", user=\"root\", passwd = \"#Starrdomm9958\", use_pure = \"True\")\n",
    "    print(mydb)\n",
    "    \n",
    "    cur = mydb.cursor() #creating a cursor for seeking specific indexes.\n",
    "    \n",
    "    cur.execute(\"show databases\") #executing a SQl query.\n",
    "    \n",
    "except Exception as e:\n",
    "    print(e)   "
   ]
  },
  {
   "cell_type": "code",
   "execution_count": 4,
   "id": "92fbc8cd",
   "metadata": {},
   "outputs": [],
   "source": [
    "res = cur.fetchall()"
   ]
  },
  {
   "cell_type": "code",
   "execution_count": 5,
   "id": "edec46ac",
   "metadata": {},
   "outputs": [
    {
     "data": {
      "text/plain": [
       "[('information_schema',),\n",
       " ('mydb2',),\n",
       " ('mydb3',),\n",
       " ('myfirstdb',),\n",
       " ('mysql',),\n",
       " ('performance_schema',),\n",
       " ('sakila',),\n",
       " ('sys',),\n",
       " ('world',)]"
      ]
     },
     "execution_count": 5,
     "metadata": {},
     "output_type": "execute_result"
    }
   ],
   "source": [
    "cur.execute(\"create database if not exists myfirstdb\")\n",
    "res"
   ]
  },
  {
   "cell_type": "code",
   "execution_count": 32,
   "id": "3bb0a9b3",
   "metadata": {},
   "outputs": [
    {
     "data": {
      "text/plain": [
       "[('information_schema',),\n",
       " ('mysql',),\n",
       " ('performance_schema',),\n",
       " ('sakila',),\n",
       " ('sys',),\n",
       " ('world',)]"
      ]
     },
     "execution_count": 32,
     "metadata": {},
     "output_type": "execute_result"
    }
   ],
   "source": [
    "res"
   ]
  },
  {
   "cell_type": "code",
   "execution_count": 24,
   "id": "a95a101d",
   "metadata": {},
   "outputs": [],
   "source": [
    "cur.execute(\"drop database myfirstdb\") #deleting an already existing database.\n",
    "cur.reset(0)"
   ]
  },
  {
   "cell_type": "code",
   "execution_count": 51,
   "id": "2932c545",
   "metadata": {},
   "outputs": [],
   "source": [
    "mydb.close()"
   ]
  },
  {
   "cell_type": "code",
   "execution_count": 6,
   "id": "951bee12",
   "metadata": {},
   "outputs": [
    {
     "data": {
      "text/plain": [
       "True"
      ]
     },
     "execution_count": 6,
     "metadata": {},
     "output_type": "execute_result"
    }
   ],
   "source": [
    "mydb = connect(host=\"localhost\", user=\"root\", database = 'myfirstdb', passwd = \"#Starrdomm9958\", use_pure = \"True\")\n",
    "mydb.is_connected()"
   ]
  },
  {
   "cell_type": "code",
   "execution_count": 7,
   "id": "4a64afb0",
   "metadata": {},
   "outputs": [],
   "source": [
    "cur1 = mydb.cursor()"
   ]
  },
  {
   "cell_type": "code",
   "execution_count": 8,
   "id": "241fc694",
   "metadata": {},
   "outputs": [],
   "source": [
    "cur1.execute(\"create table if not exists test(x1 INT(5), x2 VARCHAR(20), x3 DATE) \")"
   ]
  },
  {
   "cell_type": "code",
   "execution_count": 5,
   "id": "17cfca11",
   "metadata": {},
   "outputs": [],
   "source": [
    "cur1.execute(\"insert into test values(1999, 'Woah!', '1999-11-26')\")\n",
    "mydb.commit() #This is a required step after making some changes into a table after creating one."
   ]
  },
  {
   "cell_type": "code",
   "execution_count": 63,
   "id": "c3a13319",
   "metadata": {},
   "outputs": [],
   "source": [
    "cur1.reset(0)"
   ]
  },
  {
   "cell_type": "code",
   "execution_count": 9,
   "id": "d8d73963",
   "metadata": {},
   "outputs": [],
   "source": [
    "cur1.execute(\"select * from test\")"
   ]
  },
  {
   "cell_type": "code",
   "execution_count": 10,
   "id": "9cf3ad62",
   "metadata": {},
   "outputs": [
    {
     "data": {
      "text/plain": [
       "[(1999, 'Woah!', datetime.date(1999, 11, 26)),\n",
       " (1999, 'Woah!', datetime.date(1999, 11, 26)),\n",
       " (1999, 'Woah!', datetime.date(1999, 11, 26)),\n",
       " (1999, 'Woah!', datetime.date(1999, 11, 26)),\n",
       " (1999, 'Woah!', datetime.date(1999, 11, 26)),\n",
       " (1999, 'Woah!', datetime.date(1999, 11, 26))]"
      ]
     },
     "execution_count": 10,
     "metadata": {},
     "output_type": "execute_result"
    }
   ],
   "source": [
    "cur1.fetchall()"
   ]
  },
  {
   "cell_type": "code",
   "execution_count": 16,
   "id": "85d8b11a",
   "metadata": {},
   "outputs": [],
   "source": [
    "cur2 = mydb.cursor()\n",
    "cur2.execute(\"select x1, x2 from test\")"
   ]
  },
  {
   "cell_type": "code",
   "execution_count": 17,
   "id": "d89a2667",
   "metadata": {},
   "outputs": [
    {
     "data": {
      "text/plain": [
       "[(1999, 'Woah!'),\n",
       " (1999, 'Woah!'),\n",
       " (1999, 'Woah!'),\n",
       " (1999, 'Woah!'),\n",
       " (1999, 'Woah!'),\n",
       " (1999, 'Woah!')]"
      ]
     },
     "execution_count": 17,
     "metadata": {},
     "output_type": "execute_result"
    }
   ],
   "source": [
    "cur2.fetchall()"
   ]
  },
  {
   "cell_type": "markdown",
   "id": "b41aa571",
   "metadata": {},
   "source": [
    "## Importing Pandas:"
   ]
  },
  {
   "cell_type": "code",
   "execution_count": 17,
   "id": "4982b9a2",
   "metadata": {},
   "outputs": [
    {
     "data": {
      "text/plain": [
       "'\\nNothing just a library that deals with the structured form of data.\\n'"
      ]
     },
     "execution_count": 17,
     "metadata": {},
     "output_type": "execute_result"
    }
   ],
   "source": [
    "from pandas import *\n",
    "import csv\n",
    "'''\n",
    "Nothing just a library that deals with the structured form of data.\n",
    "'''"
   ]
  },
  {
   "cell_type": "code",
   "execution_count": 20,
   "id": "036edca4",
   "metadata": {},
   "outputs": [
    {
     "data": {
      "text/html": [
       "<div>\n",
       "<style scoped>\n",
       "    .dataframe tbody tr th:only-of-type {\n",
       "        vertical-align: middle;\n",
       "    }\n",
       "\n",
       "    .dataframe tbody tr th {\n",
       "        vertical-align: top;\n",
       "    }\n",
       "\n",
       "    .dataframe thead th {\n",
       "        text-align: right;\n",
       "    }\n",
       "</style>\n",
       "<table border=\"1\" class=\"dataframe\">\n",
       "  <thead>\n",
       "    <tr style=\"text-align: right;\">\n",
       "      <th></th>\n",
       "      <th>x1</th>\n",
       "      <th>x2</th>\n",
       "      <th>x3</th>\n",
       "    </tr>\n",
       "  </thead>\n",
       "  <tbody>\n",
       "    <tr>\n",
       "      <th>0</th>\n",
       "      <td>1999</td>\n",
       "      <td>Woah!</td>\n",
       "      <td>1999-11-26</td>\n",
       "    </tr>\n",
       "    <tr>\n",
       "      <th>1</th>\n",
       "      <td>1999</td>\n",
       "      <td>Woah!</td>\n",
       "      <td>1999-11-26</td>\n",
       "    </tr>\n",
       "    <tr>\n",
       "      <th>2</th>\n",
       "      <td>1999</td>\n",
       "      <td>Woah!</td>\n",
       "      <td>1999-11-26</td>\n",
       "    </tr>\n",
       "    <tr>\n",
       "      <th>3</th>\n",
       "      <td>1999</td>\n",
       "      <td>Woah!</td>\n",
       "      <td>1999-11-26</td>\n",
       "    </tr>\n",
       "    <tr>\n",
       "      <th>4</th>\n",
       "      <td>1999</td>\n",
       "      <td>Woah!</td>\n",
       "      <td>1999-11-26</td>\n",
       "    </tr>\n",
       "    <tr>\n",
       "      <th>5</th>\n",
       "      <td>1999</td>\n",
       "      <td>Woah!</td>\n",
       "      <td>1999-11-26</td>\n",
       "    </tr>\n",
       "  </tbody>\n",
       "</table>\n",
       "</div>"
      ],
      "text/plain": [
       "     x1     x2          x3\n",
       "0  1999  Woah!  1999-11-26\n",
       "1  1999  Woah!  1999-11-26\n",
       "2  1999  Woah!  1999-11-26\n",
       "3  1999  Woah!  1999-11-26\n",
       "4  1999  Woah!  1999-11-26\n",
       "5  1999  Woah!  1999-11-26"
      ]
     },
     "execution_count": 20,
     "metadata": {},
     "output_type": "execute_result"
    }
   ],
   "source": [
    "read_sql(\"select * from myfirstdb.test\", mydb)"
   ]
  },
  {
   "cell_type": "code",
   "execution_count": 23,
   "id": "015cc235",
   "metadata": {},
   "outputs": [],
   "source": [
    "a = read_sql(\"select * from myfirstdb.test\", mydb)\n",
    "a.to_csv(\"myfirstcsv.csv\") #creating a .csv and sending this tabular data into it."
   ]
  },
  {
   "cell_type": "markdown",
   "id": "c755f907",
   "metadata": {},
   "source": [
    "### Now, we'll try to dump this tabular data to the MySQL directly into a newly created table having schema as n1, n2 and n3."
   ]
  },
  {
   "cell_type": "code",
   "execution_count": 11,
   "id": "2a0bffa1",
   "metadata": {},
   "outputs": [
    {
     "data": {
      "text/plain": [
       "<mysql.connector.connection.MySQLConnection at 0x1b712245d00>"
      ]
     },
     "execution_count": 11,
     "metadata": {},
     "output_type": "execute_result"
    }
   ],
   "source": [
    "mydb1 = connect(host=\"localhost\", user=\"root\", database = 'myfirstdb', passwd = \"#Starrdomm9958\", use_pure = \"True\")\n",
    "mydb1"
   ]
  },
  {
   "cell_type": "code",
   "execution_count": 12,
   "id": "4ebd2be9",
   "metadata": {},
   "outputs": [],
   "source": [
    "cur1 = mydb1.cursor()"
   ]
  },
  {
   "cell_type": "code",
   "execution_count": 13,
   "id": "2f3b9361",
   "metadata": {},
   "outputs": [],
   "source": [
    "try:\n",
    "    cur1.execute('create table if not exists mydata2(n1 int(5), n2 varchar(20), n3 date)')\n",
    "except Exception as e:\n",
    "    print(e)"
   ]
  },
  {
   "cell_type": "code",
   "execution_count": 14,
   "id": "d76a6bb0",
   "metadata": {},
   "outputs": [],
   "source": [
    "try:\n",
    "    cur1.execute(\"insert into mydata2 values(0, 1000, 'Nah!', '2000-10-28')\")\n",
    "except Exception as e:\n",
    "    print(e)    "
   ]
  },
  {
   "cell_type": "code",
   "execution_count": 15,
   "id": "6d6b8dfc",
   "metadata": {},
   "outputs": [],
   "source": [
    "cur1.execute(\"insert into mydata2 values(0, 1972, 'woah!', '2000-10-31')\")\n",
    "mydb1.commit()"
   ]
  },
  {
   "cell_type": "code",
   "execution_count": 18,
   "id": "26ada868",
   "metadata": {},
   "outputs": [
    {
     "data": {
      "text/html": [
       "<div>\n",
       "<style scoped>\n",
       "    .dataframe tbody tr th:only-of-type {\n",
       "        vertical-align: middle;\n",
       "    }\n",
       "\n",
       "    .dataframe tbody tr th {\n",
       "        vertical-align: top;\n",
       "    }\n",
       "\n",
       "    .dataframe thead th {\n",
       "        text-align: right;\n",
       "    }\n",
       "</style>\n",
       "<table border=\"1\" class=\"dataframe\">\n",
       "  <thead>\n",
       "    <tr style=\"text-align: right;\">\n",
       "      <th></th>\n",
       "      <th>n0</th>\n",
       "      <th>n1</th>\n",
       "      <th>n2</th>\n",
       "      <th>n3</th>\n",
       "    </tr>\n",
       "  </thead>\n",
       "  <tbody>\n",
       "    <tr>\n",
       "      <th>0</th>\n",
       "      <td>0</td>\n",
       "      <td>1000</td>\n",
       "      <td>Nah!</td>\n",
       "      <td>2000-10-28</td>\n",
       "    </tr>\n",
       "    <tr>\n",
       "      <th>1</th>\n",
       "      <td>0</td>\n",
       "      <td>1000</td>\n",
       "      <td>Nah!</td>\n",
       "      <td>2000-10-28</td>\n",
       "    </tr>\n",
       "    <tr>\n",
       "      <th>2</th>\n",
       "      <td>0</td>\n",
       "      <td>1000</td>\n",
       "      <td>woah!</td>\n",
       "      <td>2000-10-28</td>\n",
       "    </tr>\n",
       "    <tr>\n",
       "      <th>3</th>\n",
       "      <td>0</td>\n",
       "      <td>1000</td>\n",
       "      <td>woah!</td>\n",
       "      <td>2000-10-28</td>\n",
       "    </tr>\n",
       "    <tr>\n",
       "      <th>4</th>\n",
       "      <td>0</td>\n",
       "      <td>1965</td>\n",
       "      <td>woah!</td>\n",
       "      <td>2000-10-31</td>\n",
       "    </tr>\n",
       "    <tr>\n",
       "      <th>5</th>\n",
       "      <td>0</td>\n",
       "      <td>1972</td>\n",
       "      <td>woah!</td>\n",
       "      <td>2000-10-31</td>\n",
       "    </tr>\n",
       "    <tr>\n",
       "      <th>6</th>\n",
       "      <td>0</td>\n",
       "      <td>1000</td>\n",
       "      <td>Nah!</td>\n",
       "      <td>2000-10-28</td>\n",
       "    </tr>\n",
       "    <tr>\n",
       "      <th>7</th>\n",
       "      <td>0</td>\n",
       "      <td>1972</td>\n",
       "      <td>woah!</td>\n",
       "      <td>2000-10-31</td>\n",
       "    </tr>\n",
       "  </tbody>\n",
       "</table>\n",
       "</div>"
      ],
      "text/plain": [
       "   n0    n1     n2          n3\n",
       "0   0  1000   Nah!  2000-10-28\n",
       "1   0  1000   Nah!  2000-10-28\n",
       "2   0  1000  woah!  2000-10-28\n",
       "3   0  1000  woah!  2000-10-28\n",
       "4   0  1965  woah!  2000-10-31\n",
       "5   0  1972  woah!  2000-10-31\n",
       "6   0  1000   Nah!  2000-10-28\n",
       "7   0  1972  woah!  2000-10-31"
      ]
     },
     "execution_count": 18,
     "metadata": {},
     "output_type": "execute_result"
    }
   ],
   "source": [
    "mydb1.commit()\n",
    "read_sql(\"select * from mydata2\", mydb1)"
   ]
  },
  {
   "cell_type": "code",
   "execution_count": 15,
   "id": "950539a1",
   "metadata": {},
   "outputs": [
    {
     "name": "stdout",
     "output_type": "stream",
     "text": [
      "   Unnamed: 0    x1       x2          x3\n",
      "0           0  1999  'Woah!'  1999-11-26\n",
      "1           1  1999  'Woah!'  1999-11-26\n",
      "2           2  1999  'Woah!'  1999-11-26\n",
      "3           3  1999  'Woah!'  1999-11-26\n",
      "4           4  1999  'Woah!'  1999-11-26\n",
      "5           5  1999  'Woah!'  1999-11-26\n"
     ]
    }
   ],
   "source": [
    "data = read_csv(\"myfirstcsv.csv\")\n",
    "print(data)"
   ]
  },
  {
   "cell_type": "code",
   "execution_count": 13,
   "id": "f6564d4f",
   "metadata": {},
   "outputs": [
    {
     "name": "stdout",
     "output_type": "stream",
     "text": [
      "Execution failed on sql 'SELECT name FROM sqlite_master WHERE type='table' AND name=?;': Not all parameters were used in the SQL statement\n"
     ]
    },
    {
     "name": "stderr",
     "output_type": "stream",
     "text": [
      "C:\\Users\\Suryansh Grover\\anaconda3\\lib\\site-packages\\pandas\\core\\generic.py:2872: UserWarning: The spaces in these column names will not be changed. In pandas versions < 0.14, spaces were converted to underscores.\n",
      "  sql.to_sql(\n"
     ]
    }
   ],
   "source": [
    "try:\n",
    "    data.to_sql(\"mydata\", con = mydb)\n",
    "except Exception as e:\n",
    "    print(e)"
   ]
  },
  {
   "cell_type": "code",
   "execution_count": 11,
   "id": "236f139e",
   "metadata": {},
   "outputs": [
    {
     "data": {
      "text/plain": [
       "'C:\\\\Users\\\\Suryansh Grover\\\\iNeuron\\\\3. Databases'"
      ]
     },
     "execution_count": 11,
     "metadata": {},
     "output_type": "execute_result"
    }
   ],
   "source": [
    "pwd()"
   ]
  },
  {
   "cell_type": "code",
   "execution_count": 18,
   "id": "83b0888a",
   "metadata": {},
   "outputs": [
    {
     "name": "stdout",
     "output_type": "stream",
     "text": [
      "(0, ['0,1999,Woah!,1999-11-26'])\n",
      "0,1999,Woah!,1999-11-26\n",
      "1064 (42000): You have an error in your SQL syntax; check the manual that corresponds to your MySQL server version for the right syntax to use near '!,1999-11-26)' at line 1\n"
     ]
    }
   ],
   "source": [
    "try:\n",
    "    with open(\"myfirstcsv.csv\", \"r\") as data:\n",
    "        next(data)\n",
    "    \n",
    "        data = csv.reader(data, delimiter = '\\n')\n",
    "        for i in enumerate(data):\n",
    "            print(i)\n",
    "            for j in i[1]:\n",
    "                print(j)\n",
    "                cur1.execute(\"insert into mydata2 values({rowdata})\".format(rowdata = j))\n",
    "        print(\"All data dumped!\")\n",
    "    mydb1.commit() \n",
    "    \n",
    "except Exception as e:\n",
    "    print(e)"
   ]
  },
  {
   "cell_type": "code",
   "execution_count": null,
   "id": "cb57f898",
   "metadata": {},
   "outputs": [],
   "source": [
    "https://archive.ics.uci.edu/ml/machine-learning-databases/00448/"
   ]
  }
 ],
 "metadata": {
  "kernelspec": {
   "display_name": "Python 3 (ipykernel)",
   "language": "python",
   "name": "python3"
  },
  "language_info": {
   "codemirror_mode": {
    "name": "ipython",
    "version": 3
   },
   "file_extension": ".py",
   "mimetype": "text/x-python",
   "name": "python",
   "nbconvert_exporter": "python",
   "pygments_lexer": "ipython3",
   "version": "3.9.7"
  }
 },
 "nbformat": 4,
 "nbformat_minor": 5
}
