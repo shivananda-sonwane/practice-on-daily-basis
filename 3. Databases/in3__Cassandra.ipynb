{
 "cells": [
  {
   "cell_type": "markdown",
   "id": "cf19eaec",
   "metadata": {},
   "source": [
    "**Avinash Lakshman & Prashant Malik initially developed the Cassandra at Facebook to power the Facebook inbox search feature. Facebook released Cassandra as an open source project on Google code in July 2008. In March 2009 it became an Apache Incubator project and in February 2010 it becomes a top-level project. Due to its outstanding technical features Cassandra becomes so popular.**"
   ]
  },
  {
   "cell_type": "markdown",
   "id": "6ef6ef0c",
   "metadata": {},
   "source": [
    " - ### Apache Cassandra is an open-source no SQL database that is used for handling big data. \n",
    " - ### Apache Cassandra has the capability to handle structure, semi-structured, and unstructured data. \n",
    " - ### Apache Cassandra was originally developed at Facebook after that it was open-sourced in 2008 and after that, it become one of the top-level Apache projects in 2010."
   ]
  },
  {
   "cell_type": "markdown",
   "id": "bc26342d",
   "metadata": {},
   "source": [
    "# Cassandra:\n",
    "\n",
    " - ### query-wise it has nature of SQL.\n",
    " - ### It has adopted the complete infra-structure of Big-Data or we can say HDFS file system."
   ]
  },
  {
   "cell_type": "code",
   "execution_count": 1,
   "id": "493f5594",
   "metadata": {},
   "outputs": [
    {
     "name": "stdout",
     "output_type": "stream",
     "text": [
      "Requirement already satisfied: cassandra-driver in c:\\users\\suryansh grover\\anaconda3\\lib\\site-packages (3.25.0)"
     ]
    },
    {
     "data": {
      "text/plain": [
       "'\\npip = \"preferred installer python\"\\n'"
      ]
     },
     "execution_count": 1,
     "metadata": {},
     "output_type": "execute_result"
    },
    {
     "name": "stdout",
     "output_type": "stream",
     "text": [
      "\n",
      "Requirement already satisfied: six>=1.9 in c:\\users\\suryansh grover\\anaconda3\\lib\\site-packages (from cassandra-driver) (1.16.0)\n",
      "Requirement already satisfied: geomet<0.3,>=0.1 in c:\\users\\suryansh grover\\anaconda3\\lib\\site-packages (from cassandra-driver) (0.2.1.post1)\n",
      "Requirement already satisfied: click in c:\\users\\suryansh grover\\anaconda3\\lib\\site-packages (from geomet<0.3,>=0.1->cassandra-driver) (8.0.3)\n",
      "Requirement already satisfied: colorama in c:\\users\\suryansh grover\\anaconda3\\lib\\site-packages (from click->geomet<0.3,>=0.1->cassandra-driver) (0.4.4)\n"
     ]
    }
   ],
   "source": [
    "!pip install cassandra-driver\n",
    "'''\n",
    "pip = \"preferred installer python\"\n",
    "'''"
   ]
  },
  {
   "cell_type": "code",
   "execution_count": 1,
   "id": "bc3a68b3",
   "metadata": {},
   "outputs": [
    {
     "data": {
      "text/plain": [
       "'3.25.0'"
      ]
     },
     "execution_count": 1,
     "metadata": {},
     "output_type": "execute_result"
    }
   ],
   "source": [
    "import cassandra as cas\n",
    "cas.__version__"
   ]
  },
  {
   "cell_type": "markdown",
   "id": "39a05e5a",
   "metadata": {},
   "source": [
    "# Cassandra Features:\n",
    "\n",
    "### Apache Cassandra is a highly scalable, distributed database that strictly follows the principle of the CAP (Consistency, Availability and Partition tolerance) theorem.\n",
    "\n",
    "**The popularity of Cassandra is because of its unique features. These are:**\n",
    "\n",
    " - ## Highly Scalable:\n",
    "\n",
    "**Cassandra is highly scalable. High scalability allows the addition of additional hardware on requirement to attach additional customers and additional data.**\n",
    "\n",
    " - ## Rigid Architecture:\n",
    "\n",
    "**Cassandra has a rigid architecture. Without a single point of failure Cassandra facilitates continuous availability for business-critical applications. These types of applications in general cannot afford even a single point of failure.**\n",
    "\n",
    " - ## Fast Performance:\n",
    "\n",
    "**Cassandra facilitates a fast and linear scalable performance. The quick response time of Cassandra is because of its LINEAR SCALABLITY which again adds to its fast performances.<br>\n",
    "Cassandra facilitates an increase in the number of nodes in the cluster which thus advances the throughput.**\n",
    "\n",
    " - ## Fault-tolerant:\n",
    "\n",
    "**Cassandra is fault-tolerant. With four nodes in a cluster, Cassandra becomes fault-tolerant as each node has a copy of the same data. If any of the four nodes is not working then the purpose can still be served by the other three nodes on request.**\n",
    "\n",
    " - ## Flexibility in Data Storage:\n",
    "\n",
    "**Cassandra provides a flexibility in data storage. Whether it is structured, semi-structured, or unstructured, Cassandra supports all possible data formats and also allows to make changes to any data structure.**\n",
    "\n",
    " - ## Easy Data Distribution:\n",
    "\n",
    "**Cassandra facilitates an easy way for data distribution. Also because of the flexibility in distributing data wherever needed, Data distribution in Cassandra becomes easy.<br>The replication of data across multiple data centres is used to serve this purpose.**\n",
    "\n",
    " - ## Transaction Support:\n",
    "\n",
    "**Cassandra facilitates transaction support. Cassandra supports the ACID properties i.e, Atomicity, Consistency, Isolation, and Durability.**\n",
    "\n",
    " - ## Fast writes:\n",
    "\n",
    "**Cassandra is popular for its fast writes features. Along with the blazingly fast writes, Cassandra can also store hundreds of terabytes of data. But the read efficiency is not sacrificed and thus is the best choice to run on cheap commodity hardware.**"
   ]
  },
  {
   "cell_type": "markdown",
   "id": "c8a92646",
   "metadata": {},
   "source": [
    "# To operate the Cassandra Console \"cqlsh\" in cmd:\n",
    "\n",
    "- ### open the cmd in admin mode.\n",
    "- ### get into the bin directory of cassandra.\n",
    "- ### run \"cassandra.bat -h\" in cmd.\n",
    "- ### if the startup is complete, open a new window of anaconda prompt.\n",
    "- ### change the python environment and set it to any version below python3.\n",
    "   - ### \"conda activate python2\"\n",
    "- ### now run \"cqlsh\".\n",
    "- ### now, your cassandra console is ready to fire some queries."
   ]
  },
  {
   "cell_type": "markdown",
   "id": "3b2d1908",
   "metadata": {},
   "source": [
    "### Cloud Setup:"
   ]
  },
  {
   "cell_type": "code",
   "execution_count": 30,
   "id": "4b5e1566",
   "metadata": {},
   "outputs": [
    {
     "name": "stdout",
     "output_type": "stream",
     "text": [
      "4.0.0.6816\n"
     ]
    }
   ],
   "source": [
    "from cassandra.cluster import Cluster\n",
    "from cassandra.auth import PlainTextAuthProvider\n",
    "cloud_config= {\n",
    "        'secure_connect_bundle': 'C:\\\\Users\\\\Suryansh Grover\\\\Downloads\\\\secure-connect-mydb1.zip'\n",
    "}\n",
    "auth_provider = PlainTextAuthProvider('rRZhdiNBryxIjrLHqHmTYgnB', 'Jbb8EZZrTgq4e3ZYY0x++NBRwyqEH4gQ7mnuMU7.Bl1w20oU.1pAI6OqUUSlt93Qw-6Ib7Wt,i+f4Mti-PZhI7rzRWFhlhIr+lgTZIPSEZzitK-lH.xYE22ElIYA7cTL')\n",
    "cluster = Cluster(cloud=cloud_config, auth_provider=auth_provider)\n",
    "session = cluster.connect()\n",
    "\n",
    "row = session.execute(\"select release_version from system.local\").one()\n",
    "if row:\n",
    "    print(row[0])\n",
    "else:\n",
    "    print(\"An error occurred.\")"
   ]
  },
  {
   "cell_type": "markdown",
   "id": "b394f381",
   "metadata": {},
   "source": [
    "### Local setup:"
   ]
  },
  {
   "cell_type": "code",
   "execution_count": 4,
   "id": "c430d581",
   "metadata": {},
   "outputs": [
    {
     "name": "stdout",
     "output_type": "stream",
     "text": [
      "Row(release_version='3.11.13')\n"
     ]
    }
   ],
   "source": [
    "try:\n",
    "    from cassandra.cluster import Cluster \n",
    "\n",
    "    cluster = Cluster()\n",
    "    \n",
    "    #Creating a cluster object of local session.\n",
    "    session_local = cluster.connect(0)\n",
    "\n",
    "    row = session_local.execute(\"select release_version from system.local\").one()\n",
    "\n",
    "    if row:\n",
    "        print(row)\n",
    "    else:\n",
    "        print(\"An error occured!\")\n",
    "except Exception as e:\n",
    "    print(e)"
   ]
  },
  {
   "cell_type": "markdown",
   "id": "a22ddd9a",
   "metadata": {},
   "source": [
    "### CREATE KEYSPACE jerry WITH replication = {'class': 'SimpleStrategy', 'replication_factor' : 4} AND durable_writes='true';"
   ]
  },
  {
   "cell_type": "markdown",
   "id": "72cc3951",
   "metadata": {},
   "source": [
    "### Create keyspace in database in the cloud:"
   ]
  },
  {
   "cell_type": "code",
   "execution_count": 6,
   "id": "d51b1c7f",
   "metadata": {},
   "outputs": [
    {
     "name": "stdout",
     "output_type": "stream",
     "text": [
      "Error from server: code=2100 [Unauthorized] message=\"Missing correct permission on jerry.\"\n"
     ]
    }
   ],
   "source": [
    "# create keyspace in database in the cloud.\n",
    "try:\n",
    "    row = session.execute(\"CREATE KEYSPACE jerry WITH replication = {'class': 'SimpleStrategy', 'replication_factor' : 1} AND durable_writes='true';\").one()\n",
    "    print(row)\n",
    "except Exception as e:\n",
    "    print(e)"
   ]
  },
  {
   "cell_type": "markdown",
   "id": "a7f5836c",
   "metadata": {},
   "source": [
    "## A keyspace is an object that is used to hold column families, user defined types."
   ]
  },
  {
   "cell_type": "markdown",
   "id": "31bebedd",
   "metadata": {},
   "source": [
    "## Create keyspace in database in the local system:\n",
    "**Creating a keyspace is the CQL counterpart to creating an SQL database.**"
   ]
  },
  {
   "cell_type": "code",
   "execution_count": 7,
   "id": "34528ac5",
   "metadata": {},
   "outputs": [
    {
     "name": "stdout",
     "output_type": "stream",
     "text": [
      "Keyspace 'jerry' already exists\n"
     ]
    }
   ],
   "source": [
    "# create keyspace jerry in database in the local system.\n",
    "try:\n",
    "    row = session_local.execute(\"CREATE KEYSPACE jerry WITH replication = {'class': 'SimpleStrategy', 'replication_factor' : 4} AND durable_writes='true';\")\n",
    "    print(row)\n",
    "except Exception as e:\n",
    "    print(e)"
   ]
  },
  {
   "cell_type": "markdown",
   "id": "7c57d9d5",
   "metadata": {},
   "source": [
    "**Note**: **Durable Writes** provides a means to instruct Cassandra whether to use **\"commitlog\"** for updates on the current KeySpace or not."
   ]
  },
  {
   "cell_type": "code",
   "execution_count": 8,
   "id": "e863c961",
   "metadata": {},
   "outputs": [
    {
     "name": "stdout",
     "output_type": "stream",
     "text": [
      "Keyspace 'luffy' already exists\n"
     ]
    }
   ],
   "source": [
    "# create keyspace luffy in database in the local system.\n",
    "try:\n",
    "    row = session_local.execute(\"CREATE KEYSPACE luffy WITH replication = {'class': 'SimpleStrategy', 'replication_factor':1} AND durable_writes='true';\").one()\n",
    "    print(row)\n",
    "except Exception as e:\n",
    "    print(e)"
   ]
  },
  {
   "cell_type": "code",
   "execution_count": 9,
   "id": "8ccccc4e",
   "metadata": {},
   "outputs": [
    {
     "name": "stdout",
     "output_type": "stream",
     "text": [
      "None\n"
     ]
    }
   ],
   "source": [
    "try:\n",
    "    row = session_local.execute(\"USE jerry;\").one()\n",
    "    print(row)\n",
    "except Exception as e:\n",
    "    print(e)"
   ]
  },
  {
   "cell_type": "code",
   "execution_count": 10,
   "id": "fccbcea7",
   "metadata": {},
   "outputs": [
    {
     "name": "stdout",
     "output_type": "stream",
     "text": [
      "None\n"
     ]
    }
   ],
   "source": [
    "try:\n",
    "    row = session_local.execute(\"USE luffy;\").one()\n",
    "    print(row)\n",
    "except Exceptin as e:\n",
    "    print(e)"
   ]
  },
  {
   "cell_type": "markdown",
   "id": "7ea8b2cc",
   "metadata": {},
   "source": [
    "## Replication strategy in Cassandra:\n",
    "**SimpleStrategy, LocalStrategy** and **NetworkTopologyStrategy** are three Replication strategies in which we generally use Simple and NetworkTopology Strategy. **LocalStrategy** is used for system only."
   ]
  },
  {
   "cell_type": "markdown",
   "id": "9703928b",
   "metadata": {},
   "source": [
    " - ## SimpleStrategy:\n",
    "\n",
    "### It is a simple strategy that is recommended for multiple nodes over multiple racks in a single data center.\n",
    "\n",
    "Let’s consider taking an example, strategy_demo is a keyspace name in which class is SimpleStrategy and replication_factor is 2 **which simply means there are two redundant copies of each row in a single data center.**\n",
    "\n",
    "Creating a keyspace:\n",
    "\n",
    "**CREATE KEYSPACE strategy_demo WITH<br> \n",
    "replication = {'class': 'SimpleStrategy',<br>\n",
    "&emsp;&emsp;&emsp;&emsp;'replication_factor' : 2};**\n",
    "\n",
    "**Note: In this example, we define RF (Replication Factor) as 3 which simply means that we are creating here 3 copies of data across multiple nodes in a clockwise direction.**"
   ]
  },
  {
   "cell_type": "markdown",
   "id": "0ef3cb1c",
   "metadata": {},
   "source": [
    " - ## LocalStrategy:\n",
    " \n",
    "**It is the strategy in which we will use a replication strategy for internal purposes such as for system and sys_auth keyspaces which are our internal keyspaces.<br>\n",
    "In Cassandra internal keyspaces are implicitly handled by Cassandra’s storage architecture for managing authorization and authentication.**\n",
    "\n",
    "It is not permissible to create a keyspace with LocalStrategy class. If we will try to create such keyspace then it would give an error like **“LocalStrategy is for Cassandra’s internal purpose only”**."
   ]
  },
  {
   "cell_type": "markdown",
   "id": "bd02579f",
   "metadata": {},
   "source": [
    " - ## NetworkTopologyStrategy:\n",
    " \n",
    "### It is the strategy in which we can store multiple copies of data on different data centers as per need. \n",
    "This is one important reason to use **NetworkTopologyStrategy**, **when multiple replica nodes need to be placed on different data centers**.\n",
    "\n",
    "Let’s consider an example, cluster1 is a keyspace name in which NetworkTopologyStrategy is a replication strategy and there are two data centers one is east with RF( Replication Factor) = 2 and second is west with RF( Replication Factor) = 3.\n",
    "\n",
    "**CREATE KEYSPACE cluster1 WITH<br> \n",
    "replication = {'class': 'NetworkTopologyStrategy',<br> \n",
    "&emsp;&emsp;&emsp;&emsp;'east' : 2, 'west' : 3};**"
   ]
  },
  {
   "cell_type": "markdown",
   "id": "1e8999e7",
   "metadata": {},
   "source": [
    "### Describe Keyspace:"
   ]
  },
  {
   "cell_type": "code",
   "execution_count": 17,
   "id": "6b40c6cb",
   "metadata": {},
   "outputs": [
    {
     "name": "stdout",
     "output_type": "stream",
     "text": [
      "<Error from server: code=2000 [Syntax error in CQL query] message=\"line 1:0 no viable alternative at input 'DESC' ([DESC]...)\">\n"
     ]
    }
   ],
   "source": [
    "try:\n",
    "    row = session_local.execute(\"DESC KEYSPACES;\").one()\n",
    "    print(row)\n",
    "except Exception as e:\n",
    "    print(e)"
   ]
  },
  {
   "cell_type": "markdown",
   "id": "2bc6bb91",
   "metadata": {},
   "source": [
    "### \"SELECT * FROM system_schema.keyspaces\""
   ]
  },
  {
   "cell_type": "code",
   "execution_count": 18,
   "id": "f2cc05f3",
   "metadata": {},
   "outputs": [
    {
     "name": "stdout",
     "output_type": "stream",
     "text": [
      "Row(keyspace_name='system_auth', durable_writes=True, graph_engine=None, replication=OrderedMapSerializedKey([('class', 'org.apache.cassandra.locator.NetworkTopologyStrategy'), ('us-east1', '3')]))\n"
     ]
    }
   ],
   "source": [
    "try:\n",
    "    row = session.execute(\"SELECT * FROM system_schema.keyspaces\").one()\n",
    "    print(row)\n",
    "except Exception as e:\n",
    "    print(e)"
   ]
  },
  {
   "cell_type": "code",
   "execution_count": 19,
   "id": "d66b963b",
   "metadata": {},
   "outputs": [
    {
     "name": "stdout",
     "output_type": "stream",
     "text": [
      "Row(keyspace_name='jerry', durable_writes=True, replication=OrderedMapSerializedKey([('class', 'org.apache.cassandra.locator.SimpleStrategy'), ('replication_factor', '1')]))\n"
     ]
    }
   ],
   "source": [
    "try:\n",
    "    row = session_local.execute(\"SELECT * FROM system_schema.keyspaces\").one()\n",
    "    print(row)\n",
    "except Exception as e:\n",
    "    print(e)"
   ]
  },
  {
   "cell_type": "code",
   "execution_count": 20,
   "id": "e8f8abd6",
   "metadata": {},
   "outputs": [
    {
     "name": "stdout",
     "output_type": "stream",
     "text": [
      "None\n"
     ]
    }
   ],
   "source": [
    "try:\n",
    "    row = session.execute(\"USE luffy;\").one()\n",
    "    print(row)\n",
    "except Exception as e:\n",
    "    print(e)"
   ]
  },
  {
   "cell_type": "markdown",
   "id": "44d9884b",
   "metadata": {},
   "source": [
    "## Creating Table in a keyspace: "
   ]
  },
  {
   "cell_type": "code",
   "execution_count": 22,
   "id": "f289fe53",
   "metadata": {},
   "outputs": [
    {
     "name": "stdout",
     "output_type": "stream",
     "text": [
      "Table 'luffy.gear1' already exists\n"
     ]
    }
   ],
   "source": [
    "#Primary here means that duplicate records won't be allowed to be inserted.\n",
    "try:\n",
    "    row = session.execute(\"CREATE TABLE luffy.gear1(id int PRIMARY KEY,name text,age int,height int);\").one()\n",
    "    print(row)\n",
    "except Exception as e:\n",
    "    print(e)"
   ]
  },
  {
   "cell_type": "code",
   "execution_count": 23,
   "id": "e778a430",
   "metadata": {},
   "outputs": [
    {
     "name": "stdout",
     "output_type": "stream",
     "text": [
      "Table 'luffy.gear1' already exists\n"
     ]
    }
   ],
   "source": [
    "try:\n",
    "    row = session_local.execute(\"CREATE TABLE luffy.gear1(id int PRIMARY KEY,name text,age int,height int);\").one()\n",
    "    print(row)\n",
    "except Exception as e:\n",
    "    print(e)"
   ]
  },
  {
   "cell_type": "markdown",
   "id": "e9442e66",
   "metadata": {},
   "source": [
    "## Inserting Records:"
   ]
  },
  {
   "cell_type": "markdown",
   "id": "b6de065a",
   "metadata": {},
   "source": [
    "### Local:"
   ]
  },
  {
   "cell_type": "code",
   "execution_count": 24,
   "id": "84faa325",
   "metadata": {},
   "outputs": [
    {
     "name": "stdout",
     "output_type": "stream",
     "text": [
      "None\n"
     ]
    }
   ],
   "source": [
    "try:\n",
    "    row = session_local.execute(\"insert into luffy.gear1 (id,age,height,name) values (0, 25, 5, 'Monkey D. Luffy');\").one()\n",
    "    print(row)\n",
    "except Exception as e:\n",
    "    print(e)"
   ]
  },
  {
   "cell_type": "code",
   "execution_count": 25,
   "id": "c8b3bad8",
   "metadata": {},
   "outputs": [
    {
     "name": "stdout",
     "output_type": "stream",
     "text": [
      "None\n"
     ]
    }
   ],
   "source": [
    "try:\n",
    "    row = session_local.execute(\"insert into luffy.gear1 (id,age,height,name) values (2, 26, 6, 'Zorro');\").one()\n",
    "    print(row)\n",
    "except Exception as e:\n",
    "    print(e)"
   ]
  },
  {
   "cell_type": "code",
   "execution_count": 26,
   "id": "7d06dc63",
   "metadata": {},
   "outputs": [
    {
     "name": "stdout",
     "output_type": "stream",
     "text": [
      "Row(id=23, age=25, height=5, name='Monkey D. Luffy')\n"
     ]
    }
   ],
   "source": [
    "try:\n",
    "    row = session_local.execute(\"SELECT * FROM luffy.gear1;\").one()\n",
    "    print(row)\n",
    "except Exception as e:\n",
    "    print(e)"
   ]
  },
  {
   "cell_type": "markdown",
   "id": "9934a4b8",
   "metadata": {},
   "source": [
    "### Global:"
   ]
  },
  {
   "cell_type": "code",
   "execution_count": 27,
   "id": "18271a7c",
   "metadata": {},
   "outputs": [
    {
     "name": "stdout",
     "output_type": "stream",
     "text": [
      "None\n"
     ]
    }
   ],
   "source": [
    "try:\n",
    "    row = session.execute(\"insert into luffy.gear1 (id,age,height,name) values (0, 25, 5, 'Monkey D. Luffy');\").one()\n",
    "    print(row)\n",
    "except Exception as e:\n",
    "    print(e)"
   ]
  },
  {
   "cell_type": "code",
   "execution_count": 32,
   "id": "5d17ae68",
   "metadata": {},
   "outputs": [
    {
     "name": "stdout",
     "output_type": "stream",
     "text": [
      "None\n"
     ]
    }
   ],
   "source": [
    "try:\n",
    "    row = session.execute(\"insert into luffy.gear1 (id,age,height,name) values (2, 26, 6, 'Roronoa Zoro');\").one()\n",
    "    print(row)\n",
    "except Exception as e:\n",
    "    print(e)"
   ]
  },
  {
   "cell_type": "code",
   "execution_count": 31,
   "id": "54fdb948",
   "metadata": {},
   "outputs": [
    {
     "name": "stdout",
     "output_type": "stream",
     "text": [
      "None\n"
     ]
    }
   ],
   "source": [
    "try:\n",
    "    row = session.execute(\"insert into luffy.gear1 (id,age,height,name) values (3, 26, 5, 'Vinsmoke Sanji');\").one()\n",
    "    print(row)\n",
    "except Exception as e:\n",
    "    print(e)"
   ]
  },
  {
   "cell_type": "code",
   "execution_count": 33,
   "id": "d8f59976",
   "metadata": {},
   "outputs": [
    {
     "name": "stdout",
     "output_type": "stream",
     "text": [
      "Row(id=0, age=25, height=5, name='Monkey D. Luffy')\n"
     ]
    }
   ],
   "source": [
    "try:\n",
    "    row = session.execute(\"SELECT * FROM luffy.gear1;\").one()\n",
    "    print(row)\n",
    "except Exception as e:\n",
    "    print(e)"
   ]
  },
  {
   "cell_type": "code",
   "execution_count": 34,
   "id": "05e6a5bf",
   "metadata": {},
   "outputs": [
    {
     "name": "stdout",
     "output_type": "stream",
     "text": [
      "Error from server: code=2100 [Unauthorized] message=\"Missing correct permission on hashirama.\"\n"
     ]
    }
   ],
   "source": [
    "try:\n",
    "    row = session.execute(\"CREATE KEYSPACE Hashirama\\\n",
    "    WITH replication = {'class': 'NetworkTopologyStrategy', 'replication_factor': '3'};\").one()\n",
    "except Exception as e:\n",
    "    print(e)"
   ]
  },
  {
   "cell_type": "markdown",
   "id": "53540a97",
   "metadata": {},
   "source": [
    "**Note:** It is not possible to configure the replica count to 1 **because it breaks the guarantees that Cassandra provides for high availability.** With 3 replicas in each DC, the application can tolerate an outage to a node with LOCAL_QUORUM consistency.\n",
    "\n",
    "But if you look closely, the error isn't because you tried to create a keyspace with just 1 replica. It failed because you're not authorised to create keyspaces via cqlsh:\n",
    "\n",
    "[Unauthorized] message=\"Missing correct permission on hashirama.\"\n",
    "**Creating keyspaces via the Astra CQL console is not allowed. Instead, you have to add a new keyspace through the Dashboard UI by clicking on the Add Keyspace button.**"
   ]
  },
  {
   "cell_type": "markdown",
   "id": "1443aec9",
   "metadata": {},
   "source": [
    "## Using Keyspace hashirama:"
   ]
  },
  {
   "cell_type": "markdown",
   "id": "d9a0e5c0",
   "metadata": {},
   "source": [
    "### Creating a table:"
   ]
  },
  {
   "cell_type": "code",
   "execution_count": 6,
   "id": "5886a079",
   "metadata": {},
   "outputs": [
    {
     "data": {
      "text/plain": [
       "<cassandra.cluster.ResultSet at 0x1bca84feeb0>"
      ]
     },
     "execution_count": 6,
     "metadata": {},
     "output_type": "execute_result"
    }
   ],
   "source": [
    "session.execute(\"CREATE TABLE hashirama.web_info (\\\n",
    "url text,\\\n",
    "user_id uuid,\\\n",
    "net_location inet,\\\n",
    "visitor_info text,\\\n",
    "PRIMARY KEY (url, net_location));\")"
   ]
  },
  {
   "cell_type": "code",
   "execution_count": 7,
   "id": "6994c14a",
   "metadata": {},
   "outputs": [
    {
     "data": {
      "text/plain": [
       "<cassandra.cluster.ResultSet at 0x1bca84d9bb0>"
      ]
     },
     "execution_count": 7,
     "metadata": {},
     "output_type": "execute_result"
    }
   ],
   "source": [
    "session.execute(\"Insert into hashirama.web_info(url, user_id, net_location, visitor_info)\\\n",
    "values('https://www.google.com', uuid(), '127.0.0.1', 'Hashirama');\")   \n",
    " \n",
    "session.execute(\"Insert into hashirama.web_info(url, user_id, net_location, visitor_info)\\\n",
    "values('https://www.google.com', uuid(), '127.0.0.4', 'Tobirama');\")    \n",
    " \n",
    "session.execute(\"Insert into hashirama.web_info(url, user_id, net_location, visitor_info)\\\n",
    "values('https://www.yahoo.com', uuid(), '127.0.0.2', 'Sarutobi');\")\n",
    "\n",
    "session.execute(\"Insert into hashirama.web_info(url, user_id, net_location, visitor_info)\\\n",
    "values('https://www.geeksforgeeks.com', uuid(), '127.0.0.3', 'Minato Namikaze');\") "
   ]
  },
  {
   "cell_type": "code",
   "execution_count": 11,
   "id": "daf03093",
   "metadata": {},
   "outputs": [
    {
     "data": {
      "text/plain": [
       "<cassandra.cluster.ResultSet at 0x1bcaaa35a30>"
      ]
     },
     "execution_count": 11,
     "metadata": {},
     "output_type": "execute_result"
    }
   ],
   "source": [
    "row=session.execute(\"SELECT * FROM hashirama.web_info LIMIT 2;\")\n",
    "row"
   ]
  },
  {
   "cell_type": "markdown",
   "id": "5780d298",
   "metadata": {},
   "source": [
    "### ALLOW FILTERING:\n",
    "**This is option is very useful in CQL which has the ability for the server to actively filter out the results.**"
   ]
  },
  {
   "cell_type": "code",
   "execution_count": 16,
   "id": "b9a684da",
   "metadata": {},
   "outputs": [
    {
     "data": {
      "text/plain": [
       "<cassandra.cluster.ResultSet at 0x1bcaaa31640>"
      ]
     },
     "execution_count": 16,
     "metadata": {},
     "output_type": "execute_result"
    }
   ],
   "source": [
    "session.execute(\"SELECT * FROM hashirama.web_info \\\n",
    "WHERE url='https://www.google.com' \\\n",
    "AND net_location='127.0.0.1' AND visitor_info = 'Hashirama' \\\n",
    "ALLOW FILTERING;\")"
   ]
  },
  {
   "cell_type": "markdown",
   "id": "29c8602e",
   "metadata": {},
   "source": [
    "### BATCH query:\n",
    "\n",
    "**Here, we are just going to show how the BATCH CQL query is useful in Cassandra. In below given example we are just showing that how we can update, delete and inserted data into the table using BATCH. (Kinda like bulk edit operations)**"
   ]
  },
  {
   "cell_type": "code",
   "execution_count": 28,
   "id": "f2cb2e6c",
   "metadata": {},
   "outputs": [
    {
     "data": {
      "text/plain": [
       "<cassandra.cluster.ResultSet at 0x1bcaa2ca0a0>"
      ]
     },
     "execution_count": 28,
     "metadata": {},
     "output_type": "execute_result"
    }
   ],
   "source": [
    "session.execute(\"BEGIN BATCH\\n\\\n",
    "UPDATE hashirama.web_info USING TTL 345600 \\\n",
    "SET visitor_info = 'NARUTO UZUMAKI' \\\n",
    "WHERE url='https://www.google.com' and net_location = '127.0.0.1';\\n\\\n",
    "Delete visitor_info FROM hashirama.web_info \\\n",
    "where url='https://www.google.com' and net_location = '127.0.0.1';\\n\\\n",
    "Insert into hashirama.web_info(url, user_id, net_location, visitor_info) \\\n",
    "values('https://www.geeksforgeeks.com', uuid(), '127.0.0.5', 'new_user'); \\\n",
    "APPLY BATCH;\")"
   ]
  },
  {
   "cell_type": "markdown",
   "id": "85e23bae",
   "metadata": {},
   "source": [
    "## TTL:"
   ]
  },
  {
   "cell_type": "markdown",
   "id": "02150ee8",
   "metadata": {},
   "source": [
    "**In Cassandra Both the INSERT and UPDATE commands support setting a time for data in a column to expire.** It is used to set the time limit for a specific period of time. By USING **TTL (Time To Live)** clause we can set the TTL value at the time of insertion. We can use TTL function to get the time remaining for a specific selected query.\n",
    "\n",
    "In Cassandra, **Time to Live (TTL)** plays an important role like **if or when we want to set the time limit of a column and we want to automatically delete after a point of time** then at the time using TTL keyword is very useful to define the time limit for a particular column.\n",
    "\n",
    " - We can use TTL function to get the time remaining for a specific selected query.\n",
    " \n",
    " - At the point of insertion, we can set expire limit of inserted data by using TTL clause. \n",
    " \n",
    " - Let us consider if we want to set the expire limit to two days then we need to define its TTL value. **By using TTL we can set the expiration period to two days and the value of TTL will be 172800 seconds.**\n",
    " "
   ]
  },
  {
   "cell_type": "code",
   "execution_count": 26,
   "id": "23789c85",
   "metadata": {},
   "outputs": [
    {
     "data": {
      "text/plain": [
       "\"\\nBEGIN BATCH\\nUPDATE web_info USING TTL 345600\\nSET visitor_info = 'Naruto Uzumaki'\\nWHERE url='https://www.google.com' and net_location = '127.0.0.1';\\n\\n\\nDelete visitor_info \\nFROM web_info \\nwhere url='https://www.google.com' and net_location = '127.0.0.1';\\n    \\n    \\nInsert into web_info(url, user_id, net_location, visitor_info)\\nvalues('https://www.geeksforgeeks.com', uuid(), '127.0.0.5', 'new_user');\\nAPPLY BATCH; \\n\""
      ]
     },
     "execution_count": 26,
     "metadata": {},
     "output_type": "execute_result"
    }
   ],
   "source": [
    "'''\n",
    "BEGIN BATCH\n",
    "UPDATE web_info USING TTL 345600\n",
    "SET visitor_info = 'Naruto Uzumaki'\n",
    "WHERE url='https://www.google.com' and net_location = '127.0.0.1';\n",
    "\n",
    "\n",
    "Delete visitor_info \n",
    "FROM web_info \n",
    "where url='https://www.google.com' and net_location = '127.0.0.1';\n",
    "    \n",
    "    \n",
    "Insert into web_info(url, user_id, net_location, visitor_info)\n",
    "values('https://www.geeksforgeeks.com', uuid(), '127.0.0.5', 'new_user');\n",
    "APPLY BATCH; \n",
    "'''"
   ]
  },
  {
   "cell_type": "code",
   "execution_count": 29,
   "id": "314fe364",
   "metadata": {},
   "outputs": [
    {
     "data": {
      "text/plain": [
       "<cassandra.cluster.ResultSet at 0x1bca56a2af0>"
      ]
     },
     "execution_count": 29,
     "metadata": {},
     "output_type": "execute_result"
    }
   ],
   "source": [
    "session.execute(\"UPDATE hashirama.web_info USING TTL 345600 \\\n",
    "SET visitor_info = 'Naruto Uzumaki' \\\n",
    "WHERE url='https://www.google.com' and net_location = '127.0.0.1';\")"
   ]
  },
  {
   "cell_type": "markdown",
   "id": "7d48c9fb",
   "metadata": {},
   "source": [
    "## uuid()\n",
    "\n",
    " - **One of the reason of using uuid() function is to generate Unique ID which helps in avoiding collisions.** \n",
    " - **The uuid() function is suitable for use in insert or update statements and uuid() function takes no parameter value to generate a unique random Type 4 UUID value which is guaranteed unique value.**"
   ]
  },
  {
   "cell_type": "code",
   "execution_count": null,
   "id": "43219d69",
   "metadata": {},
   "outputs": [],
   "source": []
  }
 ],
 "metadata": {
  "kernelspec": {
   "display_name": "Python 3 (ipykernel)",
   "language": "python",
   "name": "python3"
  },
  "language_info": {
   "codemirror_mode": {
    "name": "ipython",
    "version": 3
   },
   "file_extension": ".py",
   "mimetype": "text/x-python",
   "name": "python",
   "nbconvert_exporter": "python",
   "pygments_lexer": "ipython3",
   "version": "3.9.7"
  }
 },
 "nbformat": 4,
 "nbformat_minor": 5
}
